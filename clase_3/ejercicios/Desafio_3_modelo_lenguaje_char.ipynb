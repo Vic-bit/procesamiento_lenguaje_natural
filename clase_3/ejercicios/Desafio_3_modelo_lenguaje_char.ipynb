{
  "cells": [
    {
      "cell_type": "markdown",
      "metadata": {
        "id": "g3yeJGnCYxuF"
      },
      "source": [
        "<img src=\"https://github.com/hernancontigiani/ceia_memorias_especializacion/raw/master/Figures/logoFIUBA.jpg\" width=\"500\" align=\"center\">\n",
        "\n",
        "\n",
        "# Procesamiento de lenguaje natural\n",
        "## Modelo de lenguaje con tokenización por caracteres"
      ]
    },
    {
      "cell_type": "markdown",
      "metadata": {},
      "source": [
        "### Datos del alumno:\n",
        "\n",
        "- Alumno: Víctor David Silva\n",
        "- Cohorte: 14\n",
        "- Corpus: Magic History - Family Values"
      ]
    },
    {
      "cell_type": "markdown",
      "metadata": {
        "id": "Iv5PEwGzZA9-"
      },
      "source": [
        "### Consigna\n",
        "- Seleccionar un corpus de texto sobre el cual entrenar el modelo de lenguaje.\n",
        "- Realizar el pre-procesamiento adecuado para tokenizar el corpus, estructurar el dataset y separar entre datos de entrenamiento y validación.\n",
        "- Proponer arquitecturas de redes neuronales basadas en unidades recurrentes para implementar un modelo de lenguaje.\n",
        "- Con el o los modelos que consideren adecuados, generar nuevas secuencias a partir de secuencias de contexto con las estrategias de greedy search y beam search determístico y estocástico. En este último caso observar el efecto de la temperatura en la generación de secuencias.\n",
        "\n",
        "\n",
        "### Sugerencias\n",
        "- Durante el entrenamiento, guiarse por el descenso de la perplejidad en los datos de validación para finalizar el entrenamiento. Para ello se provee un callback.\n",
        "- Explorar utilizar SimpleRNN (celda de Elman), LSTM y GRU.\n",
        "- rmsprop es el optimizador recomendado para la buena convergencia. No obstante se pueden explorar otros.\n"
      ]
    },
    {
      "cell_type": "code",
      "execution_count": 2,
      "metadata": {
        "id": "Y-QdFbHZYj7C"
      },
      "outputs": [],
      "source": [
        "import random\n",
        "import io\n",
        "import pickle\n",
        "\n",
        "import numpy as np\n",
        "import pandas as pd\n",
        "import matplotlib.pyplot as plt\n",
        "from sklearn.model_selection import train_test_split\n",
        "\n",
        "from tensorflow import keras\n",
        "from tensorflow.keras import layers\n",
        "from keras.utils import to_categorical\n",
        "from keras.models import Sequential\n",
        "from keras.layers import Dense, LSTM, Embedding, Dropout\n",
        "from tensorflow.keras.losses import SparseCategoricalCrossentropy"
      ]
    },
    {
      "cell_type": "code",
      "execution_count": 3,
      "metadata": {},
      "outputs": [
        {
          "name": "stdout",
          "output_type": "stream",
          "text": [
            "TensorFlow has access to the following devices:\n",
            "[PhysicalDevice(name='/physical_device:CPU:0', device_type='CPU'), PhysicalDevice(name='/physical_device:GPU:0', device_type='GPU')]\n",
            "TensorFlow version: 2.13.0\n"
          ]
        }
      ],
      "source": [
        "import tensorflow as tf\n",
        "\n",
        "# Check for TensorFlow GPU access\n",
        "print(f\"TensorFlow has access to the following devices:\\n{tf.config.list_physical_devices()}\")\n",
        "\n",
        "# See TensorFlow version\n",
        "print(f\"TensorFlow version: {tf.__version__}\")"
      ]
    },
    {
      "cell_type": "markdown",
      "metadata": {
        "id": "xTvXlEKQZdqx"
      },
      "source": [
        "### Datos\n",
        "Utilizaremos como dataset canciones de bandas de habla inglés."
      ]
    },
    {
      "cell_type": "code",
      "execution_count": 4,
      "metadata": {
        "id": "7amy6uUaBLVD"
      },
      "outputs": [],
      "source": [
        "# descargar de textos.info\n",
        "import urllib.request\n",
        "\n",
        "# Para leer y parsear el texto en HTML de wikipedia\n",
        "import bs4 as bs"
      ]
    },
    {
      "cell_type": "code",
      "execution_count": 5,
      "metadata": {
        "id": "6v_ickFwBJTy"
      },
      "outputs": [],
      "source": [
        "raw_html = urllib.request.urlopen('https://magic.wizards.com/en/news/magic-story/family-values-2015-11-11')#'https://www.textos.info/sun-tzu/el-arte-de-la-guerra/ebook')\n",
        "raw_html = raw_html.read()\n",
        "\n",
        "# Parsear artículo, 'lxml' es el parser a utilizar\n",
        "article_html = bs.BeautifulSoup(raw_html, 'lxml')\n",
        "\n",
        "# Encontrar todos los párrafos del HTML (bajo el tag <p>)\n",
        "# y tenerlos disponible como lista\n",
        "article_paragraphs = article_html.find_all('p')\n",
        "\n",
        "article_text = ''\n",
        "\n",
        "for para in article_paragraphs:\n",
        "    article_text += para.text + ' '\n",
        "\n",
        "# pasar todo el texto a minúscula\n",
        "article_text = article_text.lower()"
      ]
    },
    {
      "cell_type": "code",
      "execution_count": 6,
      "metadata": {},
      "outputs": [
        {
          "name": "stdout",
          "output_type": "stream",
          "text": [
            "<html>\n",
            " <head>\n",
            "  <title>\n",
            "   The Dormouse's story\n",
            "  </title>\n",
            " </head>\n",
            " <body>\n",
            "  <p class=\"title\">\n",
            "   <b>\n",
            "    The Dormouse's story\n",
            "   </b>\n",
            "  </p>\n",
            " </body>\n",
            "</html>\n",
            "\n"
          ]
        }
      ],
      "source": [
        "from bs4 import BeautifulSoup\n",
        "\n",
        "# Crear una cadena de ejemplo de HTML\n",
        "html_doc = \"<html><head><title>The Dormouse's story</title></head><body><p class='title'><b>The Dormouse's story</b></p></body></html>\"\n",
        "\n",
        "# Parsear la cadena HTML con lxml\n",
        "soup = BeautifulSoup(html_doc, 'lxml')\n",
        "print(soup.prettify())\n"
      ]
    },
    {
      "cell_type": "code",
      "execution_count": 7,
      "metadata": {
        "id": "WBE0sSYuB-E6"
      },
      "outputs": [
        {
          "data": {
            "text/plain": [
              "\"teysa karlov is a formidable force in the courts of the city-plane of ravnica, but she wants more. with her extraordinary command of ravnica's law-magic and the help of a boros soldier, she is finally ready to make a bid for power. but she still has to contend with her treacherous, domineering ancestor karlov, who hasn't let being dead slow him down\\xa0.\\xa0.\\xa0.  teysa karlov had spent another full day being yelled at by the dead. this time, the orzhov ghost council had failed to see why condemning a debtor to five hundred years of servitude was problematic in the eyes of the law. teysa had argued till her throat stung. the grand envoy of the orzhov collapsed into her favorite chair, cane leaning at hand. one of the grugg brothers had tidied her desk (bless him) and had left a pile of papers to go through. teysa karlov carefully sorted and scanned her old mail before she tossed it into the crackling fireplace of her study. an update on tunneling progress from tajic. a demand of compliance fro\""
            ]
          },
          "execution_count": 7,
          "metadata": {},
          "output_type": "execute_result"
        }
      ],
      "source": [
        "# en article text se encuentra el texto de todo el libro\n",
        "article_text[:1000]"
      ]
    },
    {
      "cell_type": "markdown",
      "metadata": {
        "id": "cP1JdiOIKQWi"
      },
      "source": [
        "### Elegir el tamaño del contexto\n",
        "\n",
        "En este caso, como el modelo de lenguaje es por caracteres, todo un gran corpus\n",
        "de texto puede ser considerado un documento en sí mismo y el tamaño de contexto\n",
        "puede ser elegido con más libertad en comparación a un modelo de lenguaje tokenizado por palabras y dividido en documentos más acotados."
      ]
    },
    {
      "cell_type": "code",
      "execution_count": 8,
      "metadata": {
        "id": "wumBNwdjJM3j"
      },
      "outputs": [],
      "source": [
        "# seleccionamos el tamaño de contexto\n",
        "max_context_size = 100"
      ]
    },
    {
      "cell_type": "code",
      "execution_count": 127,
      "metadata": {
        "id": "m5FeTaGvbDbw"
      },
      "outputs": [],
      "source": [
        "# Usaremos las utilidades de procesamiento de textos y secuencias de Keras\n",
        "from tensorflow.keras.utils import pad_sequences # se utilizará para padding"
      ]
    },
    {
      "cell_type": "code",
      "execution_count": 10,
      "metadata": {
        "id": "573Cg5n7VhWw"
      },
      "outputs": [],
      "source": [
        "# en este caso el vocabulario es el conjunto único de caracteres que existe en todo el texto\n",
        "# no va a ser de miles de componentes\n",
        "chars_vocab = set(article_text)"
      ]
    },
    {
      "cell_type": "code",
      "execution_count": 11,
      "metadata": {
        "id": "VwTK6xgLJd8q"
      },
      "outputs": [
        {
          "data": {
            "text/plain": [
              "44"
            ]
          },
          "execution_count": 11,
          "metadata": {},
          "output_type": "execute_result"
        }
      ],
      "source": [
        "# la longitud de vocabulario de caracteres es:\n",
        "len(chars_vocab)"
      ]
    },
    {
      "cell_type": "code",
      "execution_count": 58,
      "metadata": {
        "id": "2W0AeQjXV1Ou"
      },
      "outputs": [],
      "source": [
        "# Construimos los dicionarios que asignan índices a caracteres y viceversa.\n",
        "# El diccionario `char2idx` servirá como tokenizador.\n",
        "char2idx = {k: v for v,k in enumerate(chars_vocab)}\n",
        "idx2char = {v: k for k,v in char2idx.items()}"
      ]
    },
    {
      "cell_type": "markdown",
      "metadata": {
        "id": "2oIUjVU0LB0r"
      },
      "source": [
        "###  Tokenizar"
      ]
    },
    {
      "cell_type": "code",
      "execution_count": 13,
      "metadata": {
        "id": "h07G3srdJppo"
      },
      "outputs": [],
      "source": [
        "# tokenizamos el texto completo\n",
        "tokenized_text = [char2idx[ch] for ch in article_text]"
      ]
    },
    {
      "cell_type": "code",
      "execution_count": 14,
      "metadata": {
        "id": "PwGVSKOiJ5bj"
      },
      "outputs": [
        {
          "data": {
            "text/plain": [
              "[20,\n",
              " 37,\n",
              " 18,\n",
              " 16,\n",
              " 13,\n",
              " 4,\n",
              " 10,\n",
              " 13,\n",
              " 35,\n",
              " 0,\n",
              " 24,\n",
              " 32,\n",
              " 4,\n",
              " 36,\n",
              " 16,\n",
              " 4,\n",
              " 13,\n",
              " 4,\n",
              " 12,\n",
              " 24,\n",
              " 35,\n",
              " 23,\n",
              " 36,\n",
              " 17,\n",
              " 13,\n",
              " 25,\n",
              " 0,\n",
              " 37,\n",
              " 4,\n",
              " 12,\n",
              " 24,\n",
              " 35,\n",
              " 1,\n",
              " 37,\n",
              " 4,\n",
              " 36,\n",
              " 22,\n",
              " 4,\n",
              " 20,\n",
              " 30,\n",
              " 37,\n",
              " 4,\n",
              " 1,\n",
              " 24,\n",
              " 7,\n",
              " 35,\n",
              " 20,\n",
              " 16,\n",
              " 4,\n",
              " 24,\n",
              " 12,\n",
              " 4,\n",
              " 20,\n",
              " 30,\n",
              " 37,\n",
              " 4,\n",
              " 1,\n",
              " 36,\n",
              " 20,\n",
              " 18,\n",
              " 31,\n",
              " 5,\n",
              " 0,\n",
              " 13,\n",
              " 22,\n",
              " 37,\n",
              " 4,\n",
              " 24,\n",
              " 12,\n",
              " 4,\n",
              " 35,\n",
              " 13,\n",
              " 32,\n",
              " 22,\n",
              " 36,\n",
              " 1,\n",
              " 13,\n",
              " 43,\n",
              " 4,\n",
              " 25,\n",
              " 7,\n",
              " 20,\n",
              " 4,\n",
              " 16,\n",
              " 30,\n",
              " 37,\n",
              " 4,\n",
              " 29,\n",
              " 13,\n",
              " 22,\n",
              " 20,\n",
              " 16,\n",
              " 4,\n",
              " 23,\n",
              " 24,\n",
              " 35,\n",
              " 37,\n",
              " 42,\n",
              " 4,\n",
              " 29,\n",
              " 36,\n",
              " 20,\n",
              " 30,\n",
              " 4,\n",
              " 30,\n",
              " 37,\n",
              " 35,\n",
              " 4,\n",
              " 37,\n",
              " 15,\n",
              " 20,\n",
              " 35,\n",
              " 13,\n",
              " 24,\n",
              " 35,\n",
              " 17,\n",
              " 36,\n",
              " 22,\n",
              " 13,\n",
              " 35,\n",
              " 18,\n",
              " 4,\n",
              " 1,\n",
              " 24,\n",
              " 23,\n",
              " 23,\n",
              " 13,\n",
              " 22,\n",
              " 17,\n",
              " 4,\n",
              " 24,\n",
              " 12,\n",
              " 4,\n",
              " 35,\n",
              " 13,\n",
              " 32,\n",
              " 22,\n",
              " 36,\n",
              " 1,\n",
              " 13,\n",
              " 34,\n",
              " 16,\n",
              " 4,\n",
              " 0,\n",
              " 13,\n",
              " 29,\n",
              " 31,\n",
              " 23,\n",
              " 13,\n",
              " 14,\n",
              " 36,\n",
              " 1,\n",
              " 4,\n",
              " 13,\n",
              " 22,\n",
              " 17,\n",
              " 4,\n",
              " 20,\n",
              " 30,\n",
              " 37,\n",
              " 4,\n",
              " 30,\n",
              " 37,\n",
              " 0,\n",
              " 5,\n",
              " 4,\n",
              " 24,\n",
              " 12,\n",
              " 4,\n",
              " 13,\n",
              " 4,\n",
              " 25,\n",
              " 24,\n",
              " 35,\n",
              " 24,\n",
              " 16,\n",
              " 4,\n",
              " 16,\n",
              " 24,\n",
              " 0,\n",
              " 17,\n",
              " 36,\n",
              " 37,\n",
              " 35,\n",
              " 43,\n",
              " 4,\n",
              " 16,\n",
              " 30,\n",
              " 37,\n",
              " 4,\n",
              " 36,\n",
              " 16,\n",
              " 4,\n",
              " 12,\n",
              " 36,\n",
              " 22,\n",
              " 13,\n",
              " 0,\n",
              " 0,\n",
              " 18,\n",
              " 4,\n",
              " 35,\n",
              " 37,\n",
              " 13,\n",
              " 17,\n",
              " 18,\n",
              " 4,\n",
              " 20,\n",
              " 24,\n",
              " 4,\n",
              " 23,\n",
              " 13,\n",
              " 10,\n",
              " 37,\n",
              " 4,\n",
              " 13,\n",
              " 4,\n",
              " 25,\n",
              " 36,\n",
              " 17,\n",
              " 4,\n",
              " 12,\n",
              " 24,\n",
              " 35,\n",
              " 4,\n",
              " 5,\n",
              " 24,\n",
              " 29,\n",
              " 37,\n",
              " 35,\n",
              " 42,\n",
              " 4,\n",
              " 25,\n",
              " 7,\n",
              " 20,\n",
              " 4,\n",
              " 16,\n",
              " 30,\n",
              " 37,\n",
              " 4,\n",
              " 16,\n",
              " 20,\n",
              " 36,\n",
              " 0,\n",
              " 0,\n",
              " 4,\n",
              " 30,\n",
              " 13,\n",
              " 16,\n",
              " 4,\n",
              " 20,\n",
              " 24,\n",
              " 4,\n",
              " 1,\n",
              " 24,\n",
              " 22,\n",
              " 20,\n",
              " 37,\n",
              " 22,\n",
              " 17,\n",
              " 4,\n",
              " 29,\n",
              " 36,\n",
              " 20,\n",
              " 30,\n",
              " 4,\n",
              " 30,\n",
              " 37,\n",
              " 35,\n",
              " 4,\n",
              " 20,\n",
              " 35,\n",
              " 37,\n",
              " 13,\n",
              " 1,\n",
              " 30,\n",
              " 37,\n",
              " 35,\n",
              " 24,\n",
              " 7,\n",
              " 16,\n",
              " 43,\n",
              " 4,\n",
              " 17,\n",
              " 24,\n",
              " 23,\n",
              " 36,\n",
              " 22,\n",
              " 37,\n",
              " 37,\n",
              " 35,\n",
              " 36,\n",
              " 22,\n",
              " 14,\n",
              " 4,\n",
              " 13,\n",
              " 22,\n",
              " 1,\n",
              " 37,\n",
              " 16,\n",
              " 20,\n",
              " 24,\n",
              " 35,\n",
              " 4,\n",
              " 10,\n",
              " 13,\n",
              " 35,\n",
              " 0,\n",
              " 24,\n",
              " 32,\n",
              " 43,\n",
              " 4,\n",
              " 29,\n",
              " 30,\n",
              " 24,\n",
              " 4,\n",
              " 30,\n",
              " 13,\n",
              " 16,\n",
              " 22,\n",
              " 34,\n",
              " 20,\n",
              " 4,\n",
              " 0,\n",
              " 37,\n",
              " 20,\n",
              " 4,\n",
              " 25,\n",
              " 37,\n",
              " 36,\n",
              " 22,\n",
              " 14,\n",
              " 4,\n",
              " 17,\n",
              " 37,\n",
              " 13,\n",
              " 17,\n",
              " 4,\n",
              " 16,\n",
              " 0,\n",
              " 24,\n",
              " 29,\n",
              " 4,\n",
              " 30,\n",
              " 36,\n",
              " 23,\n",
              " 4,\n",
              " 17,\n",
              " 24,\n",
              " 29,\n",
              " 22,\n",
              " 19,\n",
              " 42,\n",
              " 19,\n",
              " 42,\n",
              " 19,\n",
              " 42,\n",
              " 4,\n",
              " 4,\n",
              " 20,\n",
              " 37,\n",
              " 18,\n",
              " 16,\n",
              " 13,\n",
              " 4,\n",
              " 10,\n",
              " 13,\n",
              " 35,\n",
              " 0,\n",
              " 24,\n",
              " 32,\n",
              " 4,\n",
              " 30,\n",
              " 13,\n",
              " 17,\n",
              " 4,\n",
              " 16,\n",
              " 5,\n",
              " 37,\n",
              " 22,\n",
              " 20,\n",
              " 4,\n",
              " 13,\n",
              " 22,\n",
              " 24,\n",
              " 20,\n",
              " 30,\n",
              " 37,\n",
              " 35,\n",
              " 4,\n",
              " 12,\n",
              " 7,\n",
              " 0,\n",
              " 0,\n",
              " 4,\n",
              " 17,\n",
              " 13,\n",
              " 18,\n",
              " 4,\n",
              " 25,\n",
              " 37,\n",
              " 36,\n",
              " 22,\n",
              " 14,\n",
              " 4,\n",
              " 18,\n",
              " 37,\n",
              " 0,\n",
              " 0,\n",
              " 37,\n",
              " 17,\n",
              " 4,\n",
              " 13,\n",
              " 20,\n",
              " 4,\n",
              " 25,\n",
              " 18,\n",
              " 4,\n",
              " 20,\n",
              " 30,\n",
              " 37,\n",
              " 4,\n",
              " 17,\n",
              " 37,\n",
              " 13,\n",
              " 17,\n",
              " 42,\n",
              " 4,\n",
              " 20,\n",
              " 30,\n",
              " 36,\n",
              " 16,\n",
              " 4,\n",
              " 20,\n",
              " 36,\n",
              " 23,\n",
              " 37,\n",
              " 43,\n",
              " 4,\n",
              " 20,\n",
              " 30,\n",
              " 37,\n",
              " 4,\n",
              " 24,\n",
              " 35,\n",
              " 6,\n",
              " 30,\n",
              " 24,\n",
              " 32,\n",
              " 4,\n",
              " 14,\n",
              " 30,\n",
              " 24,\n",
              " 16,\n",
              " 20,\n",
              " 4,\n",
              " 1,\n",
              " 24,\n",
              " 7,\n",
              " 22,\n",
              " 1,\n",
              " 36,\n",
              " 0,\n",
              " 4,\n",
              " 30,\n",
              " 13,\n",
              " 17,\n",
              " 4,\n",
              " 12,\n",
              " 13,\n",
              " 36,\n",
              " 0,\n",
              " 37,\n",
              " 17,\n",
              " 4,\n",
              " 20,\n",
              " 24,\n",
              " 4,\n",
              " 16,\n",
              " 37,\n",
              " 37,\n",
              " 4,\n",
              " 29,\n",
              " 30,\n",
              " 18,\n",
              " 4,\n",
              " 1,\n",
              " 24,\n",
              " 22,\n",
              " 17,\n",
              " 37,\n",
              " 23,\n",
              " 22,\n",
              " 36,\n",
              " 22,\n",
              " 14,\n",
              " 4,\n",
              " 13,\n",
              " 4,\n",
              " 17,\n",
              " 37,\n",
              " 25,\n",
              " 20,\n",
              " 24,\n",
              " 35,\n",
              " 4,\n",
              " 20,\n",
              " 24,\n",
              " 4,\n",
              " 12,\n",
              " 36,\n",
              " 32,\n",
              " 37,\n",
              " 4,\n",
              " 30,\n",
              " 7,\n",
              " 22,\n",
              " 17,\n",
              " 35,\n",
              " 37,\n",
              " 17,\n",
              " 4,\n",
              " 18,\n",
              " 37,\n",
              " 13,\n",
              " 35,\n",
              " 16,\n",
              " 4,\n",
              " 24,\n",
              " 12,\n",
              " 4,\n",
              " 16,\n",
              " 37,\n",
              " 35,\n",
              " 32,\n",
              " 36,\n",
              " 20,\n",
              " 7,\n",
              " 17,\n",
              " 37,\n",
              " 4,\n",
              " 29,\n",
              " 13,\n",
              " 16,\n",
              " 4,\n",
              " 5,\n",
              " 35,\n",
              " 24,\n",
              " 25,\n",
              " 0,\n",
              " 37,\n",
              " 23,\n",
              " 13,\n",
              " 20,\n",
              " 36,\n",
              " 1,\n",
              " 4,\n",
              " 36,\n",
              " 22,\n",
              " 4,\n",
              " 20,\n",
              " 30,\n",
              " 37,\n",
              " 4,\n",
              " 37,\n",
              " 18,\n",
              " 37,\n",
              " 16,\n",
              " 4,\n",
              " 24,\n",
              " 12,\n",
              " 4,\n",
              " 20,\n",
              " 30,\n",
              " 37,\n",
              " 4,\n",
              " 0,\n",
              " 13,\n",
              " 29,\n",
              " 42,\n",
              " 4,\n",
              " 20,\n",
              " 37,\n",
              " 18,\n",
              " 16,\n",
              " 13,\n",
              " 4,\n",
              " 30,\n",
              " 13,\n",
              " 17,\n",
              " 4,\n",
              " 13,\n",
              " 35,\n",
              " 14,\n",
              " 7,\n",
              " 37,\n",
              " 17,\n",
              " 4,\n",
              " 20,\n",
              " 36,\n",
              " 0,\n",
              " 0,\n",
              " 4,\n",
              " 30,\n",
              " 37,\n",
              " 35,\n",
              " 4,\n",
              " 20,\n",
              " 30,\n",
              " 35,\n",
              " 24,\n",
              " 13,\n",
              " 20,\n",
              " 4,\n",
              " 16,\n",
              " 20,\n",
              " 7,\n",
              " 22,\n",
              " 14,\n",
              " 42,\n",
              " 4,\n",
              " 20,\n",
              " 30,\n",
              " 37,\n",
              " 4,\n",
              " 14,\n",
              " 35,\n",
              " 13,\n",
              " 22,\n",
              " 17,\n",
              " 4,\n",
              " 37,\n",
              " 22,\n",
              " 32,\n",
              " 24,\n",
              " 18,\n",
              " 4,\n",
              " 24,\n",
              " 12,\n",
              " 4,\n",
              " 20,\n",
              " 30,\n",
              " 37,\n",
              " 4,\n",
              " 24,\n",
              " 35,\n",
              " 6,\n",
              " 30,\n",
              " 24,\n",
              " 32,\n",
              " 4,\n",
              " 1,\n",
              " 24,\n",
              " 0,\n",
              " 0,\n",
              " 13,\n",
              " 5,\n",
              " 16,\n",
              " 37,\n",
              " 17,\n",
              " 4,\n",
              " 36,\n",
              " 22,\n",
              " 20,\n",
              " 24,\n",
              " 4,\n",
              " 30,\n",
              " 37,\n",
              " 35,\n",
              " 4,\n",
              " 12,\n",
              " 13,\n",
              " 32,\n",
              " 24,\n",
              " 35,\n",
              " 36,\n",
              " 20,\n",
              " 37,\n",
              " 4,\n",
              " 1,\n",
              " 30,\n",
              " 13,\n",
              " 36,\n",
              " 35,\n",
              " 43,\n",
              " 4,\n",
              " 1,\n",
              " 13,\n",
              " 22,\n",
              " 37,\n",
              " 4,\n",
              " 0,\n",
              " 37,\n",
              " 13,\n",
              " 22,\n",
              " 36,\n",
              " 22,\n",
              " 14,\n",
              " 4,\n",
              " 13,\n",
              " 20,\n",
              " 4,\n",
              " 30,\n",
              " 13,\n",
              " 22,\n",
              " 17,\n",
              " 42,\n",
              " 4,\n",
              " 24,\n",
              " 22,\n",
              " 37,\n",
              " 4,\n",
              " 24,\n",
              " 12,\n",
              " 4,\n",
              " 20,\n",
              " 30,\n",
              " 37,\n",
              " 4,\n",
              " 14,\n",
              " 35,\n",
              " 7,\n",
              " 14,\n",
              " 14,\n",
              " 4,\n",
              " 25,\n",
              " 35,\n",
              " 24,\n",
              " 20,\n",
              " 30,\n",
              " 37,\n",
              " 35,\n",
              " 16,\n",
              " 4,\n",
              " 30,\n",
              " 13,\n",
              " 17,\n",
              " 4,\n",
              " 20,\n",
              " 36,\n",
              " 17,\n",
              " 36,\n",
              " 37,\n",
              " 17,\n",
              " 4,\n",
              " 30,\n",
              " 37,\n",
              " 35,\n",
              " 4,\n",
              " 17,\n",
              " 37,\n",
              " 16,\n",
              " 10,\n",
              " 4,\n",
              " 2,\n",
              " 25,\n",
              " 0,\n",
              " 37,\n",
              " 16,\n",
              " 16,\n",
              " 4,\n",
              " 30,\n",
              " 36,\n",
              " 23,\n",
              " 26,\n",
              " 4,\n",
              " 13,\n",
              " 22,\n",
              " 17,\n",
              " 4,\n",
              " 30,\n",
              " 13,\n",
              " 17,\n",
              " 4,\n",
              " 0,\n",
              " 37,\n",
              " 12,\n",
              " 20,\n",
              " 4,\n",
              " 13,\n",
              " 4,\n",
              " 5,\n",
              " 36,\n",
              " 0,\n",
              " 37,\n",
              " 4,\n",
              " 24,\n",
              " 12,\n",
              " 4,\n",
              " 5,\n",
              " 13,\n",
              " 5,\n",
              " 37,\n",
              " 35,\n",
              " 16,\n",
              " 4,\n",
              " 20,\n",
              " 24,\n",
              " 4,\n",
              " 14,\n",
              " 24,\n",
              " 4,\n",
              " 20,\n",
              " 30,\n",
              " 35,\n",
              " 24,\n",
              " 7,\n",
              " 14,\n",
              " 30,\n",
              " 42,\n",
              " 4,\n",
              " 20,\n",
              " 37,\n",
              " 18,\n",
              " 16,\n",
              " 13,\n",
              " 4,\n",
              " 10,\n",
              " 13,\n",
              " 35,\n",
              " 0,\n",
              " 24,\n",
              " 32,\n",
              " 4,\n",
              " 1,\n",
              " 13,\n",
              " 35,\n",
              " 37,\n",
              " 12,\n",
              " 7,\n",
              " 0,\n",
              " 0,\n",
              " 18,\n",
              " 4,\n",
              " 16,\n",
              " 24,\n",
              " 35,\n",
              " 20,\n",
              " 37,\n",
              " 17,\n",
              " 4,\n",
              " 13,\n",
              " 22,\n",
              " 17,\n",
              " 4,\n",
              " 16,\n",
              " 1,\n",
              " 13,\n",
              " 22,\n",
              " 22,\n",
              " 37,\n",
              " 17,\n",
              " 4,\n",
              " 30,\n",
              " 37,\n",
              " 35,\n",
              " 4,\n",
              " 24,\n",
              " 0,\n",
              " 17,\n",
              " 4,\n",
              " 23,\n",
              " 13,\n",
              " 36,\n",
              " 0,\n",
              " 4,\n",
              " 25,\n",
              " 37,\n",
              " 12,\n",
              " 24,\n",
              " 35,\n",
              " 37,\n",
              " 4,\n",
              " 16,\n",
              " 30,\n",
              " 37,\n",
              " 4,\n",
              " 20,\n",
              " 24,\n",
              " 16,\n",
              " 16,\n",
              " 37,\n",
              " 17,\n",
              " 4,\n",
              " 36,\n",
              " 20,\n",
              " 4,\n",
              " 36,\n",
              " 22,\n",
              " 20,\n",
              " 24,\n",
              " 4,\n",
              " 20,\n",
              " 30,\n",
              " 37,\n",
              " 4,\n",
              " 1,\n",
              " 35,\n",
              " 13,\n",
              " 1,\n",
              " 10,\n",
              " 0,\n",
              " 36,\n",
              " 22,\n",
              " 14,\n",
              " 4,\n",
              " 12,\n",
              " 36,\n",
              " 35,\n",
              " 37,\n",
              " 5,\n",
              " 0,\n",
              " 13,\n",
              " 1,\n",
              " 37,\n",
              " 4,\n",
              " 24,\n",
              " 12,\n",
              " 4,\n",
              " 30,\n",
              " 37,\n",
              " 35,\n",
              " 4,\n",
              " 16,\n",
              " 20,\n",
              " 7,\n",
              " 17,\n",
              " 18,\n",
              " 42,\n",
              " 4,\n",
              " 13,\n",
              " 22,\n",
              " 4,\n",
              " 7,\n",
              " 5,\n",
              " 17,\n",
              " 13,\n",
              " 20,\n",
              " 37,\n",
              " 4,\n",
              " 24,\n",
              " 22,\n",
              " 4,\n",
              " 20,\n",
              " 7,\n",
              " 22,\n",
              " 22,\n",
              " 37,\n",
              " 0,\n",
              " 36,\n",
              " 22,\n",
              " 14,\n",
              " 4,\n",
              " 5,\n",
              " 35,\n",
              " 24,\n",
              " 14,\n",
              " 35,\n",
              " 37,\n",
              " 16,\n",
              " 16,\n",
              " 4,\n",
              " 12,\n",
              " 35,\n",
              " 24,\n",
              " 23,\n",
              " 4,\n",
              " 20,\n",
              " 13,\n",
              " 40,\n",
              " 36,\n",
              " 1,\n",
              " 42,\n",
              " 4,\n",
              " 13,\n",
              " 4,\n",
              " 17,\n",
              " 37,\n",
              " 23,\n",
              " 13,\n",
              " 22,\n",
              " 17,\n",
              " 4,\n",
              " 24,\n",
              " 12,\n",
              " 4,\n",
              " 1,\n",
              " 24,\n",
              " 23,\n",
              " 5,\n",
              " 0,\n",
              " 36,\n",
              " 13,\n",
              " 22,\n",
              " 1,\n",
              " 37,\n",
              " 4,\n",
              " 12,\n",
              " 35,\n",
              " 24]"
            ]
          },
          "execution_count": 14,
          "metadata": {},
          "output_type": "execute_result"
        }
      ],
      "source": [
        "tokenized_text[:1000]"
      ]
    },
    {
      "cell_type": "markdown",
      "metadata": {
        "id": "pfpYcaypKcI9"
      },
      "source": [
        "### Organizando y estructurando el dataset"
      ]
    },
    {
      "cell_type": "code",
      "execution_count": 15,
      "metadata": {
        "id": "WSSmg9jtKP0T"
      },
      "outputs": [],
      "source": [
        "# separaremos el dataset entre entrenamiento y validación.\n",
        "# `p_val` será la proporción del corpus que se reservará para validación\n",
        "# `num_val` es la cantidad de secuencias de tamaño `max_context_size` que se usará en validación\n",
        "p_val = 0.1\n",
        "num_val = int(np.ceil(len(tokenized_text)*p_val/max_context_size))"
      ]
    },
    {
      "cell_type": "code",
      "execution_count": 16,
      "metadata": {
        "id": "b7dCpGrdKll0"
      },
      "outputs": [],
      "source": [
        "# separamos la porción de texto utilizada en entrenamiento de la de validación.\n",
        "train_text = tokenized_text[:-num_val*max_context_size]\n",
        "val_text = tokenized_text[-num_val*max_context_size:]"
      ]
    },
    {
      "cell_type": "code",
      "execution_count": 17,
      "metadata": {
        "id": "NmxQdxl8LRCg"
      },
      "outputs": [],
      "source": [
        "tokenized_sentences_val = [val_text[init*max_context_size:init*(max_context_size+1)] for init in range(num_val)]"
      ]
    },
    {
      "cell_type": "code",
      "execution_count": 18,
      "metadata": {
        "id": "_gyFT9koLqDm"
      },
      "outputs": [],
      "source": [
        "tokenized_sentences_train = [train_text[init:init+max_context_size] for init in range(len(train_text)-max_context_size+1)]"
      ]
    },
    {
      "cell_type": "code",
      "execution_count": 19,
      "metadata": {
        "id": "oVNqmmLRodT0"
      },
      "outputs": [],
      "source": [
        "X = np.array(tokenized_sentences_train[:-1])\n",
        "y = np.array(tokenized_sentences_train[1:])"
      ]
    },
    {
      "cell_type": "markdown",
      "metadata": {
        "id": "Vken7O4ETsAJ"
      },
      "source": [
        "Nótese que estamos estructurando el problema de aprendizaje como *many-to-many*:\n",
        "\n",
        "Entrada: secuencia de tokens [$x_0$, $x_1$, ..., $x_N$]\n",
        "\n",
        "Target: secuencia de tokens [$x_1$, $x_2$, ..., $x_{N+1}$]\n",
        "\n",
        "De manera que la red tiene que aprender que su salida deben ser los tokens desplazados en una posición y un nuevo token predicho (el N+1).\n",
        "\n",
        "La ventaja de estructurar el aprendizaje de esta manera es que para cada token de target se propaga una señal de gradiente por el grafo de cómputo recurrente, que es mejor que estructurar el problema como *many-to-one* en donde sólo una señal de gradiente se propaga."
      ]
    },
    {
      "cell_type": "markdown",
      "metadata": {
        "id": "l3iPTx-UJl6r"
      },
      "source": [
        "En este punto tenemos en la variable `tokenized_sentences` los versos tokenizados. Vamos a quedarnos con un conjunto de validación que utilizaremos para medir la calidad de la generación de secuencias con la métrica de Perplejidad."
      ]
    },
    {
      "cell_type": "code",
      "execution_count": 20,
      "metadata": {
        "id": "KFAyA4zCWE-5"
      },
      "outputs": [
        {
          "data": {
            "text/plain": [
              "(22282, 100)"
            ]
          },
          "execution_count": 20,
          "metadata": {},
          "output_type": "execute_result"
        }
      ],
      "source": [
        "X.shape"
      ]
    },
    {
      "cell_type": "code",
      "execution_count": 21,
      "metadata": {
        "id": "qcKRl70HFTzG"
      },
      "outputs": [
        {
          "data": {
            "text/plain": [
              "array([20, 37, 18, 16, 13,  4, 10, 13, 35,  0])"
            ]
          },
          "execution_count": 21,
          "metadata": {},
          "output_type": "execute_result"
        }
      ],
      "source": [
        "X[0,:10]"
      ]
    },
    {
      "cell_type": "code",
      "execution_count": 22,
      "metadata": {
        "id": "TVpLCKSZFXZO"
      },
      "outputs": [
        {
          "data": {
            "text/plain": [
              "array([37, 18, 16, 13,  4, 10, 13, 35,  0, 24])"
            ]
          },
          "execution_count": 22,
          "metadata": {},
          "output_type": "execute_result"
        }
      ],
      "source": [
        "y[0,:10]"
      ]
    },
    {
      "cell_type": "code",
      "execution_count": 23,
      "metadata": {
        "id": "wOFCR-KqbW1N"
      },
      "outputs": [],
      "source": [
        "vocab_size = len(chars_vocab)"
      ]
    },
    {
      "cell_type": "markdown",
      "metadata": {
        "id": "tnnjdAQ5UAEJ"
      },
      "source": [
        "# Definiendo el modelo"
      ]
    },
    {
      "cell_type": "code",
      "execution_count": 24,
      "metadata": {
        "id": "rkMCZvmhrQz4"
      },
      "outputs": [],
      "source": [
        "from keras.layers import Input, TimeDistributed, CategoryEncoding, SimpleRNN, Dense\n",
        "from keras.models import Model, Sequential"
      ]
    },
    {
      "cell_type": "markdown",
      "metadata": {
        "id": "wgz7VKwTUbj6"
      },
      "source": [
        "El modelo que se propone como ejemplo consume los índices de los tokens y los transforma en vectores OHE (en este caso no entrenamos una capa de embedding para caracteres). Esa transformación se logra combinando las capas `CategoryEncoding` que transforma a índices a vectores OHE y `TimeDistributed` que aplica la capa a lo largo de la dimensión \"temporal\" de la secuencia."
      ]
    },
    {
      "cell_type": "code",
      "execution_count": 25,
      "metadata": {
        "id": "Zd2OkfQYs2Q7"
      },
      "outputs": [
        {
          "name": "stderr",
          "output_type": "stream",
          "text": [
            "2024-08-10 11:03:59.969511: I metal_plugin/src/device/metal_device.cc:1154] Metal device set to: Apple M1\n",
            "2024-08-10 11:03:59.969539: I metal_plugin/src/device/metal_device.cc:296] systemMemory: 16.00 GB\n",
            "2024-08-10 11:03:59.969545: I metal_plugin/src/device/metal_device.cc:313] maxCacheSize: 5.33 GB\n",
            "2024-08-10 11:03:59.970212: I tensorflow/core/common_runtime/pluggable_device/pluggable_device_factory.cc:303] Could not identify NUMA node of platform GPU ID 0, defaulting to 0. Your kernel may not have been built with NUMA support.\n",
            "2024-08-10 11:03:59.970525: I tensorflow/core/common_runtime/pluggable_device/pluggable_device_factory.cc:269] Created TensorFlow device (/job:localhost/replica:0/task:0/device:GPU:0 with 0 MB memory) -> physical PluggableDevice (device: 0, name: METAL, pci bus id: <undefined>)\n"
          ]
        },
        {
          "name": "stdout",
          "output_type": "stream",
          "text": [
            "Model: \"sequential\"\n",
            "_________________________________________________________________\n",
            " Layer (type)                Output Shape              Param #   \n",
            "=================================================================\n",
            " time_distributed (TimeDist  (None, None, 44)          0         \n",
            " ributed)                                                        \n",
            "                                                                 \n",
            " simple_rnn (SimpleRNN)      (None, None, 200)         49000     \n",
            "                                                                 \n",
            " dense (Dense)               (None, None, 44)          8844      \n",
            "                                                                 \n",
            "=================================================================\n",
            "Total params: 57844 (225.95 KB)\n",
            "Trainable params: 57844 (225.95 KB)\n",
            "Non-trainable params: 0 (0.00 Byte)\n",
            "_________________________________________________________________\n"
          ]
        }
      ],
      "source": [
        "model = Sequential()\n",
        "\n",
        "# Una capa es recibir un indice y me permite sacara a la salida un vector OHE y TimeDistrinuted, es una capa que modifica \n",
        "#otras capas. A toda la capa la a aplicar a cada elemento de la secuencia, no era necesario hacerlo con la de embedding, \n",
        "#porque ya la tenía.\n",
        "# La idea es retocarlo.\n",
        "model.add(TimeDistributed(CategoryEncoding(num_tokens=vocab_size, output_mode = \"one_hot\"),input_shape=(None,1)))\n",
        "model.add(SimpleRNN(200, return_sequences=True, dropout=0.1, recurrent_dropout=0.1 ))\n",
        "model.add(Dense(vocab_size, activation='softmax'))\n",
        "model.compile(loss='sparse_categorical_crossentropy', optimizer='rmsprop')\n",
        "\n",
        "model.summary()"
      ]
    },
    {
      "cell_type": "markdown",
      "metadata": {
        "id": "GmJWNyxQwfCE"
      },
      "source": [
        "\n",
        "### Definir el modelo"
      ]
    },
    {
      "cell_type": "markdown",
      "metadata": {
        "id": "YWK3z85sQfUe"
      },
      "source": [
        "Dado que por el momento no hay implementaciones adecuadas de la perplejidad que puedan operar en tiempo de entrenamiento, armaremos un Callback *ad-hoc* que la calcule en cada epoch.\n",
        "\n",
        "**Nota**: un Callback es una rutina gatillada por algún evento, son muy útiles para relevar datos en diferentes momentos del desarrollo del modelo. En este caso queremos hacer un cálculo cada vez que termina una epoch de entrenamiento."
      ]
    },
    {
      "cell_type": "code",
      "execution_count": 128,
      "metadata": {
        "id": "zUHX3r5JD-MG"
      },
      "outputs": [],
      "source": [
        "class PplCallback(keras.callbacks.Callback):\n",
        "\n",
        "    '''\n",
        "    Este callback es una solución ad-hoc para calcular al final de cada epoch de\n",
        "    entrenamiento la métrica de Perplejidad sobre un conjunto de datos de validación.\n",
        "    La perplejidad es una métrica cuantitativa para evaluar la calidad de la generación de secuencias.\n",
        "    Además implementa la finalización del entrenamiento (Early Stopping)\n",
        "    si la perplejidad no mejora después de `patience` epochs.\n",
        "    '''\n",
        "\n",
        "    def __init__(self, val_data, history_ppl,patience=5):\n",
        "      # El callback lo inicializamos con secuencias de validación sobre las cuales\n",
        "      # mediremos la perplejidad\n",
        "      self.val_data = val_data\n",
        "\n",
        "      self.target = []\n",
        "      self.padded = []\n",
        "\n",
        "      count = 0\n",
        "      self.info = []\n",
        "      self.min_score = np.inf\n",
        "      self.patience_counter = 0\n",
        "      self.patience = patience\n",
        "\n",
        "      # nos movemos en todas las secuencias de los datos de validación\n",
        "      for seq in self.val_data:\n",
        "\n",
        "        len_seq = len(seq)\n",
        "        # armamos todas las subsecuencias\n",
        "        subseq = [seq[:i] for i in range(1,len_seq)]\n",
        "        self.target.extend([seq[i] for i in range(1,len_seq)])\n",
        "\n",
        "        if len(subseq)!=0:\n",
        "\n",
        "          self.padded.append(pad_sequences(subseq, maxlen=max_context_size, padding='pre'))\n",
        "\n",
        "          self.info.append((count,count+len_seq))\n",
        "          count += len_seq\n",
        "\n",
        "      self.padded = np.vstack(self.padded)\n",
        "\n",
        "\n",
        "    def on_epoch_end(self, epoch, logs=None):\n",
        "\n",
        "        # en `scores` iremos guardando la perplejidad de cada secuencia\n",
        "        scores = []\n",
        "\n",
        "        predictions = self.model.predict(self.padded,verbose=0)\n",
        "\n",
        "        # para cada secuencia de validación\n",
        "        for start,end in self.info:\n",
        "\n",
        "          # en `probs` iremos guardando las probabilidades de los términos target\n",
        "          probs = [predictions[idx_seq,-1,idx_vocab] for idx_seq, idx_vocab in zip(range(start,end),self.target[start:end])]\n",
        "\n",
        "          # calculamos la perplejidad por medio de logaritmos\n",
        "          scores.append(np.exp(-np.sum(np.log(probs))/(end-start)))\n",
        "\n",
        "        # promediamos todos los scores e imprimimos el valor promedio\n",
        "        current_score = np.mean(scores)\n",
        "        history_ppl.append(current_score)\n",
        "        print(f'\\n mean perplexity: {current_score} \\n')\n",
        "\n",
        "        # chequeamos si tenemos que detener el entrenamiento\n",
        "        if current_score < self.min_score:\n",
        "          self.min_score = current_score\n",
        "          self.model.save(\"my_model\")\n",
        "          print(\"Saved new model!\")\n",
        "          self.patience_counter = 0\n",
        "        else:\n",
        "          self.patience_counter += 1\n",
        "          if self.patience_counter == self.patience:\n",
        "            print(\"Stopping training...\")\n",
        "            self.model.stop_training = True\n"
      ]
    },
    {
      "cell_type": "markdown",
      "metadata": {
        "id": "8HBZIwR0gruA"
      },
      "source": [
        "### Entrenamiento"
      ]
    },
    {
      "cell_type": "code",
      "execution_count": 68,
      "metadata": {
        "id": "oQq1PHDkxDvN"
      },
      "outputs": [
        {
          "name": "stdout",
          "output_type": "stream",
          "text": [
            "Epoch 1/20\n"
          ]
        },
        {
          "name": "stderr",
          "output_type": "stream",
          "text": [
            "2024-08-09 23:14:29.345281: I tensorflow/core/grappler/optimizers/custom_graph_optimizer_registry.cc:114] Plugin optimizer for device_type GPU is enabled.\n"
          ]
        },
        {
          "name": "stdout",
          "output_type": "stream",
          "text": [
            "88/88 [==============================] - ETA: 0s - loss: 2.8116"
          ]
        },
        {
          "name": "stderr",
          "output_type": "stream",
          "text": [
            "2024-08-09 23:24:47.196430: I tensorflow/core/grappler/optimizers/custom_graph_optimizer_registry.cc:114] Plugin optimizer for device_type GPU is enabled.\n"
          ]
        },
        {
          "name": "stdout",
          "output_type": "stream",
          "text": [
            "\n",
            " mean perplexity: 13.82920057009448 \n",
            "\n",
            "INFO:tensorflow:Assets written to: my_model/assets\n"
          ]
        },
        {
          "name": "stderr",
          "output_type": "stream",
          "text": [
            "INFO:tensorflow:Assets written to: my_model/assets\n"
          ]
        },
        {
          "name": "stdout",
          "output_type": "stream",
          "text": [
            "Saved new model!\n",
            "88/88 [==============================] - 624s 7s/step - loss: 2.8116\n",
            "Epoch 2/20\n",
            "88/88 [==============================] - ETA: 0s - loss: 2.3607\n",
            " mean perplexity: 11.411099600049317 \n",
            "\n",
            "INFO:tensorflow:Assets written to: my_model/assets\n"
          ]
        },
        {
          "name": "stderr",
          "output_type": "stream",
          "text": [
            "INFO:tensorflow:Assets written to: my_model/assets\n"
          ]
        },
        {
          "name": "stdout",
          "output_type": "stream",
          "text": [
            "Saved new model!\n",
            "88/88 [==============================] - 612s 7s/step - loss: 2.3607\n",
            "Epoch 3/20\n",
            "88/88 [==============================] - ETA: 0s - loss: 2.1918\n",
            " mean perplexity: 10.17603413539455 \n",
            "\n",
            "INFO:tensorflow:Assets written to: my_model/assets\n"
          ]
        },
        {
          "name": "stderr",
          "output_type": "stream",
          "text": [
            "INFO:tensorflow:Assets written to: my_model/assets\n"
          ]
        },
        {
          "name": "stdout",
          "output_type": "stream",
          "text": [
            "Saved new model!\n",
            "88/88 [==============================] - 608s 7s/step - loss: 2.1918\n",
            "Epoch 4/20\n",
            "88/88 [==============================] - ETA: 0s - loss: 2.1091\n",
            " mean perplexity: 9.894725001455866 \n",
            "\n",
            "INFO:tensorflow:Assets written to: my_model/assets\n"
          ]
        },
        {
          "name": "stderr",
          "output_type": "stream",
          "text": [
            "INFO:tensorflow:Assets written to: my_model/assets\n"
          ]
        },
        {
          "name": "stdout",
          "output_type": "stream",
          "text": [
            "Saved new model!\n",
            "88/88 [==============================] - 609s 7s/step - loss: 2.1091\n",
            "Epoch 5/20\n",
            "88/88 [==============================] - ETA: 0s - loss: 2.0509\n",
            " mean perplexity: 9.84101538877813 \n",
            "\n",
            "INFO:tensorflow:Assets written to: my_model/assets\n"
          ]
        },
        {
          "name": "stderr",
          "output_type": "stream",
          "text": [
            "INFO:tensorflow:Assets written to: my_model/assets\n"
          ]
        },
        {
          "name": "stdout",
          "output_type": "stream",
          "text": [
            "Saved new model!\n",
            "88/88 [==============================] - 609s 7s/step - loss: 2.0509\n",
            "Epoch 6/20\n",
            "88/88 [==============================] - ETA: 0s - loss: 1.9989\n",
            " mean perplexity: 9.901482332313993 \n",
            "\n",
            "88/88 [==============================] - 611s 7s/step - loss: 1.9989\n",
            "Epoch 7/20\n",
            "88/88 [==============================] - ETA: 0s - loss: 1.9504\n",
            " mean perplexity: 9.661904772168183 \n",
            "\n",
            "INFO:tensorflow:Assets written to: my_model/assets\n"
          ]
        },
        {
          "name": "stderr",
          "output_type": "stream",
          "text": [
            "INFO:tensorflow:Assets written to: my_model/assets\n"
          ]
        },
        {
          "name": "stdout",
          "output_type": "stream",
          "text": [
            "Saved new model!\n",
            "88/88 [==============================] - 618s 7s/step - loss: 1.9504\n",
            "Epoch 8/20\n",
            "88/88 [==============================] - ETA: 0s - loss: 1.9045\n",
            " mean perplexity: 10.167101571766091 \n",
            "\n",
            "88/88 [==============================] - 483s 5s/step - loss: 1.9045\n",
            "Epoch 9/20\n",
            "88/88 [==============================] - ETA: 0s - loss: 1.8599\n",
            " mean perplexity: 9.702637256496917 \n",
            "\n",
            "88/88 [==============================] - 354s 4s/step - loss: 1.8599\n",
            "Epoch 10/20\n",
            "88/88 [==============================] - ETA: 0s - loss: 1.8197\n",
            " mean perplexity: 9.715741437059886 \n",
            "\n",
            "88/88 [==============================] - 380s 4s/step - loss: 1.8197\n",
            "Epoch 11/20\n",
            "88/88 [==============================] - ETA: 0s - loss: 1.7805\n",
            " mean perplexity: 9.555704677651365 \n",
            "\n",
            "INFO:tensorflow:Assets written to: my_model/assets\n"
          ]
        },
        {
          "name": "stderr",
          "output_type": "stream",
          "text": [
            "INFO:tensorflow:Assets written to: my_model/assets\n"
          ]
        },
        {
          "name": "stdout",
          "output_type": "stream",
          "text": [
            "Saved new model!\n",
            "88/88 [==============================] - 384s 4s/step - loss: 1.7805\n",
            "Epoch 12/20\n",
            "88/88 [==============================] - ETA: 0s - loss: 1.7435\n",
            " mean perplexity: 10.260329013962698 \n",
            "\n",
            "88/88 [==============================] - 389s 4s/step - loss: 1.7435\n",
            "Epoch 13/20\n",
            "88/88 [==============================] - ETA: 0s - loss: 1.7110\n",
            " mean perplexity: 9.52727168714713 \n",
            "\n",
            "INFO:tensorflow:Assets written to: my_model/assets\n"
          ]
        },
        {
          "name": "stderr",
          "output_type": "stream",
          "text": [
            "INFO:tensorflow:Assets written to: my_model/assets\n"
          ]
        },
        {
          "name": "stdout",
          "output_type": "stream",
          "text": [
            "Saved new model!\n",
            "88/88 [==============================] - 390s 4s/step - loss: 1.7110\n",
            "Epoch 14/20\n",
            "88/88 [==============================] - ETA: 0s - loss: 1.6795\n",
            " mean perplexity: 9.696922623424024 \n",
            "\n",
            "88/88 [==============================] - 384s 4s/step - loss: 1.6795\n",
            "Epoch 15/20\n",
            "88/88 [==============================] - ETA: 0s - loss: 1.6521\n",
            " mean perplexity: 9.830993206815746 \n",
            "\n",
            "88/88 [==============================] - 389s 4s/step - loss: 1.6521\n",
            "Epoch 16/20\n",
            "88/88 [==============================] - ETA: 0s - loss: 1.6249\n",
            " mean perplexity: 10.747839396656795 \n",
            "\n",
            "88/88 [==============================] - 388s 4s/step - loss: 1.6249\n",
            "Epoch 17/20\n",
            "88/88 [==============================] - ETA: 0s - loss: 1.6001\n",
            " mean perplexity: 10.79646121904266 \n",
            "\n",
            "88/88 [==============================] - 390s 4s/step - loss: 1.6001\n",
            "Epoch 18/20\n",
            "88/88 [==============================] - ETA: 0s - loss: 1.5777\n",
            " mean perplexity: 10.021974626981324 \n",
            "\n",
            "Stopping training...\n",
            "88/88 [==============================] - 385s 4s/step - loss: 1.5777\n"
          ]
        }
      ],
      "source": [
        "# fiteamos, nótese el agregado del callback con su inicialización. El batch_size lo podemos seleccionar a mano\n",
        "# en general, lo mejor es escoger el batch más grande posible que minimice el tiempo de cada época.\n",
        "# En la variable `history_ppl` se guardarán los valores de perplejidad para cada época.\n",
        "history_ppl = []\n",
        "hist = model.fit(X, y, epochs=20, callbacks=[PplCallback(tokenized_sentences_val,history_ppl)], batch_size=256)"
      ]
    },
    {
      "cell_type": "code",
      "execution_count": 69,
      "metadata": {
        "id": "K30JHB3Dv-mx"
      },
      "outputs": [
        {
          "data": {
            "image/png": "[encoded data removed]",
            "text/plain": [
              "<Figure size 640x480 with 1 Axes>"
            ]
          },
          "metadata": {},
          "output_type": "display_data"
        }
      ],
      "source": [
        "import matplotlib.pyplot as plt\n",
        "import seaborn as sns\n",
        "\n",
        "# Entrenamiento\n",
        "epoch_count = range(1, len(history_ppl) + 1)\n",
        "sns.lineplot(x=epoch_count,  y=history_ppl)\n",
        "plt.show()"
      ]
    },
    {
      "cell_type": "code",
      "execution_count": 70,
      "metadata": {
        "id": "Rhy5hZN38qfO"
      },
      "outputs": [],
      "source": [
        "# Cargamos el mejor modelo guardado del entrenamiento para hacer inferencia\n",
        "model = keras.models.load_model('my_model')"
      ]
    },
    {
      "cell_type": "markdown",
      "metadata": {
        "id": "KN6Fg_BsxJe6"
      },
      "source": [
        "\n",
        "### Predicción del próximo caracter"
      ]
    },
    {
      "cell_type": "code",
      "execution_count": 29,
      "metadata": {
        "id": "IBvKHFPmzpy2"
      },
      "outputs": [],
      "source": [
        "# Se puede usar gradio para probar el modelo\n",
        "# Gradio es una herramienta muy útil para crear interfaces para ensayar modelos\n",
        "# https://gradio.app/\n",
        "\n",
        "!pip install -q gradio"
      ]
    },
    {
      "cell_type": "code",
      "execution_count": 30,
      "metadata": {
        "id": "HNyBykvhzs7-"
      },
      "outputs": [
        {
          "name": "stdout",
          "output_type": "stream",
          "text": [
            "Running on local URL:  http://127.0.0.1:7860\n",
            "\n",
            "To create a public link, set `share=True` in `launch()`.\n"
          ]
        },
        {
          "data": {
            "text/html": [
              "<div><iframe src=\"http://127.0.0.1:7860/\" width=\"100%\" height=\"500\" allow=\"autoplay; camera; microphone; clipboard-read; clipboard-write;\" frameborder=\"0\" allowfullscreen></iframe></div>"
            ],
            "text/plain": [
              "<IPython.core.display.HTML object>"
            ]
          },
          "metadata": {},
          "output_type": "display_data"
        },
        {
          "name": "stderr",
          "output_type": "stream",
          "text": [
            "2024-08-09 22:45:18.784599: I tensorflow/core/grappler/optimizers/custom_graph_optimizer_registry.cc:114] Plugin optimizer for device_type GPU is enabled.\n"
          ]
        },
        {
          "name": "stdout",
          "output_type": "stream",
          "text": [
            "1/1 [==============================] - 1s 792ms/step\n",
            "1/1 [==============================] - 0s 486ms/step\n",
            "1/1 [==============================] - 1s 507ms/step\n",
            "1/1 [==============================] - 1s 543ms/step\n",
            "1/1 [==============================] - 0s 463ms/step\n",
            "1/1 [==============================] - 1s 518ms/step\n",
            "Keyboard interruption in main thread... closing server.\n"
          ]
        },
        {
          "data": {
            "text/plain": []
          },
          "execution_count": 30,
          "metadata": {},
          "output_type": "execute_result"
        }
      ],
      "source": [
        "import gradio as gr\n",
        "\n",
        "def model_response(human_text):\n",
        "\n",
        "    # Encodeamos\n",
        "    encoded = [char2idx[ch] for ch in human_text.lower() ]\n",
        "    # Si tienen distinto largo\n",
        "    encoded = pad_sequences([encoded], maxlen=max_context_size, padding='pre')\n",
        "\n",
        "    # Predicción softmax\n",
        "    y_hat = np.argmax(model.predict(encoded)[0,-1,:])\n",
        "\n",
        "\n",
        "    # Debemos buscar en el vocabulario el caracter\n",
        "    # que corresopnde al indice (y_hat) predicho por le modelo\n",
        "    out_word = ''\n",
        "    out_word = idx2char[y_hat]\n",
        "\n",
        "    # Agrego la palabra a la frase predicha\n",
        "    return human_text + out_word\n",
        "\n",
        "iface = gr.Interface(\n",
        "    fn=model_response,\n",
        "    inputs=[\"textbox\"],\n",
        "    outputs=\"text\")\n",
        "\n",
        "iface.launch(debug=True)"
      ]
    },
    {
      "cell_type": "markdown",
      "metadata": {
        "id": "mCeMWWupxN1-"
      },
      "source": [
        "### Generación de secuencias"
      ]
    },
    {
      "cell_type": "code",
      "execution_count": 71,
      "metadata": {
        "id": "bwbS_pfhxvB3"
      },
      "outputs": [],
      "source": [
        "def generate_seq(model, seed_text, max_length, n_words):\n",
        "    \"\"\"\n",
        "        Exec model sequence prediction\n",
        "\n",
        "        Args:\n",
        "            model (keras): modelo entrenado\n",
        "            seed_text (string): texto de entrada (input_seq)\n",
        "            max_length (int): máxima longitud de la sequencia de entrada\n",
        "            n_words (int): números de caracteres a agregar a la sequencia de entrada\n",
        "        returns:\n",
        "            output_text (string): sentencia con las \"n_words\" agregadas\n",
        "    \"\"\"\n",
        "    output_text = seed_text\n",
        "\t# generate a fixed number of words\n",
        "    for _ in range(n_words):\n",
        "\t\t# Encodeamos\n",
        "        encoded = [char2idx[ch] for ch in output_text.lower() ]\n",
        "\t\t# Si tienen distinto largo\n",
        "        encoded = pad_sequences([encoded], maxlen=max_length, padding='pre')\n",
        "\n",
        "\t\t# Predicción softmax\n",
        "        y_hat = np.argmax(model.predict(encoded,verbose=0)[0,-1,:])\n",
        "\t\t# Vamos concatenando las predicciones\n",
        "        out_word = ''\n",
        "\n",
        "        out_word = idx2char[y_hat]\n",
        "\n",
        "\t\t# Agrego las palabras a la frase predicha\n",
        "        output_text += out_word\n",
        "    return output_text"
      ]
    },
    {
      "cell_type": "code",
      "execution_count": 72,
      "metadata": {
        "id": "JoFqRC5pxzqS"
      },
      "outputs": [
        {
          "name": "stderr",
          "output_type": "stream",
          "text": [
            "2024-08-10 02:01:24.634501: I tensorflow/core/grappler/optimizers/custom_graph_optimizer_registry.cc:114] Plugin optimizer for device_type GPU is enabled.\n"
          ]
        },
        {
          "data": {
            "text/plain": [
              "'Teysa Karlov had spent another full day chand the knight of the obzeda'"
            ]
          },
          "execution_count": 72,
          "metadata": {},
          "output_type": "execute_result"
        }
      ],
      "source": [
        "input_text='Teysa Karlov had spent another full day '\n",
        "\n",
        "generate_seq(model, input_text, max_length=max_context_size, n_words=30)"
      ]
    },
    {
      "cell_type": "markdown",
      "metadata": {
        "id": "drJ6xn5qW1Hl"
      },
      "source": [
        "###  Beam search y muestreo aleatorio"
      ]
    },
    {
      "cell_type": "code",
      "execution_count": 73,
      "metadata": {
        "id": "_vovn9XZW1Hl"
      },
      "outputs": [],
      "source": [
        "# funcionalidades para hacer encoding y decoding\n",
        "\n",
        "def encode(text,max_length=max_context_size):\n",
        "\n",
        "    encoded = [char2idx[ch] for ch in text]\n",
        "    encoded = pad_sequences([encoded], maxlen=max_length, padding='pre')\n",
        "\n",
        "    return encoded\n",
        "\n",
        "def decode(seq):\n",
        "    return ''.join([idx2char[ch] for ch in seq])"
      ]
    },
    {
      "cell_type": "code",
      "execution_count": 74,
      "metadata": {
        "id": "I_lZiQwkW1Hl"
      },
      "outputs": [],
      "source": [
        "from scipy.special import softmax\n",
        "\n",
        "# función que selecciona candidatos para el beam search\n",
        "def select_candidates(pred,num_beams,vocab_size,history_probs,history_tokens,temp,mode):\n",
        "\n",
        "  # colectar todas las probabilidades para la siguiente búsqueda\n",
        "  pred_large = []\n",
        "\n",
        "  for idx,pp in enumerate(pred):\n",
        "    pred_large.extend(np.log(pp+1E-10)+history_probs[idx])\n",
        "\n",
        "  pred_large = np.array(pred_large)\n",
        "\n",
        "  # criterio de selección\n",
        "  if mode == 'det':\n",
        "    idx_select = np.argsort(pred_large)[::-1][:num_beams] # beam search determinista\n",
        "  elif mode == 'sto':\n",
        "    idx_select = np.random.choice(np.arange(pred_large.shape[0]), num_beams, p=softmax(pred_large/temp)) # beam search con muestreo aleatorio\n",
        "  else:\n",
        "    raise ValueError(f'Wrong selection mode. {mode} was given. det and sto are supported.')\n",
        "\n",
        "  # traducir a índices de token en el vocabulario\n",
        "  new_history_tokens = np.concatenate((np.array(history_tokens)[idx_select//vocab_size],\n",
        "                        np.array([idx_select%vocab_size]).T),\n",
        "                      axis=1)\n",
        "\n",
        "  # devolver el producto de las probabilidades (log) y la secuencia de tokens seleccionados\n",
        "  return pred_large[idx_select.astype(int)], new_history_tokens.astype(int)\n",
        "\n",
        "\n",
        "def beam_search(model,num_beams,num_words,input,temp=1,mode='det'):\n",
        "\n",
        "    # first iteration\n",
        "\n",
        "    # encode\n",
        "    encoded = encode(input)\n",
        "\n",
        "    # first prediction\n",
        "    y_hat = model.predict(encoded,verbose=0)[0,-1,:]\n",
        "\n",
        "    # get vocabulary size\n",
        "    vocab_size = y_hat.shape[0]\n",
        "\n",
        "    # initialize history\n",
        "    history_probs = [0]*num_beams\n",
        "    history_tokens = [encoded[0]]*num_beams\n",
        "\n",
        "    # select num_beams candidates\n",
        "    history_probs, history_tokens = select_candidates([y_hat],\n",
        "                                        num_beams,\n",
        "                                        vocab_size,\n",
        "                                        history_probs,\n",
        "                                        history_tokens,\n",
        "                                        temp,\n",
        "                                        mode)\n",
        "\n",
        "    # beam search loop\n",
        "    for i in range(num_words-1):\n",
        "\n",
        "      preds = []\n",
        "\n",
        "      for hist in history_tokens:\n",
        "\n",
        "        # actualizar secuencia de tokens\n",
        "        input_update = np.array([hist[i+1:]]).copy()\n",
        "\n",
        "        # predicción\n",
        "        y_hat = model.predict(input_update,verbose=0)[0,-1,:]\n",
        "\n",
        "        preds.append(y_hat)\n",
        "\n",
        "      history_probs, history_tokens = select_candidates(preds,\n",
        "                                                        num_beams,\n",
        "                                                        vocab_size,\n",
        "                                                        history_probs,\n",
        "                                                        history_tokens,\n",
        "                                                        temp,\n",
        "                                                        mode)\n",
        "\n",
        "    return history_tokens"
      ]
    },
    {
      "cell_type": "code",
      "execution_count": 81,
      "metadata": {
        "id": "GeLqAoOYW1Hm"
      },
      "outputs": [],
      "source": [
        "# predicción con beam search\n",
        "salidas = beam_search(model,num_beams=10,num_words=20,input=\"teysa karlov had spent another full day\")"
      ]
    },
    {
      "cell_type": "code",
      "execution_count": 82,
      "metadata": {
        "id": "P8HQoLhw-NYg"
      },
      "outputs": [
        {
          "data": {
            "text/plain": [
              "array([ 0,  0,  0,  0,  0,  0,  0,  0,  0,  0,  0,  0,  0,  0,  0,  0,  0,\n",
              "        0,  0,  0,  0,  0,  0,  0,  0,  0,  0,  0,  0,  0,  0,  0,  0,  0,\n",
              "        0,  0,  0,  0,  0,  0,  0,  0,  0,  0,  0,  0,  0,  0,  0,  0,  0,\n",
              "        0,  0,  0,  0,  0,  0,  0,  0,  0,  0,  5, 39, 19, 29, 11, 27,  7,\n",
              "       11, 28, 18,  9,  2, 27, 14, 11, 12, 27, 29, 15, 39, 25,  5, 27, 11,\n",
              "       25,  9,  5, 14, 39, 28, 27,  4,  8, 18, 18, 27, 12, 11, 19, 27,  9,\n",
              "        4, 27,  5, 14, 39, 27,  9, 10, 22, 39, 12, 11,  5, 16, 29, 27, 37,\n",
              "       14])"
            ]
          },
          "execution_count": 82,
          "metadata": {},
          "output_type": "execute_result"
        }
      ],
      "source": [
        "salidas[0]"
      ]
    },
    {
      "cell_type": "code",
      "execution_count": 83,
      "metadata": {
        "id": "2S3_I3S1W1Hm"
      },
      "outputs": [
        {
          "data": {
            "text/plain": [
              "\"iiiiiiiiiiiiiiiiiiiiiiiiiiiiiiiiiiiiiiiiiiiiiiiiiiiiiiiiiiiiiteysa karlov had spent another full day of the obzedat's ch\""
            ]
          },
          "execution_count": 83,
          "metadata": {},
          "output_type": "execute_result"
        }
      ],
      "source": [
        "# veamos las salidas\n",
        "decode(salidas[0])"
      ]
    },
    {
      "cell_type": "markdown",
      "metadata": {},
      "source": [
        "Modelo SimpleRNN:\n",
        "\n",
        "Se observa que la curva de perplexity disminuye y al final vuelve a incrementarse un poco. \n",
        "\n",
        "La generación de secuencia muestra algo con sentido aprendido del corpus.\n",
        "\n",
        "El beam search muestra muchas veces la i que sería el token 0, el cual en los otros modelos se corrige."
      ]
    },
    {
      "cell_type": "markdown",
      "metadata": {
        "id": "Q_LlqmtEW1Hn"
      },
      "source": [
        "### Modelo 2 - LSTM con 2 capas"
      ]
    },
    {
      "cell_type": "code",
      "execution_count": 27,
      "metadata": {},
      "outputs": [
        {
          "name": "stdout",
          "output_type": "stream",
          "text": [
            "WARNING:tensorflow:Layer lstm will not use cuDNN kernels since it doesn't meet the criteria. It will use a generic GPU kernel as fallback when running on GPU.\n"
          ]
        },
        {
          "name": "stdout",
          "output_type": "stream",
          "text": [
            "WARNING:tensorflow:Layer lstm_1 will not use cuDNN kernels since it doesn't meet the criteria. It will use a generic GPU kernel as fallback when running on GPU.\n",
            "Model: \"sequential_1\"\n",
            "_________________________________________________________________\n",
            " Layer (type)                Output Shape              Param #   \n",
            "=================================================================\n",
            " time_distributed_1 (TimeDi  (None, None, 44)          0         \n",
            " stributed)                                                      \n",
            "                                                                 \n",
            " lstm (LSTM)                 (None, None, 100)         58000     \n",
            "                                                                 \n",
            " lstm_1 (LSTM)               (None, None, 100)         80400     \n",
            "                                                                 \n",
            " dense_1 (Dense)             (None, None, 44)          4444      \n",
            "                                                                 \n",
            "=================================================================\n",
            "Total params: 142844 (557.98 KB)\n",
            "Trainable params: 142844 (557.98 KB)\n",
            "Non-trainable params: 0 (0.00 Byte)\n",
            "_________________________________________________________________\n"
          ]
        }
      ],
      "source": [
        "model = Sequential()\n",
        "\n",
        "# Una capa es recibir un indice y me permite sacara a la salida un vector OHE y TimeDistrinuted, es una capa que modifica \n",
        "#otras capas. A toda la capa la a aplicar a cada elemento de la secuencia, no era necesario hacerlo con la de embedding, \n",
        "#porque ya la tenía.\n",
        "# La idea es retocarlo.\n",
        "model.add(TimeDistributed(CategoryEncoding(num_tokens=vocab_size, output_mode = \"one_hot\"),input_shape=(None,1)))\n",
        "model.add(LSTM(100, return_sequences=True, dropout=0.1, recurrent_dropout=0.1 ))\n",
        "model.add(LSTM(100, return_sequences=True, dropout=0.1, recurrent_dropout=0.1 ))\n",
        "model.add(Dense(vocab_size, activation='softmax'))\n",
        "model.compile(loss='sparse_categorical_crossentropy', optimizer='rmsprop')\n",
        "\n",
        "model.summary()"
      ]
    },
    {
      "cell_type": "code",
      "execution_count": 28,
      "metadata": {},
      "outputs": [
        {
          "name": "stdout",
          "output_type": "stream",
          "text": [
            "Epoch 1/20\n"
          ]
        },
        {
          "name": "stderr",
          "output_type": "stream",
          "text": [
            "2024-08-10 11:04:21.642885: I tensorflow/core/grappler/optimizers/custom_graph_optimizer_registry.cc:114] Plugin optimizer for device_type GPU is enabled.\n"
          ]
        },
        {
          "name": "stdout",
          "output_type": "stream",
          "text": [
            "88/88 [==============================] - ETA: 0s - loss: 3.0332 "
          ]
        },
        {
          "name": "stderr",
          "output_type": "stream",
          "text": [
            "2024-08-10 12:01:56.811926: I tensorflow/core/grappler/optimizers/custom_graph_optimizer_registry.cc:114] Plugin optimizer for device_type GPU is enabled.\n"
          ]
        },
        {
          "name": "stdout",
          "output_type": "stream",
          "text": [
            "\n",
            " mean perplexity: 19.621762440311443 \n",
            "\n",
            "INFO:tensorflow:Assets written to: my_model/assets\n"
          ]
        },
        {
          "name": "stderr",
          "output_type": "stream",
          "text": [
            "INFO:tensorflow:Assets written to: my_model/assets\n"
          ]
        },
        {
          "name": "stdout",
          "output_type": "stream",
          "text": [
            "Saved new model!\n",
            "88/88 [==============================] - 3468s 39s/step - loss: 3.0332\n",
            "Epoch 2/20\n",
            "88/88 [==============================] - ETA: 0s - loss: 2.8687 \n",
            " mean perplexity: 15.956332534541358 \n",
            "\n",
            "INFO:tensorflow:Assets written to: my_model/assets\n"
          ]
        },
        {
          "name": "stderr",
          "output_type": "stream",
          "text": [
            "INFO:tensorflow:Assets written to: my_model/assets\n"
          ]
        },
        {
          "name": "stdout",
          "output_type": "stream",
          "text": [
            "Saved new model!\n",
            "88/88 [==============================] - 3618s 41s/step - loss: 2.8687\n",
            "Epoch 3/20\n",
            "88/88 [==============================] - ETA: 0s - loss: 2.6727  \n",
            " mean perplexity: 13.391273378564902 \n",
            "\n",
            "INFO:tensorflow:Assets written to: my_model/assets\n"
          ]
        },
        {
          "name": "stderr",
          "output_type": "stream",
          "text": [
            "INFO:tensorflow:Assets written to: my_model/assets\n"
          ]
        },
        {
          "name": "stdout",
          "output_type": "stream",
          "text": [
            "Saved new model!\n",
            "88/88 [==============================] - 6855s 78s/step - loss: 2.6727\n",
            "Epoch 4/20\n",
            "88/88 [==============================] - ETA: 0s - loss: 2.5448  \n",
            " mean perplexity: 12.562569834382257 \n",
            "\n",
            "INFO:tensorflow:Assets written to: my_model/assets\n"
          ]
        },
        {
          "name": "stderr",
          "output_type": "stream",
          "text": [
            "INFO:tensorflow:Assets written to: my_model/assets\n"
          ]
        },
        {
          "name": "stdout",
          "output_type": "stream",
          "text": [
            "Saved new model!\n",
            "88/88 [==============================] - 6223s 71s/step - loss: 2.5448\n",
            "Epoch 5/20\n",
            "88/88 [==============================] - ETA: 0s - loss: 2.4640 \n",
            " mean perplexity: 12.119648977470925 \n",
            "\n",
            "INFO:tensorflow:Assets written to: my_model/assets\n"
          ]
        },
        {
          "name": "stderr",
          "output_type": "stream",
          "text": [
            "INFO:tensorflow:Assets written to: my_model/assets\n"
          ]
        },
        {
          "name": "stdout",
          "output_type": "stream",
          "text": [
            "Saved new model!\n",
            "88/88 [==============================] - 3817s 43s/step - loss: 2.4640\n",
            "Epoch 6/20\n",
            "88/88 [==============================] - ETA: 0s - loss: 2.3966 \n",
            " mean perplexity: 11.588840131071851 \n",
            "\n",
            "INFO:tensorflow:Assets written to: my_model/assets\n"
          ]
        },
        {
          "name": "stderr",
          "output_type": "stream",
          "text": [
            "INFO:tensorflow:Assets written to: my_model/assets\n"
          ]
        },
        {
          "name": "stdout",
          "output_type": "stream",
          "text": [
            "Saved new model!\n",
            "88/88 [==============================] - 3358s 38s/step - loss: 2.3966\n",
            "Epoch 7/20\n",
            "88/88 [==============================] - ETA: 0s - loss: 2.3342  \n",
            " mean perplexity: 10.970237564871226 \n",
            "\n",
            "INFO:tensorflow:Assets written to: my_model/assets\n"
          ]
        },
        {
          "name": "stderr",
          "output_type": "stream",
          "text": [
            "INFO:tensorflow:Assets written to: my_model/assets\n"
          ]
        },
        {
          "name": "stdout",
          "output_type": "stream",
          "text": [
            "Saved new model!\n",
            "88/88 [==============================] - 5797s 66s/step - loss: 2.3342\n",
            "Epoch 8/20\n",
            "88/88 [==============================] - ETA: 0s - loss: 2.2749  \n",
            " mean perplexity: 10.759571155694028 \n",
            "\n",
            "INFO:tensorflow:Assets written to: my_model/assets\n"
          ]
        },
        {
          "name": "stderr",
          "output_type": "stream",
          "text": [
            "INFO:tensorflow:Assets written to: my_model/assets\n"
          ]
        },
        {
          "name": "stdout",
          "output_type": "stream",
          "text": [
            "Saved new model!\n",
            "88/88 [==============================] - 5376s 61s/step - loss: 2.2749\n",
            "Epoch 9/20\n",
            "88/88 [==============================] - ETA: 0s - loss: 2.2185 \n",
            " mean perplexity: 10.774378900916705 \n",
            "\n",
            "88/88 [==============================] - 3392s 39s/step - loss: 2.2185\n",
            "Epoch 10/20\n",
            "88/88 [==============================] - ETA: 0s - loss: 2.1631 \n",
            " mean perplexity: 10.733635961337905 \n",
            "\n",
            "INFO:tensorflow:Assets written to: my_model/assets\n"
          ]
        },
        {
          "name": "stderr",
          "output_type": "stream",
          "text": [
            "INFO:tensorflow:Assets written to: my_model/assets\n"
          ]
        },
        {
          "name": "stdout",
          "output_type": "stream",
          "text": [
            "Saved new model!\n",
            "88/88 [==============================] - 3405s 39s/step - loss: 2.1631\n",
            "Epoch 11/20\n",
            "88/88 [==============================] - ETA: 0s - loss: 2.1114 \n",
            " mean perplexity: 10.519682562568658 \n",
            "\n",
            "INFO:tensorflow:Assets written to: my_model/assets\n"
          ]
        },
        {
          "name": "stderr",
          "output_type": "stream",
          "text": [
            "INFO:tensorflow:Assets written to: my_model/assets\n"
          ]
        },
        {
          "name": "stdout",
          "output_type": "stream",
          "text": [
            "Saved new model!\n",
            "88/88 [==============================] - 3403s 39s/step - loss: 2.1114\n",
            "Epoch 12/20\n",
            "88/88 [==============================] - ETA: 0s - loss: 2.0606 \n",
            " mean perplexity: 10.520031981071133 \n",
            "\n",
            "88/88 [==============================] - 3394s 39s/step - loss: 2.0606\n",
            "Epoch 13/20\n",
            "88/88 [==============================] - ETA: 0s - loss: 2.0129 \n",
            " mean perplexity: 10.144785553940709 \n",
            "\n",
            "INFO:tensorflow:Assets written to: my_model/assets\n"
          ]
        },
        {
          "name": "stderr",
          "output_type": "stream",
          "text": [
            "INFO:tensorflow:Assets written to: my_model/assets\n"
          ]
        },
        {
          "name": "stdout",
          "output_type": "stream",
          "text": [
            "Saved new model!\n",
            "88/88 [==============================] - 3382s 38s/step - loss: 2.0129\n",
            "Epoch 14/20\n",
            "88/88 [==============================] - ETA: 0s - loss: 1.9665 \n",
            " mean perplexity: 10.026932041450475 \n",
            "\n",
            "INFO:tensorflow:Assets written to: my_model/assets\n"
          ]
        },
        {
          "name": "stderr",
          "output_type": "stream",
          "text": [
            "INFO:tensorflow:Assets written to: my_model/assets\n"
          ]
        },
        {
          "name": "stdout",
          "output_type": "stream",
          "text": [
            "Saved new model!\n",
            "88/88 [==============================] - 3363s 38s/step - loss: 1.9665\n",
            "Epoch 15/20\n",
            "88/88 [==============================] - ETA: 0s - loss: 1.9238 \n",
            " mean perplexity: 10.008115944389095 \n",
            "\n",
            "INFO:tensorflow:Assets written to: my_model/assets\n"
          ]
        },
        {
          "name": "stderr",
          "output_type": "stream",
          "text": [
            "INFO:tensorflow:Assets written to: my_model/assets\n"
          ]
        },
        {
          "name": "stdout",
          "output_type": "stream",
          "text": [
            "Saved new model!\n",
            "88/88 [==============================] - 3329s 38s/step - loss: 1.9238\n",
            "Epoch 16/20\n",
            "88/88 [==============================] - ETA: 0s - loss: 1.8818 \n",
            " mean perplexity: 10.427539278411734 \n",
            "\n",
            "88/88 [==============================] - 3341s 38s/step - loss: 1.8818\n",
            "Epoch 17/20\n",
            "88/88 [==============================] - ETA: 0s - loss: 1.8416 \n",
            " mean perplexity: 9.637350745161982 \n",
            "\n",
            "INFO:tensorflow:Assets written to: my_model/assets\n"
          ]
        },
        {
          "name": "stderr",
          "output_type": "stream",
          "text": [
            "INFO:tensorflow:Assets written to: my_model/assets\n"
          ]
        },
        {
          "name": "stdout",
          "output_type": "stream",
          "text": [
            "Saved new model!\n",
            "88/88 [==============================] - 3327s 38s/step - loss: 1.8416\n",
            "Epoch 18/20\n",
            "88/88 [==============================] - ETA: 0s - loss: 1.8028 \n",
            " mean perplexity: 10.464309348007209 \n",
            "\n",
            "88/88 [==============================] - 3297s 37s/step - loss: 1.8028\n",
            "Epoch 19/20\n",
            "88/88 [==============================] - ETA: 0s - loss: 1.7671 \n",
            " mean perplexity: 10.72188583768195 \n",
            "\n",
            "88/88 [==============================] - 3295s 37s/step - loss: 1.7671\n",
            "Epoch 20/20\n",
            "88/88 [==============================] - ETA: 0s - loss: 1.7324 \n",
            " mean perplexity: 15.125817260381579 \n",
            "\n",
            "88/88 [==============================] - 3287s 37s/step - loss: 1.7324\n"
          ]
        }
      ],
      "source": [
        "# fiteamos, nótese el agregado del callback con su inicialización. El batch_size lo podemos seleccionar a mano\n",
        "# en general, lo mejor es escoger el batch más grande posible que minimice el tiempo de cada época.\n",
        "# En la variable `history_ppl` se guardarán los valores de perplejidad para cada época.\n",
        "history_ppl = []\n",
        "hist = model.fit(X, y, epochs=20, callbacks=[PplCallback(tokenized_sentences_val,history_ppl)], batch_size=256)"
      ]
    },
    {
      "cell_type": "code",
      "execution_count": 29,
      "metadata": {},
      "outputs": [
        {
          "data": {
            "image/png": "[encoded data removed]",
            "text/plain": [
              "<Figure size 640x480 with 1 Axes>"
            ]
          },
          "metadata": {},
          "output_type": "display_data"
        }
      ],
      "source": [
        "import matplotlib.pyplot as plt\n",
        "import seaborn as sns\n",
        "\n",
        "# Entrenamiento\n",
        "epoch_count = range(1, len(history_ppl) + 1)\n",
        "sns.lineplot(x=epoch_count,  y=history_ppl)\n",
        "plt.show()"
      ]
    },
    {
      "cell_type": "code",
      "execution_count": 30,
      "metadata": {},
      "outputs": [
        {
          "name": "stdout",
          "output_type": "stream",
          "text": [
            "WARNING:tensorflow:Layer lstm will not use cuDNN kernels since it doesn't meet the criteria. It will use a generic GPU kernel as fallback when running on GPU.\n"
          ]
        },
        {
          "name": "stderr",
          "output_type": "stream",
          "text": [
            "WARNING:tensorflow:Layer lstm will not use cuDNN kernels since it doesn't meet the criteria. It will use a generic GPU kernel as fallback when running on GPU.\n"
          ]
        },
        {
          "name": "stdout",
          "output_type": "stream",
          "text": [
            "WARNING:tensorflow:Layer lstm_1 will not use cuDNN kernels since it doesn't meet the criteria. It will use a generic GPU kernel as fallback when running on GPU.\n"
          ]
        },
        {
          "name": "stderr",
          "output_type": "stream",
          "text": [
            "WARNING:tensorflow:Layer lstm_1 will not use cuDNN kernels since it doesn't meet the criteria. It will use a generic GPU kernel as fallback when running on GPU.\n"
          ]
        }
      ],
      "source": [
        "# Cargamos el mejor modelo guardado del entrenamiento para hacer inferencia\n",
        "model_2 = keras.models.load_model('my_model')"
      ]
    },
    {
      "cell_type": "markdown",
      "metadata": {},
      "source": [
        "#### Generación de secuencias"
      ]
    },
    {
      "cell_type": "code",
      "execution_count": 38,
      "metadata": {},
      "outputs": [],
      "source": [
        "def generate_seq(model, seed_text, max_length, n_words):\n",
        "    \"\"\"\n",
        "        Exec model sequence prediction\n",
        "\n",
        "        Args:\n",
        "            model (keras): modelo entrenado\n",
        "            seed_text (string): texto de entrada (input_seq)\n",
        "            max_length (int): máxima longitud de la sequencia de entrada\n",
        "            n_words (int): números de caracteres a agregar a la sequencia de entrada\n",
        "        returns:\n",
        "            output_text (string): sentencia con las \"n_words\" agregadas\n",
        "    \"\"\"\n",
        "    output_text = seed_text\n",
        "\t# generate a fixed number of words\n",
        "    for _ in range(n_words):\n",
        "\t\t# Encodeamos\n",
        "        encoded = [char2idx[ch] for ch in output_text.lower() ]\n",
        "\t\t# Si tienen distinto largo\n",
        "        encoded = pad_sequences([encoded], maxlen=max_length, padding='pre')\n",
        "\n",
        "\t\t# Predicción softmax\n",
        "        y_hat = np.argmax(model.predict(encoded,verbose=0)[0,-1,:])\n",
        "\t\t# Vamos concatenando las predicciones\n",
        "        out_word = ''\n",
        "\n",
        "        out_word = idx2char[y_hat]\n",
        "\n",
        "\t\t# Agrego las palabras a la frase predicha\n",
        "        output_text += out_word\n",
        "    return output_text"
      ]
    },
    {
      "cell_type": "code",
      "execution_count": 39,
      "metadata": {},
      "outputs": [
        {
          "data": {
            "text/plain": [
              "'Instead, the Grand Envoy of the Orzhov leaned forward, she stood of the obzedat of t'"
            ]
          },
          "execution_count": 39,
          "metadata": {},
          "output_type": "execute_result"
        }
      ],
      "source": [
        "input_text= 'Instead, the Grand Envoy of the Orzhov leaned forward,'#'Teysa Karlov had spent another full day '\n",
        "\n",
        "generate_seq(model_2, input_text, max_length=max_context_size, n_words=30)"
      ]
    },
    {
      "cell_type": "markdown",
      "metadata": {},
      "source": [
        "#### Beam search"
      ]
    },
    {
      "cell_type": "code",
      "execution_count": 67,
      "metadata": {},
      "outputs": [],
      "source": [
        "# funcionalidades para hacer encoding y decoding\n",
        "\n",
        "def encode(text,max_length=max_context_size):\n",
        "\n",
        "    encoded = [char2idx[ch] for ch in text]\n",
        "    encoded = pad_sequences([encoded], maxlen=max_length, padding='pre')\n",
        "\n",
        "    return encoded\n",
        "\n",
        "def decode(seq):\n",
        "    #return ''.join([idx2char[ch] for ch in seq])\n",
        "    return ''.join([idx2char[ch] for ch in seq if ch != 0])"
      ]
    },
    {
      "cell_type": "code",
      "execution_count": 68,
      "metadata": {},
      "outputs": [],
      "source": [
        "from scipy.special import softmax\n",
        "\n",
        "# función que selecciona candidatos para el beam search\n",
        "def select_candidates(pred,num_beams,vocab_size,history_probs,history_tokens,temp,mode):\n",
        "\n",
        "  # colectar todas las probabilidades para la siguiente búsqueda\n",
        "  pred_large = []\n",
        "\n",
        "  for idx,pp in enumerate(pred):\n",
        "    pred_large.extend(np.log(pp+1E-10)+history_probs[idx])\n",
        "\n",
        "  pred_large = np.array(pred_large)\n",
        "\n",
        "  # criterio de selección\n",
        "  if mode == 'det':\n",
        "    idx_select = np.argsort(pred_large)[::-1][:num_beams] # beam search determinista\n",
        "  elif mode == 'sto':\n",
        "    idx_select = np.random.choice(np.arange(pred_large.shape[0]), num_beams, p=softmax(pred_large/temp)) # beam search con muestreo aleatorio\n",
        "  else:\n",
        "    raise ValueError(f'Wrong selection mode. {mode} was given. det and sto are supported.')\n",
        "\n",
        "  # traducir a índices de token en el vocabulario\n",
        "  new_history_tokens = np.concatenate((np.array(history_tokens)[idx_select//vocab_size],\n",
        "                        np.array([idx_select%vocab_size]).T),\n",
        "                      axis=1)\n",
        "\n",
        "  # devolver el producto de las probabilidades (log) y la secuencia de tokens seleccionados\n",
        "  return pred_large[idx_select.astype(int)], new_history_tokens.astype(int)\n",
        "\n",
        "\n",
        "def beam_search(model,num_beams,num_words,input,temp=1,mode='det'):\n",
        "\n",
        "    # first iteration\n",
        "\n",
        "    # encode\n",
        "    encoded = encode(input)\n",
        "\n",
        "    # first prediction\n",
        "    y_hat = model.predict(encoded,verbose=0)[0,-1,:]\n",
        "\n",
        "    # get vocabulary size\n",
        "    vocab_size = y_hat.shape[0]\n",
        "\n",
        "    # initialize history\n",
        "    history_probs = [0]*num_beams\n",
        "    history_tokens = [encoded[0]]*num_beams\n",
        "\n",
        "    # select num_beams candidates\n",
        "    history_probs, history_tokens = select_candidates([y_hat],\n",
        "                                        num_beams,\n",
        "                                        vocab_size,\n",
        "                                        history_probs,\n",
        "                                        history_tokens,\n",
        "                                        temp,\n",
        "                                        mode)\n",
        "\n",
        "    # beam search loop\n",
        "    for i in range(num_words-1):\n",
        "\n",
        "      preds = []\n",
        "\n",
        "      for hist in history_tokens:\n",
        "\n",
        "        # actualizar secuencia de tokens\n",
        "        input_update = np.array([hist[i+1:]]).copy()\n",
        "\n",
        "        # predicción\n",
        "        y_hat = model.predict(input_update,verbose=0)[0,-1,:]\n",
        "\n",
        "        preds.append(y_hat)\n",
        "\n",
        "      history_probs, history_tokens = select_candidates(preds,\n",
        "                                                        num_beams,\n",
        "                                                        vocab_size,\n",
        "                                                        history_probs,\n",
        "                                                        history_tokens,\n",
        "                                                        temp,\n",
        "                                                        mode)\n",
        "\n",
        "    return history_tokens"
      ]
    },
    {
      "cell_type": "code",
      "execution_count": 83,
      "metadata": {},
      "outputs": [],
      "source": [
        "# predicción con beam search\n",
        "#salidas = beam_search(model_2,num_beams=10,num_words=20,input=\"teysa karlov\")\n",
        "salidas = beam_search(model_2,num_beams=5,num_words=25,input=\"teysa karlov is a formidable force in the courts of\",temp=1.5,mode='sto')"
      ]
    },
    {
      "cell_type": "code",
      "execution_count": 84,
      "metadata": {},
      "outputs": [
        {
          "data": {
            "text/plain": [
              "(5, 125)"
            ]
          },
          "execution_count": 84,
          "metadata": {},
          "output_type": "execute_result"
        }
      ],
      "source": [
        "# tenemos `num_beams` salidas ordenadas de mayor a menor likelihood\n",
        "salidas.shape"
      ]
    },
    {
      "cell_type": "code",
      "execution_count": 85,
      "metadata": {},
      "outputs": [
        {
          "name": "stdout",
          "output_type": "stream",
          "text": [
            "teysa karov is a formidabe force in the courts of the with a becores of tp\n",
            "teysa karov is a formidabe force in the courts of the with a becores of sh\n",
            "teysa karov is a formidabe force in the courts of the with a becores of sn\n",
            "teysa karov is a formidabe force in the courts of the with a becores of st\n",
            "teysa karov is a formidabe force in the courts of the with a becores of th\n"
          ]
        }
      ],
      "source": [
        "# veamos las salidas\n",
        "for i in range(salidas.shape[0]):\n",
        "    print(decode(salidas[i]))"
      ]
    },
    {
      "cell_type": "markdown",
      "metadata": {},
      "source": [
        "Modelo LSTM (2 capas de 100 cada una):\n",
        "\n",
        "Se observa que la curva de perplexity disminuye y al final vuelve a incrementarse un poco. \n",
        "\n",
        "La generación de secuencia muestra algo con sentido aprendido del corpus.\n",
        "\n",
        "El beam search muestra diferentes opciones con sentido."
      ]
    },
    {
      "cell_type": "markdown",
      "metadata": {},
      "source": [
        "## Modelo 3: GRU"
      ]
    },
    {
      "cell_type": "code",
      "execution_count": 135,
      "metadata": {},
      "outputs": [
        {
          "name": "stdout",
          "output_type": "stream",
          "text": [
            "TensorFlow has access to the following devices:\n",
            "[PhysicalDevice(name='/physical_device:CPU:0', device_type='CPU'), PhysicalDevice(name='/physical_device:GPU:0', device_type='GPU')]\n",
            "TensorFlow version: 2.13.0\n"
          ]
        }
      ],
      "source": [
        "import tensorflow as tf\n",
        "\n",
        "# Check for TensorFlow GPU access\n",
        "print(f\"TensorFlow has access to the following devices:\\n{tf.config.list_physical_devices()}\")\n",
        "\n",
        "# See TensorFlow version\n",
        "print(f\"TensorFlow version: {tf.__version__}\")"
      ]
    },
    {
      "cell_type": "markdown",
      "metadata": {},
      "source": [
        "Se cambia el tamaño de contexto a 50. "
      ]
    },
    {
      "cell_type": "code",
      "execution_count": 136,
      "metadata": {},
      "outputs": [],
      "source": [
        "# seleccionamos el tamaño de contexto\n",
        "max_context_size = 50"
      ]
    },
    {
      "cell_type": "code",
      "execution_count": 137,
      "metadata": {},
      "outputs": [],
      "source": [
        "# en este caso el vocabulario es el conjunto único de caracteres que existe en todo el texto\n",
        "# no va a ser de miles de componentes\n",
        "chars_vocab = set(article_text)\n",
        "\n",
        "# la longitud de vocabulario de caracteres es:\n",
        "len(chars_vocab)\n",
        "\n",
        "# Construimos los dicionarios que asignan índices a caracteres y viceversa.\n",
        "# El diccionario `char2idx` servirá como tokenizador.\n",
        "char2idx = {k: v for v,k in enumerate(chars_vocab)}\n",
        "idx2char = {v: k for k,v in char2idx.items()}"
      ]
    },
    {
      "cell_type": "code",
      "execution_count": 138,
      "metadata": {},
      "outputs": [
        {
          "name": "stdout",
          "output_type": "stream",
          "text": [
            "X.shape  (22332, 50)\n",
            "[20 37 18 16 13  4 10 13 35  0]\n",
            "[37 18 16 13  4 10 13 35  0 24]\n"
          ]
        }
      ],
      "source": [
        "# tokenizamos el texto completo\n",
        "tokenized_text = [char2idx[ch] for ch in article_text]\n",
        "\n",
        "# separaremos el dataset entre entrenamiento y validación.\n",
        "# `p_val` será la proporción del corpus que se reservará para validación\n",
        "# `num_val` es la cantidad de secuencias de tamaño `max_context_size` que se usará en validación\n",
        "p_val = 0.1\n",
        "num_val = int(np.ceil(len(tokenized_text)*p_val/max_context_size))\n",
        "\n",
        "# separamos la porción de texto utilizada en entrenamiento de la de validación.\n",
        "train_text = tokenized_text[:-num_val*max_context_size]\n",
        "val_text = tokenized_text[-num_val*max_context_size:]\n",
        "\n",
        "tokenized_sentences_val = [val_text[init*max_context_size:init*(max_context_size+1)] for init in range(num_val)]\n",
        "tokenized_sentences_train = [train_text[init:init+max_context_size] for init in range(len(train_text)-max_context_size+1)]\n",
        "\n",
        "X = np.array(tokenized_sentences_train[:-1])\n",
        "y = np.array(tokenized_sentences_train[1:])\n",
        "\n",
        "#Nótese que estamos estructurando el problema de aprendizaje como *many-to-many*:\n",
        "\n",
        "#Entrada: secuencia de tokens [$x_0$, $x_1$, ..., $x_N$]\n",
        "#Target: secuencia de tokens [$x_1$, $x_2$, ..., $x_{N+1}$]\n",
        "# De manera que la red tiene que aprender que su salida deben ser los tokens desplazados en una posición y un nuevo token predicho (el N+1).\n",
        "#La ventaja de estructurar el aprendizaje de esta manera es que para cada token de target se propaga una señal de gradiente por el grafo de cómputo recurrente, que es mejor que estructurar el problema como *many-to-one* en donde sólo una señal de gradiente se propaga.\n",
        "#En este punto tenemos en la variable `tokenized_sentences` los versos tokenizados. Vamos a quedarnos con un conjunto de validación que utilizaremos para medir la calidad de la generación de secuencias con la métrica de Perplejidad.\n",
        "\n",
        "print(\"X.shape \", X.shape)\n",
        "print(X[0,:10])\n",
        "print(y[0,:10])\n",
        "vocab_size = len(chars_vocab)"
      ]
    },
    {
      "cell_type": "code",
      "execution_count": 139,
      "metadata": {},
      "outputs": [
        {
          "name": "stdout",
          "output_type": "stream",
          "text": [
            "WARNING:tensorflow:Layer gru_17 will not use cuDNN kernels since it doesn't meet the criteria. It will use a generic GPU kernel as fallback when running on GPU.\n"
          ]
        },
        {
          "name": "stderr",
          "output_type": "stream",
          "text": [
            "WARNING:tensorflow:Layer gru_17 will not use cuDNN kernels since it doesn't meet the criteria. It will use a generic GPU kernel as fallback when running on GPU.\n"
          ]
        },
        {
          "name": "stdout",
          "output_type": "stream",
          "text": [
            "WARNING:tensorflow:Layer gru_18 will not use cuDNN kernels since it doesn't meet the criteria. It will use a generic GPU kernel as fallback when running on GPU.\n"
          ]
        },
        {
          "name": "stderr",
          "output_type": "stream",
          "text": [
            "WARNING:tensorflow:Layer gru_18 will not use cuDNN kernels since it doesn't meet the criteria. It will use a generic GPU kernel as fallback when running on GPU.\n"
          ]
        },
        {
          "name": "stdout",
          "output_type": "stream",
          "text": [
            "Model: \"sequential_11\"\n",
            "_________________________________________________________________\n",
            " Layer (type)                Output Shape              Param #   \n",
            "=================================================================\n",
            " time_distributed_11 (TimeD  (None, None, 44)          0         \n",
            " istributed)                                                     \n",
            "                                                                 \n",
            " gru_17 (GRU)                (None, None, 50)          14400     \n",
            "                                                                 \n",
            " gru_18 (GRU)                (None, None, 50)          15300     \n",
            "                                                                 \n",
            " dense_11 (Dense)            (None, None, 44)          2244      \n",
            "                                                                 \n",
            "=================================================================\n",
            "Total params: 31944 (124.78 KB)\n",
            "Trainable params: 31944 (124.78 KB)\n",
            "Non-trainable params: 0 (0.00 Byte)\n",
            "_________________________________________________________________\n"
          ]
        }
      ],
      "source": [
        "from keras.layers import GRU\n",
        "\n",
        "#El modelo que se propone como ejemplo consume los índices de los tokens y los transforma en vectores OHE (en este caso no entrenamos una capa de embedding para caracteres). Esa transformación se logra combinando las capas `CategoryEncoding` que transforma a índices a vectores OHE y `TimeDistributed` que aplica la capa a lo largo de la dimensión \"temporal\" de la secuencia.\n",
        "model = Sequential()\n",
        "\n",
        "# Una capa es recibir un indice y me permite sacara a la salida un vector OHE y TimeDistrinuted, es una capa que modifica \n",
        "#otras capas. A toda la capa la a aplicar a cada elemento de la secuencia, no era necesario hacerlo con la de embedding, \n",
        "#porque ya la tenía.\n",
        "# La idea es retocarlo.\n",
        "model.add(TimeDistributed(CategoryEncoding(num_tokens=vocab_size, output_mode = \"one_hot\"),input_shape=(None,1)))\n",
        "model.add(GRU(50, return_sequences=True, dropout=0.1, recurrent_dropout=0.1 ))\n",
        "model.add(GRU(50, return_sequences=True, dropout=0.1, recurrent_dropout=0.1 ))\n",
        "model.add(Dense(vocab_size, activation='softmax'))\n",
        "model.compile(loss='sparse_categorical_crossentropy', optimizer='rmsprop')\n",
        "\n",
        "model.summary()"
      ]
    },
    {
      "cell_type": "code",
      "execution_count": 140,
      "metadata": {},
      "outputs": [
        {
          "name": "stdout",
          "output_type": "stream",
          "text": [
            "Epoch 1/20\n"
          ]
        },
        {
          "name": "stderr",
          "output_type": "stream",
          "text": [
            "2024-08-12 01:40:39.185220: I tensorflow/core/grappler/optimizers/custom_graph_optimizer_registry.cc:114] Plugin optimizer for device_type GPU is enabled.\n"
          ]
        },
        {
          "name": "stdout",
          "output_type": "stream",
          "text": [
            "88/88 [==============================] - ETA: 0s - loss: 3.0427"
          ]
        },
        {
          "name": "stderr",
          "output_type": "stream",
          "text": [
            "2024-08-12 01:53:02.755563: I tensorflow/core/grappler/optimizers/custom_graph_optimizer_registry.cc:114] Plugin optimizer for device_type GPU is enabled.\n"
          ]
        },
        {
          "name": "stdout",
          "output_type": "stream",
          "text": [
            "\n",
            " mean perplexity: 16.742140648771226 \n",
            "\n",
            "INFO:tensorflow:Assets written to: my_model/assets\n"
          ]
        },
        {
          "name": "stderr",
          "output_type": "stream",
          "text": [
            "INFO:tensorflow:Assets written to: my_model/assets\n"
          ]
        },
        {
          "name": "stdout",
          "output_type": "stream",
          "text": [
            "Saved new model!\n",
            "88/88 [==============================] - 763s 9s/step - loss: 3.0427\n",
            "Epoch 2/20\n",
            "88/88 [==============================] - ETA: 0s - loss: 2.6539\n",
            " mean perplexity: 12.281756018525279 \n",
            "\n",
            "INFO:tensorflow:Assets written to: my_model/assets\n"
          ]
        },
        {
          "name": "stderr",
          "output_type": "stream",
          "text": [
            "INFO:tensorflow:Assets written to: my_model/assets\n"
          ]
        },
        {
          "name": "stdout",
          "output_type": "stream",
          "text": [
            "Saved new model!\n",
            "88/88 [==============================] - 775s 9s/step - loss: 2.6539\n",
            "Epoch 3/20\n",
            "88/88 [==============================] - ETA: 0s - loss: 2.4516 \n",
            " mean perplexity: 10.973381815418959 \n",
            "\n",
            "INFO:tensorflow:Assets written to: my_model/assets\n"
          ]
        },
        {
          "name": "stderr",
          "output_type": "stream",
          "text": [
            "INFO:tensorflow:Assets written to: my_model/assets\n"
          ]
        },
        {
          "name": "stdout",
          "output_type": "stream",
          "text": [
            "Saved new model!\n",
            "88/88 [==============================] - 2426s 28s/step - loss: 2.4516\n",
            "Epoch 4/20\n",
            "88/88 [==============================] - ETA: 0s - loss: 2.3237 \n",
            " mean perplexity: 10.561241043639923 \n",
            "\n",
            "INFO:tensorflow:Assets written to: my_model/assets\n"
          ]
        },
        {
          "name": "stderr",
          "output_type": "stream",
          "text": [
            "INFO:tensorflow:Assets written to: my_model/assets\n"
          ]
        },
        {
          "name": "stdout",
          "output_type": "stream",
          "text": [
            "Saved new model!\n",
            "88/88 [==============================] - 2129s 24s/step - loss: 2.3237\n",
            "Epoch 5/20\n",
            "88/88 [==============================] - ETA: 0s - loss: 2.2199\n",
            " mean perplexity: 9.863225760009994 \n",
            "\n",
            "INFO:tensorflow:Assets written to: my_model/assets\n"
          ]
        },
        {
          "name": "stderr",
          "output_type": "stream",
          "text": [
            "INFO:tensorflow:Assets written to: my_model/assets\n"
          ]
        },
        {
          "name": "stdout",
          "output_type": "stream",
          "text": [
            "Saved new model!\n",
            "88/88 [==============================] - 779s 9s/step - loss: 2.2199\n",
            "Epoch 6/20\n",
            "88/88 [==============================] - ETA: 0s - loss: 2.1384 \n",
            " mean perplexity: 9.409001906248049 \n",
            "\n",
            "INFO:tensorflow:Assets written to: my_model/assets\n"
          ]
        },
        {
          "name": "stderr",
          "output_type": "stream",
          "text": [
            "INFO:tensorflow:Assets written to: my_model/assets\n"
          ]
        },
        {
          "name": "stdout",
          "output_type": "stream",
          "text": [
            "Saved new model!\n",
            "88/88 [==============================] - 1704s 19s/step - loss: 2.1384\n",
            "Epoch 7/20\n",
            "88/88 [==============================] - ETA: 0s - loss: 2.0714\n",
            " mean perplexity: 9.043356689822216 \n",
            "\n",
            "INFO:tensorflow:Assets written to: my_model/assets\n"
          ]
        },
        {
          "name": "stderr",
          "output_type": "stream",
          "text": [
            "INFO:tensorflow:Assets written to: my_model/assets\n"
          ]
        },
        {
          "name": "stdout",
          "output_type": "stream",
          "text": [
            "Saved new model!\n",
            "88/88 [==============================] - 751s 9s/step - loss: 2.0714\n",
            "Epoch 8/20\n",
            "88/88 [==============================] - ETA: 0s - loss: 2.0205\n",
            " mean perplexity: 8.838873840909512 \n",
            "\n",
            "INFO:tensorflow:Assets written to: my_model/assets\n"
          ]
        },
        {
          "name": "stderr",
          "output_type": "stream",
          "text": [
            "INFO:tensorflow:Assets written to: my_model/assets\n"
          ]
        },
        {
          "name": "stdout",
          "output_type": "stream",
          "text": [
            "Saved new model!\n",
            "88/88 [==============================] - 837s 10s/step - loss: 2.0205\n",
            "Epoch 9/20\n",
            "88/88 [==============================] - ETA: 0s - loss: 1.9752\n",
            " mean perplexity: 8.382199148991736 \n",
            "\n",
            "INFO:tensorflow:Assets written to: my_model/assets\n"
          ]
        },
        {
          "name": "stderr",
          "output_type": "stream",
          "text": [
            "INFO:tensorflow:Assets written to: my_model/assets\n"
          ]
        },
        {
          "name": "stdout",
          "output_type": "stream",
          "text": [
            "Saved new model!\n",
            "88/88 [==============================] - 844s 10s/step - loss: 1.9752\n",
            "Epoch 10/20\n",
            "88/88 [==============================] - ETA: 0s - loss: 1.9378\n",
            " mean perplexity: 8.179095907609854 \n",
            "\n",
            "INFO:tensorflow:Assets written to: my_model/assets\n"
          ]
        },
        {
          "name": "stderr",
          "output_type": "stream",
          "text": [
            "INFO:tensorflow:Assets written to: my_model/assets\n"
          ]
        },
        {
          "name": "stdout",
          "output_type": "stream",
          "text": [
            "Saved new model!\n",
            "88/88 [==============================] - 850s 10s/step - loss: 1.9378\n",
            "Epoch 11/20\n",
            "88/88 [==============================] - ETA: 0s - loss: 1.9064\n",
            " mean perplexity: 8.180481607515691 \n",
            "\n",
            "88/88 [==============================] - 859s 10s/step - loss: 1.9064\n",
            "Epoch 12/20\n",
            "88/88 [==============================] - ETA: 0s - loss: 1.8783\n",
            " mean perplexity: 8.006481752568947 \n",
            "\n",
            "INFO:tensorflow:Assets written to: my_model/assets\n"
          ]
        },
        {
          "name": "stderr",
          "output_type": "stream",
          "text": [
            "INFO:tensorflow:Assets written to: my_model/assets\n"
          ]
        },
        {
          "name": "stdout",
          "output_type": "stream",
          "text": [
            "Saved new model!\n",
            "88/88 [==============================] - 855s 10s/step - loss: 1.8783\n",
            "Epoch 13/20\n",
            "88/88 [==============================] - ETA: 0s - loss: 1.8542\n",
            " mean perplexity: 7.800932671928521 \n",
            "\n",
            "INFO:tensorflow:Assets written to: my_model/assets\n"
          ]
        },
        {
          "name": "stderr",
          "output_type": "stream",
          "text": [
            "INFO:tensorflow:Assets written to: my_model/assets\n"
          ]
        },
        {
          "name": "stdout",
          "output_type": "stream",
          "text": [
            "Saved new model!\n",
            "88/88 [==============================] - 853s 10s/step - loss: 1.8542\n",
            "Epoch 14/20\n",
            "88/88 [==============================] - ETA: 0s - loss: 1.8340\n",
            " mean perplexity: 7.790020352582656 \n",
            "\n",
            "INFO:tensorflow:Assets written to: my_model/assets\n"
          ]
        },
        {
          "name": "stderr",
          "output_type": "stream",
          "text": [
            "INFO:tensorflow:Assets written to: my_model/assets\n"
          ]
        },
        {
          "name": "stdout",
          "output_type": "stream",
          "text": [
            "Saved new model!\n",
            "88/88 [==============================] - 843s 10s/step - loss: 1.8340\n",
            "Epoch 15/20\n",
            "88/88 [==============================] - ETA: 0s - loss: 1.8140\n",
            " mean perplexity: 8.053140156690262 \n",
            "\n",
            "88/88 [==============================] - 846s 10s/step - loss: 1.8140\n",
            "Epoch 16/20\n",
            "88/88 [==============================] - ETA: 0s - loss: 1.7965\n",
            " mean perplexity: 7.7764298832772925 \n",
            "\n",
            "INFO:tensorflow:Assets written to: my_model/assets\n"
          ]
        },
        {
          "name": "stderr",
          "output_type": "stream",
          "text": [
            "INFO:tensorflow:Assets written to: my_model/assets\n"
          ]
        },
        {
          "name": "stdout",
          "output_type": "stream",
          "text": [
            "Saved new model!\n",
            "88/88 [==============================] - 843s 10s/step - loss: 1.7965\n",
            "Epoch 17/20\n",
            "88/88 [==============================] - ETA: 0s - loss: 1.7809\n",
            " mean perplexity: 7.571376363246052 \n",
            "\n",
            "INFO:tensorflow:Assets written to: my_model/assets\n"
          ]
        },
        {
          "name": "stderr",
          "output_type": "stream",
          "text": [
            "INFO:tensorflow:Assets written to: my_model/assets\n"
          ]
        },
        {
          "name": "stdout",
          "output_type": "stream",
          "text": [
            "Saved new model!\n",
            "88/88 [==============================] - 829s 9s/step - loss: 1.7809\n",
            "Epoch 18/20\n",
            "88/88 [==============================] - ETA: 0s - loss: 1.7682\n",
            " mean perplexity: 7.338908894154405 \n",
            "\n",
            "INFO:tensorflow:Assets written to: my_model/assets\n"
          ]
        },
        {
          "name": "stderr",
          "output_type": "stream",
          "text": [
            "INFO:tensorflow:Assets written to: my_model/assets\n"
          ]
        },
        {
          "name": "stdout",
          "output_type": "stream",
          "text": [
            "Saved new model!\n",
            "88/88 [==============================] - 829s 9s/step - loss: 1.7682\n",
            "Epoch 19/20\n",
            "88/88 [==============================] - ETA: 0s - loss: 1.7529\n",
            " mean perplexity: 7.490832237755292 \n",
            "\n",
            "88/88 [==============================] - 841s 10s/step - loss: 1.7529\n",
            "Epoch 20/20\n",
            "88/88 [==============================] - ETA: 0s - loss: 1.7422\n",
            " mean perplexity: 7.493324680995947 \n",
            "\n",
            "88/88 [==============================] - 704s 8s/step - loss: 1.7422\n"
          ]
        }
      ],
      "source": [
        "# fiteamos, nótese el agregado del callback con su inicialización. El batch_size lo podemos seleccionar a mano\n",
        "# en general, lo mejor es escoger el batch más grande posible que minimice el tiempo de cada época.\n",
        "# En la variable `history_ppl` se guardarán los valores de perplejidad para cada época.\n",
        "history_ppl = []\n",
        "hist_3 = model.fit(X, y, epochs=20, callbacks=[PplCallback(tokenized_sentences_val,history_ppl)], batch_size=256)"
      ]
    },
    {
      "cell_type": "code",
      "execution_count": 141,
      "metadata": {},
      "outputs": [
        {
          "data": {
            "image/png": "[encoded data removed]",
            "text/plain": [
              "<Figure size 640x480 with 1 Axes>"
            ]
          },
          "metadata": {},
          "output_type": "display_data"
        }
      ],
      "source": [
        "import matplotlib.pyplot as plt\n",
        "import seaborn as sns\n",
        "\n",
        "# Entrenamiento\n",
        "epoch_count = range(1, len(history_ppl) + 1)\n",
        "sns.lineplot(x=epoch_count,  y=history_ppl)\n",
        "plt.show()"
      ]
    },
    {
      "cell_type": "code",
      "execution_count": 142,
      "metadata": {},
      "outputs": [
        {
          "name": "stdout",
          "output_type": "stream",
          "text": [
            "WARNING:tensorflow:Layer gru_17 will not use cuDNN kernels since it doesn't meet the criteria. It will use a generic GPU kernel as fallback when running on GPU.\n"
          ]
        },
        {
          "name": "stderr",
          "output_type": "stream",
          "text": [
            "WARNING:tensorflow:Layer gru_17 will not use cuDNN kernels since it doesn't meet the criteria. It will use a generic GPU kernel as fallback when running on GPU.\n"
          ]
        },
        {
          "name": "stdout",
          "output_type": "stream",
          "text": [
            "WARNING:tensorflow:Layer gru_18 will not use cuDNN kernels since it doesn't meet the criteria. It will use a generic GPU kernel as fallback when running on GPU.\n"
          ]
        },
        {
          "name": "stderr",
          "output_type": "stream",
          "text": [
            "WARNING:tensorflow:Layer gru_18 will not use cuDNN kernels since it doesn't meet the criteria. It will use a generic GPU kernel as fallback when running on GPU.\n"
          ]
        }
      ],
      "source": [
        "# Cargamos el mejor modelo guardado del entrenamiento para hacer inferencia\n",
        "model_3 = keras.models.load_model('my_model')"
      ]
    },
    {
      "cell_type": "markdown",
      "metadata": {},
      "source": [
        "#### Generación de secuencias"
      ]
    },
    {
      "cell_type": "code",
      "execution_count": 143,
      "metadata": {},
      "outputs": [
        {
          "name": "stderr",
          "output_type": "stream",
          "text": [
            "2024-08-12 07:16:35.588198: I tensorflow/core/grappler/optimizers/custom_graph_optimizer_registry.cc:114] Plugin optimizer for device_type GPU is enabled.\n"
          ]
        },
        {
          "data": {
            "text/plain": [
              "'Instead, the Grand Envoy of the Orzhov leaned forward, she could and the living a co'"
            ]
          },
          "execution_count": 143,
          "metadata": {},
          "output_type": "execute_result"
        }
      ],
      "source": [
        "input_text= 'Instead, the Grand Envoy of the Orzhov leaned forward,'#'Teysa Karlov had spent another full day '\n",
        "\n",
        "generate_seq(model_3, input_text, max_length=max_context_size, n_words=30)"
      ]
    },
    {
      "cell_type": "markdown",
      "metadata": {},
      "source": [
        "#### Beam search"
      ]
    },
    {
      "cell_type": "code",
      "execution_count": 144,
      "metadata": {},
      "outputs": [],
      "source": [
        "# funcionalidades para hacer encoding y decoding\n",
        "\n",
        "def encode(text,max_length=max_context_size):\n",
        "\n",
        "    encoded = [char2idx[ch] for ch in text]\n",
        "    encoded = pad_sequences([encoded], maxlen=max_length, padding='pre')\n",
        "\n",
        "    return encoded\n",
        "\n",
        "def decode(seq):\n",
        "    #return ''.join([idx2char[ch] for ch in seq])\n",
        "    return ''.join([idx2char[ch] for ch in seq if ch != 0])"
      ]
    },
    {
      "cell_type": "code",
      "execution_count": 145,
      "metadata": {},
      "outputs": [
        {
          "data": {
            "text/plain": [
              "(5, 125)"
            ]
          },
          "execution_count": 145,
          "metadata": {},
          "output_type": "execute_result"
        }
      ],
      "source": [
        "# tenemos `num_beams` salidas ordenadas de mayor a menor likelihood\n",
        "salidas.shape"
      ]
    },
    {
      "cell_type": "code",
      "execution_count": 146,
      "metadata": {},
      "outputs": [
        {
          "name": "stdout",
          "output_type": "stream",
          "text": [
            "teysa karov is a formidabe force in the courts of the with a becores of tp\n",
            "teysa karov is a formidabe force in the courts of the with a becores of sh\n",
            "teysa karov is a formidabe force in the courts of the with a becores of sn\n",
            "teysa karov is a formidabe force in the courts of the with a becores of st\n",
            "teysa karov is a formidabe force in the courts of the with a becores of th\n"
          ]
        }
      ],
      "source": [
        "# veamos las salidas\n",
        "for i in range(salidas.shape[0]):\n",
        "    print(decode(salidas[i]))"
      ]
    },
    {
      "cell_type": "markdown",
      "metadata": {},
      "source": [
        "Modelo GRU (2 capas de 50 cada una y tamaño de contexto de 50):\n",
        "\n",
        "Se observa que la curva de perplexity disminuye epoch a epoch\n",
        "\n",
        "La generación de secuencia muestra algo con sentido aprendido del corpus.\n",
        "\n",
        "El beam search muestra diferentes opciones con sentido."
      ]
    }
  ],
  "metadata": {
    "accelerator": "GPU",
    "colab": {
      "gpuType": "T4",
      "provenance": []
    },
    "kernelspec": {
      "display_name": "Python 3",
      "language": "python",
      "name": "python3"
    },
    "language_info": {
      "codemirror_mode": {
        "name": "ipython",
        "version": 3
      },
      "file_extension": ".py",
      "mimetype": "text/x-python",
      "name": "python",
      "nbconvert_exporter": "python",
      "pygments_lexer": "ipython3",
      "version": "3.8.16"
    }
  },
  "nbformat": 4,
  "nbformat_minor": 0
}
