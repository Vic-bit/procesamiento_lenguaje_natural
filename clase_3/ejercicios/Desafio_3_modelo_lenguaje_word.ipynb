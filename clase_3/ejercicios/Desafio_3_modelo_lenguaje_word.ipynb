{
 "cells": [
  {
   "cell_type": "markdown",
   "metadata": {
    "id": "g3yeJGnCYxuF"
   },
   "source": [
    "<img src=\"https://github.com/hernancontigiani/ceia_memorias_especializacion/raw/master/Figures/logoFIUBA.jpg\" width=\"500\" align=\"center\">\n",
    "\n",
    "\n",
    "# Procesamiento de lenguaje natural\n",
    "## Modelo de lenguaje con tokenización por palabras"
   ]
  },
  {
   "cell_type": "markdown",
   "metadata": {},
   "source": [
    "### Datos del alumno:\n",
    "\n",
    "- Alumno: Víctor David Silva\n",
    "- Cohorte: 14\n",
    "- Corpus: letras de los discos de Linkin Park."
   ]
  },
  {
   "cell_type": "markdown",
   "metadata": {
    "id": "Iv5PEwGzZA9-"
   },
   "source": [
    "### Consigna\n",
    "- Seleccionar un corpus de texto sobre el cual entrenar el modelo de lenguaje.\n",
    "- Realizar el pre-procesamiento adecuado para tokenizar el corpus, estructurar el dataset y separar entre datos de entrenamiento y validación.\n",
    "- Proponer arquitecturas de redes neuronales basadas en unidades recurrentes para implementar un modelo de lenguaje.\n",
    "- Con el o los modelos que consideren adecuados, generar nuevas secuencias a partir de secuencias de contexto con las estrategias de greedy search y beam search determístico y estocástico. En este último caso observar el efecto de la temperatura en la generación de secuencias.\n",
    "\n",
    "\n",
    "### Sugerencias\n",
    "- Durante el entrenamiento, guiarse por el descenso de la perplejidad en los datos de validación para finalizar el entrenamiento. Para ello se provee un callback.\n",
    "- Explorar utilizar SimpleRNN (celda de Elman), LSTM y GRU.\n",
    "- rmsprop es el optimizador recomendado para la buena convergencia. No obstante se pueden explorar otros.\n"
   ]
  },
  {
   "cell_type": "code",
   "execution_count": 39,
   "metadata": {
    "id": "Y-QdFbHZYj7C"
   },
   "outputs": [],
   "source": [
    "import random\n",
    "import io\n",
    "import pickle\n",
    "\n",
    "import numpy as np\n",
    "import pandas as pd\n",
    "import matplotlib.pyplot as plt\n",
    "from sklearn.model_selection import train_test_split\n",
    "\n",
    "#import tensorflow as tf\n",
    "from tensorflow import keras\n",
    "from tensorflow.keras import layers\n",
    "from keras.utils import to_categorical\n",
    "from keras.models import Sequential\n",
    "from keras.layers import Dense, LSTM, Embedding, Dropout\n",
    "from tensorflow.keras.losses import SparseCategoricalCrossentropy\n",
    "from tensorflow.keras.layers import Embedding, LSTM, Dense, Dropout, Bidirectional, SimpleRNN\n",
    "import matplotlib.pyplot as plt\n",
    "import seaborn as sns\n",
    "\n",
    "from scipy.special import softmax\n"
   ]
  },
  {
   "cell_type": "code",
   "execution_count": 40,
   "metadata": {},
   "outputs": [
    {
     "name": "stdout",
     "output_type": "stream",
     "text": [
      "TensorFlow has access to the following devices:\n",
      "[PhysicalDevice(name='/physical_device:CPU:0', device_type='CPU'), PhysicalDevice(name='/physical_device:GPU:0', device_type='GPU')]\n",
      "TensorFlow version: 2.13.0\n"
     ]
    }
   ],
   "source": [
    "import tensorflow as tf\n",
    "\n",
    "# Check for TensorFlow GPU access\n",
    "print(f\"TensorFlow has access to the following devices:\\n{tf.config.list_physical_devices()}\")\n",
    "\n",
    "# See TensorFlow version\n",
    "print(f\"TensorFlow version: {tf.__version__}\")"
   ]
  },
  {
   "cell_type": "markdown",
   "metadata": {
    "id": "xTvXlEKQZdqx"
   },
   "source": [
    "### Datos\n",
    "Como ejemplo se utilizará como corpus un dataset canciones de bandas de habla inglés."
   ]
  },
  {
   "cell_type": "code",
   "execution_count": 41,
   "metadata": {},
   "outputs": [
    {
     "name": "stdout",
     "output_type": "stream",
     "text": [
      "                              Sentence\n",
      "0                             Papercut\n",
      "1              [Verse 1: Mike Shinoda]\n",
      "2   Why does it feel like night today?\n",
      "3  Something in here's not right today\n",
      "4           Why am I so uptight today?\n"
     ]
    }
   ],
   "source": [
    "# Leer el archivo de texto completo\n",
    "with open('ALL_LP_lyrics.txt', 'r', encoding='utf-8') as file:\n",
    "    text = file.read()\n",
    "\n",
    "# Dividir el texto en oraciones utilizando el punto como separador\n",
    "sentences = text.split('\\n')\n",
    "\n",
    "# Crear un DataFrame a partir de la lista de oraciones\n",
    "df = pd.DataFrame(sentences, columns=['Sentence'])\n",
    "\n",
    "# Mostrar las primeras filas del DataFrame\n",
    "print(df.head())"
   ]
  },
  {
   "cell_type": "code",
   "execution_count": 42,
   "metadata": {},
   "outputs": [
    {
     "data": {
      "text/plain": [
       "'\\nn = 7500  # Cambia este número según cuántas filas quieras seleccionar\\ndf_sample = df.head(n)\\n\\nstart_row = 0   # Índice de la fila inicial\\nend_row = 7500  # Índice de la fila final (exclusivo)\\n\\ndf = df.iloc[start_row:end_row]\\n'"
      ]
     },
     "execution_count": 42,
     "metadata": {},
     "output_type": "execute_result"
    }
   ],
   "source": [
    "'''\n",
    "n = 7500  # Cambia este número según cuántas filas quieras seleccionar\n",
    "df_sample = df.head(n)\n",
    "\n",
    "start_row = 0   # Índice de la fila inicial\n",
    "end_row = 7500  # Índice de la fila final (exclusivo)\n",
    "\n",
    "df = df.iloc[start_row:end_row]\n",
    "'''"
   ]
  },
  {
   "cell_type": "markdown",
   "metadata": {
    "id": "VeMpWpiyG5Ya"
   },
   "source": [
    "Consideraremos que cada secuencia para este dataset es un verso.\n",
    "\n",
    "Una de las primeras decisiones que hay que tomar es el tamaño de contexto de tokens máximo que puede consumir el modelo. Este podría ser un hiperparámetro del problema.\n",
    "\n",
    "Para elegir el tamaño de contexto máximo para este problema se puede explorar el dataset, para ello:\n",
    "- se consideran las palabras como términos.\n",
    "- se segmentará el texto de todos los versos del dataset y ses explorará la cantidad de términos presentes.\n",
    "\n"
   ]
  },
  {
   "cell_type": "code",
   "execution_count": 43,
   "metadata": {
    "id": "riT898QlZnmF"
   },
   "outputs": [
    {
     "name": "stdout",
     "output_type": "stream",
     "text": [
      "Cantidad de documentos: 5384\n"
     ]
    }
   ],
   "source": [
    "print(\"Cantidad de documentos:\", df.shape[0])"
   ]
  },
  {
   "cell_type": "markdown",
   "metadata": {
    "id": "cP1JdiOIKQWi"
   },
   "source": [
    "### Elegir el tamaño del contexto"
   ]
  },
  {
   "cell_type": "code",
   "execution_count": 44,
   "metadata": {
    "id": "m5FeTaGvbDbw"
   },
   "outputs": [],
   "source": [
    "# Usaremos las utilidades de procesamiento de textos y secuencias de Keras\n",
    "from tensorflow.keras.preprocessing.text import Tokenizer # equivalente a ltokenizer de nltk\n",
    "from tensorflow.keras.preprocessing.text import text_to_word_sequence # equivalente a word_tokenize de nltk\n",
    "from tensorflow.keras.utils import pad_sequences # se utilizará para padding, para rellenar secuencias a un tamaño máximo, todo el tensor queda definido y se puede pasar a la gpu \n"
   ]
  },
  {
   "cell_type": "code",
   "execution_count": 45,
   "metadata": {
    "id": "jveeyMVKHn9J"
   },
   "outputs": [],
   "source": [
    "# cada verso lo guardamos en una lista\n",
    "#text = list(df.loc[:,0])\n",
    "#text\n",
    "\n",
    "# Cada verso lo guardamos en una lista\n",
    "text = list(df['Sentence'])\n",
    "#print(text)"
   ]
  },
  {
   "cell_type": "code",
   "execution_count": 46,
   "metadata": {
    "id": "CMu9CX34J8RQ"
   },
   "outputs": [],
   "source": [
    "# segmentamos el texto con la utilidad de Keras\n",
    "segmented_sentences = [text_to_word_sequence(sentence) for sentence in text]"
   ]
  },
  {
   "cell_type": "code",
   "execution_count": 47,
   "metadata": {
    "id": "neCJEVNvkkjE"
   },
   "outputs": [
    {
     "data": {
      "text/plain": [
       "'Why am I so uptight today?'"
      ]
     },
     "execution_count": 47,
     "metadata": {},
     "output_type": "execute_result"
    }
   ],
   "source": [
    "text[4]"
   ]
  },
  {
   "cell_type": "code",
   "execution_count": 48,
   "metadata": {
    "id": "duxuc-DVkcpP"
   },
   "outputs": [
    {
     "data": {
      "text/plain": [
       "['why', 'am', 'i', 'so', 'uptight', 'today']"
      ]
     },
     "execution_count": 48,
     "metadata": {},
     "output_type": "execute_result"
    }
   ],
   "source": [
    "segmented_sentences[4]"
   ]
  },
  {
   "cell_type": "code",
   "execution_count": 49,
   "metadata": {
    "id": "x35rV7QZH49n"
   },
   "outputs": [],
   "source": [
    "# calculamos la longitud de cada secuencia\n",
    "length_sentences = [len(sentence) for sentence in segmented_sentences]"
   ]
  },
  {
   "cell_type": "code",
   "execution_count": 50,
   "metadata": {
    "id": "R8P8vDXRII4c"
   },
   "outputs": [
    {
     "data": {
      "text/plain": [
       "(array([4.241e+03, 1.128e+03, 1.100e+01, 0.000e+00, 1.000e+00, 1.000e+00,\n",
       "        0.000e+00, 0.000e+00, 0.000e+00, 1.000e+00, 0.000e+00, 0.000e+00,\n",
       "        0.000e+00, 0.000e+00, 0.000e+00, 0.000e+00, 0.000e+00, 0.000e+00,\n",
       "        0.000e+00, 1.000e+00]),\n",
       " array([  0.,   9.,  18.,  27.,  36.,  45.,  54.,  63.,  72.,  81.,  90.,\n",
       "         99., 108., 117., 126., 135., 144., 153., 162., 171., 180.]),\n",
       " <BarContainer object of 20 artists>)"
      ]
     },
     "execution_count": 50,
     "metadata": {},
     "output_type": "execute_result"
    },
    {
     "data": {
      "image/png": "[encoded data removed]",
      "text/plain": [
       "<Figure size 640x480 with 1 Axes>"
      ]
     },
     "metadata": {},
     "output_type": "display_data"
    }
   ],
   "source": [
    "# podemos ver su distribución\n",
    "plt.hist(length_sentences,bins=20)"
   ]
  },
  {
   "cell_type": "code",
   "execution_count": 51,
   "metadata": {
    "id": "wumBNwdjJM3j"
   },
   "outputs": [
    {
     "name": "stdout",
     "output_type": "stream",
     "text": [
      "max_context_size: 9\n"
     ]
    }
   ],
   "source": [
    "# a partir de la distribución de longitudes de secuencias elegimos algún criterio\n",
    "# para determinar el máximo tamaño de contexto. En este caso es un percentil, pero\n",
    "# otros criterios también pueden ser válidos con la justificación adecuada.\n",
    "# También puede ser una selección \"a mano\"\n",
    "\n",
    "# el -1 es porque el último token será el target\n",
    "max_context_size = int(np.percentile(length_sentences, 90)-1)\n",
    "\n",
    "# max_context_size = int(np.ceil(np.mean(length_sentences))) # criterio de media\n",
    "# max_context_size = int(np.ceil(np.median(length_sentences))) # criterio de mediana\n",
    "print(f'max_context_size: {max_context_size}')"
   ]
  },
  {
   "cell_type": "markdown",
   "metadata": {
    "id": "2oIUjVU0LB0r"
   },
   "source": [
    "###  Tokenizar"
   ]
  },
  {
   "cell_type": "code",
   "execution_count": 52,
   "metadata": {
    "id": "_XKQIpRiLNbg"
   },
   "outputs": [],
   "source": [
    "# instanciamos el tokenizador\n",
    "tok = Tokenizer()\n",
    "\n",
    "# El tokenizer \"aprende\" las palabras que se usaran\n",
    "# Se construye (fit) una vez por proyecto, se aplica N veces (tal cual un encoder)\n",
    "# El token 0 es reservado y no es asignado. Se utiliza para designar a palabras\n",
    "# fuera del vocabulario aprendido\n",
    "tok.fit_on_texts(segmented_sentences)\n",
    "\n",
    "# Convertimos las palabras a números\n",
    "# entran palabras -> salen números\n",
    "tokenized_sentences = tok.texts_to_sequences(segmented_sentences)"
   ]
  },
  {
   "cell_type": "code",
   "execution_count": 53,
   "metadata": {
    "id": "AK2wfHyslrTz"
   },
   "outputs": [
    {
     "data": {
      "text/plain": [
       "[1369]"
      ]
     },
     "execution_count": 53,
     "metadata": {},
     "output_type": "execute_result"
    }
   ],
   "source": [
    "tokenized_sentences[0]"
   ]
  },
  {
   "cell_type": "code",
   "execution_count": 54,
   "metadata": {
    "id": "s-93u9lxlwlP"
   },
   "outputs": [
    {
     "data": {
      "text/plain": [
       "['papercut']"
      ]
     },
     "execution_count": 54,
     "metadata": {},
     "output_type": "execute_result"
    }
   ],
   "source": [
    "segmented_sentences[0]"
   ]
  },
  {
   "cell_type": "markdown",
   "metadata": {
    "id": "pfpYcaypKcI9"
   },
   "source": [
    "### Organizando y estructurando el dataset"
   ]
  },
  {
   "cell_type": "markdown",
   "metadata": {
    "id": "l3iPTx-UJl6r"
   },
   "source": [
    "En este punto tenemos en la variable `tokenized_sentences` los versos tokenizados. Vamos a quedarnos con un conjunto de validación que utilizaremos para medir la calidad de la generación de secuencias con la métrica de Perplejidad."
   ]
  },
  {
   "cell_type": "code",
   "execution_count": 55,
   "metadata": {
    "id": "cSeqVGyV_wz5"
   },
   "outputs": [],
   "source": [
    "tokenized_sentences_train, tokenized_sentences_val, _, _ = train_test_split(tokenized_sentences, tokenized_sentences, test_size=0.2, random_state=42)"
   ]
  },
  {
   "cell_type": "markdown",
   "metadata": {
    "id": "gmsoPbV6LxcW"
   },
   "source": [
    "\\Vamos a splitear las oraciones que tienen tamaño mayor al contexto máximo, para generarnos más secuencias de entrenamiento. Este paso puede obviarse si el tamaño de contexto máximo es muy grande.\n",
    "\n",
    "Por ejemplo, si tenemos el texto *La bella y graciosa moza marchóse a lavar la ropa* y nuestro contexto es de 5 palabras, tendremos:\n",
    "\n",
    "- *La bella y graciosa moza*\n",
    "- *bella y graciosa moza marchóse*\n",
    "- *y graciosa moza marchóse a*\n",
    "- *graciosa moza marchóse a lavar*\n",
    "- *moza marchóse a lavar la*\n",
    "- *marchóse a lavar la ropa*"
   ]
  },
  {
   "cell_type": "code",
   "execution_count": 56,
   "metadata": {
    "id": "E5BPO4qPPnNR"
   },
   "outputs": [],
   "source": [
    "tok_sent = []\n",
    "\n",
    "for sent in tokenized_sentences_train:\n",
    "\n",
    "  # si la secuencia tiene más términos que el tamaño de contexto máximo,\n",
    "  # armo varias sub-secuencias de tamaño máximo\n",
    "  if len(sent) > (max_context_size+1):\n",
    "    extra = len(sent)-(max_context_size+1) + 1\n",
    "    for i in range(extra):\n",
    "      tok_sent.append(sent[i:i+max_context_size+1])\n",
    "  else: # si la secuencia tiene menos términos el tamaño de contexto máximo, dejo la secuencia como está\n",
    "    tok_sent.append(sent)\n"
   ]
  },
  {
   "cell_type": "code",
   "execution_count": 57,
   "metadata": {
    "id": "RiEt0AAz_64v"
   },
   "outputs": [
    {
     "data": {
      "text/plain": [
       "5223"
      ]
     },
     "execution_count": 57,
     "metadata": {},
     "output_type": "execute_result"
    }
   ],
   "source": [
    "len(tok_sent)"
   ]
  },
  {
   "cell_type": "markdown",
   "metadata": {
    "id": "QnwSC7A_LWfd"
   },
   "source": [
    "Ahora aumentamos los datos aprovechando que de una secuencia grande se pueden generar varias más pequeñas:\n",
    "\n",
    "- *La hermosa casa en el prado*\n",
    "- *La hermosa*\n",
    "- *La hermosa casa*\n",
    "- *La hermosa casa en*\n",
    "- *La hermosa casa en el*\n",
    "- *La hermosa casa en el prado*"
   ]
  },
  {
   "cell_type": "code",
   "execution_count": 58,
   "metadata": {
    "id": "lWdhVV04htki"
   },
   "outputs": [],
   "source": [
    "tok_sent_augm = []\n",
    "\n",
    "for sent in tok_sent:\n",
    "\n",
    "  # generamos todas las sub-secuencias\n",
    "  subseq = [sent[:i+2] for i in range(len(sent)-1)]\n",
    "  # en esta línea paddeamos al tamaño de contexto máximo, el +1 es porque es many to many y se porque vamos a predecir un valor\n",
    "  tok_sent_augm.append(pad_sequences(subseq, maxlen=max_context_size+1, padding='pre'))\n"
   ]
  },
  {
   "cell_type": "code",
   "execution_count": 59,
   "metadata": {
    "id": "THXXBya1tnZ8"
   },
   "outputs": [],
   "source": [
    "# finalmente concatenamos todas las secuencias en un único array de numpy\n",
    "train_seqs = np.concatenate(tok_sent_augm, axis=0)"
   ]
  },
  {
   "cell_type": "code",
   "execution_count": 60,
   "metadata": {
    "id": "o5Uiflnwt10J"
   },
   "outputs": [
    {
     "data": {
      "text/plain": [
       "(27323, 10)"
      ]
     },
     "execution_count": 60,
     "metadata": {},
     "output_type": "execute_result"
    }
   ],
   "source": [
    "train_seqs.shape\n",
    "#Quedan 10737 textos de tamaño 21"
   ]
  },
  {
   "cell_type": "code",
   "execution_count": 61,
   "metadata": {
    "id": "yprwJHiMBQIS"
   },
   "outputs": [],
   "source": [
    "# y de aquí sacamos las entradas y los targets que consumirá nuestro sistema en\n",
    "# tiempo de entrenamiento\n",
    "X = train_seqs[:,:-1]\n",
    "y = train_seqs[:,1:]"
   ]
  },
  {
   "cell_type": "markdown",
   "metadata": {
    "id": "YxuKNI05Ttct"
   },
   "source": [
    "Nótese que estamos estructurando el problema de aprendizaje como *many-to-many*:\n",
    "\n",
    "Entrada: secuencia de tokens [$x_0$, $x_1$, ..., $x_N$]\n",
    "\n",
    "Target: secuencia de tokens [$x_1$, $x_2$, ..., $x_{N+1}$]\n",
    "\n",
    "De manera que la red tiene que aprender que su salida deben ser los tokens desplazados en una posición y un nuevo token predicho (el N+1).\n",
    "\n",
    "La ventaja de estructurar el aprendizaje de esta manera es que para cada token de target se propaga una señal de gradiente por el grafo de cómputo recurrente, que es mejor que estructurar el problema como *many-to-one* en donde sólo una señal de gradiente se propaga."
   ]
  },
  {
   "cell_type": "code",
   "execution_count": 62,
   "metadata": {
    "id": "KFAyA4zCWE-5"
   },
   "outputs": [
    {
     "data": {
      "text/plain": [
       "(27323, 9)"
      ]
     },
     "execution_count": 62,
     "metadata": {},
     "output_type": "execute_result"
    }
   ],
   "source": [
    "y.shape"
   ]
  },
  {
   "cell_type": "code",
   "execution_count": 63,
   "metadata": {
    "id": "1D9ESMGyB_QD"
   },
   "outputs": [
    {
     "data": {
      "text/plain": [
       "{1: 'the',\n",
       " 2: 'i',\n",
       " 3: 'you',\n",
       " 4: 'to',\n",
       " 5: 'and',\n",
       " 6: 'me',\n",
       " 7: 'of',\n",
       " 8: 'in',\n",
       " 9: 'chorus',\n",
       " 10: 'it',\n",
       " 11: 'chester',\n",
       " 12: 'bennington',\n",
       " 13: 'my',\n",
       " 14: 'a',\n",
       " 15: 'all',\n",
       " 16: 'be',\n",
       " 17: \"i'm\",\n",
       " 18: 'that',\n",
       " 19: 'your',\n",
       " 20: 'mike',\n",
       " 21: 'shinoda',\n",
       " 22: 'what',\n",
       " 23: 'oh',\n",
       " 24: 'so',\n",
       " 25: 'is',\n",
       " 26: 'verse',\n",
       " 27: \"don't\",\n",
       " 28: 'away',\n",
       " 29: 'on',\n",
       " 30: 'but',\n",
       " 31: 'for',\n",
       " 32: 'no',\n",
       " 33: 'this',\n",
       " 34: 'back',\n",
       " 35: 'like',\n",
       " 36: \"it's\",\n",
       " 37: 'up',\n",
       " 38: 'down',\n",
       " 39: 'now',\n",
       " 40: 'ah',\n",
       " 41: 'know',\n",
       " 42: 'with',\n",
       " 43: \"can't\",\n",
       " 44: 'let',\n",
       " 45: 'wanna',\n",
       " 46: 'just',\n",
       " 47: 'when',\n",
       " 48: 'say',\n",
       " 49: 'out',\n",
       " 50: 'one',\n",
       " 51: 'go',\n",
       " 52: 'we',\n",
       " 53: \"you're\",\n",
       " 54: 'not',\n",
       " 55: \"i've\",\n",
       " 56: 'never',\n",
       " 57: 'na',\n",
       " 58: 'myself',\n",
       " 59: 'pre',\n",
       " 60: '1',\n",
       " 61: '2',\n",
       " 62: 'from',\n",
       " 63: 'take',\n",
       " 64: 'see',\n",
       " 65: 'was',\n",
       " 66: 'time',\n",
       " 67: 'give',\n",
       " 68: 'inside',\n",
       " 69: 'got',\n",
       " 70: 'have',\n",
       " 71: 'can',\n",
       " 72: 'will',\n",
       " 73: \"you've\",\n",
       " 74: 'more',\n",
       " 75: 'come',\n",
       " 76: 'do',\n",
       " 77: 'right',\n",
       " 78: 'they',\n",
       " 79: 'if',\n",
       " 80: 'how',\n",
       " 81: 'want',\n",
       " 82: 'at',\n",
       " 83: \"'cause\",\n",
       " 84: 'way',\n",
       " 85: 'there',\n",
       " 86: 'fall',\n",
       " 87: \"i'll\",\n",
       " 88: 'get',\n",
       " 89: 'feel',\n",
       " 90: 'bridge',\n",
       " 91: 'are',\n",
       " 92: 'ooh',\n",
       " 93: 'everything',\n",
       " 94: 'every',\n",
       " 95: 'again',\n",
       " 96: 'things',\n",
       " 97: 'run',\n",
       " 98: 'gone',\n",
       " 99: 'pain',\n",
       " 100: \"there's\",\n",
       " 101: 'why',\n",
       " 102: 'end',\n",
       " 103: 'outro',\n",
       " 104: 'alone',\n",
       " 105: 'too',\n",
       " 106: 'eh',\n",
       " 107: 'find',\n",
       " 108: 'as',\n",
       " 109: 'face',\n",
       " 110: \"won't\",\n",
       " 111: 'fear',\n",
       " 112: 'then',\n",
       " 113: 'try',\n",
       " 114: 'would',\n",
       " 115: 'left',\n",
       " 116: 'little',\n",
       " 117: 'wrong',\n",
       " 118: 'far',\n",
       " 119: 'day',\n",
       " 120: 'tell',\n",
       " 121: 'same',\n",
       " 122: 'our',\n",
       " 123: 'goodbye',\n",
       " 124: 'mind',\n",
       " 125: 'us',\n",
       " 126: 'said',\n",
       " 127: 'turn',\n",
       " 128: \"you'll\",\n",
       " 129: 'through',\n",
       " 130: 'live',\n",
       " 131: 'been',\n",
       " 132: 'gonna',\n",
       " 133: 'lost',\n",
       " 134: 'into',\n",
       " 135: 'could',\n",
       " 136: 'put',\n",
       " 137: 'even',\n",
       " 138: 'lies',\n",
       " 139: 'world',\n",
       " 140: 'these',\n",
       " 141: 'about',\n",
       " 142: 'need',\n",
       " 143: 'who',\n",
       " 144: 'yeah',\n",
       " 145: 'or',\n",
       " 146: 'hold',\n",
       " 147: 'before',\n",
       " 148: 'make',\n",
       " 149: 'were',\n",
       " 150: 'lose',\n",
       " 151: 'holding',\n",
       " 152: 'always',\n",
       " 153: 'something',\n",
       " 154: 'here',\n",
       " 155: 'light',\n",
       " 156: 'break',\n",
       " 157: 'nothing',\n",
       " 158: 'by',\n",
       " 159: 'think',\n",
       " 160: 'than',\n",
       " 161: 'only',\n",
       " 162: 'until',\n",
       " 163: 'done',\n",
       " 164: 'someone',\n",
       " 165: 'people',\n",
       " 166: 'thought',\n",
       " 167: \"what's\",\n",
       " 168: 'stop',\n",
       " 169: 'sun',\n",
       " 170: 'intro',\n",
       " 171: 'look',\n",
       " 172: 'sick',\n",
       " 173: 'darkness',\n",
       " 174: 'blame',\n",
       " 175: 'where',\n",
       " 176: 'today',\n",
       " 177: 'eyes',\n",
       " 178: 'skin',\n",
       " 179: 'life',\n",
       " 180: 'much',\n",
       " 181: 'heart',\n",
       " 182: 'has',\n",
       " 183: 'keep',\n",
       " 184: 'held',\n",
       " 185: 'throw',\n",
       " 186: 'words',\n",
       " 187: 'own',\n",
       " 188: 'truth',\n",
       " 189: \"'em\",\n",
       " 190: 'place',\n",
       " 191: 'become',\n",
       " 192: 'side',\n",
       " 193: 'invisible',\n",
       " 194: 'real',\n",
       " 195: \"we're\",\n",
       " 196: 'mine',\n",
       " 197: 'made',\n",
       " 198: 'an',\n",
       " 199: 'else',\n",
       " 200: \"'til\",\n",
       " 201: 'did',\n",
       " 202: 'head',\n",
       " 203: 'goes',\n",
       " 204: 'upon',\n",
       " 205: 'had',\n",
       " 206: 'part',\n",
       " 207: 'am',\n",
       " 208: 'lie',\n",
       " 209: 'hear',\n",
       " 210: 'another',\n",
       " 211: 'them',\n",
       " 212: 'caught',\n",
       " 213: 'wanted',\n",
       " 214: 'sometimes',\n",
       " 215: 'blood',\n",
       " 216: 'amen',\n",
       " 217: 'burn',\n",
       " 218: 'memory',\n",
       " 219: 'thing',\n",
       " 220: 'post',\n",
       " 221: 'rest',\n",
       " 222: 'broken',\n",
       " 223: 'learned',\n",
       " 224: 'hurt',\n",
       " 225: 'top',\n",
       " 226: 'apart',\n",
       " 227: 'instrumental',\n",
       " 228: \"couldn't\",\n",
       " 229: 'road',\n",
       " 230: 'over',\n",
       " 231: 'watch',\n",
       " 232: 'around',\n",
       " 233: 'understand',\n",
       " 234: 'forget',\n",
       " 235: 'push',\n",
       " 236: 'ever',\n",
       " 237: 'leave',\n",
       " 238: 'bleed',\n",
       " 239: 'blackout',\n",
       " 240: 'step',\n",
       " 241: 'thoughts',\n",
       " 242: 'between',\n",
       " 243: 'hard',\n",
       " 244: \"i'd\",\n",
       " 245: 'somehow',\n",
       " 246: 'ground',\n",
       " 247: 'fade',\n",
       " 248: 'good',\n",
       " 249: 'matter',\n",
       " 250: 'memories',\n",
       " 251: 'love',\n",
       " 252: 'sky',\n",
       " 253: 'trust',\n",
       " 254: 'guilty',\n",
       " 255: 'open',\n",
       " 256: 'anything',\n",
       " 257: \"doesn't\",\n",
       " 258: 'greed',\n",
       " 259: 'stay',\n",
       " 260: 'somewhere',\n",
       " 261: 'everyone',\n",
       " 262: 'walking',\n",
       " 263: 'her',\n",
       " 264: 'eye',\n",
       " 265: 'hey',\n",
       " 266: 'stand',\n",
       " 267: 'clear',\n",
       " 268: 'line',\n",
       " 269: 'while',\n",
       " 270: 'heal',\n",
       " 271: \"didn't\",\n",
       " 272: 'start',\n",
       " 273: 'show',\n",
       " 274: 'fight',\n",
       " 275: 'com',\n",
       " 276: 'misery',\n",
       " 277: 'save',\n",
       " 278: 'deeper',\n",
       " 279: 'his',\n",
       " 280: 'high',\n",
       " 281: 'war',\n",
       " 282: 'old',\n",
       " 283: 'swallow',\n",
       " 284: 'black',\n",
       " 285: 'sins',\n",
       " 286: 'coming',\n",
       " 287: 'circles',\n",
       " 288: 'close',\n",
       " 289: 'set',\n",
       " 290: 'bring',\n",
       " 291: 'last',\n",
       " 292: 'act',\n",
       " 293: 'control',\n",
       " 294: 'dust',\n",
       " 295: 'point',\n",
       " 296: 'turning',\n",
       " 297: 'free',\n",
       " 298: 'fighting',\n",
       " 299: 'told',\n",
       " 300: 'full',\n",
       " 301: 'wash',\n",
       " 302: 'ocean',\n",
       " 303: 'across',\n",
       " 304: 'final',\n",
       " 305: 'night',\n",
       " 306: 'within',\n",
       " 307: 'closer',\n",
       " 308: 'nobody',\n",
       " 309: 'silence',\n",
       " 310: 'remember',\n",
       " 311: 'used',\n",
       " 312: 'best',\n",
       " 313: 'hand',\n",
       " 314: 'change',\n",
       " 315: 'looking',\n",
       " 316: 'safe',\n",
       " 317: 'loud',\n",
       " 318: 'new',\n",
       " 319: 'bone',\n",
       " 320: 'battle',\n",
       " 321: \"ain't\",\n",
       " 322: 'rebellion',\n",
       " 323: 'off',\n",
       " 324: 'shame',\n",
       " 325: 'pride',\n",
       " 326: 'talk',\n",
       " 327: 'behind',\n",
       " 328: 'should',\n",
       " 329: 'burning',\n",
       " 330: 'home',\n",
       " 331: 'after',\n",
       " 332: \"comin'\",\n",
       " 333: 'hands',\n",
       " 334: 'yourself',\n",
       " 335: 'apologize',\n",
       " 336: \"that's\",\n",
       " 337: 'deserve',\n",
       " 338: 'waiting',\n",
       " 339: 'wake',\n",
       " 340: 'hit',\n",
       " 341: 'wait',\n",
       " 342: 'some',\n",
       " 343: 'afraid',\n",
       " 344: 'both',\n",
       " 345: 'ignored',\n",
       " 346: 'trying',\n",
       " 347: 'worst',\n",
       " 348: 'move',\n",
       " 349: 'scream',\n",
       " 350: \"nobody's\",\n",
       " 351: 'front',\n",
       " 352: 'god',\n",
       " 353: 'thousand',\n",
       " 354: \"valentine's\",\n",
       " 355: 'fire',\n",
       " 356: 'wastelands',\n",
       " 357: 'suffering',\n",
       " 358: 'wooah',\n",
       " 359: \"lookin'\",\n",
       " 360: 'beneath',\n",
       " 361: 'anymore',\n",
       " 362: 'found',\n",
       " 363: 'shut',\n",
       " 364: 'still',\n",
       " 365: 'sound',\n",
       " 366: 'game',\n",
       " 367: 'name',\n",
       " 368: 'below',\n",
       " 369: \"tryin'\",\n",
       " 370: 'kept',\n",
       " 371: 'tried',\n",
       " 372: 'enemy',\n",
       " 373: 'played',\n",
       " 374: \"nothin'\",\n",
       " 375: 'heavy',\n",
       " 376: 'tired',\n",
       " 377: 'listening',\n",
       " 378: 'cares',\n",
       " 379: 'hope',\n",
       " 380: 'came',\n",
       " 381: 'stars',\n",
       " 382: 'alive',\n",
       " 383: 'falling',\n",
       " 384: 'morning',\n",
       " 385: \"could've\",\n",
       " 386: 'masquerade',\n",
       " 387: 'symphony',\n",
       " 388: 'halfway',\n",
       " 389: 'voice',\n",
       " 390: 'mistakes',\n",
       " 391: 'worse',\n",
       " 392: \"watchin'\",\n",
       " 393: 'cannot',\n",
       " 394: 'wish',\n",
       " 395: 'seems',\n",
       " 396: 'floor',\n",
       " 397: 'though',\n",
       " 398: 'pretend',\n",
       " 399: 'past',\n",
       " 400: \"isn't\",\n",
       " 401: 'tomorrow',\n",
       " 402: 'felt',\n",
       " 403: 'under',\n",
       " 404: 'finger',\n",
       " 405: 'catch',\n",
       " 406: 'because',\n",
       " 407: 'dark',\n",
       " 408: 'makes',\n",
       " 409: 'bottom',\n",
       " 410: 'missed',\n",
       " 411: 'really',\n",
       " 412: 'many',\n",
       " 413: 'gotta',\n",
       " 414: 'next',\n",
       " 415: 'gets',\n",
       " 416: 'better',\n",
       " 417: \"diggin'\",\n",
       " 418: 'roads',\n",
       " 419: \"he's\",\n",
       " 420: 'regrets',\n",
       " 421: 'gun',\n",
       " 422: 'heard',\n",
       " 423: 'steel',\n",
       " 424: 'promises',\n",
       " 425: 'victim',\n",
       " 426: 'please',\n",
       " 427: 'ti',\n",
       " 428: 'stnaw',\n",
       " 429: 'eno',\n",
       " 430: 'kiss',\n",
       " 431: 'crawl',\n",
       " 432: 'takes',\n",
       " 433: 'room',\n",
       " 434: 'yesterday',\n",
       " 435: 'slow',\n",
       " 436: 'true',\n",
       " 437: 'comes',\n",
       " 438: 'taken',\n",
       " 439: 'knowing',\n",
       " 440: 'took',\n",
       " 441: 'their',\n",
       " 442: 'cut',\n",
       " 443: 'fuck',\n",
       " 444: 'he',\n",
       " 445: 'guitar',\n",
       " 446: 'solo',\n",
       " 447: 'mercy',\n",
       " 448: 'promise',\n",
       " 449: 'pay',\n",
       " 450: '3',\n",
       " 451: 'truly',\n",
       " 452: 'standing',\n",
       " 453: \"y'all\",\n",
       " 454: 'whoa',\n",
       " 455: 'choke',\n",
       " 456: 'victimized',\n",
       " 457: \"they're\",\n",
       " 458: 'other',\n",
       " 459: 'awake',\n",
       " 460: 'sorry',\n",
       " 461: 'late',\n",
       " 462: 'condemned',\n",
       " 463: 'feels',\n",
       " 464: \"hearin'\",\n",
       " 465: 'disappear',\n",
       " 466: 'tension',\n",
       " 467: 'knew',\n",
       " 468: 'hate',\n",
       " 469: 'rust',\n",
       " 470: \"tellin'\",\n",
       " 471: 'sacrifice',\n",
       " 472: 'well',\n",
       " 473: 'long',\n",
       " 474: 'easier',\n",
       " 475: 'numb',\n",
       " 476: 'help',\n",
       " 477: 'breaking',\n",
       " 478: 'building',\n",
       " 479: 'anger',\n",
       " 480: \"somethin'\",\n",
       " 481: 'undertow',\n",
       " 482: 'scared',\n",
       " 483: 'empty',\n",
       " 484: 'yours',\n",
       " 485: 'might',\n",
       " 486: 'enough',\n",
       " 487: 'none',\n",
       " 488: \"she's\",\n",
       " 489: 'two',\n",
       " 490: 'laughed',\n",
       " 491: 'weight',\n",
       " 492: 'strength',\n",
       " 493: 'dead',\n",
       " 494: \"haven't\",\n",
       " 495: 'kind',\n",
       " 496: 'living',\n",
       " 497: 'pass',\n",
       " 498: 'seen',\n",
       " 499: 'suffer',\n",
       " 500: 'fortunate',\n",
       " 501: 'ones',\n",
       " 502: 'win',\n",
       " 503: 'sense',\n",
       " 504: 'answers',\n",
       " 505: 'talking',\n",
       " 506: 'cold',\n",
       " 507: 'feet',\n",
       " 508: 'forfeit',\n",
       " 509: 'puts',\n",
       " 510: 'taking',\n",
       " 511: 'wounds',\n",
       " 512: 'confusing',\n",
       " 513: 'stuck',\n",
       " 514: 'forgotten',\n",
       " 515: 'middle',\n",
       " 516: 'escape',\n",
       " 517: 'care',\n",
       " 518: 'being',\n",
       " 519: 'pushes',\n",
       " 520: 'december',\n",
       " 521: 'fault',\n",
       " 522: 'along',\n",
       " 523: 'belong',\n",
       " 524: \"runnin'\",\n",
       " 525: \"waitin'\",\n",
       " 526: 'minute',\n",
       " 527: \"makin'\",\n",
       " 528: 'divide',\n",
       " 529: 'floating',\n",
       " 530: 'deep',\n",
       " 531: 'scars',\n",
       " 532: 'listen',\n",
       " 533: 'giving',\n",
       " 534: 'mean',\n",
       " 535: 'habit',\n",
       " 536: 'tonight',\n",
       " 537: 'ashes',\n",
       " 538: 'chest',\n",
       " 539: 'together',\n",
       " 540: 'feeling',\n",
       " 541: 'may',\n",
       " 542: 'him',\n",
       " 543: 'cross',\n",
       " 544: 'blue',\n",
       " 545: 'sorrow',\n",
       " 546: 'replaced',\n",
       " 547: 'sight',\n",
       " 548: 'searching',\n",
       " 549: 'weapon',\n",
       " 550: 'losing',\n",
       " 551: 'man',\n",
       " 552: 'each',\n",
       " 553: 'lights',\n",
       " 554: 'already',\n",
       " 555: 'sleep',\n",
       " 556: 'led',\n",
       " 557: 'wide',\n",
       " 558: 'sharp',\n",
       " 559: 'edges',\n",
       " 560: 'kill',\n",
       " 561: 'easily',\n",
       " 562: 'you—',\n",
       " 563: 'stains',\n",
       " 564: 'paranoid',\n",
       " 565: 'everybody',\n",
       " 566: 'less',\n",
       " 567: 'breathe',\n",
       " 568: 'edgeand',\n",
       " 569: \"keepin'\",\n",
       " 570: 'trapped',\n",
       " 571: 'somebody',\n",
       " 572: 'against',\n",
       " 573: 'hide',\n",
       " 574: 'stretched',\n",
       " 575: 'sinking',\n",
       " 576: 'meant',\n",
       " 577: \"actin'\",\n",
       " 578: 'owe',\n",
       " 579: 'hunger',\n",
       " 580: \"you'd\",\n",
       " 581: 'quiet',\n",
       " 582: 'tightly',\n",
       " 583: 'walked',\n",
       " 584: 'testing',\n",
       " 585: 'pretending',\n",
       " 586: 'began',\n",
       " 587: 'erase',\n",
       " 588: 'second',\n",
       " 589: 'rather',\n",
       " 590: 'drop',\n",
       " 591: 'shot',\n",
       " 592: 'years',\n",
       " 593: 'retrace',\n",
       " 594: 'damage',\n",
       " 595: 'doubt',\n",
       " 596: 'separate',\n",
       " 597: \"sayin'\",\n",
       " 598: 'those',\n",
       " 599: 'choose',\n",
       " 600: 'alright',\n",
       " 601: 'breath',\n",
       " 602: 'waste',\n",
       " 603: 'yo',\n",
       " 604: 'rhythm',\n",
       " 605: 'stress',\n",
       " 606: 'sweat',\n",
       " 607: 'reach',\n",
       " 608: 'shadow',\n",
       " 609: 'clean',\n",
       " 610: 'opens',\n",
       " 611: 'paid',\n",
       " 612: 'ash',\n",
       " 613: 'clouds',\n",
       " 614: 'secrets',\n",
       " 615: 'pulling',\n",
       " 616: 'loading',\n",
       " 617: 'goodbyes',\n",
       " 618: 'she',\n",
       " 619: 'suns',\n",
       " 620: 'young',\n",
       " 621: 'motherfucker',\n",
       " 622: 'yet',\n",
       " 623: 'word',\n",
       " 624: 'beat',\n",
       " 625: 'finally',\n",
       " 626: 'reason',\n",
       " 627: 'hole',\n",
       " 628: 'soul',\n",
       " 629: 'castle',\n",
       " 630: 'glass',\n",
       " 631: 'breaks',\n",
       " 632: 'learn',\n",
       " 633: 'kingdom',\n",
       " 634: 'play',\n",
       " 635: 'powerless',\n",
       " 636: 'ashamed',\n",
       " 637: 'forever',\n",
       " 638: 'pick',\n",
       " 639: \"should've\",\n",
       " 640: 'guess',\n",
       " 641: 'flickers',\n",
       " 642: 'quicker',\n",
       " 643: 'consequences',\n",
       " 644: 'grace',\n",
       " 645: 'complain',\n",
       " 646: 'learning',\n",
       " 647: 'pressure',\n",
       " 648: 'whirlwind',\n",
       " 649: 'woke',\n",
       " 650: 'pace',\n",
       " 651: 'crawling',\n",
       " 652: 'walls',\n",
       " 653: 'instead',\n",
       " 654: 'angry',\n",
       " 655: 'ignore',\n",
       " 656: 'dreams',\n",
       " 657: 'thin',\n",
       " 658: 'failure',\n",
       " 659: 'interlude',\n",
       " 660: 'times',\n",
       " 661: 'pushed',\n",
       " 662: 'feed',\n",
       " 663: 'core',\n",
       " 664: 'safety',\n",
       " 665: \"picture's\",\n",
       " 666: 'wind',\n",
       " 667: 'smile',\n",
       " 668: 'person',\n",
       " 669: 'believe',\n",
       " 670: 'gain',\n",
       " 671: 'aside',\n",
       " 672: 'very',\n",
       " 673: 'above',\n",
       " 674: 'grave',\n",
       " 675: 'handful',\n",
       " 676: 'breakdown',\n",
       " 677: 'realize',\n",
       " 678: 'regret',\n",
       " 679: 'space',\n",
       " 680: 'worth',\n",
       " 681: 'surprise',\n",
       " 682: 'swear',\n",
       " 683: 'rise',\n",
       " 684: 'call',\n",
       " 685: 'clearly',\n",
       " 686: 'tears',\n",
       " 687: \"talkin'\",\n",
       " 688: 'mistake',\n",
       " 689: 'becoming',\n",
       " 690: 'blind',\n",
       " 691: 'ten',\n",
       " 692: 'money',\n",
       " 693: 'path',\n",
       " 694: 'direction',\n",
       " 695: 'pieces',\n",
       " 696: 'beg',\n",
       " 697: 'arms',\n",
       " 698: \"breakin'\",\n",
       " 699: 'washed',\n",
       " 700: 'three',\n",
       " 701: 'smoke',\n",
       " 702: 'bridges',\n",
       " 703: 'burned',\n",
       " 704: 'opposite',\n",
       " 705: 'crack',\n",
       " 706: 'woah',\n",
       " 707: 'escuchénme',\n",
       " 708: 'da',\n",
       " 709: 'steady',\n",
       " 710: 'spinning',\n",
       " 711: 'fill',\n",
       " 712: 'white',\n",
       " 713: 'future',\n",
       " 714: 'low',\n",
       " 715: 'remains',\n",
       " 716: 'flames',\n",
       " 717: 'built',\n",
       " 718: 'shadows',\n",
       " 719: \"layin'\",\n",
       " 720: 'keys',\n",
       " 721: 'casualty',\n",
       " 722: 'turns',\n",
       " 723: 'imitations',\n",
       " 724: 'ran',\n",
       " 725: 'mad',\n",
       " 726: 'kiiara',\n",
       " 727: 'listened',\n",
       " 728: 'siht',\n",
       " 729: 'ot',\n",
       " 730: 'neppah',\n",
       " 731: 'reven',\n",
       " 732: \"ll'ti\",\n",
       " 733: 'changed',\n",
       " 734: 'constantly',\n",
       " 735: \"everyone's\",\n",
       " 736: 'sleeping',\n",
       " 737: 'millions',\n",
       " 738: 'souls',\n",
       " 739: 'first',\n",
       " 740: 'watches',\n",
       " 741: 'fact',\n",
       " 742: 'betray',\n",
       " 743: \"aren't\",\n",
       " 744: 'metakes',\n",
       " 745: 'breaki',\n",
       " 746: \"breathe'cause\",\n",
       " 747: 'dream',\n",
       " 748: 'hypocrisy',\n",
       " 749: \"we've\",\n",
       " 750: 'cover',\n",
       " 751: 'fast',\n",
       " 752: 'share',\n",
       " 753: 'surface',\n",
       " 754: 'seem',\n",
       " 755: 'without',\n",
       " 756: 'lyrics',\n",
       " 757: 'taught',\n",
       " 758: 'wondering',\n",
       " 759: 'door',\n",
       " 760: 'paper',\n",
       " 761: 'voices',\n",
       " 762: 'wonder',\n",
       " 763: 'blindly',\n",
       " 764: 'ask',\n",
       " 765: 'rely',\n",
       " 766: 'spin',\n",
       " 767: \"they'll\",\n",
       " 768: 'convince',\n",
       " 769: 'explain',\n",
       " 770: 'fell',\n",
       " 771: 'eventually',\n",
       " 772: 'spite',\n",
       " 773: 'known',\n",
       " 774: 'skies',\n",
       " 775: 'power',\n",
       " 776: 'floods',\n",
       " 777: 'rises',\n",
       " 778: 'piece',\n",
       " 779: 'drawn',\n",
       " 780: 'hiding',\n",
       " 781: 'possibilities',\n",
       " 782: 'confused',\n",
       " 783: 'exactly',\n",
       " 784: 'bend',\n",
       " 785: 'lying',\n",
       " 786: 'bringing',\n",
       " 787: 'once',\n",
       " 788: 'gave',\n",
       " 789: 'hated',\n",
       " 790: \"lettin'\",\n",
       " 791: 'kids',\n",
       " 792: \"livin'\",\n",
       " 793: 'uphill',\n",
       " 794: 'struggle',\n",
       " 795: 'aware',\n",
       " 796: 'given',\n",
       " 797: 'missing',\n",
       " 798: 'asking',\n",
       " 799: 'forgetting',\n",
       " 800: 'mouth',\n",
       " 801: 'mama',\n",
       " 802: 'half',\n",
       " 803: 'simple',\n",
       " 804: 'embrace',\n",
       " 805: 'gray',\n",
       " 806: 'ways',\n",
       " 807: 'bank',\n",
       " 808: 'leader',\n",
       " 809: 'trade',\n",
       " 810: 'borrowed',\n",
       " 811: 'thieves',\n",
       " 812: 'blowing',\n",
       " 813: 'begin',\n",
       " 814: 'speak',\n",
       " 815: 'telling',\n",
       " 816: 'underground',\n",
       " 817: 'flaws',\n",
       " 818: \"enemy's\",\n",
       " 819: 'fires',\n",
       " 820: 'tongue',\n",
       " 821: 'father',\n",
       " 822: 'destroyer',\n",
       " 823: 'brad',\n",
       " 824: 'delson',\n",
       " 825: 'ahora',\n",
       " 826: 'ring',\n",
       " 827: 'sure',\n",
       " 828: 'mochiagete',\n",
       " 829: 'tokihanashite',\n",
       " 830: 'riot',\n",
       " 831: 'planned',\n",
       " 832: 'saw',\n",
       " 833: 'kings',\n",
       " 834: 'becomes',\n",
       " 835: 'bodies',\n",
       " 836: 'guns',\n",
       " 837: 'unload',\n",
       " 838: 'blow',\n",
       " 839: 'linkin',\n",
       " 840: 'park',\n",
       " 841: 'song',\n",
       " 842: 'loaded',\n",
       " 843: 'keeps',\n",
       " 844: 'echo',\n",
       " 845: 'chance',\n",
       " 846: 'army',\n",
       " 847: 'horizon',\n",
       " 848: 'hardly',\n",
       " 849: 'weep',\n",
       " 850: 'bang',\n",
       " 851: 'tossed',\n",
       " 852: 'unclean',\n",
       " 853: 'force',\n",
       " 854: 'story',\n",
       " 855: \"who've\",\n",
       " 856: 'faced',\n",
       " 857: \"oppression's\",\n",
       " 858: 'moment',\n",
       " 859: 'wall',\n",
       " 860: 'chasing',\n",
       " 861: 'pack',\n",
       " 862: 'tear',\n",
       " 863: 'drive',\n",
       " 864: 'crazy',\n",
       " 865: 'thinking',\n",
       " 866: 'carry',\n",
       " 867: 'center',\n",
       " 868: 'universe',\n",
       " 869: \"'round\",\n",
       " 870: 'going',\n",
       " 871: 'scar',\n",
       " 872: 'stronger',\n",
       " 873: 'making',\n",
       " 874: \"i've—\",\n",
       " 875: 'uninvited',\n",
       " 876: 'bloody',\n",
       " 877: 'grab',\n",
       " 878: 'crucifix',\n",
       " 879: 'knees',\n",
       " 880: 'disturb',\n",
       " 881: 'does',\n",
       " 882: 'swim',\n",
       " 883: 'edge',\n",
       " 884: 'react',\n",
       " 885: 'frame',\n",
       " 886: 'race',\n",
       " 887: 'ending',\n",
       " 888: 'controlling',\n",
       " 889: 'confidence',\n",
       " 890: 'insecure',\n",
       " 891: 'haunting',\n",
       " 892: 'question',\n",
       " 893: 'association',\n",
       " 894: 'red',\n",
       " 895: 'outdone',\n",
       " 896: 'outrun',\n",
       " 897: 'questions',\n",
       " 898: 'rhyme',\n",
       " 899: 'window',\n",
       " 900: \"wouldn't\",\n",
       " 901: 'energy',\n",
       " 902: 'strong',\n",
       " 903: 'rain',\n",
       " 904: \"movin'\",\n",
       " 905: 'wheels',\n",
       " 906: 'street',\n",
       " 907: 'picture',\n",
       " 908: 'soon',\n",
       " 909: 'year',\n",
       " 910: 'snow',\n",
       " 911: 'changing',\n",
       " 912: 'screaming',\n",
       " 913: 'hollow',\n",
       " 914: 'anywhere',\n",
       " 915: 'upper',\n",
       " 916: 'means',\n",
       " 917: 'won',\n",
       " 918: 'crossed',\n",
       " 919: 'replacing',\n",
       " 920: 'bit',\n",
       " 921: 'unless',\n",
       " 922: 'instigate',\n",
       " 923: 'dirt',\n",
       " 924: 'warning',\n",
       " 925: 'ignores',\n",
       " 926: 'sights',\n",
       " 927: \"feelin'\",\n",
       " 928: \"suffocatin'\",\n",
       " 929: 'focused',\n",
       " 930: 'dreaming',\n",
       " 931: 'reasons',\n",
       " 932: 'resent',\n",
       " 933: \"fuckin'\",\n",
       " 934: 'filthy',\n",
       " 935: 'dance',\n",
       " 936: 'digging',\n",
       " 937: 'flow',\n",
       " 938: 'brand',\n",
       " 939: 'solutions',\n",
       " 940: 'cards',\n",
       " 941: 'fists',\n",
       " 942: 'attack',\n",
       " 943: \"standin'\",\n",
       " 944: 'rich',\n",
       " 945: 'poor',\n",
       " 946: \"laughin'\",\n",
       " 947: 'respect',\n",
       " 948: 'refrain',\n",
       " 949: 'news',\n",
       " 950: 'choir',\n",
       " 951: 'watching',\n",
       " 952: 'happen',\n",
       " 953: 'lot',\n",
       " 954: 'die',\n",
       " 955: 'believed',\n",
       " 956: 'hypocrites',\n",
       " 957: 'turned',\n",
       " 958: 'heartless',\n",
       " 959: 'protection',\n",
       " 960: 'harder',\n",
       " 961: 'seemed',\n",
       " 962: 'lips',\n",
       " 963: 'faith',\n",
       " 964: 'six',\n",
       " 965: 'splits',\n",
       " 966: 'fragile',\n",
       " 967: 'friend',\n",
       " 968: 'spoken',\n",
       " 969: 'four',\n",
       " 970: 'form',\n",
       " 971: 'innocence',\n",
       " 972: 'storm',\n",
       " 973: 'atención',\n",
       " 974: 'tough',\n",
       " 975: 'situation',\n",
       " 976: \"rockin'\",\n",
       " 977: 'ha',\n",
       " 978: 'mah',\n",
       " 979: 'tone',\n",
       " 980: 'violent',\n",
       " 981: 'air',\n",
       " 982: 'onto',\n",
       " 983: 'wishing',\n",
       " 984: \"wasn't\",\n",
       " 985: 'mess',\n",
       " 986: 'colors',\n",
       " 987: 'wretches',\n",
       " 988: 'machine',\n",
       " 989: 'shit',\n",
       " 990: 'animals',\n",
       " 991: 'whole',\n",
       " 992: 'video',\n",
       " 993: 'chair',\n",
       " 994: 'bless',\n",
       " 995: 'blinding',\n",
       " 996: 'sing',\n",
       " 997: 'leaves',\n",
       " 998: 'sign',\n",
       " 999: 'prove',\n",
       " 1000: 'distance',\n",
       " ...}"
      ]
     },
     "execution_count": 63,
     "metadata": {},
     "output_type": "execute_result"
    }
   ],
   "source": [
    "# Palabras del vocabulario\n",
    "tok.index_word\n",
    "# La capa final va a ser una softmax Cuando hagamos una predicción. "
   ]
  },
  {
   "cell_type": "code",
   "execution_count": 64,
   "metadata": {
    "id": "WtzINYjWCMf1"
   },
   "outputs": [
    {
     "data": {
      "text/plain": [
       "2376"
      ]
     },
     "execution_count": 64,
     "metadata": {},
     "output_type": "execute_result"
    }
   ],
   "source": [
    "# Cantidad de palabras en el vocabulario\n",
    "vocab_size = len(tok.word_counts)\n",
    "vocab_size"
   ]
  },
  {
   "cell_type": "code",
   "execution_count": 65,
   "metadata": {
    "id": "spTBxmFQc6h8"
   },
   "outputs": [
    {
     "name": "stdout",
     "output_type": "stream",
     "text": [
      "{'the': 1, 'i': 2, 'you': 3, 'to': 4, 'and': 5, 'me': 6, 'of': 7, 'in': 8, 'chorus': 9, 'it': 10, 'chester': 11, 'bennington': 12, 'my': 13, 'a': 14, 'all': 15, 'be': 16, \"i'm\": 17, 'that': 18, 'your': 19, 'mike': 20, 'shinoda': 21, 'what': 22, 'oh': 23, 'so': 24, 'is': 25, 'verse': 26, \"don't\": 27, 'away': 28, 'on': 29, 'but': 30, 'for': 31, 'no': 32, 'this': 33, 'back': 34, 'like': 35, \"it's\": 36, 'up': 37, 'down': 38, 'now': 39, 'ah': 40, 'know': 41, 'with': 42, \"can't\": 43, 'let': 44, 'wanna': 45, 'just': 46, 'when': 47, 'say': 48, 'out': 49, 'one': 50, 'go': 51, 'we': 52, \"you're\": 53, 'not': 54, \"i've\": 55, 'never': 56, 'na': 57, 'myself': 58, 'pre': 59, '1': 60, '2': 61, 'from': 62, 'take': 63, 'see': 64, 'was': 65, 'time': 66, 'give': 67, 'inside': 68, 'got': 69, 'have': 70, 'can': 71, 'will': 72, \"you've\": 73, 'more': 74, 'come': 75, 'do': 76, 'right': 77, 'they': 78, 'if': 79, 'how': 80, 'want': 81, 'at': 82, \"'cause\": 83, 'way': 84, 'there': 85, 'fall': 86, \"i'll\": 87, 'get': 88, 'feel': 89, 'bridge': 90, 'are': 91, 'ooh': 92, 'everything': 93, 'every': 94, 'again': 95, 'things': 96, 'run': 97, 'gone': 98, 'pain': 99, \"there's\": 100, 'why': 101, 'end': 102, 'outro': 103, 'alone': 104, 'too': 105, 'eh': 106, 'find': 107, 'as': 108, 'face': 109, \"won't\": 110, 'fear': 111, 'then': 112, 'try': 113, 'would': 114, 'left': 115, 'little': 116, 'wrong': 117, 'far': 118, 'day': 119, 'tell': 120, 'same': 121, 'our': 122, 'goodbye': 123, 'mind': 124, 'us': 125, 'said': 126, 'turn': 127, \"you'll\": 128, 'through': 129, 'live': 130, 'been': 131, 'gonna': 132, 'lost': 133, 'into': 134, 'could': 135, 'put': 136, 'even': 137, 'lies': 138, 'world': 139, 'these': 140, 'about': 141, 'need': 142, 'who': 143, 'yeah': 144, 'or': 145, 'hold': 146, 'before': 147, 'make': 148, 'were': 149, 'lose': 150, 'holding': 151, 'always': 152, 'something': 153, 'here': 154, 'light': 155, 'break': 156, 'nothing': 157, 'by': 158, 'think': 159, 'than': 160, 'only': 161, 'until': 162, 'done': 163, 'someone': 164, 'people': 165, 'thought': 166, \"what's\": 167, 'stop': 168, 'sun': 169, 'intro': 170, 'look': 171, 'sick': 172, 'darkness': 173, 'blame': 174, 'where': 175, 'today': 176, 'eyes': 177, 'skin': 178, 'life': 179, 'much': 180, 'heart': 181, 'has': 182, 'keep': 183, 'held': 184, 'throw': 185, 'words': 186, 'own': 187, 'truth': 188, \"'em\": 189, 'place': 190, 'become': 191, 'side': 192, 'invisible': 193, 'real': 194, \"we're\": 195, 'mine': 196, 'made': 197, 'an': 198, 'else': 199, \"'til\": 200, 'did': 201, 'head': 202, 'goes': 203, 'upon': 204, 'had': 205, 'part': 206, 'am': 207, 'lie': 208, 'hear': 209, 'another': 210, 'them': 211, 'caught': 212, 'wanted': 213, 'sometimes': 214, 'blood': 215, 'amen': 216, 'burn': 217, 'memory': 218, 'thing': 219, 'post': 220, 'rest': 221, 'broken': 222, 'learned': 223, 'hurt': 224, 'top': 225, 'apart': 226, 'instrumental': 227, \"couldn't\": 228, 'road': 229, 'over': 230, 'watch': 231, 'around': 232, 'understand': 233, 'forget': 234, 'push': 235, 'ever': 236, 'leave': 237, 'bleed': 238, 'blackout': 239, 'step': 240, 'thoughts': 241, 'between': 242, 'hard': 243, \"i'd\": 244, 'somehow': 245, 'ground': 246, 'fade': 247, 'good': 248, 'matter': 249, 'memories': 250, 'love': 251, 'sky': 252, 'trust': 253, 'guilty': 254, 'open': 255, 'anything': 256, \"doesn't\": 257, 'greed': 258, 'stay': 259, 'somewhere': 260, 'everyone': 261, 'walking': 262, 'her': 263, 'eye': 264, 'hey': 265, 'stand': 266, 'clear': 267, 'line': 268, 'while': 269, 'heal': 270, \"didn't\": 271, 'start': 272, 'show': 273, 'fight': 274, 'com': 275, 'misery': 276, 'save': 277, 'deeper': 278, 'his': 279, 'high': 280, 'war': 281, 'old': 282, 'swallow': 283, 'black': 284, 'sins': 285, 'coming': 286, 'circles': 287, 'close': 288, 'set': 289, 'bring': 290, 'last': 291, 'act': 292, 'control': 293, 'dust': 294, 'point': 295, 'turning': 296, 'free': 297, 'fighting': 298, 'told': 299, 'full': 300, 'wash': 301, 'ocean': 302, 'across': 303, 'final': 304, 'night': 305, 'within': 306, 'closer': 307, 'nobody': 308, 'silence': 309, 'remember': 310, 'used': 311, 'best': 312, 'hand': 313, 'change': 314, 'looking': 315, 'safe': 316, 'loud': 317, 'new': 318, 'bone': 319, 'battle': 320, \"ain't\": 321, 'rebellion': 322, 'off': 323, 'shame': 324, 'pride': 325, 'talk': 326, 'behind': 327, 'should': 328, 'burning': 329, 'home': 330, 'after': 331, \"comin'\": 332, 'hands': 333, 'yourself': 334, 'apologize': 335, \"that's\": 336, 'deserve': 337, 'waiting': 338, 'wake': 339, 'hit': 340, 'wait': 341, 'some': 342, 'afraid': 343, 'both': 344, 'ignored': 345, 'trying': 346, 'worst': 347, 'move': 348, 'scream': 349, \"nobody's\": 350, 'front': 351, 'god': 352, 'thousand': 353, \"valentine's\": 354, 'fire': 355, 'wastelands': 356, 'suffering': 357, 'wooah': 358, \"lookin'\": 359, 'beneath': 360, 'anymore': 361, 'found': 362, 'shut': 363, 'still': 364, 'sound': 365, 'game': 366, 'name': 367, 'below': 368, \"tryin'\": 369, 'kept': 370, 'tried': 371, 'enemy': 372, 'played': 373, \"nothin'\": 374, 'heavy': 375, 'tired': 376, 'listening': 377, 'cares': 378, 'hope': 379, 'came': 380, 'stars': 381, 'alive': 382, 'falling': 383, 'morning': 384, \"could've\": 385, 'masquerade': 386, 'symphony': 387, 'halfway': 388, 'voice': 389, 'mistakes': 390, 'worse': 391, \"watchin'\": 392, 'cannot': 393, 'wish': 394, 'seems': 395, 'floor': 396, 'though': 397, 'pretend': 398, 'past': 399, \"isn't\": 400, 'tomorrow': 401, 'felt': 402, 'under': 403, 'finger': 404, 'catch': 405, 'because': 406, 'dark': 407, 'makes': 408, 'bottom': 409, 'missed': 410, 'really': 411, 'many': 412, 'gotta': 413, 'next': 414, 'gets': 415, 'better': 416, \"diggin'\": 417, 'roads': 418, \"he's\": 419, 'regrets': 420, 'gun': 421, 'heard': 422, 'steel': 423, 'promises': 424, 'victim': 425, 'please': 426, 'ti': 427, 'stnaw': 428, 'eno': 429, 'kiss': 430, 'crawl': 431, 'takes': 432, 'room': 433, 'yesterday': 434, 'slow': 435, 'true': 436, 'comes': 437, 'taken': 438, 'knowing': 439, 'took': 440, 'their': 441, 'cut': 442, 'fuck': 443, 'he': 444, 'guitar': 445, 'solo': 446, 'mercy': 447, 'promise': 448, 'pay': 449, '3': 450, 'truly': 451, 'standing': 452, \"y'all\": 453, 'whoa': 454, 'choke': 455, 'victimized': 456, \"they're\": 457, 'other': 458, 'awake': 459, 'sorry': 460, 'late': 461, 'condemned': 462, 'feels': 463, \"hearin'\": 464, 'disappear': 465, 'tension': 466, 'knew': 467, 'hate': 468, 'rust': 469, \"tellin'\": 470, 'sacrifice': 471, 'well': 472, 'long': 473, 'easier': 474, 'numb': 475, 'help': 476, 'breaking': 477, 'building': 478, 'anger': 479, \"somethin'\": 480, 'undertow': 481, 'scared': 482, 'empty': 483, 'yours': 484, 'might': 485, 'enough': 486, 'none': 487, \"she's\": 488, 'two': 489, 'laughed': 490, 'weight': 491, 'strength': 492, 'dead': 493, \"haven't\": 494, 'kind': 495, 'living': 496, 'pass': 497, 'seen': 498, 'suffer': 499, 'fortunate': 500, 'ones': 501, 'win': 502, 'sense': 503, 'answers': 504, 'talking': 505, 'cold': 506, 'feet': 507, 'forfeit': 508, 'puts': 509, 'taking': 510, 'wounds': 511, 'confusing': 512, 'stuck': 513, 'forgotten': 514, 'middle': 515, 'escape': 516, 'care': 517, 'being': 518, 'pushes': 519, 'december': 520, 'fault': 521, 'along': 522, 'belong': 523, \"runnin'\": 524, \"waitin'\": 525, 'minute': 526, \"makin'\": 527, 'divide': 528, 'floating': 529, 'deep': 530, 'scars': 531, 'listen': 532, 'giving': 533, 'mean': 534, 'habit': 535, 'tonight': 536, 'ashes': 537, 'chest': 538, 'together': 539, 'feeling': 540, 'may': 541, 'him': 542, 'cross': 543, 'blue': 544, 'sorrow': 545, 'replaced': 546, 'sight': 547, 'searching': 548, 'weapon': 549, 'losing': 550, 'man': 551, 'each': 552, 'lights': 553, 'already': 554, 'sleep': 555, 'led': 556, 'wide': 557, 'sharp': 558, 'edges': 559, 'kill': 560, 'easily': 561, 'you—': 562, 'stains': 563, 'paranoid': 564, 'everybody': 565, 'less': 566, 'breathe': 567, 'edgeand': 568, \"keepin'\": 569, 'trapped': 570, 'somebody': 571, 'against': 572, 'hide': 573, 'stretched': 574, 'sinking': 575, 'meant': 576, \"actin'\": 577, 'owe': 578, 'hunger': 579, \"you'd\": 580, 'quiet': 581, 'tightly': 582, 'walked': 583, 'testing': 584, 'pretending': 585, 'began': 586, 'erase': 587, 'second': 588, 'rather': 589, 'drop': 590, 'shot': 591, 'years': 592, 'retrace': 593, 'damage': 594, 'doubt': 595, 'separate': 596, \"sayin'\": 597, 'those': 598, 'choose': 599, 'alright': 600, 'breath': 601, 'waste': 602, 'yo': 603, 'rhythm': 604, 'stress': 605, 'sweat': 606, 'reach': 607, 'shadow': 608, 'clean': 609, 'opens': 610, 'paid': 611, 'ash': 612, 'clouds': 613, 'secrets': 614, 'pulling': 615, 'loading': 616, 'goodbyes': 617, 'she': 618, 'suns': 619, 'young': 620, 'motherfucker': 621, 'yet': 622, 'word': 623, 'beat': 624, 'finally': 625, 'reason': 626, 'hole': 627, 'soul': 628, 'castle': 629, 'glass': 630, 'breaks': 631, 'learn': 632, 'kingdom': 633, 'play': 634, 'powerless': 635, 'ashamed': 636, 'forever': 637, 'pick': 638, \"should've\": 639, 'guess': 640, 'flickers': 641, 'quicker': 642, 'consequences': 643, 'grace': 644, 'complain': 645, 'learning': 646, 'pressure': 647, 'whirlwind': 648, 'woke': 649, 'pace': 650, 'crawling': 651, 'walls': 652, 'instead': 653, 'angry': 654, 'ignore': 655, 'dreams': 656, 'thin': 657, 'failure': 658, 'interlude': 659, 'times': 660, 'pushed': 661, 'feed': 662, 'core': 663, 'safety': 664, \"picture's\": 665, 'wind': 666, 'smile': 667, 'person': 668, 'believe': 669, 'gain': 670, 'aside': 671, 'very': 672, 'above': 673, 'grave': 674, 'handful': 675, 'breakdown': 676, 'realize': 677, 'regret': 678, 'space': 679, 'worth': 680, 'surprise': 681, 'swear': 682, 'rise': 683, 'call': 684, 'clearly': 685, 'tears': 686, \"talkin'\": 687, 'mistake': 688, 'becoming': 689, 'blind': 690, 'ten': 691, 'money': 692, 'path': 693, 'direction': 694, 'pieces': 695, 'beg': 696, 'arms': 697, \"breakin'\": 698, 'washed': 699, 'three': 700, 'smoke': 701, 'bridges': 702, 'burned': 703, 'opposite': 704, 'crack': 705, 'woah': 706, 'escuchénme': 707, 'da': 708, 'steady': 709, 'spinning': 710, 'fill': 711, 'white': 712, 'future': 713, 'low': 714, 'remains': 715, 'flames': 716, 'built': 717, 'shadows': 718, \"layin'\": 719, 'keys': 720, 'casualty': 721, 'turns': 722, 'imitations': 723, 'ran': 724, 'mad': 725, 'kiiara': 726, 'listened': 727, 'siht': 728, 'ot': 729, 'neppah': 730, 'reven': 731, \"ll'ti\": 732, 'changed': 733, 'constantly': 734, \"everyone's\": 735, 'sleeping': 736, 'millions': 737, 'souls': 738, 'first': 739, 'watches': 740, 'fact': 741, 'betray': 742, \"aren't\": 743, 'metakes': 744, 'breaki': 745, \"breathe'cause\": 746, 'dream': 747, 'hypocrisy': 748, \"we've\": 749, 'cover': 750, 'fast': 751, 'share': 752, 'surface': 753, 'seem': 754, 'without': 755, 'lyrics': 756, 'taught': 757, 'wondering': 758, 'door': 759, 'paper': 760, 'voices': 761, 'wonder': 762, 'blindly': 763, 'ask': 764, 'rely': 765, 'spin': 766, \"they'll\": 767, 'convince': 768, 'explain': 769, 'fell': 770, 'eventually': 771, 'spite': 772, 'known': 773, 'skies': 774, 'power': 775, 'floods': 776, 'rises': 777, 'piece': 778, 'drawn': 779, 'hiding': 780, 'possibilities': 781, 'confused': 782, 'exactly': 783, 'bend': 784, 'lying': 785, 'bringing': 786, 'once': 787, 'gave': 788, 'hated': 789, \"lettin'\": 790, 'kids': 791, \"livin'\": 792, 'uphill': 793, 'struggle': 794, 'aware': 795, 'given': 796, 'missing': 797, 'asking': 798, 'forgetting': 799, 'mouth': 800, 'mama': 801, 'half': 802, 'simple': 803, 'embrace': 804, 'gray': 805, 'ways': 806, 'bank': 807, 'leader': 808, 'trade': 809, 'borrowed': 810, 'thieves': 811, 'blowing': 812, 'begin': 813, 'speak': 814, 'telling': 815, 'underground': 816, 'flaws': 817, \"enemy's\": 818, 'fires': 819, 'tongue': 820, 'father': 821, 'destroyer': 822, 'brad': 823, 'delson': 824, 'ahora': 825, 'ring': 826, 'sure': 827, 'mochiagete': 828, 'tokihanashite': 829, 'riot': 830, 'planned': 831, 'saw': 832, 'kings': 833, 'becomes': 834, 'bodies': 835, 'guns': 836, 'unload': 837, 'blow': 838, 'linkin': 839, 'park': 840, 'song': 841, 'loaded': 842, 'keeps': 843, 'echo': 844, 'chance': 845, 'army': 846, 'horizon': 847, 'hardly': 848, 'weep': 849, 'bang': 850, 'tossed': 851, 'unclean': 852, 'force': 853, 'story': 854, \"who've\": 855, 'faced': 856, \"oppression's\": 857, 'moment': 858, 'wall': 859, 'chasing': 860, 'pack': 861, 'tear': 862, 'drive': 863, 'crazy': 864, 'thinking': 865, 'carry': 866, 'center': 867, 'universe': 868, \"'round\": 869, 'going': 870, 'scar': 871, 'stronger': 872, 'making': 873, \"i've—\": 874, 'uninvited': 875, 'bloody': 876, 'grab': 877, 'crucifix': 878, 'knees': 879, 'disturb': 880, 'does': 881, 'swim': 882, 'edge': 883, 'react': 884, 'frame': 885, 'race': 886, 'ending': 887, 'controlling': 888, 'confidence': 889, 'insecure': 890, 'haunting': 891, 'question': 892, 'association': 893, 'red': 894, 'outdone': 895, 'outrun': 896, 'questions': 897, 'rhyme': 898, 'window': 899, \"wouldn't\": 900, 'energy': 901, 'strong': 902, 'rain': 903, \"movin'\": 904, 'wheels': 905, 'street': 906, 'picture': 907, 'soon': 908, 'year': 909, 'snow': 910, 'changing': 911, 'screaming': 912, 'hollow': 913, 'anywhere': 914, 'upper': 915, 'means': 916, 'won': 917, 'crossed': 918, 'replacing': 919, 'bit': 920, 'unless': 921, 'instigate': 922, 'dirt': 923, 'warning': 924, 'ignores': 925, 'sights': 926, \"feelin'\": 927, \"suffocatin'\": 928, 'focused': 929, 'dreaming': 930, 'reasons': 931, 'resent': 932, \"fuckin'\": 933, 'filthy': 934, 'dance': 935, 'digging': 936, 'flow': 937, 'brand': 938, 'solutions': 939, 'cards': 940, 'fists': 941, 'attack': 942, \"standin'\": 943, 'rich': 944, 'poor': 945, \"laughin'\": 946, 'respect': 947, 'refrain': 948, 'news': 949, 'choir': 950, 'watching': 951, 'happen': 952, 'lot': 953, 'die': 954, 'believed': 955, 'hypocrites': 956, 'turned': 957, 'heartless': 958, 'protection': 959, 'harder': 960, 'seemed': 961, 'lips': 962, 'faith': 963, 'six': 964, 'splits': 965, 'fragile': 966, 'friend': 967, 'spoken': 968, 'four': 969, 'form': 970, 'innocence': 971, 'storm': 972, 'atención': 973, 'tough': 974, 'situation': 975, \"rockin'\": 976, 'ha': 977, 'mah': 978, 'tone': 979, 'violent': 980, 'air': 981, 'onto': 982, 'wishing': 983, \"wasn't\": 984, 'mess': 985, 'colors': 986, 'wretches': 987, 'machine': 988, 'shit': 989, 'animals': 990, 'whole': 991, 'video': 992, 'chair': 993, 'bless': 994, 'blinding': 995, 'sing': 996, 'leaves': 997, 'sign': 998, 'prove': 999, 'distance': 1000, 'deny': 1001, 'hell': 1002, 'sell': 1003, 'enemies': 1004, 'broke': 1005, 'glow': 1006, 'soldier': 1007, 'fan': 1008, 'blazes': 1009, 'n': 1010, 'climbing': 1011, 'getting': 1012, 'betrayed': 1013, 'debt': 1014, 'untraveled': 1015, 'shoot': 1016, 'shake': 1017, 'sings': 1018, 'careless': 1019, 'futility': 1020, 'least': 1021, 'insane': 1022, 'careful': 1023, 'ball': 1024, 'disappears': 1025, 'slips': 1026, 'confusion': 1027, 'mark': 1028, 'brighter': 1029, 'slipped': 1030, 'crime': 1031, 'forgiven': 1032, 'armor': 1033, 'fuse': 1034, 'problems': 1035, 'dragging': 1036, 'million': 1037, \"someone's\": 1038, 'runs': 1039, 'beaten': 1040, 'wanna—': 1041, 'okay': 1042, 'stopping': 1043, 'everyday': 1044, \"something's\": 1045, 'girl': 1046, 'easy': 1047, 'bitter': 1048, 'happiness': 1049, 'bureaucracy': 1050, 'lead': 1051, 'unhealthy': 1052, \"here's\": 1053, \"paranoia's\": 1054, 'awakes': 1055, 'laughs': 1056, 'sink': 1057, 'underneath': 1058, 'points': 1059, 'bliss': 1060, 'ignorance': 1061, 'anyway': 1062, \"edgei'm\": 1063, 'breakeverything': 1064, 'youshut': 1065, 'static': 1066, 'remembering': 1067, 'distant': 1068, 'promised': 1069, 'painted': 1070, 'pulls': 1071, 'consuming': 1072, 'lack': 1073, 'self': 1074, 'closing': 1075, 'convinced': 1076, 'endlessly': 1077, 'pulled': 1078, 'itself': 1079, 'distracting': 1080, 'reflection': 1081, 'wave': 1082, 'filled': 1083, 'action': 1084, 'follow': 1085, 'instincts': 1086, 'loneliness': 1087, \"gettin'\": 1088, 'killed': 1089, 'buried': 1090, 'answer': 1091, 'outside': 1092, 'designed': 1093, 'fly': 1094, 'fought': 1095, 'surprised': 1096, 'moon': 1097, 'shining': 1098, 'maybe': 1099, 'someday': 1100, 'wear': 1101, 'cock': 1102, 'shock': 1103, 'which': 1104, 'defend': 1105, 'dripping': 1106, 'chain': 1107, 'perfect': 1108, 'lied': 1109, 'sake': 1110, 'falls': 1111, 'frown': 1112, 'unwind': 1113, 'unwinds': 1114, 'covered': 1115, 'meteora': 1116, 'disbelief': 1117, 'faithlessness': 1118, 'wasting': 1119, 'vacancy': 1120, 'everywhere': 1121, 'negativity': 1122, 'justify': 1123, 'criminal': 1124, 'needed': 1125, 'offs': 1126, 'walk': 1127, \"countin'\": 1128, 'single': 1129, 'locked': 1130, 'moving': 1131, \"they've\": 1132, 'letting': 1133, 'disregard': 1134, 'attached': 1135, \"happenin'\": 1136, 'started': 1137, 'gimme': 1138, 'battles': 1139, 'lock': 1140, 'paint': 1141, 'ends': 1142, 'clarity': 1143, 'deceit': 1144, 'tiring': 1145, 'style': 1146, \"checkin'\": 1147, \"rollin'\": 1148, 'suppose': 1149, 'feelings': 1150, 'dirty': 1151, 'shoes': 1152, 'laid': 1153, 'prepared': 1154, 'fucking': 1155, 'leaving': 1156, 'beating': 1157, 'loose': 1158, 'prayers': 1159, 'stomp': 1160, 'shotgun': 1161, 'death': 1162, 'works': 1163, \"goodbye's\": 1164, 'friends': 1165, 'forgiving': 1166, \"pumpin'\": 1167, 'panic': 1168, 'jump': 1169, 'healing': 1170, 'different': 1171, 'gas': 1172, 'check': 1173, \"stutterin'\": 1174, \"mumblin'\": 1175, 'nightly': 1176, 'replay': 1177, 'men': 1178, 'kid': 1179, 'bound': 1180, 'later': 1181, 'blew': 1182, 'brother': 1183, 'beginning': 1184, 'dissatisfied': 1185, 'regain': 1186, 'build': 1187, \"got's\": 1188, 'grey': 1189, 'windows': 1190, \"mistakin'\": 1191, 'levees': 1192, 'underwater': 1193, 'purpose': 1194, 'flashes': 1195, 'frozen': 1196, 'choosing': 1197, 'few': 1198, 'swimming': 1199, 'explosions': 1200, 'todos': 1201, 'mismo': 1202, 'followed': 1203, 'born': 1204, 'fame': 1205, 'dog': 1206, 'wants': 1207, 'robot': 1208, 'monkey': 1209, 'punk': 1210, 'ought': 1211, 'big': 1212, 'brought': 1213, 'mistaken': 1214, \"i'ma\": 1215, 'state': 1216, 'record': 1217, 'weak': 1218, 'synonym': 1219, 'peak': 1220, 'preste': 1221, 'nah': 1222, 'revision': 1223, \"empty's\": 1224, \"flyin'\": 1225, \"holdin'\": 1226, 'keeping': 1227, 'collect': 1228, 'mario': 1229, 'savio': 1230, 'operation': 1231, 'odious': 1232, 'passively': 1233, 'gears': 1234, 'levers': 1235, 'apparatus': 1236, 'lotta': 1237, 'obey': 1238, 'outta': 1239, 'kick': 1240, 'band’s': 1241, 'chaos': 1242, 'band': 1243, 'rainbow': 1244, 'oil': 1245, 'also': 1246, 'music': 1247, 'raising': 1248, 'foundation': 1249, \"losin'\": 1250, 'outfought': 1251, 'outmatched': 1252, 'loved': 1253, 'remembered': 1254, 'blur': 1255, 'connect': 1256, 'abandoned': 1257, 'test': 1258, 'smart': 1259, 'lived': 1260, 'bells': 1261, 'roll': 1262, 'wreckage': 1263, 'fix': 1264, 'tearing': 1265, 'yes': 1266, 'king': 1267, 'l': 1268, 'composure': 1269, 'sounds': 1270, 'di': 1271, 'slipping': 1272, 'winter': 1273, 'sirens': 1274, 't': 1275, 'repaid': 1276, 'higher': 1277, 'teeth': 1278, \"i'mma\": 1279, 'cost': 1280, 'unseen': 1281, 'its': 1282, 'happy': 1283, 'starlight': 1284, \"marchin'\": 1285, 'track': 1286, 'pretty': 1287, 'rising': 1288, 'rock': 1289, 'switch': 1290, 'quick': 1291, 'quit': 1292, 'sucker': 1293, 'lineup': 1294, \"playin'\": 1295, 'waves': 1296, 'body': 1297, 'bends': 1298, 'early': 1299, 'flesh': 1300, 'devil': 1301, 'bass': 1302, 'aim': 1303, 'page': 1304, 'hamilton': 1305, 'ya': 1306, 'any': 1307, 'saved': 1308, 'near': 1309, 'plans': 1310, 'split': 1311, 'deal': 1312, \"we'll\": 1313, 'tv': 1314, 'needs': 1315, 'murder': 1316, 'blade': 1317, 'finding': 1318, 'flood': 1319, 'repair': 1320, 'graves': 1321, 'sand': 1322, 'stood': 1323, 'demons': 1324, 'headfirst': 1325, 'hallucination': 1326, 'illusion': 1327, 'wild': 1328, 'read': 1329, 'longer': 1330, 'wings': 1331, 'running': 1332, 'calling': 1333, 'surrender': 1334, 'knocked': 1335, \"everything's\": 1336, 'refuse': 1337, '—stand': 1338, 'driving': 1339, 'car': 1340, 'paralyzed': 1341, 'bullshit': 1342, 'pull': 1343, '\\u200b\\u200b\\u200b': 1344, 'ruining': 1345, 'innocent': 1346, 'excuses': 1347, 'mistaking': 1348, 'laugh': 1349, 'rationally': 1350, 'reaching': 1351, \"yesterday's\": 1352, 'guessing': 1353, 'medicine': 1354, 'supposed': 1355, 'hook': 1356, 'return': 1357, 'wife': 1358, 'despite': 1359, 'rescue': 1360, 'aches': 1361, 'trembles': 1362, 'quakes': 1363, 'tides': 1364, 'tied': 1365, 'chained': 1366, 'amaze': 1367, \"dreamin'\": 1368, 'papercut': 1369, 'uptight': 1370, 'stressed': 1371, 'fed': 1372, 'probably': 1373, 'acts': 1374, 'add': 1375, 'saying': 1376, 'upshut': 1377, \"upi'm\": 1378, 'forgot': 1379, \"pretendin'\": 1380, 'taste': 1381, 'stands': 1382, 'fine': 1383, 'authority': 1384, 'pleasure': 1385, 'awful': 1386, 'discomfort': 1387, 'reacting': 1388, 'beside': 1389, 'runaway': 1390, 'graffiti': 1391, 'decorations': 1392, 'constant': 1393, 'lessons': 1394, 'bags': 1395, 'bad': 1396, 'sad': 1397, 'maddening': 1398, 'sit': 1399, 'handed': 1400, 'fooled': 1401, 'phoniness': 1402, 'moves': 1403, 'daily': 1404, 'façade': 1405, 'defenseless': 1406, 'senseless': 1407, 'cancer': 1408, 'touch': 1409, 'expect': 1410, 'starts': 1411, 'due': 1412, 'valuable': 1413, 'pendulum': 1414, 'swings': 1415, 'count': 1416, 'clock': 1417, 'ticks': 1418, 'unreal': 1419, 'd': 1420, 'wasted': 1421, 'remind': 1422, \"mockin'\": 1423, 'property': 1424, 'recognize': 1425, 'sits': 1426, 'assuming': 1427, \"moon's\": 1428, 'favors': 1429, 'rapidly': 1430, \"askin'\": 1431, 'calm': 1432, 'generous': 1433, 'shoulda': 1434, 'welcome': 1435, 'sends': 1436, 'acidic': 1437, 'forcefully': 1438, 'suggestion': 1439, 'rot': 1440, 'small': 1441, 'spot': 1442, 'pours': 1443, 'rusted': 1444, 'ease': 1445, \"screamin'\": 1446, 'ups': 1447, 'downs': 1448, 'pollution': 1449, 'manifested': 1450, 'perpetual': 1451, 'round': 1452, 'sunset': 1453, 'creeps': 1454, 'lamps': 1455, 'link': 1456, 'concrete': 1457, 'floats': 1458, \"paper's\": 1459, 'crumpled': 1460, 'pushing': 1461, 'fake': 1462, 'trees': 1463, 'don’t': 1464, 'trusted': 1465, 'stayi': 1466, 'apologies': 1467, 'nothingness': 1468, 'revealed': 1469, 'imagined': 1470, 'healed': 1471, \"stealin'\": 1472, \"it'll\": 1473, 'condescending': 1474, 'oughta': 1475, \"listenin'\": 1476, 'pretended': 1477, \"fittin'\": 1478, \"pullin'\": 1479, 'protect': 1480, 'courtesy': 1481, \"havin'\": 1482, \"puttin'\": 1483, 'concerned': 1484, 'eggshells': 1485, 'stepped': 1486, 'surely': 1487, 'secret': 1488, 'pictures': 1489, 'forward': 1490, \"there'd\": 1491, 'washing': 1492, 'helplessness': 1493, 'misplaced': 1494, 'simpler': 1495, 'complaints': 1496, 'unconfident': 1497, 'stops': 1498, 'distract': 1499, 'infinite': 1500, 'display': 1501, \"settin'\": 1502, 'slowly': 1503, 'escaped': 1504, \"committin'\": 1505, 'consume': 1506, 'opening': 1507, 'wound': 1508, 'picking': 1509, 'assume': 1510, 'clutching': 1511, 'cure': 1512, 'anytime': 1513, 'options': 1514, 'sift': 1515, 'steadily': 1516, 'forcing': 1517, 'com—': 1518, 'peep': 1519, 'number': 1520, 'basement': 1521, 'tracks': 1522, 'raps': 1523, \"backin'\": 1524, 'rewind': 1525, 'stylistic': 1526, 'division': 1527, 'non': 1528, 'unforgiven': 1529, 'meantime': 1530, \"spreadin'\": 1531, '\\u200bgoes': 1532, \"left's\": 1533, 'rhymes': 1534, \"else's\": 1535, \"ridin'\": 1536, \"guessin'\": 1537, 'write': 1538, 'trash': 1539, 'faithless': 1540, 'expecting': 1541, 'smothering': 1542, 'fallen': 1543, 'failing': 1544, 'disappointed': 1545, 'minutes': 1546, 'midnight': 1547, \"day's\": 1548, 'disgrace': 1549, 'hyperventilate': 1550, 'dreamed': 1551, 'cared': 1552, 'shared': 1553, 'neither': 1554, 'hundredth': 1555, 'grenade': 1556, 'pins': 1557, 'shine': 1558, \"goin'\": 1559, 'excuse': 1560, 'hang': 1561, 'noose': 1562, 'string': 1563, 'atop': 1564, 'roofs': 1565, 'knot': 1566, 'tight': 1567, 'stare': 1568, 'bled': 1569, 'dug': 1570, 'trench': 1571, 'shovel': 1572, 'pour': 1573, 'choppy': 1574, 'sloppy': 1575, 'opera': 1576, 'load': 1577, 'cursed': 1578, 'candy': 1579, 'hearse': 1580, 'contain': 1581, 'knows': 1582, 'hurts': 1583, 'satisfied': 1584, \"ignorin'\": 1585, 'opened': 1586, 'locks': 1587, 'blinds': 1588, 'flowers': 1589, 'plead': 1590, 'beginnings': 1591, 'farewell': 1592, 'alibi': 1593, 'slate': 1594, 'uncertainty': 1595, 'whatever': 1596, 'mic': 1597, 'louder': 1598, 'lightweights': 1599, 'syllables': 1600, 'leaf': 1601, 'sheet': 1602, 'complete': 1603, 'summon': 1604, \"dumpin'\": 1605, 'march': 1606, \"drummin'\": 1607, \"jumpin'\": 1608, 'risk': 1609, 'treated': 1610, 'stupid': 1611, \"war's\": 1612, 'cater': 1613, 'abandon': 1614, 'jet': 1615, 'tank': 1616, 'fuckers': 1617, \"cashin'\": 1618, 'compassion': 1619, 'nervous': 1620, 'obvious': 1621, 'tense': 1622, 'bold': 1623, 'blown': 1624, 'fractions': 1625, 'age': 1626, 'drugged': 1627, 'jeep': 1628, 'tree': 1629, 'soldiers': 1630, 'brush': 1631, 'bulletproof': 1632, 'vests': 1633, 'ironic': 1634, 'pray': 1635, 'bomb': 1636, 'mosque': 1637, 'bombs': 1638, 'buses': 1639, 'bikes': 1640, 'market': 1641, 'shops': 1642, 'clothes': 1643, 'dad': 1644, 'book': 1645, 'spine': 1646, 'wrote': 1647, 'quote': 1648, 'wage': 1649, 'meanwhile': 1650, 'talks': 1651, \"crusade's\": 1652, 'disguise': 1653, 'freedom': 1654, 'lives': 1655, 'liars': 1656, 'abuse': 1657, 'deceived': 1658, 'erased': 1659, 'valentine’s': 1660, 'insides': 1661, 'collapsed': 1662, 'grew': 1663, 'colder': 1664, 'genuine': 1665, 'plan': 1666, \"guilt's\": 1667, 'language': 1668, 'actions': 1669, 'lay': 1670, 'toss': 1671, 'stone': 1672, 'wrap': 1673, 'chill': 1674, 'water': 1675, 'stairs': 1676, 'chilling': 1677, 'decays': 1678, 'generations': 1679, 'nation': 1680, 'simply': 1681, 'stares': 1682, 'perfection': 1683, 'desert': 1684, 'bullet': 1685, 'sweating': 1686, 'shaking': 1687, 'wakes': 1688, 'cravings': 1689, 'needle': 1690, 'requiem': 1691, 'radiance': 1692, 'j': 1693, 'robert': 1694, 'oppenheimer': 1695, 'cried': 1696, 'most': 1697, 'silent': 1698, 'hindu': 1699, 'scripture': 1700, 'bhagavad': 1701, 'gita': 1702, 'vishnu': 1703, 'persuade': 1704, 'prince': 1705, 'duty': 1706, 'impress': 1707, 'multi': 1708, 'armed': 1709, 'says': 1710, 'worlds': 1711, 'deadwood': 1712, 'cup': 1713, \"risin'\": 1714, 'sea': 1715, 'poured': 1716, 'debris': 1717, 'chambers': 1718, 'human': 1719, 'blackened': 1720, 'bones': 1721, 'spaces': 1722, 'callouts': 1723, 'los': 1724, 'pelotones': 1725, 'presten': 1726, 'pattern': 1727, 'pill': 1728, 'role': 1729, 'model': 1730, 'fortune': 1731, 'nor': 1732, \"underbelly's\": 1733, 'sicker': 1734, 'ugly': 1735, 'blueprint': 1736, 'gift': 1737, 'curse': 1738, 'theory': 1739, \"beat's\": 1740, 'funky': 1741, 'lazy': 1742, 'lauryn': 1743, 'increase': 1744, 'complication': 1745, 'kane': 1746, 'chuck': 1747, 'uzi': 1748, 'weigh': 1749, \"motherfuckin'\": 1750, 'ton': 1751, 'student': 1752, 'stage': 1753, 'awfully': 1754, 'underrated': 1755, 'correct': 1756, 'wack': 1757, 'slack': 1758, 'heat': 1759, 'closest': 1760, 'toda': 1761, 'la': 1762, 'gente': 1763, 'boy': 1764, \"compassion's\": 1765, 'flaw': 1766, 'ho': 1767, 'jornada': 1768, 'del': 1769, 'muerto': 1770, \"beginnin'\": 1771, 'flying': 1772, 'speed': 1773, 'unsaid': 1774, 'sitting': 1775, 'figure': 1776, 'went': 1777, \"pickin'\": 1778, 'hardest': 1779, \"endin'\": 1780, \"startin'\": 1781, 'bed': 1782, 'written': 1783, 'deeply': 1784, 'remorse': 1785, 'suffocate': 1786, 'bla': 1787, 'your—': 1788, 'fields': 1789, 'gazing': 1790, 'overwrite': 1791, 'absurd': 1792, 'hi': 1793, 'hat': 1794, 'pen': 1795, 'contract': 1796, 'pitch': 1797, 'contact': 1798, 'combat': 1799, 'button': 1800, \"spinnin'\": 1801, 'shall': 1802, 'indicate': 1803, 'prevented': 1804, 'working': 1805, '–': 1806, 'iridescent': 1807, 'fourth': 1808, 'it’s': 1809, '“rock': 1810, 'ballad': 1811, 'amongst': 1812, 'sadness”': 1813, 'according': 1814, 'further': 1815, 'amplified': 1816, 'title': 1817, '“iridescent”': 1818, 'formation': 1819, 'patterns': 1820, 'spills': 1821, 'soap': 1822, 'bubbles': 1823, 'since': 1824, 'album': 1825, 'based': 1826, 'machines': 1827, 'symbol': 1828, 'song’s': 1829, 'motive': 1830, 'invoke': 1831, 'positivity': 1832, 'amidst': 1833, 'joe': 1834, 'hahn': 1835, 'turntablist': 1836, 'directed': 1837, 'description': 1838, 'video’s': 1839, 'concept': 1840, '‘in': 1841, 'valley': 1842, 'eyed': 1843, 'king’': 1844, 'theme': 1845, 'third': 1846, 'transformers': 1847, 'film': 1848, 'tradition': 1849, 'previous': 1850, 'contributions': 1851, 'franchise': 1852, 'namely': 1853, '“what': 1854, 'i’ve': 1855, 'done”': 1856, '“new': 1857, 'divide”': 1858, 'addition': 1859, 'official': 1860, 'season': 1861, 'released': 1862, 'aimed': 1863, 'awareness': 1864, 'pediatric': 1865, 'oncology': 1866, 'frontman': 1867, 'signed': 1868, 'co': 1869, 'fallout': 1870, \"swimmin'\": 1871, 'catalyst': 1872, 'symphonies': 1873, 'decay': 1874, 'transmissions': 1875, 'echoing': 1876, 'oceans': 1877, 'messenger': 1878, 'cruel': 1879, 'angel': 1880, 'guide': 1881, 'suffered': 1882, 'spirit': 1883, 'growing': 1884, 'desperate': 1885, 'melody': 1886, 'lightning': 1887, 'flash': 1888, 'startling': 1889, 'fate': 1890, 'nowhere': 1891, 'caved': 1892, 'loss': 1893, 'great': 1894, 'conditioned': 1895, 'sickness': 1896, 'flip': 1897, 'vicious': 1898, 'rep': 1899, 'yep': 1900, 'tale': 1901, 'odds': 1902, 'stack': 1903, \"how's\": 1904, \"workin'\": 1905, 'huh': 1906, 'frustration': 1907, 'unshaken': 1908, 'mapped': 1909, 'cloned': 1910, 'c': 1911, 'flat': 1912, 'wherever': 1913, 'fold': 1914, 'bow': 1915, 'stopped': 1916, 'sifting': 1917, 'concentrate': 1918, 'message': 1919, 'cracks': 1920, 'cycle': 1921, 'repeated': 1922, 'conflicted': 1923, 'climbed': 1924, 'struck': 1925, 'kissed': 1926, 'crown': 1927, 'nail': 1928, 'coffin': 1929, 'softened': 1930, \"duckin'\": 1931, 'reload': 1932, 'petty': 1933, 'explanations': 1934, 'patience': 1935, 'le': 1936, 'ego': 1937, 'slick': 1938, 'threat': 1939, 'intimidate': 1940, 'disrespect': 1941, 'glistening': 1942, 'deceiving': 1943, 'thinner': 1944, 'bittersweet': 1945, \"'cross\": 1946, 'setting': 1947, 'river': 1948, 'poison': 1949, 'silver': 1950, 'wing': 1951, 'warm': 1952, \"nova's\": 1953, 'indonesian': 1954, 'shirt': 1955, 'vendor': 1956, 'acting': 1957, 'siren': 1958, 'climbs': 1959, 'snakes': 1960, 'grass': 1961, \"supplyin'\": 1962, 'venom': 1963, 'admire': 1964, \"thinkin'\": 1965, 'hidden': 1966, 'stomach': 1967, 'kidding': 1968, 'paths': 1969, 'beyond': 1970, 'glad': 1971, 'seat': 1972, 'alongside': 1973, 'deception': 1974, 'disgust': 1975, 'fades': 1976, 'lion': 1977, 'competition': 1978, 'original': 1979, '808': 1980, 'drum': 1981, 'daddy': 1982, 'rockets': 1983, \"shark's\": 1984, \"snake's\": 1985, 'bite': 1986, 'fights': 1987, 'view': 1988, 'unsung': 1989, 'block': 1990, 'poppa': 1991, 'obsolete': 1992, 'meek': 1993, 'creep': 1994, 'impostors': 1995, 'styles': 1996, 'dime': 1997, 'witted': 1998, \"trippin'\": 1999, \"cryin'\": 2000, 'grind': 2001, \"firin'\": 2002, 'squad': 2003, 'slain': 2004, 'sliver': 2005, 'iller': 2006, 'deliver': 2007, 'quiver': 2008, 'pants': 2009, 'takedown': 2010, 'banksy': 2011, 'brainwash': 2012, 'crash': 2013, 'shore': 2014, 'store': 2015, 'torn': 2016, 'hid': 2017, 'skeletons': 2018, 'shown': 2019, 'evidence': 2020, 'crimson': 2021, 'soaking': 2022, 'watched': 2023, 'chased': 2024, 'emptiness': 2025, 'became': 2026, 'party': 2027, 'fist': 2028, 'ourselves': 2029, 'resist': 2030, 'method': 2031, 'range': 2032, 'anglo': 2033, 'fried': 2034, 'panko': 2035, 'prime': 2036, 'rhymer': 2037, 'lames': 2038, \"aimin'\": 2039, 'allowed': 2040, 'certain': 2041, \"what'cha\": 2042, \"anticipatin'\": 2043, 'debate': 2044, \"battle's\": 2045, 'skate': 2046, 'demand': 2047, 'obeyed': 2048, 'fucker': 2049, 'paranoia': 2050, \"jokin'\": 2051, 'disgusted': 2052, 'tuck': 2053, 'tail': 2054, \"takin'\": 2055, 'orders': 2056, 'five': 2057, 'star': 2058, 'general': 2059, 'infantry': 2060, 'controller': 2061, 'lesson': 2062, 'unprepared': 2063, 'rakim': 2064, 'land': 2065, \"bein'\": 2066, \"bosses'\": 2067, 'wealthy': 2068, 'scheme': 2069, 'nonsense': 2070, 'corporate': 2071, 'team': 2072, 'route': 2073, 'accounts': 2074, 'assets': 2075, 'realty': 2076, \"anybody's\": 2077, 'expense': 2078, 'conscience': 2079, 'guilt': 2080, 'claim': 2081, 'screen': 2082, 'flame': 2083, \"knowin'\": 2084, 'dough': 2085, 'rearrange': 2086, 'product': 2087, 'rebuilt': 2088, 'cheap': 2089, 'drained': 2090, 'manipulated': 2091, 'artists': 2092, 'authentic': 2093, 'hip': 2094, 'hop': 2095, 'pop': 2096, 'radio': 2097, 'companies': 2098, 'stray': 2099, 'gall': 2100, 'green': 2101, 'greedy': 2102, 'media': 2103, 'summoning': 2104, 'ready': 2105, 'nice': 2106, 'thank': 2107, 'peace': 2108, 'victory': 2109, 'decides': 2110, \"who's\": 2111, 'cease': 2112, 'grow': 2113, 'spare': 2114, 'despair': 2115, 'eternal': 2116, 'weapons': 2117, \"steppin'\": 2118, \"killin'\": 2119, \"illin'\": 2120, 'sequel': 2121, 'math': 2122, 'equal': 2123, 'john': 2124, 'yoko': 2125, 'print': 2126, 'paperback': 2127, 'rap': 2128, 'delayed': 2129, 'phrase': 2130, 'razor': 2131, 'slay': 2132, 'pavement': 2133, 'credits': 2134, 'meaning': 2135, 'proper': 2136, 'bred': 2137, 'integrity': 2138, 'suckers': 2139, 'negotiation': 2140, 'resolve': 2141, 'acted': 2142, 'confined': 2143, 'buildings': 2144, 'four…': 2145, 'ghosts': 2146, 'trace': 2147, 'stones': 2148, 'carelessness': 2149, 'suddenly': 2150, \"tomorrow's\": 2151, 'forgiveness': 2152, 'looked': 2153, 'flag': 2154, 'coward': 2155, 'sold': 2156, 'driven': 2157, 'temptation': 2158, 'blinded': 2159, 'sniper': 2160, 'wire': 2161, 'intimidation': 2162, \"callin'\": 2163, 'dancing': 2164, 'hanging': 2165, 'gather': 2166, 'stared': 2167, 'chose': 2168, 'false': 2169, 'solution': 2170, 'proved': 2171, 'venomous': 2172, 'highly': 2173, 'illiterate': 2174, 'mix': 2175, 'equivalent': 2176, 'killing': 2177, 'idiot': 2178, 'stepping': 2179, 'fun': 2180, 'discuss': 2181, 'bus': 2182, 'headed': 2183, 'pusha': 2184, 'wooh': 2185, 'riddance': 2186, 'period': 2187, 'sentence': 2188, 'cellmate': 2189, 'maxed': 2190, 'finished': 2191, 'hail': 2192, 'date': 2193, 'hailstorm': 2194, 'tinted': 2195, \"showin'\": 2196, 'rare': 2197, 'airborne': 2198, 'queen': 2199, 'cheer': 2200, 'consequence': 2201, 'stormzy': 2202, 'bar': 2203, 'chart': 2204, 'twice': 2205, 'stereotypes': 2206, 'mandem': 2207, 'linking': 2208, 'tings': 2209, 'parks': 2210, 'tune': 2211, 'hoes': 2212, 'postcode': 2213, 'gold': 2214, 'coast': 2215, 'bro': 2216, \"bro's\": 2217, 'gang': 2218, 'spent': 2219, 'whisper': 2220, 'yell': 2221, 'admit': 2222, 'repeat': 2223, 'courage': 2224, 'retreat': 2225, 'marching': 2226, 'lonesome': 2227, 'defeat': 2228, 'reverse': 2229, 'illusions': 2230, 'aching': 2231, 'echoes': 2232, 'buzzing': 2233, 'noises': 2234, 'organized': 2235, 'stacking': 2236, 'unnecessary': 2237, 'comfort': 2238, 'gravity': 2239, 'choice': 2240, 'messy': 2241, 'raindrops': 2242, 'blinking': 2243, 'apologized': 2244, 'under—': 2245, 'case': 2246, 'pump': 2247, 'zones': 2248, 'passed': 2249, 'rough': 2250, 'houses': 2251, 'dissolving': 2252, 'vow': 2253, 'bright': 2254, 'stayed': 2255, 'signs': 2256, 'brilliance': 2257, 'asleep': 2258, 'reminders': 2259, 'kitchen': 2260, 'fair': 2261, 'scissors': 2262, 'son': 2263, 'leap': 2264, 'safer': 2265, 'house': 2266, 'nose': 2267, 'paperbacks': 2268, 'smoking': 2269, 'cigarettes': 2270, '20th': 2271, 'aniversarty': 2272, 'dignity': 2273, 'received': 2274, 'builds': 2275, \"sittin'\": 2276, 'amplify': 2277, 'worn': 2278, 'overflowed': 2279, 'spilled': 2280, 'unwillingly': 2281, 'bet': 2282, 'injury': 2283, 'sores': 2284, 'sympathy': 2285, 'hungry': 2286, 'criticize': 2287, 'fingerpoint': 2288, 'thе': 2289, 'bеnd': 2290, 'honesty': 2291, 'exaggerate': 2292, 'undergone': 2293, 'compromise': 2294, 'massive': 2295, 'awaken': 2296, 'carefully': 2297, 'scrеaming': 2298, 'awakеn': 2299, 'hoped': 2300, 'foot': 2301, 'cars': 2302, 'appear': 2303, 'actually': 2304, 'happened': 2305, 'placed': 2306, 'signals': 2307, 'guessed': 2308, 'asked': 2309, 'smallest': 2310, 'fraction': 2311, 'slowed': 2312, 'boundaries': 2313, 'plague': 2314, 'undivided': 2315, 'sunrise': 2316, 'focus': 2317, 'web': 2318, 'spun': 2319, 'games': 2320, 'unfoolish': 2321, 'spring': 2322, 'cuts': 2323, 'vein': 2324, 'scarred': 2325, 'terrain': 2326, 'drain': 2327, \"nothing's\": 2328, 'reached': 2329, 'brain': 2330, 'relive': 2331, 'salvation': 2332, 'vial': 2333, 'exists': 2334, 'sufferingyou': 2335, 'use': 2336, 'chemical': 2337, 'suicide': 2338, 'commit': 2339, 'treat': 2340, 'animal': 2341, 'leash': 2342, 'pet': 2343, 'suck': 2344, 'cigarette': 2345, 'kills': 2346, 'strain': 2347, 'stumble': 2348, 'crutch': 2349, 'restraint': 2350, 'whose': 2351, 'tragedies': 2352, 'tattooed': 2353, \"thing's\": 2354, 'shined': 2355, 'politics': 2356, 'sex': 2357, 'scandal': 2358, 'violence': 2359, 'pressed': 2360, 'buy': 2361, 'rent': 2362, \"government's\": 2363, 'benefit': 2364, 'wicked': 2365, 'trick': 2366, 'celebrating': 2367, \"atom's\": 2368, 'mouths': 2369, 'cause': 2370, 'burns': 2371, 'martyr': 2372, 'heavens': 2373, 'bruised': 2374, 'lick': 2375, 'tunnel': 2376}\n"
     ]
    }
   ],
   "source": [
    "# El índice para cada palabra\n",
    "# El sistema las ordena de las más populares a las menos populares\n",
    "print(tok.word_index)\n",
    "# Se reserva el token 0 para lo que no conoce"
   ]
  },
  {
   "cell_type": "code",
   "execution_count": 66,
   "metadata": {
    "id": "nUDkjy80c77h"
   },
   "outputs": [
    {
     "name": "stdout",
     "output_type": "stream",
     "text": [
      "defaultdict(<class 'int'>, {'papercut': 1, 'mike': 237, '1': 94, 'verse': 198, 'shinoda': 236, 'night': 13, 'like': 164, 'why': 46, 'does': 3, 'it': 309, 'feel': 65, 'today': 27, 'not': 110, 'something': 31, 'in': 373, \"here's\": 2, 'right': 69, 'am': 22, 'i': 998, 'uptight': 1, 'so': 209, 'got': 82, \"paranoia's\": 2, 'all': 275, 'left': 37, 'what': 210, 'first': 4, \"don't\": 177, 'stressed': 1, 'me': 419, 'know': 131, 'was': 89, 'how': 70, 'the': 1012, 'or': 31, 'fed': 1, 'pressure': 5, 'but': 180, 'feels': 8, 'just': 123, 'a': 284, 'voice': 10, 'head': 23, 'back': 164, 'have': 79, 'to': 747, 'my': 301, 'of': 367, 'pre': 95, 'chorus': 364, 'that': 244, 'hold': 26, 'inside': 83, 'face': 46, 'eyes': 28, 'when': 125, 'close': 15, 'awakes': 2, 'watches': 4, 'every': 58, 'time': 85, 'lie': 22, 'laughs': 2, 'fall': 65, 'and': 526, 'everything': 60, 'swim': 3, 'sink': 2, \"it's\": 159, 'here': 31, 'is': 193, 'skin': 28, 'underneath': 2, 'chester': 322, 'bennington': 322, 'over': 18, 'paranoid': 6, \"i'm\": 226, \"lookin'\": 11, 'whirlwind': 5, \"can't\": 127, \"hearin'\": 8, 'stop': 29, 'within': 14, 'beneath': 11, '2': 94, \"i've\": 103, 'out': 117, 'points': 2, 'mistakes': 10, 'too': 48, 'on': 167, \"you've\": 75, 'worse': 10, 'your': 234, 'probably': 1, 'set': 15, 'off': 13, 'stand': 14, 'everybody': 6, 'acts': 1, 'matter': 17, 'fact': 4, 'add': 1, 'you': 759, 'up': 154, 'can': 76, 'has': 27, 'they': 68, \"watchin'\": 10, 'post': 20, 'bridge': 65, 'goes': 23, 'down': 146, 'sun': 29, 'light': 31, 'betray': 4, 'outro': 49, 'closer': 7, 'step': 11, 'one': 100, 'cannot': 10, 'anymore': 11, 'take': 86, 'this': 169, 'saying': 1, 'before': 32, 'said': 36, 'sense': 7, 'make': 32, 'words': 26, 'no': 152, 'these': 33, 'found': 11, 'bliss': 2, 'ignorance': 2, 'hear': 22, 'less': 5, 'say': 115, \"you'll\": 34, 'anyway': 2, 'find': 47, 'edge': 3, 'takes': 9, 'about': 25, 'break': 27, 'room': 6, 'need': 30, 'breathe': 6, 'little': 36, \"'cause\": 71, \"aren't\": 4, 'answers': 7, 'clear': 16, 'way': 70, 'wish': 10, 'disappear': 8, 'could': 34, 'thoughts': 18, 'away': 177, 'seems': 10, 'nothing': 26, 'go': 100, 'again': 58, 'breakeverything': 1, 'breaki': 1, \"edgei'm\": 1, 'shut': 6, 'metakes': 1, \"breathe'cause\": 1, 'edgeand': 1, 'upshut': 1, 'talking': 6, \"upi'm\": 1, 'youshut': 1, 'with': 136, 'cold': 7, 'dream': 4, 'static': 2, 'woke': 5, 'put': 33, 'floor': 10, 'feet': 7, 'forgot': 1, 'yesterday': 9, 'remembering': 2, \"pretendin'\": 1, 'be': 243, 'who': 32, 'taste': 1, 'hypocrisy': 4, 'slow': 9, 'react': 3, 'wake': 12, \"you're\": 116, 'even': 34, 'though': 10, 'still': 11, 'distant': 2, 'bring': 15, 'true': 8, 'promised': 2, 'by': 27, 'sound': 11, 'memories': 17, 'painted': 2, 'if': 73, 'now': 144, 'see': 85, \"keepin'\": 6, 'hit': 11, 'we': 103, 'day': 31, 'rest': 20, 'stands': 1, 'between': 18, 'fine': 1, 'line': 16, 'real': 24, \"isn't\": 10, 'things': 58, 'pretend': 10, 'wrong': 39, 'past': 10, 'memory': 21, 'trapped': 6, \"we've\": 4, 'come': 72, 'far': 39, 'wait': 12, 'tomorrow': 10, 'authority': 1, 'intro': 29, 'else': 24, 'somebody': 5, 'game': 11, 'forfeit': 7, 'name': 11, 'puts': 7, 'frame': 3, 'shame': 13, 'run': 46, 'race': 3, 'cover': 4, 'fast': 4, 'pace': 5, \"won't\": 45, 'last': 15, 'at': 67, 'look': 29, 'love': 17, 'awful': 1, 'through': 35, 'taking': 7, 'while': 16, 'pleasure': 1, 'give': 77, 'pride': 13, 'life': 28, 'broken': 20, 'think': 31, 'never': 99, 'learned': 20, 'live': 35, 'someone': 30, 'act': 15, 'hurt': 20, 'want': 71, 'been': 33, 'share': 4, 'wanna': 127, 'do': 71, \"i'll\": 59, 'myself': 96, 'get': 65, 'yeah': 26, 'crawling': 5, 'heal': 16, 'wounds': 7, 'will': 76, 'fear': 43, 'confusing': 6, 'pulls': 2, \"there's\": 52, 'surface': 4, 'consuming': 2, 'self': 2, 'ending': 3, 'lack': 2, 'control': 15, 'controlling': 3, 'seem': 4, 'closing': 2, 'walls': 5, 'are': 64, 'confidence': 3, 'without': 4, 'convinced': 2, 'much': 27, 'insecure': 3, 'felt': 10, 'itself': 2, 'upon': 19, 'discomfort': 1, 'pulled': 2, 'endlessly': 2, 'reacting': 1, 'distracting': 1, 'reflection': 1, 'against': 6, 'beside': 1, 'own': 23, 'haunting': 2, 'lyrics': 4, 'runaway': 1, 'dust': 10, 'decorations': 1, 'graffiti': 1, 'under': 10, 'sky': 17, 'constant': 1, 'top': 15, 'tension': 8, 'wave': 2, 'trust': 17, 'taught': 4, 'lessons': 1, 'were': 30, 'question': 3, 'finger': 10, 'point': 15, 'association': 3, 'guilty': 17, 'goodbye': 37, 'instead': 5, 'truth': 26, 'wondering': 4, 'more': 73, 'lies': 34, 'mind': 37, 'door': 4, 'open': 17, 'bags': 1, 'paper': 4, 'angry': 5, 'voices': 4, 'than': 31, 'another': 22, 'filled': 2, 'action': 2, 'talk': 13, 'gonna': 27, 'wonder': 4, 'behind': 13, 'ignore': 5, 'them': 22, 'follow': 2, 'instincts': 2, 'blindly': 4, 'bad': 1, 'hide': 6, 'from': 94, 'dreams': 5, 'sad': 1, 'maddening': 1, 'try': 37, 'sit': 1, 'handed': 1, 'red': 3, 'catch': 10, 'fooled': 1, 'phoniness': 1, 'some': 12, 'nobody': 14, 'loneliness': 2, 'thin': 5, 'stretched': 6, 'because': 10, 'lost': 35, 'moves': 1, 'façade': 1, 'daily': 1, 'then': 41, 'end': 50, \"gettin'\": 2, 'ask': 4, 'rely': 4, 'spin': 4, 'anything': 17, 'failure': 5, 'sinking': 6, 'turn': 36, 'defenseless': 1, 'senseless': 1, 'let': 135, \"'til\": 23, \"they'll\": 3, 'gone': 50, 'outdone': 3, 'outrun': 3, \"'em\": 26, 'questions': 3, 'killed': 2, 'cancer': 1, 'answer': 2, 'silence': 14, 'buried': 2, 'interlude': 5, 'touch': 1, 'afraid': 11, 'expect': 1, 'tell': 38, 'hard': 18, 'convince': 4, 'outside': 2, 'stuck': 7, 'starts': 1, 'thing': 21, \"doesn't\": 17, 'keep': 27, 'designed': 2, 'rhyme': 3, 'due': 1, 'explain': 4, 'valuable': 1, 'watch': 19, 'fly': 2, 'as': 39, 'swings': 1, 'pendulum': 1, 'count': 1, 'ticks': 1, 'unreal': 1, 'clock': 1, 'below': 11, \"didn't\": 16, 'window': 3, \"tryin'\": 11, 'd': 1, 'wasted': 1, 'kept': 11, 'apart': 18, 'fell': 4, 'tried': 11, 'meant': 6, 'eventually': 4, 'lose': 32, 'had': 23, 'remind': 1, 'spite': 4, \"mockin'\": 1, 'part': 21, \"actin'\": 6, 'property': 1, 'fought': 2, 'times': 5, 'surprised': 2, \"wouldn't\": 3, 'recognize': 1, 'knew': 8, 'comes': 9, 'pushed': 5, 'for': 169, 'only': 31, 'should': 13, 'place': 26, 'moon': 2, 'dark': 10, 'sits': 1, 'shining': 2, 'assuming': 1, \"moon's\": 1, 'owe': 6, 'makes': 10, 'rapidly': 1, 'favors': 1, 'around': 19, 'start': 16, \"askin'\": 1, 'sick': 24, 'hunger': 6, 'greed': 17, 'feed': 5, 'hate': 7, 'understand': 19, 'enemy': 11, 'energy': 3, 'maybe': 2, 'someday': 2, 'people': 27, 'thought': 30, 'remember': 12, 'calm': 1, 'used': 13, 'strong': 3, 'known': 4, 'shoulda': 1, 'generous': 1, 'wear': 2, 'welcome': 1, \"you'd\": 6, 'alone': 49, 'quiet': 6, 'best': 12, 'stay': 17, 'forgotten': 7, 'bottom': 5, 'core': 5, 'middle': 7, 'safety': 5, 'taken': 9, 'there': 70, \"picture's\": 5, 'care': 7, 'escape': 7, 'shock': 2, 'which': 2, 'cock': 2, 'defend': 2, 'skies': 4, 'acidic': 1, 'dripping': 2, 'rain': 3, 'sends': 1, 'suggestion': 1, 'forcefully': 1, 'power': 4, 'rust': 8, 'rot': 1, 'floods': 4, 'small': 1, 'spot': 1, 'world': 34, 'pours': 1, 'rusted': 1, 'ease': 1, 'burning': 13, 'holding': 32, 'darkness': 29, 'tightly': 6, 'until': 31, 'rises': 4, \"movin'\": 3, 'ups': 1, \"screamin'\": 1, 'downs': 1, 'pollution': 1, 'manifested': 1, 'perpetual': 1, 'sunset': 1, 'creeps': 1, 'wheels': 3, 'round': 1, 'link': 1, 'chain': 2, 'concrete': 1, 'street': 3, 'lamps': 1, 'picture': 3, 'piece': 4, 'drawn': 4, 'wind': 5, 'floats': 1, \"paper's\": 1, 'crumpled': 1, 'perfect': 2, 'caught': 18, \"tellin'\": 8, 'pushing': 1, 'lied': 2, 'always': 32, 'same': 38, 'smile': 5, 'fake': 1, 'sake': 2, 'being': 7, 'falls': 2, 'frown': 2, 'sacrifice': 8, 'hiding': 4, 'soon': 3, \"we're\": 24, 'unwind': 2, 'knowing': 9, 'played': 10, 'walked': 6, 'testing': 6, 'pushes': 7, 'wanted': 22, 'blame': 28, 'unwinds': 2, 'december': 7, 'year': 3, 'home': 11, 'snow': 3, 'covered': 2, 'missed': 10, \"i'd\": 17, 'somewhere': 17, 'trees': 1, 'pretending': 6, 'meteora': 2, 'don’t': 1, 'sometimes': 22, 'disbelief': 2, 'somehow': 18, 'both': 12, 'our': 26, 'forget': 15, 'possibilities': 4, 'into': 34, 'changing': 3, 'faithlessness': 2, 'well': 8, 'trusted': 1, 'screaming': 3, 'stayi': 1, 'ignored': 12, 'wasting': 2, 'apologies': 1, \"nothin'\": 11, 'began': 6, 'nothingness': 1, 'confused': 4, 'person': 5, 'revealed': 1, 'vacancy': 2, 'hollow': 3, 'fault': 5, 'held': 27, 'long': 8, 'pain': 55, 'erase': 6, 'along': 7, 'belong': 7, 'believe': 5, 'everywhere': 2, 'imagined': 1, 'negativity': 2, 'justify': 2, 'everyone': 17, 'gain': 5, 'healed': 1, 'exactly': 4, 'criminal': 2, \"stealin'\": 1, 'second': 5, 'after': 13, \"it'll\": 1, 'bend': 4, 'trying': 12, 'lying': 4, 'turning': 15, 'aside': 5, 'rather': 6, 'anywhere': 3, 'very': 5, 'worst': 11, 'condescending': 1, 'oughta': 1, \"listenin'\": 1, \"fittin'\": 1, 'pretended': 1, 'really': 10, 'push': 14, \"pullin'\": 1, 'would': 34, \"runnin'\": 7, 'many': 10, 'protect': 1, 'courtesy': 1, 'needed': 2, \"havin'\": 1, 'upper': 3, \"puttin'\": 1, 'means': 3, 'gotta': 10, 'hand': 13, 'offs': 2, \"waitin'\": 7, 'mine': 19, 'minute': 7, 'drop': 6, 'next': 10, 'heart': 28, \"makin'\": 7, 'shot': 6, 'won': 3, 'concerned': 1, 'eggshells': 1, 'walk': 2, 'stepped': 1, 'crossed': 3, 'surely': 1, \"countin'\": 2, 'single': 2, 'us': 32, 'divide': 7, 'floating': 7, 'above': 5, 'easier': 8, 'numb': 8, 'replacing': 3, 'deep': 7, 'locked': 2, 'secret': 1, 'ever': 19, 'show': 16, 'moving': 2, \"they've\": 2, 'years': 5, 'pictures': 1, 'change': 14, 'move': 12, 'made': 25, 'retrace': 6, 'grave': 5, 'bringing': 4, 'looking': 14, 'letting': 2, 'forward': 1, \"there'd\": 1, 'washing': 1, 'helplessness': 1, 'misplaced': 1, 'simpler': 1, 'bit': 3, 'disregard': 2, 'help': 8, 'complaints': 1, 'handful': 5, 'scars': 7, 'did': 19, 'damage': 6, 'unconfident': 1, 'doubt': 6, 'once': 4, 'listen': 7, 'breakdown': 5, 'attached': 2, 'stops': 1, \"happenin'\": 2, 'distract': 1, 'infinite': 1, 'gave': 4, 'display': 1, \"settin'\": 1, 'realize': 5, 'free': 15, 'took': 9, 'hated': 3, 'become': 26, 'done': 31, 'separate': 6, 'giving': 7, 'started': 2, 'slowly': 1, 'escaped': 1, \"committin'\": 1, 'regret': 5, 'those': 6, \"sayin'\": 6, 'gimme': 2, 'space': 5, \"lettin'\": 4, 'consume': 1, 'opening': 1, 'wound': 1, 'picking': 1, 'safe': 14, 'assume': 1, 'unless': 3, 'choose': 6, 'battles': 2, 'scream': 12, 'worth': 5, 'fighting': 15, \"what's\": 24, 'instigate': 3, 'mean': 7, 'alright': 6, 'breaking': 8, 'habit': 7, 'tonight': 7, 'cure': 1, 'clutching': 1, 'lock': 2, 'breath': 6, 'anytime': 1, 'options': 1, 'paint': 2, 'fight': 14, 'ends': 2, 'clarity': 2, 'surprise': 5, 'sift': 1, 'heavy': 11, 'deceit': 2, 'tired': 11, 'tiring': 2, 'throw': 23, 'swear': 5, 'steadily': 1, 'building': 8, 'forcing': 1, 'their': 9, 'waste': 6, 'com': 6, \"comin'\": 9, 'com—': 1, 'style': 2, 'peep': 1, \"checkin'\": 2, 'kids': 4, 'yo': 5, 'number': 1, 'cut': 9, 'tracks': 1, 'basement': 1, \"backin'\": 1, 'raps': 1, 'rewind': 1, 'rhythm': 6, \"rollin'\": 2, 'ashes': 7, 'rise': 5, 'stylistic': 1, 'division': 1, \"livin'\": 4, 'non': 1, 'unforgiven': 1, 'meantime': 1, 'suppose': 2, 'where': 28, 'gets': 10, 'feelings': 2, 'dirt': 3, 'dirty': 2, \"spreadin'\": 1, '\\u200bgoes': 1, 'warning': 3, 'ignores': 3, 'told': 15, 'loud': 14, 'listening': 11, \"nobody's\": 11, 'call': 5, 'clearly': 5, 'stress': 6, 'full': 11, 'anger': 8, 'chest': 7, \"left's\": 1, \"else's\": 1, 'rhymes': 1, \"ridin'\": 1, 'better': 10, 'together': 7, \"guessin'\": 1, 'write': 1, \"somethin'\": 8, 'sights': 3, 'tears': 5, 'sweat': 6, 'blood': 22, 'uphill': 4, 'struggle': 4, 'trash': 1, \"talkin'\": 4, 'side': 20, 'feeling': 7, 'faithless': 1, 'expecting': 1, 'walking': 16, 'shoes': 2, 'undertow': 4, 'mistake': 5, 'aware': 4, 'becoming': 5, 'smothering': 1, 'fallen': 1, 'front': 12, 'may': 7, 'failing': 1, 'disappointed': 1, 'minutes': 1, 'midnight': 1, 'given': 4, 'laid': 2, 'disgrace': 1, \"day's\": 1, 'leave': 19, \"feelin'\": 3, \"suffocatin'\": 3, 'fuck': 9, 'scared': 8, 'focused': 3, 'prepared': 2, 'hyperventilate': 1, 'cares': 11, 'god': 12, 'misery': 16, 'fucking': 2, 'dreamed': 1, 'missing': 4, 'cared': 1, 'dreaming': 3, 'leaving': 2, 'asking': 4, 'reasons': 3, 'empty': 8, 'resent': 3, 'beating': 2, 'shared': 1, 'neither': 1, 'forgetting': 4, 'save': 16, 'bleed': 19, 'hundredth': 1, 'grenade': 1, 'pins': 1, 'shine': 1, \"goin'\": 1, \"fuckin'\": 3, 'mouth': 4, 'filthy': 3, 'excuse': 1, 'noose': 1, 'new': 14, 'hang': 1, 'roofs': 1, 'atop': 1, 'string': 1, 'tight': 1, 'knot': 1, 'loose': 2, 'stare': 1, 'bled': 1, 'trench': 1, 'dug': 1, 'reach': 6, 'shovel': 1, 'pour': 1, 'dance': 3, 'stomp': 2, 'prayers': 2, 'deeper': 16, \"diggin'\": 10, 'digging': 3, 'flow': 2, 'choppy': 1, 'sloppy': 1, 'load': 1, 'opera': 1, 'shotgun': 2, 'cursed': 1, 'mama': 4, 'death': 2, 'hearse': 1, 'candy': 1, 'brand': 3, 'his': 13, 'contain': 1, 'knows': 1, 'him': 7, 'works': 2, 'he': 8, 'hurts': 1, 'half': 3, 'satisfied': 1, \"ignorin'\": 1, 'opened': 1, 'shadow': 6, 'locks': 1, 'blinds': 1, 'solutions': 3, 'simple': 4, \"goodbye's\": 2, 'oh': 71, 'embrace': 4, 'gray': 4, 'cards': 3, 'flowers': 1, 'plead': 1, 'friends': 2, 'beginnings': 1, 'guitar': 9, 'solo': 9, 'instrumental': 20, 'farewell': 1, 'alibi': 1, 'thousand': 10, 'wash': 15, 'mercy': 8, 'cross': 7, 'slate': 1, 'clean': 6, 'uncertainty': 1, 'hands': 13, 'whatever': 1, 'forgiving': 2, 'na': 14, 'high': 16, 'mic': 1, 'louder': 1, 'lightweights': 1, 'syllables': 1, \"pumpin'\": 2, 'panic': 2, 'leaf': 1, 'sheet': 1, 'complete': 1, 'jump': 2, \"dumpin'\": 1, 'summon': 1, 'blind': 5, 'promise': 9, 'healing': 2, 'ways': 4, 'march': 1, \"drummin'\": 1, \"jumpin'\": 1, 'fists': 3, 'risk': 1, 'yours': 8, 'might': 8, 'attack': 3, 'treated': 1, 'stupid': 1, \"standin'\": 2, \"war's\": 1, 'war': 16, 'different': 2, 'rich': 3, 'abandon': 1, 'poor': 3, 'cater': 1, 'jet': 1, 'tank': 1, 'gas': 2, \"laughin'\": 3, 'check': 2, \"cashin'\": 1, 'fuckers': 1, 'bank': 3, 'respect': 3, 'compassion': 1, 'refrain': 3, 'an': 25, 'obvious': 1, 'nervous': 1, 'leader': 4, 'replay': 2, \"stutterin'\": 2, 'nightly': 2, \"mumblin'\": 2, 'news': 3, 'choir': 3, 'amen': 18, 'watching': 3, 'happen': 3, 'tense': 1, 'men': 2, 'bold': 1, 'blown': 1, 'fractions': 1, 'old': 16, 'ten': 3, 'kid': 2, 'age': 1, 'jeep': 1, 'drugged': 1, 'bound': 2, 'later': 2, 'tree': 1, 'soldiers': 1, 'brush': 1, 'bulletproof': 1, 'vests': 1, 'ironic': 1, 'pray': 1, 'mosque': 1, 'bomb': 1, 'blew': 2, 'roads': 10, 'buses': 1, 'bombs': 1, 'bikes': 1, 'clothes': 1, 'market': 1, 'shops': 1, 'lot': 3, 'dad': 1, \"he's\": 10, 'enough': 8, 'brother': 2, 'book': 1, 'spine': 1, 'wrote': 1, 'quote': 1, 'die': 3, 'wage': 1, 'meanwhile': 1, 'talks': 1, 'blue': 7, 'opens': 6, 'swallow': 16, 'ocean': 14, 'sorrow': 7, 'yourself': 9, 'disguise': 1, \"crusade's\": 1, 'replaced': 7, 'money': 5, 'trade': 4, 'lives': 1, 'freedom': 1, 'paid': 6, 'borrowed': 4, 'liars': 1, 'thieves': 4, 'abuse': 1, 'hope': 10, 'believed': 3, 'beginning': 2, 'deceived': 1, 'pay': 6, 'hypocrites': 3, 'erased': 1, 'valentine’s': 1, 'ash': 6, 'turned': 3, 'insides': 1, 'collapsed': 1, 'sight': 7, 'black': 14, 'dissatisfied': 2, 'clouds': 6, 'heartless': 3, 'blowing': 2, 'protection': 3, 'path': 5, 'direction': 5, 'grew': 1, 'colder': 1, 'ground': 18, \"valentine's\": 6, 'apologize': 13, 'begin': 4, 'harder': 3, 'genuine': 1, 'seemed': 3, 'none': 8, \"that's\": 12, '3': 9, 'regain': 2, 'plan': 1, 'language': 1, \"guilt's\": 1, 'speak': 4, 'actions': 1, 'pieces': 5, 'telling': 4, 'beg': 5, 'lips': 3, 'faith': 3, 'lay': 1, 'build': 2, \"got's\": 2, 'secrets': 6, 'regrets': 8, 'toss': 1, 'stone': 1, 'arms': 5, 'wrap': 1, 'bone': 14, 'chill': 1, 'grey': 2, 'water': 1, 'stairs': 1, 'windows': 2, 'chilling': 1, \"mistakin'\": 2, 'levees': 2, \"breakin'\": 5, 'truly': 9, 'underwater': 2, 'six': 3, 'decays': 1, 'generations': 1, 'washed': 5, 'nation': 1, 'simply': 1, 'stares': 1, 'underground': 4, 'standing': 9, 'perfection': 1, 'searching': 7, 'flaws': 4, 'splits': 3, 'purpose': 2, 'deserve': 11, 'across': 15, 'desert': 1, 'gun': 10, 'flashes': 2, 'fire': 12, 'frozen': 2, 'fragile': 3, 'friend': 3, 'bullet': 1, 'pulling': 6, 'weapon': 7, 'goodbyes': 6, 'loading': 6, 'sweating': 1, 'shaking': 1, 'her': 13, 'wakes': 1, 'cravings': 1, 'she': 6, 'eye': 17, 'needle': 1, \"she's\": 8, 'battle': 14, 'choosing': 2, 'losing': 7, \"enemy's\": 4, 'spoken': 3, 'suns': 6, 'requiem': 1, 'ooh': 18, 'burn': 19, 'fires': 4, 'tongue': 4, 'sins': 8, 'father': 4, 'young': 6, 'four': 3, 'three': 5, 'two': 7, 'radiance': 1, 'oppenheimer': 1, 'robert': 1, 'j': 1, 'laughed': 4, 'few': 2, 'cried': 1, 'silent': 1, 'most': 1, 'scripture': 1, 'hindu': 1, 'gita': 1, 'bhagavad': 1, 'duty': 1, 'prince': 1, 'vishnu': 1, 'persuade': 1, 'armed': 1, 'impress': 1, 'form': 3, 'says': 1, 'multi': 1, 'destroyer': 4, 'worlds': 1, 'deadwood': 1, 'innocence': 3, 'cup': 1, \"risin'\": 1, 'sea': 1, 'debris': 1, 'poured': 1, 'burned': 5, 'smoke': 5, 'bridges': 5, 'swimming': 2, 'storm': 3, 'human': 1, 'chambers': 1, 'blackened': 1, 'bones': 1, 'spaces': 1, 'explosions': 2, 'callouts': 1, 'delson': 4, 'brad': 4, 'pelotones': 1, 'atención': 3, 'todos': 2, 'mismo': 2, 'ahora': 3, 'presten': 1, 'los': 1, 'pattern': 1, 'followed': 2, 'tough': 3, 'pill': 1, 'model': 1, 'role': 1, 'born': 2, 'fortune': 1, 'fame': 2, 'nor': 1, 'dog': 2, 'came': 11, 'ring': 4, 'sicker': 1, \"underbelly's\": 1, 'ugly': 1, 'blueprint': 1, 'curse': 1, 'gift': 1, 'theory': 1, 'wants': 2, 'robot': 2, 'monkey': 2, \"beat's\": 1, 'funky': 1, 'lazy': 1, 'punk': 2, 'opposite': 3, 'ought': 2, 'motherfucker': 6, \"y'all\": 9, 'ah': 27, 'lauryn': 1, 'situation': 3, 'big': 2, 'increase': 1, 'complication': 1, 'kane': 1, \"ain't\": 14, 'ton': 1, 'weigh': 1, 'chuck': 1, 'uzi': 1, \"motherfuckin'\": 1, 'student': 1, \"rockin'\": 3, 'stage': 1, 'brought': 2, 'underrated': 1, 'correct': 1, 'awfully': 1, 'record': 2, 'state': 2, \"i'ma\": 2, 'mistaken': 2, 'wack': 1, 'weak': 2, 'slack': 1, 'heat': 1, 'synonym': 1, 'crack': 5, 'closest': 1, 'peak': 2, 'woah': 4, 'escuchénme': 4, 'preste': 2, 'toda': 1, 'gente': 1, 'la': 1, 'eh': 6, 'boy': 1, 'sure': 4, 'weight': 8, \"compassion's\": 1, 'flaw': 1, 'strength': 8, 'nah': 2, 'da': 2, 'ho': 1, 'ha': 1, 'mah': 1, 'del': 1, 'jornada': 1, 'muerto': 1, 'mochiagete': 4, 'tokihanashite': 4, 'waiting': 13, \"beginnin'\": 1, 'riot': 3, 'revision': 2, 'violent': 3, 'tone': 3, 'steady': 5, \"empty's\": 2, 'air': 3, \"flyin'\": 2, \"holdin'\": 2, 'onto': 3, 'invisible': 18, 'dead': 8, 'wishing': 3, 'planned': 4, 'speed': 1, 'flying': 1, 'spinning': 5, 'unsaid': 1, \"haven't\": 8, 'sitting': 1, \"wasn't\": 3, 'figure': 1, 'kind': 7, 'went': 1, \"pickin'\": 1, \"startin'\": 1, 'hardest': 1, \"endin'\": 1, 'living': 8, 'blackout': 14, 'bed': 1, 'saw': 4, 'keeping': 2, 'written': 1, 'deeply': 1, 'remorse': 1, 'suffocate': 1, 'mess': 3, 'bla': 1, 'your—': 1, 'fill': 5, 'colors': 3, 'fields': 1, 'white': 5, 'pass': 7, 'future': 5, 'gazing': 1, 'overwrite': 1, 'collect': 2, 'kings': 4, 'wretches': 3, 'savio': 2, 'mario': 2, 'becomes': 4, 'machine': 3, 'operation': 2, 'odious': 2, 'passively': 2, 'gears': 2, 'bodies': 4, 'apparatus': 2, 'levers': 2, 'low': 5, 'lotta': 2, 'yet': 6, 'word': 6, 'obey': 2, 'heard': 10, 'absurd': 1, 'unload': 4, 'shit': 3, 'guns': 4, 'outta': 2, 'hey': 5, 'blow': 4, 'steel': 10, 'final': 12, 'animals': 3, 'whoa': 7, 'hat': 1, 'hi': 1, 'kick': 2, 'contract': 1, 'contact': 1, 'pitch': 1, 'pen': 1, 'combat': 1, 'button': 1, 'whole': 3, \"spinnin'\": 1, 'beat': 6, 'shall': 1, 'indicate': 1, 'working': 1, 'prevented': 1, '–': 1, 'iridescent': 1, 'park': 4, 'linkin': 4, 'band’s': 2, 'oil': 2, 'based': 1, 'further': 1, 'according': 1, 'patterns': 1, 'motive': 1, 'rainbow': 1, 'amplified': 1, 'chaos': 1, '“iridescent”': 1, 'machines': 1, 'fourth': 1, 'band': 2, 'formation': 1, 'album': 1, 'song': 3, 'ballad': 1, 'amongst': 1, 'amidst': 1, 'bubbles': 1, 'sadness”': 1, 'symbol': 1, 'spills': 1, 'positivity': 1, 'song’s': 1, 'soap': 1, 'it’s': 1, 'since': 1, '“rock': 1, 'title': 1, 'invoke': 1, 'video': 2, 'joe': 1, 'directed': 1, 'turntablist': 1, 'hahn': 1, 'video’s': 1, 'description': 1, 'concept': 1, 'valley': 1, 'king’': 1, '‘in': 1, 'eyed': 1, 'man': 7, 'film': 1, 'contributions': 1, 'also': 2, 'theme': 1, 'previous': 1, 'done”': 1, 'divide”': 1, 'i’ve': 1, 'third': 1, 'transformers': 1, 'namely': 1, 'tradition': 1, 'franchise': 1, '“what': 1, '“new': 1, 'pediatric': 1, 'foundation': 2, 'official': 1, 'oncology': 1, 'awareness': 1, 'co': 1, 'raising': 2, 'addition': 1, 'music': 1, 'frontman': 1, 'signed': 1, 'chair': 3, 'aimed': 1, 'season': 1, 'released': 1, 'stars': 11, 'fallout': 1, \"swimmin'\": 1, \"losin'\": 2, 'catalyst': 1, 'bless': 3, 'loaded': 4, 'outfought': 2, 'outmatched': 2, 'symphonies': 1, 'blinding': 3, 'decay': 1, 'transmissions': 1, 'echoing': 1, 'oceans': 1, 'messenger': 1, 'cruel': 1, 'angel': 1, 'sing': 3, 'guide': 1, 'leaves': 3, 'keeps': 3, 'suffered': 1, 'spirit': 1, 'desperate': 1, 'growing': 1, 'loved': 2, 'melody': 1, 'lightning': 1, 'remembered': 2, 'blur': 2, 'flash': 1, 'each': 6, 'startling': 1, 'finally': 6, 'sign': 3, 'fate': 1, 'prove': 3, 'reason': 6, 'distance': 3, 'hole': 6, 'connect': 2, 'abandoned': 2, 'nowhere': 1, 'caved': 1, 'loss': 1, 'deny': 3, 'great': 1, 'echo': 4, 'conditioned': 1, 'sickness': 1, 'flip': 1, 'vicious': 1, \"couldn't\": 20, 'yep': 1, 'rep': 1, 'hell': 3, 'sell': 3, 'soul': 6, 'tale': 1, 'promises': 10, 'test': 1, 'odds': 1, 'stack': 1, 'smart': 2, \"how's\": 1, 'huh': 1, \"workin'\": 1, 'frustration': 1, 'seen': 7, 'unshaken': 1, 'lived': 2, 'mapped': 1, 'cloned': 1, 'flat': 1, 'c': 1, 'bells': 2, 'wherever': 1, 'bow': 1, 'fold': 1, 'roll': 2, 'enemies': 3, 'stopped': 1, 'remains': 5, 'sifting': 1, 'wreckage': 2, 'concentrate': 1, 'message': 1, 'chance': 4, 'alive': 7, 'falling': 11, 'cracks': 1, 'army': 4, 'repeated': 1, 'cycle': 1, 'broke': 3, 'conflicted': 1, 'climbed': 1, 'flames': 5, 'fix': 2, 'tearing': 2, 'glow': 3, 'castle': 6, 'glass': 6, 'yes': 2, 'soldier': 3, 'king': 2, 'kissed': 1, 'struck': 1, 'crown': 1, 'built': 5, 'fan': 3, 'blazes': 3, 'nail': 1, 'coffin': 1, 'n': 1, 'softened': 1, 'reload': 1, \"duckin'\": 1, 'patience': 1, 'explanations': 1, 'petty': 1, 'le': 1, 'ego': 1, 'slick': 1, 'l': 1, 'composure': 2, 'sounds': 2, 'choke': 9, 'suffer': 8, 'threat': 1, 'intimidate': 1, 'disrespect': 1, 'di': 1, 'slipping': 2, 'glistening': 1, 'deceiving': 1, 'lights': 7, 'fade': 18, 'climbing': 3, 'getting': 3, 'thinner': 1, 'bittersweet': 1, 'winter': 2, 'setting': 1, \"'cross\": 1, 'horizon': 4, 'river': 1, 'poison': 1, 'wing': 1, 'silver': 1, 'sirens': 2, \"nova's\": 1, 'warm': 1, 'hardly': 4, 'victimized': 7, 'shirt': 1, 'indonesian': 1, 't': 2, 'vendor': 1, 'betrayed': 3, 'repaid': 2, 'debt': 3, \"they're\": 9, 'acting': 1, 'siren': 1, 'climbs': 1, 'higher': 2, 'snakes': 1, 'grass': 1, \"supplyin'\": 1, 'venom': 1, 'admire': 1, 'teeth': 2, 'hidden': 1, \"thinkin'\": 1, 'shadows': 5, 'stomach': 1, 'kidding': 1, 'already': 7, 'victim': 10, \"i'mma\": 2, 'untraveled': 3, 'weep': 4, 'paths': 1, 'beyond': 1, 'cost': 2, 'glad': 1, 'unseen': 2, 'alongside': 1, 'seat': 1, 'its': 2, 'deception': 1, 'disgust': 1, 'happy': 2, 'starlight': 2, \"marchin'\": 2, 'fades': 1, 'breaks': 6, 'lion': 1, 'competition': 1, 'original': 1, '808': 1, 'drum': 1, 'track': 1, 'rockets': 1, 'daddy': 1, 'pretty': 2, 'shoot': 3, 'learn': 6, \"snake's\": 1, \"shark's\": 1, 'bite': 1, 'fights': 1, 'view': 1, \"layin'\": 5, 'rising': 2, 'unsung': 1, 'kingdom': 6, 'rock': 2, 'block': 1, 'poppa': 1, 'obsolete': 1, 'impostors': 1, 'creep': 1, 'meek': 1, 'styles': 1, 'switch': 2, 'dime': 1, 'quick': 2, 'witted': 1, \"cryin'\": 1, \"trippin'\": 1, 'quit': 2, 'grind': 1, 'sucker': 2, 'squad': 1, \"firin'\": 1, 'lineup': 2, \"playin'\": 2, 'bang': 3, 'slain': 1, 'sliver': 1, 'iller': 1, 'deliver': 1, 'quiver': 1, 'pants': 1, 'shake': 2, 'play': 5, 'takedown': 1, 'brainwash': 1, 'banksy': 1, 'waves': 2, 'shore': 1, 'crash': 1, 'body': 2, 'bends': 2, 'sings': 3, 'morning': 11, 'early': 2, 'sleep': 3, 'store': 1, 'torn': 1, 'flesh': 2, 'powerless': 6, 'skeletons': 1, 'hid': 1, 'shown': 1, 'devil': 2, 'evidence': 1, 'crimson': 1, 'soaking': 1, 'careless': 3, 'chased': 1, 'watched': 1, 'emptiness': 1, 'became': 1, 'party': 1, 'keys': 5, 'tossed': 4, 'casualty': 5, 'futility': 3, 'fist': 1, 'least': 3, 'resist': 1, 'ourselves': 1, 'method': 1, 'insane': 3, 'range': 1, 'anglo': 1, 'panko': 1, 'fried': 1, 'rhymer': 1, 'prime': 1, 'bass': 2, \"aimin'\": 1, 'lames': 1, 'aim': 2, 'careful': 3, 'allowed': 1, 'certain': 1, 'other': 9, \"anticipatin'\": 1, \"what'cha\": 1, 'debate': 1, \"battle's\": 1, 'skate': 1, 'hamilton': 2, 'page': 2, 'demand': 1, 'obeyed': 1, 'fucker': 1, 'ya': 1, 'paranoia': 1, \"jokin'\": 1, 'tail': 1, 'tuck': 1, 'disgusted': 1, \"could've\": 11, 'orders': 1, 'any': 2, \"takin'\": 1, 'star': 1, 'infantry': 1, 'general': 1, 'controller': 1, 'five': 1, 'lesson': 1, 'ashamed': 6, 'unclean': 4, 'unprepared': 1, 'saved': 2, 'near': 2, 'rakim': 1, 'land': 1, 'plans': 1, \"bein'\": 1, 'wealthy': 1, \"bosses'\": 1, 'scheme': 1, 'split': 2, 'nonsense': 1, 'corporate': 1, 'team': 1, 'route': 1, 'accounts': 1, 'realty': 1, 'assets': 1, 'conscience': 1, 'expense': 1, \"anybody's\": 1, 'claim': 1, 'guilt': 1, 'flame': 1, 'screen': 1, 'dough': 1, 'deal': 2, \"knowin'\": 1, 'product': 1, 'rebuilt': 1, 'good': 18, 'rearrange': 1, 'cheap': 1, 'drained': 1, 'artists': 1, 'manipulated': 1, 'authentic': 1, 'radio': 1, 'hop': 1, 'pop': 1, 'hip': 1, 'companies': 1, 'stray': 1, 'force': 4, 'gall': 1, \"we'll\": 2, 'green': 1, 'greedy': 1, 'tv': 2, 'media': 1, 'summoning': 1, 'ball': 3, 'ready': 1, 'nice': 1, 'thank': 1, 'peace': 1, \"who's\": 1, 'victory': 1, 'decides': 1, 'cease': 1, 'grow': 1, 'spare': 1, 'despair': 1, 'forever': 6, 'eternal': 1, 'needs': 2, 'wastelands': 12, \"steppin'\": 1, 'weapons': 1, \"killin'\": 1, 'murder': 2, \"illin'\": 1, 'equal': 1, 'sequel': 1, 'math': 1, 'yoko': 1, 'john': 1, 'print': 1, 'paperback': 1, 'delayed': 1, 'rap': 1, 'phrase': 1, 'razor': 1, 'blade': 2, 'slay': 1, 'pavement': 1, 'disappears': 3, 'turns': 5, 'slips': 3, 'credits': 1, 'meaning': 1, 'proper': 1, 'bred': 1, 'integrity': 1, 'suckers': 1, 'negotiation': 1, 'finding': 2, 'rebellion': 8, 'flood': 2, 'confusion': 3, 'resolve': 1, 'story': 4, 'repair': 2, 'ones': 8, 'fortunate': 8, \"oppression's\": 4, \"who've\": 4, 'faced': 4, 'imitations': 4, 'acted': 1, 'confined': 1, 'buildings': 1, 'mark': 3, 'graves': 2, 'four…': 1, 'ghosts': 1, 'trace': 1, 'stones': 1, 'carelessness': 1, 'masquerade': 8, 'moment': 4, \"tomorrow's\": 1, 'suddenly': 1, 'brighter': 3, 'slipped': 3, 'forgiveness': 1, 'crime': 3, 'sand': 2, 'stood': 2, 'wall': 4, 'looked': 1, 'flag': 1, 'led': 7, 'coward': 1, 'sold': 1, 'driven': 1, 'temptation': 1, 'blinded': 1, 'wire': 1, 'sniper': 1, 'ran': 3, 'intimidation': 1, \"callin'\": 1, 'dancing': 1, 'demons': 2, 'hanging': 1, 'gather': 1, 'headfirst': 2, 'hallucination': 2, 'wide': 7, 'awake': 9, 'forgiven': 3, 'chasing': 4, 'illusion': 2, 'stared': 1, 'solution': 1, 'false': 1, 'chose': 1, 'proved': 1, 'road': 20, 'pack': 4, 'venomous': 1, 'wild': 2, 'read': 2, 'highly': 1, 'illiterate': 1, 'mix': 1, 'equivalent': 1, 'killing': 1, 'longer': 2, 'idiot': 1, 'mad': 5, 'stepping': 1, 'fun': 1, 'discuss': 1, 'bus': 1, 'headed': 1, 'pusha': 1, 'wooh': 1, 'riddance': 1, 'period': 1, 'sentence': 1, 'cellmate': 1, 'finished': 1, 'maxed': 1, 'hail': 1, 'date': 1, 'hailstorm': 1, 'tinted': 1, \"showin'\": 1, 'rare': 1, 'wings': 2, 'airborne': 1, 'queen': 1, 'cheer': 1, 'consequence': 1, 'stormzy': 1, 'bar': 1, 'twice': 1, 'chart': 1, 'stereotypes': 1, 'tings': 1, 'mandem': 1, 'linking': 1, 'parks': 1, 'tune': 1, 'hoes': 1, 'postcode': 1, 'coast': 1, 'gold': 1, 'bro': 1, \"bro's\": 1, 'gang': 1, 'spent': 1, 'running': 2, 'yell': 1, 'whisper': 1, 'admit': 1, 'calling': 1, 'symphony': 11, 'repeat': 1, 'courage': 1, 'armor': 3, 'fuse': 3, 'please': 10, 'retreat': 1, 'marching': 1, 'defeat': 1, 'lonesome': 1, 'reverse': 1, 'surrender': 2, 'illusions': 1, 'knocked': 2, 'pick': 6, 'aching': 1, 'echoes': 1, 'buzzing': 1, 'noises': 1, 'organized': 1, \"should've\": 6, 'tear': 4, 'stacking': 1, 'unnecessary': 1, 'problems': 3, 'comfort': 1, 'drive': 4, 'crazy': 4, \"everything's\": 2, 'thinking': 4, 'gravity': 1, 'kiiara': 5, 'carry': 4, 'dragging': 3, 'choice': 1, 'messy': 1, 'center': 4, 'universe': 4, \"'round\": 4, 'sorry': 9, 'blinking': 1, 'raindrops': 1, 'apologized': 1, 'halfway': 9, 'refuse': 2, '—stand': 2, 'under—': 1, 'case': 1, 'pump': 1, 'zones': 1, 'passed': 1, 'rough': 1, 'going': 4, 'win': 8, 'houses': 1, 'car': 2, 'driving': 2, 'vow': 1, 'dissolving': 1, 'paralyzed': 2, 'bright': 1, 'guess': 5, 'bullshit': 2, 'stayed': 1, 'signs': 1, 'asleep': 1, 'brilliance': 1, 'million': 3, 'flickers': 3, 'runs': 3, \"someone's\": 3, 'quicker': 3, 'reminders': 1, 'pull': 2, 'kitchen': 1, 'fair': 1, 'sharp': 7, 'edges': 7, 'son': 1, 'scissors': 1, 'leap': 1, 'beaten': 3, 'listened': 5, 'consequences': 6, 'scar': 4, 'safer': 1, 'house': 1, 'nose': 1, 'paperbacks': 1, 'cigarettes': 1, 'smoking': 1, 'stronger': 4, 'kill': 7, 'aniversarty': 1, '20th': 1, 'dignity': 1, 'received': 1, \"ll'ti\": 5, 'eno': 8, '\\u200b\\u200b\\u200b': 2, 'siht': 5, 'neppah': 5, 'reven': 5, 'stnaw': 8, 'ot': 5, 'ti': 8, 'builds': 1, 'amplify': 1, \"sittin'\": 1, 'ruining': 2, 'making': 2, 'grace': 6, 'changed': 5, 'easily': 7, 'worn': 1, 'unwillingly': 1, 'spilled': 1, 'overflowed': 1, 'bet': 1, 'constantly': 5, \"i've—\": 1, 'injury': 1, 'sores': 1, 'suffering': 12, 'sympathy': 1, 'hungry': 1, 'fingerpoint': 1, 'criticize': 1, 'innocent': 2, 'complain': 6, 'excuses': 2, 'thе': 1, 'wanna—': 2, 'you—': 2, 'exaggerate': 1, 'honesty': 1, 'bеnd': 1, 'undergone': 1, 'compromise': 1, 'massive': 1, 'mistaking': 2, 'awaken': 1, 'laugh': 1, 'carefully': 1, 'okay': 3, 'scrеaming': 1, 'awakеn': 1, 'hoped': 1, 'foot': 1, 'uninvited': 4, 'cars': 1, 'appear': 1, 'rationally': 2, 'actually': 1, 'happened': 1, 'reaching': 2, \"yesterday's\": 2, 'signals': 1, 'guessed': 1, 'placed': 1, 'asked': 1, 'fraction': 1, 'smallest': 1, 'slowed': 1, 'boundaries': 1, 'stopping': 3, 'plague': 1, 'undivided': 1, 'sunrise': 1, 'kiss': 10, 'crawl': 10, 'guessing': 2, 'medicine': 2, 'late': 9, 'coming': 16, 'focus': 1, 'supposed': 2, 'everyday': 3, 'wooah': 12, \"something's\": 3, 'spun': 1, 'web': 1, 'games': 1, 'unfoolish': 1, 'spring': 1, 'cuts': 1, 'vein': 1, 'scarred': 1, 'terrain': 1, 'drain': 1, 'girl': 3, 'easy': 3, \"nothing's\": 1, 'reached': 1, 'brain': 1, 'relive': 1, 'hook': 2, 'bloody': 4, 'stains': 7, 'bitter': 3, 'vial': 1, 'salvation': 1, 'exists': 1, 'sufferingyou': 1, 'condemned': 9, 'happiness': 3, 'return': 2, 'wife': 2, 'chemical': 1, 'use': 1, 'commit': 1, 'suicide': 1, 'treat': 1, 'animal': 1, 'pet': 1, 'leash': 1, 'suck': 1, 'cigarette': 1, 'kills': 1, 'strain': 1, 'stumble': 1, 'crutch': 1, 'restraint': 1, 'tragedies': 1, 'whose': 1, 'tattooed': 1, \"thing's\": 1, 'despite': 2, 'rescue': 2, 'shined': 1, 'politics': 1, 'grab': 4, 'crucifix': 4, 'knees': 4, 'scandal': 1, 'sex': 1, 'violence': 1, 'pressed': 1, 'buy': 1, 'rent': 1, \"government's\": 1, 'benefit': 1, 'bureaucracy': 3, 'lead': 3, 'wicked': 1, 'trick': 1, 'celebrating': 1, \"atom's\": 1, 'circles': 15, \"everyone's\": 5, 'sleeping': 5, 'souls': 5, 'millions': 5, 'unhealthy': 3, 'disturb': 4, 'mouths': 1, 'cause': 1, 'burns': 1, 'aches': 2, 'trembles': 2, 'quakes': 2, 'tides': 2, 'learning': 6, 'martyr': 1, 'heavens': 1, 'chained': 2, 'tied': 2, 'amaze': 2, 'bruised': 1, 'lick': 1, 'tunnel': 1, \"dreamin'\": 2})\n"
     ]
    }
   ],
   "source": [
    "# Cantidad de veces quea aparece cada palabra en cada \"documento\"\n",
    "# (1 documento = 1 caso de entrada)\n",
    "print(tok.word_docs)"
   ]
  },
  {
   "cell_type": "markdown",
   "metadata": {
    "id": "uYfhWVLLzKVO"
   },
   "source": [
    "\n",
    "### Definir el modelo base"
   ]
  },
  {
   "cell_type": "code",
   "execution_count": 67,
   "metadata": {
    "id": "5UXA5hQfWVX1"
   },
   "outputs": [
    {
     "name": "stdout",
     "output_type": "stream",
     "text": [
      "Model: \"sequential_3\"\n",
      "_________________________________________________________________\n",
      " Layer (type)                Output Shape              Param #   \n",
      "=================================================================\n",
      " embedding_3 (Embedding)     (None, None, 50)          118850    \n",
      "                                                                 \n",
      " lstm_2 (LSTM)               (None, None, 100)         60400     \n",
      "                                                                 \n",
      " lstm_3 (LSTM)               (None, None, 100)         80400     \n",
      "                                                                 \n",
      " dense_3 (Dense)             (None, None, 2377)        240077    \n",
      "                                                                 \n",
      "=================================================================\n",
      "Total params: 499727 (1.91 MB)\n",
      "Trainable params: 499727 (1.91 MB)\n",
      "Non-trainable params: 0 (0.00 Byte)\n",
      "_________________________________________________________________\n"
     ]
    }
   ],
   "source": [
    "# Hay que probar cambiando las capas\n",
    "model = Sequential()\n",
    "\n",
    "# la primera capa es de embedding entrenable. Recordar que se puede variar el tamaño\n",
    "# del embedding a entrenar. Se le puede dar un embedding ya entrenado. \n",
    "# input_shape: está en None pero podríamos poner 20, entran 20 tokens.\n",
    "# output_dim: es el tamaño del embedding\n",
    "model.add(Embedding(input_dim=vocab_size+1, output_dim=50, input_shape=(None,)))\n",
    "\n",
    "# Esta capa recibe una secuencia de vectores\n",
    "model.add(LSTM(100, return_sequences=True))\n",
    "# model.add(Dropout(0.2))\n",
    "\n",
    "# Se stakean 2 a cada paso de tiempo la capa que le sigue debe recibir la salida parcial\n",
    "model.add(LSTM(100, return_sequences=True)) # Como es many to many también debe tener return_sequences=True. \n",
    "# model.add(Dense(32, activation='relu'))\n",
    "\n",
    "# Predicción de clasificación con softmax\n",
    "# La salida es del tamaño del vocabulario\n",
    "# +1 debido a palabras nuevas que pudo no haber aprendido\n",
    "model.add(Dense(vocab_size+1, activation='softmax'))\n",
    "\n",
    "\n",
    "# Clasificación multiple categórica --> loss = categorical_crossentropy\n",
    "# notar que usamos la versión Sparse para utilizar sólo índices en lugar de OHE,\n",
    "# que en ese caso sería solo CategoricalCrossentropy().\n",
    "# En el fondo es un problema de clasificación.\n",
    "model.compile(loss=SparseCategoricalCrossentropy(), optimizer='rmsprop')\n",
    "#model.compile(\n",
    "#    loss=SparseCategoricalCrossentropy(),\n",
    "#    optimizer=Adam(),  # Cambia 'rmsprop' por Adam\n",
    "#    metrics=['accuracy']  # Puedes agregar métricas adicionales si es necesario\n",
    "#)\n",
    "model.summary()\n",
    "\n",
    "# La salida es del tamaño del vocabulario"
   ]
  },
  {
   "cell_type": "markdown",
   "metadata": {
    "id": "YWK3z85sQfUe"
   },
   "source": [
    "Dado que por el momento no hay implementaciones adecuadas de la perplejidad que puedan operar en tiempo de entrenamiento, armaremos un Callback *ad-hoc* que la calcule en cada epoch.\n",
    "\n",
    "**Nota**: un Callback es una rutina gatillada por algún evento, son muy útiles para relevar datos en diferentes momentos del desarrollo del modelo. En este caso queremos hacer un cálculo cada vez que termina una epoch de entrenamiento."
   ]
  },
  {
   "cell_type": "code",
   "execution_count": 68,
   "metadata": {
    "id": "zUHX3r5JD-MG"
   },
   "outputs": [],
   "source": [
    "class PplCallback(keras.callbacks.Callback):\n",
    "\n",
    "    '''\n",
    "    Este callback es una solución ad-hoc para calcular al final de cada epoch de\n",
    "    entrenamiento la métrica de Perplejidad sobre un conjunto de datos de validación.\n",
    "    La perplejidad es una métrica cuantitativa para evaluar la calidad de la generación de secuencias.\n",
    "    Además implementa la finalización del entrenamiento (Early Stopping)\n",
    "    si la perplejidad no mejora después de `patience` epochs.\n",
    "    '''\n",
    "\n",
    "    def __init__(self, val_data, history_ppl, patience=5):\n",
    "      # El callback lo inicializamos con secuencias de validación sobre las cuales\n",
    "      # mediremos la perplejidad y la paciencia para detener el entrenamiento.\n",
    "      self.val_data = val_data\n",
    "\n",
    "      self.target = []\n",
    "      self.padded = []\n",
    "\n",
    "      count = 0\n",
    "      self.info = []\n",
    "      self.history_ppl = []\n",
    "      self.min_score = np.inf\n",
    "      self.patience_counter = 0\n",
    "      self.patience = patience\n",
    "\n",
    "      # nos movemos en todas las secuencias de los datos de validación\n",
    "      for seq in self.val_data:\n",
    "\n",
    "        len_seq = len(seq)\n",
    "        # armamos todas las subsecuencias\n",
    "        subseq = [seq[:i] for i in range(len_seq)]\n",
    "        self.target.extend([seq[i] for i in range(len_seq)])\n",
    "\n",
    "        if len(subseq)!=0:\n",
    "\n",
    "          self.padded.append(pad_sequences(subseq, maxlen=max_context_size, padding='pre'))\n",
    "\n",
    "          self.info.append((count,count+len_seq))\n",
    "          count += len_seq\n",
    "\n",
    "      self.padded = np.vstack(self.padded)\n",
    "\n",
    "    #Se va a ejecutar cuando termine una época, calculando la perplejidad y si emperora lo interrumpe\n",
    "    def on_epoch_end(self, epoch, logs=None):\n",
    "\n",
    "        # en `scores` iremos guardando la perplejidad de cada secuencia\n",
    "        scores = []\n",
    "\n",
    "        predictions = self.model.predict(self.padded,verbose=0)\n",
    "\n",
    "        # para cada secuencia de validación\n",
    "        for start,end in self.info:\n",
    "\n",
    "          # en `probs` iremos guardando las probabilidades de los términos target\n",
    "          probs = [predictions[idx_seq,-1,idx_vocab] for idx_seq, idx_vocab in zip(range(start,end),self.target[start:end])]\n",
    "\n",
    "          # calculamos la perplejidad por medio de logaritmos\n",
    "          scores.append(np.exp(-np.sum(np.log(probs))/(end-start)))\n",
    "\n",
    "        # promediamos todos los scores e imprimimos el valor promedio\n",
    "        current_score = np.mean(scores)\n",
    "        history_ppl.append(current_score)\n",
    "        print(f'\\n mean perplexity: {current_score} \\n')\n",
    "\n",
    "        # chequeamos si tenemos que detener el entrenamiento\n",
    "        if current_score < self.min_score:\n",
    "          self.min_score = current_score\n",
    "          self.model.save(\"my_model\")\n",
    "          print(\"Saved new model!\")\n",
    "          self.patience_counter = 0\n",
    "        else:\n",
    "          self.patience_counter += 1\n",
    "          if self.patience_counter == self.patience:\n",
    "            print(\"Stopping training...\")\n",
    "            self.model.stop_training = True\n"
   ]
  },
  {
   "cell_type": "markdown",
   "metadata": {
    "id": "8HBZIwR0gruA"
   },
   "source": [
    "### Entrenamiento"
   ]
  },
  {
   "cell_type": "code",
   "execution_count": 69,
   "metadata": {
    "id": "oQq1PHDkxDvN"
   },
   "outputs": [
    {
     "name": "stdout",
     "output_type": "stream",
     "text": [
      "Epoch 1/20\n"
     ]
    },
    {
     "name": "stderr",
     "output_type": "stream",
     "text": [
      "2024-08-07 21:41:44.949121: I tensorflow/core/grappler/optimizers/custom_graph_optimizer_registry.cc:114] Plugin optimizer for device_type GPU is enabled.\n",
      "2024-08-07 21:41:45.254532: I tensorflow/core/grappler/optimizers/custom_graph_optimizer_registry.cc:114] Plugin optimizer for device_type GPU is enabled.\n",
      "2024-08-07 21:41:45.360461: I tensorflow/core/grappler/optimizers/custom_graph_optimizer_registry.cc:114] Plugin optimizer for device_type GPU is enabled.\n",
      "2024-08-07 21:41:45.532915: I tensorflow/core/grappler/optimizers/custom_graph_optimizer_registry.cc:114] Plugin optimizer for device_type GPU is enabled.\n",
      "2024-08-07 21:41:45.709497: I tensorflow/core/grappler/optimizers/custom_graph_optimizer_registry.cc:114] Plugin optimizer for device_type GPU is enabled.\n"
     ]
    },
    {
     "name": "stdout",
     "output_type": "stream",
     "text": [
      "427/427 [==============================] - ETA: 0s - loss: 3.9669"
     ]
    },
    {
     "name": "stderr",
     "output_type": "stream",
     "text": [
      "2024-08-07 21:42:00.118831: I tensorflow/core/grappler/optimizers/custom_graph_optimizer_registry.cc:114] Plugin optimizer for device_type GPU is enabled.\n",
      "2024-08-07 21:42:00.206435: I tensorflow/core/grappler/optimizers/custom_graph_optimizer_registry.cc:114] Plugin optimizer for device_type GPU is enabled.\n",
      "2024-08-07 21:42:00.298737: I tensorflow/core/grappler/optimizers/custom_graph_optimizer_registry.cc:114] Plugin optimizer for device_type GPU is enabled.\n"
     ]
    },
    {
     "name": "stdout",
     "output_type": "stream",
     "text": [
      "\n",
      " mean perplexity: 1257553.257351262 \n",
      "\n",
      "INFO:tensorflow:Assets written to: my_model/assets\n"
     ]
    },
    {
     "name": "stderr",
     "output_type": "stream",
     "text": [
      "INFO:tensorflow:Assets written to: my_model/assets\n"
     ]
    },
    {
     "name": "stdout",
     "output_type": "stream",
     "text": [
      "Saved new model!\n",
      "427/427 [==============================] - 21s 45ms/step - loss: 3.9669\n",
      "Epoch 2/20\n",
      "427/427 [==============================] - ETA: 0s - loss: 3.1526\n",
      " mean perplexity: 10460.165382113857 \n",
      "\n",
      "INFO:tensorflow:Assets written to: my_model/assets\n"
     ]
    },
    {
     "name": "stderr",
     "output_type": "stream",
     "text": [
      "INFO:tensorflow:Assets written to: my_model/assets\n"
     ]
    },
    {
     "name": "stdout",
     "output_type": "stream",
     "text": [
      "Saved new model!\n",
      "427/427 [==============================] - 16s 38ms/step - loss: 3.1526\n",
      "Epoch 3/20\n",
      "427/427 [==============================] - ETA: 0s - loss: 2.9693\n",
      " mean perplexity: 4196.546832046285 \n",
      "\n",
      "INFO:tensorflow:Assets written to: my_model/assets\n"
     ]
    },
    {
     "name": "stderr",
     "output_type": "stream",
     "text": [
      "INFO:tensorflow:Assets written to: my_model/assets\n"
     ]
    },
    {
     "name": "stdout",
     "output_type": "stream",
     "text": [
      "Saved new model!\n",
      "427/427 [==============================] - 16s 38ms/step - loss: 2.9693\n",
      "Epoch 4/20\n",
      "427/427 [==============================] - ETA: 0s - loss: 2.8500\n",
      " mean perplexity: 5430.557436993683 \n",
      "\n",
      "427/427 [==============================] - 14s 32ms/step - loss: 2.8500\n",
      "Epoch 5/20\n",
      "426/427 [============================>.] - ETA: 0s - loss: 2.7440\n",
      " mean perplexity: 6085.481335557496 \n",
      "\n",
      "427/427 [==============================] - 13s 30ms/step - loss: 2.7440\n",
      "Epoch 6/20\n",
      "427/427 [==============================] - ETA: 0s - loss: 2.6508\n",
      " mean perplexity: 9224.44368888164 \n",
      "\n",
      "427/427 [==============================] - 13s 29ms/step - loss: 2.6508\n",
      "Epoch 7/20\n",
      "427/427 [==============================] - ETA: 0s - loss: 2.5629\n",
      " mean perplexity: 9511.06053591834 \n",
      "\n",
      "427/427 [==============================] - 12s 29ms/step - loss: 2.5629\n",
      "Epoch 8/20\n",
      "427/427 [==============================] - ETA: 0s - loss: 2.4792\n",
      " mean perplexity: 13560.171425242454 \n",
      "\n",
      "Stopping training...\n",
      "427/427 [==============================] - 12s 29ms/step - loss: 2.4792\n"
     ]
    }
   ],
   "source": [
    "# fiteamos, nótese el agregado del callback con su inicialización. El batch_size lo podemos seleccionar a mano\n",
    "# en general, lo mejor es escoger el batch más grande posible que minimice el tiempo de cada época.\n",
    "# En la variable `history_ppl` se guardarán los valores de perplejidad para cada época.\n",
    "history_ppl = []\n",
    "hist = model.fit(X, y, epochs=20, callbacks=[PplCallback(tokenized_sentences_val,history_ppl)], batch_size=64)\n",
    "# Hay que seleccionar un Corpus más sustancioso para entrenar el modelo de lenguaje."
   ]
  },
  {
   "cell_type": "code",
   "execution_count": 70,
   "metadata": {
    "id": "K30JHB3Dv-mx"
   },
   "outputs": [
    {
     "data": {
      "image/png": "[encoded data removed]",
      "text/plain": [
       "<Figure size 640x480 with 1 Axes>"
      ]
     },
     "metadata": {},
     "output_type": "display_data"
    }
   ],
   "source": [
    "# Podemos graficar la evolución de la perplejidad con las épocas.\n",
    "# Recordar que el valor de perplejidad del modelo trivial es el tamaño del vocabulario.\n",
    "epoch_count = range(1, len(history_ppl) + 1)\n",
    "sns.lineplot(x=epoch_count,  y=history_ppl)\n",
    "plt.show()"
   ]
  },
  {
   "cell_type": "code",
   "execution_count": 71,
   "metadata": {
    "id": "Rhy5hZN38qfO"
   },
   "outputs": [],
   "source": [
    "# Cargamos el mejor modelo guardado del entrenamiento para hacer inferencia\n",
    "model = keras.models.load_model('my_model')"
   ]
  },
  {
   "cell_type": "markdown",
   "metadata": {
    "id": "KN6Fg_BsxJe6"
   },
   "source": [
    "\n",
    "#### Predicción de próxima palabra"
   ]
  },
  {
   "cell_type": "code",
   "execution_count": 72,
   "metadata": {
    "id": "IBvKHFPmzpy2"
   },
   "outputs": [],
   "source": [
    "# Se puede usar gradio para probar el modelo\n",
    "# Gradio es una herramienta muy útil para crear interfaces para ensayar modelos\n",
    "# https://gradio.app/\n",
    "\n",
    "!pip install -q gradio"
   ]
  },
  {
   "cell_type": "code",
   "execution_count": 36,
   "metadata": {
    "id": "HNyBykvhzs7-"
   },
   "outputs": [
    {
     "name": "stdout",
     "output_type": "stream",
     "text": [
      "Running on local URL:  http://127.0.0.1:7860\n",
      "\n",
      "To create a public link, set `share=True` in `launch()`.\n"
     ]
    },
    {
     "data": {
      "text/html": [
       "<div><iframe src=\"http://127.0.0.1:7860/\" width=\"100%\" height=\"500\" allow=\"autoplay; camera; microphone; clipboard-read; clipboard-write;\" frameborder=\"0\" allowfullscreen></iframe></div>"
      ],
      "text/plain": [
       "<IPython.core.display.HTML object>"
      ]
     },
     "metadata": {},
     "output_type": "display_data"
    },
    {
     "name": "stderr",
     "output_type": "stream",
     "text": [
      "2024-07-25 12:30:09.036820: I tensorflow/core/grappler/optimizers/custom_graph_optimizer_registry.cc:114] Plugin optimizer for device_type GPU is enabled.\n",
      "2024-07-25 12:30:09.130227: I tensorflow/core/grappler/optimizers/custom_graph_optimizer_registry.cc:114] Plugin optimizer for device_type GPU is enabled.\n",
      "2024-07-25 12:30:09.193911: I tensorflow/core/grappler/optimizers/custom_graph_optimizer_registry.cc:114] Plugin optimizer for device_type GPU is enabled.\n"
     ]
    },
    {
     "name": "stdout",
     "output_type": "stream",
     "text": [
      "1/1 [==============================] - 0s 455ms/step\n",
      "Keyboard interruption in main thread... closing server.\n"
     ]
    },
    {
     "data": {
      "text/plain": []
     },
     "execution_count": 36,
     "metadata": {},
     "output_type": "execute_result"
    }
   ],
   "source": [
    "# Librería que permite hacer interfaces para probar modelos\n",
    "import gradio as gr\n",
    "\n",
    "def model_response(human_text):\n",
    "\n",
    "    # Encodeamos, tokeniza el texto de entrada\n",
    "    encoded = tok.texts_to_sequences([human_text])[0]\n",
    "    # Si tienen distinto largo, lo paddea\n",
    "    encoded = pad_sequences([encoded], maxlen=max_context_size, padding='pre')\n",
    "\n",
    "    # Predicción softmax, pedimos el argumento máximo porque es greedy\n",
    "    y_hat = np.argmax(model.predict(encoded)[0,-1,:])\n",
    "\n",
    "\n",
    "    # Debemos buscar en el vocabulario la palabra\n",
    "    # que corresopnde al indice (y_hat) predicho por le modelo\n",
    "    out_word = ''\n",
    "    for word, index in tok.word_index.items():\n",
    "        if index == y_hat:\n",
    "            out_word = word\n",
    "            break\n",
    "\n",
    "    # Agrego la palabra a la frase predicha\n",
    "    return human_text + ' ' + out_word\n",
    "\n",
    "iface = gr.Interface(\n",
    "    fn=model_response,\n",
    "    inputs=[\"textbox\"],\n",
    "    outputs=\"text\")\n",
    "\n",
    "iface.launch(debug=True)"
   ]
  },
  {
   "cell_type": "markdown",
   "metadata": {
    "id": "mCeMWWupxN1-"
   },
   "source": [
    "#### Generación de secuencias"
   ]
  },
  {
   "cell_type": "code",
   "execution_count": 73,
   "metadata": {
    "id": "bwbS_pfhxvB3"
   },
   "outputs": [],
   "source": [
    "def generate_seq(model, tokenizer, seed_text, max_length, n_words):\n",
    "    \"\"\"\n",
    "        Exec model sequence prediction\n",
    "\n",
    "        Args:\n",
    "            model (keras): modelo entrenado\n",
    "            tokenizer (keras tokenizer): tonenizer utilizado en el preprocesamiento\n",
    "            seed_text (string): texto de entrada (input_seq)\n",
    "            max_length (int): máxima longitud de la sequencia de entrada\n",
    "            n_words (int): números de palabras a agregar a la sequencia de entrada\n",
    "        returns:\n",
    "            output_text (string): sentencia con las \"n_words\" agregadas\n",
    "    \"\"\"\n",
    "    output_text = seed_text\n",
    "\t  # generate a fixed number of words\n",
    "    for _ in range(n_words):\n",
    "\t\t  # Tokenizamos\n",
    "      encoded = tokenizer.texts_to_sequences([output_text])[0]\n",
    "\n",
    "\t\t  # Si tienen distinto largo\n",
    "      encoded = pad_sequences([encoded], maxlen=max_length, padding='pre')\n",
    "\n",
    "\t\t  # Predicción softmax\n",
    "      y_hat = np.argmax(model.predict(encoded)[0,-1,:])\n",
    "\n",
    "      # Vamos concatenando las predicciones\n",
    "      out_word = ''\n",
    "\n",
    "      # Debemos buscar en el vocabulario la palabra\n",
    "      # que corresopnde al indice (y_hat) predicho por le modelo\n",
    "      for word, index in tokenizer.word_index.items():\n",
    "        if index == y_hat:\n",
    "          out_word = word\n",
    "          break\n",
    "\n",
    "\t\t  # Agrego las palabras a la frase predicha\n",
    "      output_text += ' ' + out_word\n",
    "\n",
    "    return output_text"
   ]
  },
  {
   "cell_type": "code",
   "execution_count": 74,
   "metadata": {
    "id": "JoFqRC5pxzqS"
   },
   "outputs": [
    {
     "name": "stderr",
     "output_type": "stream",
     "text": [
      "2024-08-07 21:43:44.950765: I tensorflow/core/grappler/optimizers/custom_graph_optimizer_registry.cc:114] Plugin optimizer for device_type GPU is enabled.\n",
      "2024-08-07 21:43:45.055982: I tensorflow/core/grappler/optimizers/custom_graph_optimizer_registry.cc:114] Plugin optimizer for device_type GPU is enabled.\n",
      "2024-08-07 21:43:45.147012: I tensorflow/core/grappler/optimizers/custom_graph_optimizer_registry.cc:114] Plugin optimizer for device_type GPU is enabled.\n"
     ]
    },
    {
     "name": "stdout",
     "output_type": "stream",
     "text": [
      "1/1 [==============================] - 0s 496ms/step\n"
     ]
    },
    {
     "data": {
      "text/plain": [
       "'I wanna run away and open up my act'"
      ]
     },
     "execution_count": 74,
     "metadata": {},
     "output_type": "execute_result"
    }
   ],
   "source": [
    "input_text='I wanna run away and open up my'\n",
    "\n",
    "generate_seq(model, tok, input_text, max_length=max_context_size, n_words=1)"
   ]
  },
  {
   "cell_type": "markdown",
   "metadata": {
    "id": "drJ6xn5qW1Hl"
   },
   "source": [
    "####  Beam search y muestreo aleatorio"
   ]
  },
  {
   "cell_type": "code",
   "execution_count": 75,
   "metadata": {
    "id": "_vovn9XZW1Hl"
   },
   "outputs": [],
   "source": [
    "# funcionalidades para hacer encoding y decoding\n",
    "\n",
    "def encode(text,max_length=max_context_size):\n",
    "\n",
    "    encoded = tok.texts_to_sequences([text])[0]\n",
    "    encoded = pad_sequences([encoded], maxlen=max_length, padding='pre')\n",
    "\n",
    "    return encoded\n",
    "\n",
    "def decode(seq):\n",
    "    return tok.sequences_to_texts([seq])"
   ]
  },
  {
   "cell_type": "code",
   "execution_count": 76,
   "metadata": {
    "id": "I_lZiQwkW1Hl"
   },
   "outputs": [],
   "source": [
    "# función que selecciona candidatos para el beam search\n",
    "def select_candidates(pred,num_beams,vocab_size,history_probs,history_tokens,temp,mode):\n",
    "\n",
    "  # colectar todas las probabilidades para la siguiente búsqueda\n",
    "  pred_large = []\n",
    "\n",
    "  for idx,pp in enumerate(pred):\n",
    "    pred_large.extend(np.log(pp+1E-10)+history_probs[idx])\n",
    "\n",
    "  pred_large = np.array(pred_large)\n",
    "\n",
    "  # criterio de selección\n",
    "  if mode == 'det':\n",
    "    idx_select = np.argsort(pred_large)[::-1][:num_beams] # beam search determinista\n",
    "  elif mode == 'sto':\n",
    "    idx_select = np.random.choice(np.arange(pred_large.shape[0]), num_beams, p=softmax(pred_large/temp)) # beam search con muestreo aleatorio\n",
    "  else:\n",
    "    raise ValueError(f'Wrong selection mode. {mode} was given. det and sto are supported.')\n",
    "\n",
    "  # traducir a índices de token en el vocabulario\n",
    "  new_history_tokens = np.concatenate((np.array(history_tokens)[idx_select//vocab_size],\n",
    "                        np.array([idx_select%vocab_size]).T),\n",
    "                      axis=1)\n",
    "\n",
    "  # devolver el producto de las probabilidades (log) y la secuencia de tokens seleccionados\n",
    "  return pred_large[idx_select.astype(int)], new_history_tokens.astype(int)\n",
    "\n",
    "\n",
    "def beam_search(model,num_beams,num_words,input,temp=1,mode='det'):\n",
    "\n",
    "    # first iteration\n",
    "\n",
    "    # encode\n",
    "    encoded = encode(input)\n",
    "\n",
    "    # first prediction\n",
    "    y_hat = model.predict(encoded,verbose=0)[0,-1,:]\n",
    "\n",
    "    # get vocabulary size\n",
    "    vocab_size = y_hat.shape[0]\n",
    "\n",
    "    # initialize history\n",
    "    history_probs = [0]*num_beams\n",
    "    history_tokens = [encoded[0]]*num_beams\n",
    "\n",
    "    # select num_beams candidates\n",
    "    history_probs, history_tokens = select_candidates([y_hat],\n",
    "                                        num_beams,\n",
    "                                        vocab_size,\n",
    "                                        history_probs,\n",
    "                                        history_tokens,\n",
    "                                        temp,\n",
    "                                        mode)\n",
    "\n",
    "    # beam search loop\n",
    "    for i in range(num_words-1):\n",
    "\n",
    "      preds = []\n",
    "\n",
    "      for hist in history_tokens:\n",
    "\n",
    "        # actualizar secuencia de tokens\n",
    "        input_update = np.array([hist[i+1:]]).copy()\n",
    "\n",
    "        # predicción\n",
    "        y_hat = model.predict(input_update,verbose=0)[0,-1,:]\n",
    "\n",
    "        preds.append(y_hat)\n",
    "\n",
    "      history_probs, history_tokens = select_candidates(preds,\n",
    "                                                        num_beams,\n",
    "                                                        vocab_size,\n",
    "                                                        history_probs,\n",
    "                                                        history_tokens,\n",
    "                                                        temp,\n",
    "                                                        mode)\n",
    "\n",
    "    return history_tokens"
   ]
  },
  {
   "cell_type": "code",
   "execution_count": 77,
   "metadata": {
    "id": "GeLqAoOYW1Hm"
   },
   "outputs": [
    {
     "name": "stderr",
     "output_type": "stream",
     "text": [
      "2024-08-07 21:43:45.547518: I tensorflow/core/grappler/optimizers/custom_graph_optimizer_registry.cc:114] Plugin optimizer for device_type GPU is enabled.\n",
      "2024-08-07 21:43:45.638495: I tensorflow/core/grappler/optimizers/custom_graph_optimizer_registry.cc:114] Plugin optimizer for device_type GPU is enabled.\n",
      "2024-08-07 21:43:45.716092: I tensorflow/core/grappler/optimizers/custom_graph_optimizer_registry.cc:114] Plugin optimizer for device_type GPU is enabled.\n"
     ]
    }
   ],
   "source": [
    "# predicción con beam search.\n",
    "# Se pueden camiar los modos entre 'det' (determinista) y\n",
    "# 'sto' (estocástico)\n",
    "# para el caso estocástico también se puede variar la temperatura\n",
    "salidas = beam_search(model,num_beams=10,num_words=2,input=\"I wanna run away and open up\",temp=1,mode='sto') #mode=sto es estocásitco, son muestreos aleatorios, pero puede ser determinista"
   ]
  },
  {
   "cell_type": "code",
   "execution_count": 78,
   "metadata": {
    "id": "P8HQoLhw-NYg"
   },
   "outputs": [
    {
     "data": {
      "text/plain": [
       "(10, 11)"
      ]
     },
     "execution_count": 78,
     "metadata": {},
     "output_type": "execute_result"
    }
   ],
   "source": [
    "# tenemos `num_beams` salidas ordenadas de mayor a menor likelihood\n",
    "salidas.shape"
   ]
  },
  {
   "cell_type": "code",
   "execution_count": 79,
   "metadata": {
    "id": "2S3_I3S1W1Hm"
   },
   "outputs": [
    {
     "name": "stdout",
     "output_type": "stream",
     "text": [
      "['i wanna run away and open up the little']\n",
      "['i wanna run away and open up the mind']\n",
      "['i wanna run away and open up me push']\n",
      "['i wanna run away and open up the other']\n",
      "['i wanna run away and open up the walked']\n",
      "['i wanna run away and open up me open']\n",
      "['i wanna run away and open up the certain']\n",
      "['i wanna run away and open up the mine']\n",
      "['i wanna run away and open up me hear']\n",
      "['i wanna run away and open up me up']\n"
     ]
    }
   ],
   "source": [
    "# veamos las salidas\n",
    "for i in range(salidas.shape[0]):\n",
    "    print(decode(salidas[i]))"
   ]
  },
  {
   "cell_type": "markdown",
   "metadata": {},
   "source": [
    "Se ve que el modelo 0 tiene una predicción pobre, no acertando en el generador de secuencias ni con beam search. Se necesitan más documentos y la arquitectura es muy sencilla."
   ]
  },
  {
   "cell_type": "markdown",
   "metadata": {},
   "source": [
    "### Modelo 1 - SimpleRNN (3 capas de dim=250, Embedding dim=100) "
   ]
  },
  {
   "cell_type": "code",
   "execution_count": 80,
   "metadata": {},
   "outputs": [
    {
     "name": "stdout",
     "output_type": "stream",
     "text": [
      "Model: \"sequential_4\"\n",
      "_________________________________________________________________\n",
      " Layer (type)                Output Shape              Param #   \n",
      "=================================================================\n",
      " embedding_4 (Embedding)     (None, None, 100)         237700    \n",
      "                                                                 \n",
      " simple_rnn_7 (SimpleRNN)    (None, None, 250)         87750     \n",
      "                                                                 \n",
      " simple_rnn_8 (SimpleRNN)    (None, None, 250)         125250    \n",
      "                                                                 \n",
      " simple_rnn_9 (SimpleRNN)    (None, None, 250)         125250    \n",
      "                                                                 \n",
      " dense_4 (Dense)             (None, None, 2377)        596627    \n",
      "                                                                 \n",
      "=================================================================\n",
      "Total params: 1172577 (4.47 MB)\n",
      "Trainable params: 1172577 (4.47 MB)\n",
      "Non-trainable params: 0 (0.00 Byte)\n",
      "_________________________________________________________________\n"
     ]
    }
   ],
   "source": [
    "# Hay que probar cambiando las capas\n",
    "model = Sequential()\n",
    "\n",
    "# la primera capa es de embedding entrenable. Recordar que se puede variar el tamaño\n",
    "# del embedding a entrenar. Se le puede dar un embedding ya entrenado. \n",
    "# input_shape: está en None pero podríamos poner 20, entran 20 tokens.\n",
    "# output_dim: es el tamaño del embedding\n",
    "model.add(Embedding(input_dim=vocab_size+1, output_dim=100, input_shape=(None,)))\n",
    "\n",
    "# Esta capa recibe una secuencia de vectores\n",
    "model.add(SimpleRNN(250, return_sequences=True))\n",
    "# model.add(Dropout(0.2))\n",
    "\n",
    "# Se stakean 2 a cada paso de tiempo la capa que le sigue debe recibir la salida parcial\n",
    "model.add(SimpleRNN(250, return_sequences=True)) # Como es many to many también debe tener return_sequences=True. \n",
    "# model.add(Dense(32, activation='relu'))\n",
    "\n",
    "# Se stakean 3 a cada paso de tiempo la capa que le sigue debe recibir la salida parcial\n",
    "model.add(SimpleRNN(250, return_sequences=True)) # Como es many to many también debe tener return_sequences=True. \n",
    "# model.add(Dense(32, activation='relu'))\n",
    "\n",
    "# Predicción de clasificación con softmax\n",
    "# La salida es del tamaño del vocabulario\n",
    "# +1 debido a palabras nuevas que pudo no haber aprendido\n",
    "model.add(Dense(vocab_size+1, activation='softmax'))\n",
    "\n",
    "# Clasificación multiple categórica --> loss = categorical_crossentropy\n",
    "# notar que usamos la versión Sparse para utilizar sólo índices en lugar de OHE,\n",
    "# que en ese caso sería solo CategoricalCrossentropy().\n",
    "# En el fondo es un problema de clasificación.\n",
    "model.compile(loss=SparseCategoricalCrossentropy(), optimizer='rmsprop')\n",
    "#model.compile(\n",
    "#    loss=SparseCategoricalCrossentropy(),\n",
    "#    optimizer=Adam(),  # Cambia 'rmsprop' por Adam\n",
    "#    metrics=['accuracy']  # Puedes agregar métricas adicionales si es necesario\n",
    "#)\n",
    "model.summary()\n",
    "\n",
    "# La salida es del tamaño del vocabulario"
   ]
  },
  {
   "cell_type": "code",
   "execution_count": 81,
   "metadata": {},
   "outputs": [
    {
     "name": "stdout",
     "output_type": "stream",
     "text": [
      "Epoch 1/20\n"
     ]
    },
    {
     "name": "stderr",
     "output_type": "stream",
     "text": [
      "2024-08-07 21:43:47.106098: I tensorflow/core/grappler/optimizers/custom_graph_optimizer_registry.cc:114] Plugin optimizer for device_type GPU is enabled.\n"
     ]
    },
    {
     "name": "stdout",
     "output_type": "stream",
     "text": [
      "427/427 [==============================] - ETA: 0s - loss: 3.3335"
     ]
    },
    {
     "name": "stderr",
     "output_type": "stream",
     "text": [
      "2024-08-07 21:45:00.534227: I tensorflow/core/grappler/optimizers/custom_graph_optimizer_registry.cc:114] Plugin optimizer for device_type GPU is enabled.\n"
     ]
    },
    {
     "name": "stdout",
     "output_type": "stream",
     "text": [
      "\n",
      " mean perplexity: 2990.3828074319217 \n",
      "\n",
      "INFO:tensorflow:Assets written to: my_model/assets\n"
     ]
    },
    {
     "name": "stderr",
     "output_type": "stream",
     "text": [
      "INFO:tensorflow:Assets written to: my_model/assets\n"
     ]
    },
    {
     "name": "stdout",
     "output_type": "stream",
     "text": [
      "Saved new model!\n",
      "427/427 [==============================] - 81s 185ms/step - loss: 3.3335\n",
      "Epoch 2/20\n",
      "427/427 [==============================] - ETA: 0s - loss: 2.7747\n",
      " mean perplexity: 1824.109259199945 \n",
      "\n",
      "INFO:tensorflow:Assets written to: my_model/assets\n"
     ]
    },
    {
     "name": "stderr",
     "output_type": "stream",
     "text": [
      "INFO:tensorflow:Assets written to: my_model/assets\n"
     ]
    },
    {
     "name": "stdout",
     "output_type": "stream",
     "text": [
      "Saved new model!\n",
      "427/427 [==============================] - 80s 187ms/step - loss: 2.7747\n",
      "Epoch 3/20\n",
      "427/427 [==============================] - ETA: 0s - loss: 2.4354\n",
      " mean perplexity: 2133.2115898014686 \n",
      "\n",
      "427/427 [==============================] - 81s 189ms/step - loss: 2.4354\n",
      "Epoch 4/20\n",
      "427/427 [==============================] - ETA: 0s - loss: 2.1514\n",
      " mean perplexity: 2751.16229350742 \n",
      "\n",
      "427/427 [==============================] - 81s 190ms/step - loss: 2.1514\n",
      "Epoch 5/20\n",
      "427/427 [==============================] - ETA: 0s - loss: 1.9106\n",
      " mean perplexity: 2822.6898358050857 \n",
      "\n",
      "427/427 [==============================] - 82s 191ms/step - loss: 1.9106\n",
      "Epoch 6/20\n",
      "427/427 [==============================] - ETA: 0s - loss: 1.7273\n",
      " mean perplexity: 2426.5717176560256 \n",
      "\n",
      "427/427 [==============================] - 83s 194ms/step - loss: 1.7273\n",
      "Epoch 7/20\n",
      "427/427 [==============================] - ETA: 0s - loss: 1.5888\n",
      " mean perplexity: 3258.534908440407 \n",
      "\n",
      "Stopping training...\n",
      "427/427 [==============================] - 83s 194ms/step - loss: 1.5888\n"
     ]
    }
   ],
   "source": [
    "# fiteamos, nótese el agregado del callback con su inicialización. El batch_size lo podemos seleccionar a mano\n",
    "# en general, lo mejor es escoger el batch más grande posible que minimice el tiempo de cada época.\n",
    "# En la variable `history_ppl` se guardarán los valores de perplejidad para cada época.\n",
    "history_ppl = []\n",
    "hist = model.fit(X, y, epochs=20, callbacks=[PplCallback(tokenized_sentences_val,history_ppl)], batch_size=64)\n",
    "# Hay que seleccionar un Corpus más sustancioso para entrenar el modelo de lenguaje."
   ]
  },
  {
   "cell_type": "code",
   "execution_count": 82,
   "metadata": {},
   "outputs": [
    {
     "data": {
      "image/png": "[encoded data removed]",
      "text/plain": [
       "<Figure size 640x480 with 1 Axes>"
      ]
     },
     "metadata": {},
     "output_type": "display_data"
    }
   ],
   "source": [
    "# Podemos graficar la evolución de la perplejidad con las épocas.\n",
    "# Recordar que el valor de perplejidad del modelo trivial es el tamaño del vocabulario.\n",
    "epoch_count = range(1, len(history_ppl) + 1)\n",
    "sns.lineplot(x=epoch_count,  y=history_ppl)\n",
    "plt.show()"
   ]
  },
  {
   "cell_type": "code",
   "execution_count": 83,
   "metadata": {},
   "outputs": [],
   "source": [
    "# Cargamos el mejor modelo guardado del entrenamiento para hacer inferencia\n",
    "model_1 = keras.models.load_model('my_model')"
   ]
  },
  {
   "cell_type": "markdown",
   "metadata": {},
   "source": [
    "#### Generación de secuencias"
   ]
  },
  {
   "cell_type": "code",
   "execution_count": 84,
   "metadata": {},
   "outputs": [
    {
     "name": "stderr",
     "output_type": "stream",
     "text": [
      "2024-08-07 21:53:16.937381: I tensorflow/core/grappler/optimizers/custom_graph_optimizer_registry.cc:114] Plugin optimizer for device_type GPU is enabled.\n"
     ]
    },
    {
     "name": "stdout",
     "output_type": "stream",
     "text": [
      "1/1 [==============================] - 1s 838ms/step\n"
     ]
    },
    {
     "data": {
      "text/plain": [
       "'I wanna run away and open up my act'"
      ]
     },
     "execution_count": 84,
     "metadata": {},
     "output_type": "execute_result"
    }
   ],
   "source": [
    "input_text='I wanna run away and open up my'\n",
    "\n",
    "generate_seq(model_1, tok, input_text, max_length=max_context_size, n_words=1)"
   ]
  },
  {
   "cell_type": "markdown",
   "metadata": {},
   "source": [
    "####  Beam search y muestreo aleatorio"
   ]
  },
  {
   "cell_type": "code",
   "execution_count": 85,
   "metadata": {},
   "outputs": [
    {
     "name": "stderr",
     "output_type": "stream",
     "text": [
      "2024-08-07 21:53:17.890922: I tensorflow/core/grappler/optimizers/custom_graph_optimizer_registry.cc:114] Plugin optimizer for device_type GPU is enabled.\n"
     ]
    }
   ],
   "source": [
    "# predicción con beam search.\n",
    "# Se pueden camiar los modos entre 'det' (determinista) y\n",
    "# 'sto' (estocástico)\n",
    "# para el caso estocástico también se puede variar la temperatura\n",
    "salidas = beam_search(model_1,num_beams=5,num_words=2,input=\"I wanna run away and open up\",temp=1,mode='sto') #mode=sto es estocásitco, son muestreos aleatorios, pero puede ser determinista"
   ]
  },
  {
   "cell_type": "code",
   "execution_count": 86,
   "metadata": {},
   "outputs": [
    {
     "data": {
      "text/plain": [
       "(5, 11)"
      ]
     },
     "execution_count": 86,
     "metadata": {},
     "output_type": "execute_result"
    }
   ],
   "source": [
    "# tenemos `num_beams` salidas ordenadas de mayor a menor likelihood\n",
    "salidas.shape"
   ]
  },
  {
   "cell_type": "code",
   "execution_count": 87,
   "metadata": {},
   "outputs": [
    {
     "name": "stdout",
     "output_type": "stream",
     "text": [
      "['i wanna run away and open up to always']\n",
      "['i wanna run away and open up in the']\n",
      "['i wanna run away and open up in the']\n",
      "['i wanna run away and open up to so']\n",
      "['i wanna run away and open up to make']\n"
     ]
    }
   ],
   "source": [
    "# veamos las salidas\n",
    "for i in range(salidas.shape[0]):\n",
    "    print(decode(salidas[i]))"
   ]
  },
  {
   "cell_type": "markdown",
   "metadata": {},
   "source": [
    "Se ve que el modelo 1 tiene una mala predicción, no acertando en el generador de secuencias ni con beam search, aunque la perplexity y el train loss son menores. Se necesitan más documentos y la arquitectura es muy sencilla."
   ]
  },
  {
   "cell_type": "markdown",
   "metadata": {},
   "source": [
    "### Modelo 2 - SimpleRNN Bidirectional (4 capas de dim=250, Embedding dim=100)"
   ]
  },
  {
   "cell_type": "code",
   "execution_count": 88,
   "metadata": {},
   "outputs": [
    {
     "name": "stdout",
     "output_type": "stream",
     "text": [
      "Model: \"sequential_5\"\n",
      "_________________________________________________________________\n",
      " Layer (type)                Output Shape              Param #   \n",
      "=================================================================\n",
      " embedding_5 (Embedding)     (None, None, 100)         237700    \n",
      "                                                                 \n",
      " bidirectional_4 (Bidirecti  (None, None, 500)         175500    \n",
      " onal)                                                           \n",
      "                                                                 \n",
      " bidirectional_5 (Bidirecti  (None, None, 500)         375500    \n",
      " onal)                                                           \n",
      "                                                                 \n",
      " bidirectional_6 (Bidirecti  (None, None, 500)         375500    \n",
      " onal)                                                           \n",
      "                                                                 \n",
      " bidirectional_7 (Bidirecti  (None, None, 500)         375500    \n",
      " onal)                                                           \n",
      "                                                                 \n",
      " dense_5 (Dense)             (None, None, 2377)        1190877   \n",
      "                                                                 \n",
      "=================================================================\n",
      "Total params: 2730577 (10.42 MB)\n",
      "Trainable params: 2730577 (10.42 MB)\n",
      "Non-trainable params: 0 (0.00 Byte)\n",
      "_________________________________________________________________\n"
     ]
    }
   ],
   "source": [
    "# Hay que probar cambiando las capas\n",
    "model = Sequential()\n",
    "\n",
    "# la primera capa es de embedding entrenable. Recordar que se puede variar el tamaño\n",
    "# del embedding a entrenar. Se le puede dar un embedding ya entrenado. \n",
    "# input_shape: está en None pero podríamos poner 20, entran 20 tokens.\n",
    "# output_dim: es el tamaño del embedding\n",
    "model.add(Embedding(input_dim=vocab_size+1, output_dim=100, input_shape=(None,)))\n",
    "\n",
    "# Esta capa recibe una secuencia de vectores\n",
    "model.add(Bidirectional(SimpleRNN(250, return_sequences=True)))\n",
    "# model.add(Dropout(0.2))\n",
    "\n",
    "# Se stakean 2 a cada paso de tiempo la capa que le sigue debe recibir la salida parcial\n",
    "model.add(Bidirectional(SimpleRNN(250, return_sequences=True))) # Como es many to many también debe tener return_sequences=True. \n",
    "# model.add(Dense(32, activation='relu'))\n",
    "\n",
    "# Se stakean 3 a cada paso de tiempo la capa que le sigue debe recibir la salida parcial\n",
    "model.add(Bidirectional(SimpleRNN(250, return_sequences=True))) # Como es many to many también debe tener return_sequences=True. \n",
    "# model.add(Dense(32, activation='relu'))\n",
    "\n",
    "# Se stakean 4 a cada paso de tiempo la capa que le sigue debe recibir la salida parcial\n",
    "model.add(Bidirectional(SimpleRNN(250, return_sequences=True))) # Como es many to many también debe tener return_sequences=True. \n",
    "# model.add(Dense(32, activation='relu'))\n",
    "\n",
    "# Predicción de clasificación con softmax\n",
    "# La salida es del tamaño del vocabulario\n",
    "# +1 debido a palabras nuevas que pudo no haber aprendido\n",
    "model.add(Dense(vocab_size+1, activation='softmax'))\n",
    "\n",
    "# Clasificación multiple categórica --> loss = categorical_crossentropy\n",
    "# notar que usamos la versión Sparse para utilizar sólo índices en lugar de OHE,\n",
    "# que en ese caso sería solo CategoricalCrossentropy().\n",
    "# En el fondo es un problema de clasificación.\n",
    "model.compile(loss=SparseCategoricalCrossentropy(), optimizer='rmsprop')\n",
    "#model.compile(\n",
    "#    loss=SparseCategoricalCrossentropy(),\n",
    "#    optimizer=Adam(),  # Cambia 'rmsprop' por Adam\n",
    "#    metrics=['accuracy']  # Puedes agregar métricas adicionales si es necesario\n",
    "#)\n",
    "model.summary()\n",
    "\n",
    "# La salida es del tamaño del vocabulario"
   ]
  },
  {
   "cell_type": "code",
   "execution_count": 89,
   "metadata": {},
   "outputs": [
    {
     "name": "stdout",
     "output_type": "stream",
     "text": [
      "Epoch 1/20\n"
     ]
    },
    {
     "name": "stderr",
     "output_type": "stream",
     "text": [
      "2024-08-07 21:53:19.909185: I tensorflow/core/grappler/optimizers/custom_graph_optimizer_registry.cc:114] Plugin optimizer for device_type GPU is enabled.\n"
     ]
    },
    {
     "name": "stdout",
     "output_type": "stream",
     "text": [
      "427/427 [==============================] - ETA: 0s - loss: 1.7745"
     ]
    },
    {
     "name": "stderr",
     "output_type": "stream",
     "text": [
      "2024-08-07 21:56:51.265096: I tensorflow/core/grappler/optimizers/custom_graph_optimizer_registry.cc:114] Plugin optimizer for device_type GPU is enabled.\n"
     ]
    },
    {
     "name": "stdout",
     "output_type": "stream",
     "text": [
      "\n",
      " mean perplexity: 921.1366208837464 \n",
      "\n",
      "INFO:tensorflow:Assets written to: my_model/assets\n"
     ]
    },
    {
     "name": "stderr",
     "output_type": "stream",
     "text": [
      "INFO:tensorflow:Assets written to: my_model/assets\n"
     ]
    },
    {
     "name": "stdout",
     "output_type": "stream",
     "text": [
      "Saved new model!\n",
      "427/427 [==============================] - 231s 532ms/step - loss: 1.7745\n",
      "Epoch 2/20\n",
      "427/427 [==============================] - ETA: 0s - loss: 0.5304\n",
      " mean perplexity: 930.7467363751607 \n",
      "\n",
      "427/427 [==============================] - 221s 518ms/step - loss: 0.5304\n",
      "Epoch 3/20\n",
      "427/427 [==============================] - ETA: 0s - loss: 0.3844\n",
      " mean perplexity: 851.8733295925156 \n",
      "\n",
      "INFO:tensorflow:Assets written to: my_model/assets\n"
     ]
    },
    {
     "name": "stderr",
     "output_type": "stream",
     "text": [
      "INFO:tensorflow:Assets written to: my_model/assets\n"
     ]
    },
    {
     "name": "stdout",
     "output_type": "stream",
     "text": [
      "Saved new model!\n",
      "427/427 [==============================] - 227s 531ms/step - loss: 0.3844\n",
      "Epoch 4/20\n",
      "427/427 [==============================] - ETA: 0s - loss: 0.3172\n",
      " mean perplexity: 1091.234976630378 \n",
      "\n",
      "427/427 [==============================] - 218s 510ms/step - loss: 0.3172\n",
      "Epoch 5/20\n",
      "427/427 [==============================] - ETA: 0s - loss: 0.2748\n",
      " mean perplexity: 1221.3786539994903 \n",
      "\n",
      "427/427 [==============================] - 242s 566ms/step - loss: 0.2748\n",
      "Epoch 6/20\n",
      "427/427 [==============================] - ETA: 0s - loss: 0.2426\n",
      " mean perplexity: 1120.1744504714436 \n",
      "\n",
      "427/427 [==============================] - 243s 569ms/step - loss: 0.2426\n",
      "Epoch 7/20\n",
      "427/427 [==============================] - ETA: 0s - loss: 0.2194\n",
      " mean perplexity: 1399.9280489693726 \n",
      "\n",
      "427/427 [==============================] - 231s 541ms/step - loss: 0.2194\n",
      "Epoch 8/20\n",
      "427/427 [==============================] - ETA: 0s - loss: 0.2009\n",
      " mean perplexity: 2231.86375651867 \n",
      "\n",
      "Stopping training...\n",
      "427/427 [==============================] - 318s 745ms/step - loss: 0.2009\n"
     ]
    }
   ],
   "source": [
    "# fiteamos, nótese el agregado del callback con su inicialización. El batch_size lo podemos seleccionar a mano\n",
    "# en general, lo mejor es escoger el batch más grande posible que minimice el tiempo de cada época.\n",
    "# En la variable `history_ppl` se guardarán los valores de perplejidad para cada época.\n",
    "history_ppl = []\n",
    "hist = model.fit(X, y, epochs=20, callbacks=[PplCallback(tokenized_sentences_val,history_ppl)], batch_size=64)\n",
    "# Hay que seleccionar un Corpus más sustancioso para entrenar el modelo de lenguaje."
   ]
  },
  {
   "cell_type": "code",
   "execution_count": 90,
   "metadata": {},
   "outputs": [
    {
     "data": {
      "image/png": "[encoded data removed]",
      "text/plain": [
       "<Figure size 640x480 with 1 Axes>"
      ]
     },
     "metadata": {},
     "output_type": "display_data"
    }
   ],
   "source": [
    "# Podemos graficar la evolución de la perplejidad con las épocas.\n",
    "# Recordar que el valor de perplejidad del modelo trivial es el tamaño del vocabulario.\n",
    "epoch_count = range(1, len(history_ppl) + 1)\n",
    "sns.lineplot(x=epoch_count,  y=history_ppl)\n",
    "plt.show()"
   ]
  },
  {
   "cell_type": "code",
   "execution_count": 91,
   "metadata": {},
   "outputs": [],
   "source": [
    "# Cargamos el mejor modelo guardado del entrenamiento para hacer inferencia\n",
    "model_2 = keras.models.load_model('my_model')"
   ]
  },
  {
   "cell_type": "markdown",
   "metadata": {},
   "source": [
    "#### Generación de secuencias"
   ]
  },
  {
   "cell_type": "code",
   "execution_count": 92,
   "metadata": {},
   "outputs": [
    {
     "name": "stderr",
     "output_type": "stream",
     "text": [
      "2024-08-07 22:25:32.578815: I tensorflow/core/grappler/optimizers/custom_graph_optimizer_registry.cc:114] Plugin optimizer for device_type GPU is enabled.\n"
     ]
    },
    {
     "name": "stdout",
     "output_type": "stream",
     "text": [
      "1/1 [==============================] - 1s 897ms/step\n"
     ]
    },
    {
     "data": {
      "text/plain": [
       "'I wanna run away and open up my mind'"
      ]
     },
     "execution_count": 92,
     "metadata": {},
     "output_type": "execute_result"
    }
   ],
   "source": [
    "input_text='I wanna run away and open up my'\n",
    "\n",
    "generate_seq(model_2, tok, input_text, max_length=max_context_size, n_words=1)"
   ]
  },
  {
   "cell_type": "markdown",
   "metadata": {},
   "source": [
    "####  Beam search y muestreo aleatorio"
   ]
  },
  {
   "cell_type": "code",
   "execution_count": 93,
   "metadata": {},
   "outputs": [
    {
     "name": "stderr",
     "output_type": "stream",
     "text": [
      "2024-08-07 22:25:33.593334: I tensorflow/core/grappler/optimizers/custom_graph_optimizer_registry.cc:114] Plugin optimizer for device_type GPU is enabled.\n"
     ]
    }
   ],
   "source": [
    "# predicción con beam search.\n",
    "# Se pueden camiar los modos entre 'det' (determinista) y\n",
    "# 'sto' (estocástico)\n",
    "# para el caso estocástico también se puede variar la temperatura\n",
    "salidas = beam_search(model_2,num_beams=5,num_words=2,input=\"I wanna run away and open up\",temp=1,mode='sto') #mode=sto es estocásitco, son muestreos aleatorios, pero puede ser determinista"
   ]
  },
  {
   "cell_type": "code",
   "execution_count": 94,
   "metadata": {},
   "outputs": [
    {
     "data": {
      "text/plain": [
       "(5, 11)"
      ]
     },
     "execution_count": 94,
     "metadata": {},
     "output_type": "execute_result"
    }
   ],
   "source": [
    "# tenemos `num_beams` salidas ordenadas de mayor a menor likelihood\n",
    "salidas.shape"
   ]
  },
  {
   "cell_type": "code",
   "execution_count": 95,
   "metadata": {},
   "outputs": [
    {
     "name": "stdout",
     "output_type": "stream",
     "text": [
      "['i wanna run away and open up my mind']\n",
      "['i wanna run away and open up my mind']\n",
      "['i wanna run away and open up my mind']\n",
      "['i wanna run away and open up my mind']\n",
      "['i wanna run away and open up my mind']\n"
     ]
    }
   ],
   "source": [
    "# veamos las salidas\n",
    "for i in range(salidas.shape[0]):\n",
    "    print(decode(salidas[i]))"
   ]
  },
  {
   "cell_type": "markdown",
   "metadata": {},
   "source": [
    "Se ve que el modelo 2 tiene una mejor predicción , acertando en el generador de secuencias y con beam search, aunque todos den igual con este último. Se necesitan más documentos para mejorar su desempeño."
   ]
  },
  {
   "cell_type": "markdown",
   "metadata": {},
   "source": [
    "### Modelo 3 - LSTM (4 capas de dim=150, Embedding dim=50)"
   ]
  },
  {
   "cell_type": "code",
   "execution_count": 96,
   "metadata": {},
   "outputs": [
    {
     "name": "stdout",
     "output_type": "stream",
     "text": [
      "Model: \"sequential_6\"\n",
      "_________________________________________________________________\n",
      " Layer (type)                Output Shape              Param #   \n",
      "=================================================================\n",
      " embedding_6 (Embedding)     (None, None, 50)          118850    \n",
      "                                                                 \n",
      " lstm_4 (LSTM)               (None, None, 150)         120600    \n",
      "                                                                 \n",
      " lstm_5 (LSTM)               (None, None, 150)         180600    \n",
      "                                                                 \n",
      " lstm_6 (LSTM)               (None, None, 150)         180600    \n",
      "                                                                 \n",
      " lstm_7 (LSTM)               (None, None, 150)         180600    \n",
      "                                                                 \n",
      " dense_6 (Dense)             (None, None, 2377)        358927    \n",
      "                                                                 \n",
      "=================================================================\n",
      "Total params: 1140177 (4.35 MB)\n",
      "Trainable params: 1140177 (4.35 MB)\n",
      "Non-trainable params: 0 (0.00 Byte)\n",
      "_________________________________________________________________\n"
     ]
    }
   ],
   "source": [
    "# Hay que probar cambiando las capas\n",
    "model = Sequential()\n",
    "\n",
    "# la primera capa es de embedding entrenable. Recordar que se puede variar el tamaño\n",
    "# del embedding a entrenar. Se le puede dar un embedding ya entrenado. \n",
    "# input_shape: está en None pero podríamos poner 20, entran 20 tokens.\n",
    "# output_dim: es el tamaño del embedding\n",
    "model.add(Embedding(input_dim=vocab_size+1, output_dim=50, input_shape=(None,)))\n",
    "\n",
    "# Esta capa recibe una secuencia de vectores\n",
    "model.add(LSTM(150, return_sequences=True))\n",
    "# model.add(Dropout(0.2))\n",
    "\n",
    "# Se stakean 2 a cada paso de tiempo la capa que le sigue debe recibir la salida parcial\n",
    "model.add(LSTM(150, return_sequences=True)) # Como es many to many también debe tener return_sequences=True. \n",
    "# model.add(Dense(32, activation='relu'))\n",
    "\n",
    "# Se stakean 3 a cada paso de tiempo la capa que le sigue debe recibir la salida parcial\n",
    "model.add(LSTM(150, return_sequences=True)) # Como es many to many también debe tener return_sequences=True. \n",
    "# model.add(Dense(32, activation='relu'))\n",
    "\n",
    "# Se stakean 4 a cada paso de tiempo la capa que le sigue debe recibir la salida parcial\n",
    "model.add(LSTM(150, return_sequences=True)) # Como es many to many también debe tener return_sequences=True. \n",
    "# model.add(Dense(32, activation='relu'))\n",
    "\n",
    "# Predicción de clasificación con softmax\n",
    "# La salida es del tamaño del vocabulario\n",
    "# +1 debido a palabras nuevas que pudo no haber aprendido\n",
    "model.add(Dense(vocab_size+1, activation='softmax'))\n",
    "\n",
    "\n",
    "# Clasificación multiple categórica --> loss = categorical_crossentropy\n",
    "# notar que usamos la versión Sparse para utilizar sólo índices en lugar de OHE,\n",
    "# que en ese caso sería solo CategoricalCrossentropy().\n",
    "# En el fondo es un problema de clasificación.\n",
    "model.compile(loss=SparseCategoricalCrossentropy(), optimizer='rmsprop')\n",
    "#model.compile(\n",
    "#    loss=SparseCategoricalCrossentropy(),\n",
    "#    optimizer=Adam(),  # Cambia 'rmsprop' por Adam\n",
    "#    metrics=['accuracy']  # Puedes agregar métricas adicionales si es necesario\n",
    "#)\n",
    "model.summary()\n",
    "\n",
    "# La salida es del tamaño del vocabulario"
   ]
  },
  {
   "cell_type": "code",
   "execution_count": 97,
   "metadata": {},
   "outputs": [
    {
     "name": "stdout",
     "output_type": "stream",
     "text": [
      "Epoch 1/20\n"
     ]
    },
    {
     "name": "stderr",
     "output_type": "stream",
     "text": [
      "2024-08-07 22:25:38.081918: I tensorflow/core/grappler/optimizers/custom_graph_optimizer_registry.cc:114] Plugin optimizer for device_type GPU is enabled.\n",
      "2024-08-07 22:25:38.886341: I tensorflow/core/grappler/optimizers/custom_graph_optimizer_registry.cc:114] Plugin optimizer for device_type GPU is enabled.\n",
      "2024-08-07 22:25:39.086876: I tensorflow/core/grappler/optimizers/custom_graph_optimizer_registry.cc:114] Plugin optimizer for device_type GPU is enabled.\n",
      "2024-08-07 22:25:39.234989: I tensorflow/core/grappler/optimizers/custom_graph_optimizer_registry.cc:114] Plugin optimizer for device_type GPU is enabled.\n",
      "2024-08-07 22:25:39.389754: I tensorflow/core/grappler/optimizers/custom_graph_optimizer_registry.cc:114] Plugin optimizer for device_type GPU is enabled.\n",
      "2024-08-07 22:25:39.734950: I tensorflow/core/grappler/optimizers/custom_graph_optimizer_registry.cc:114] Plugin optimizer for device_type GPU is enabled.\n",
      "2024-08-07 22:25:40.064902: I tensorflow/core/grappler/optimizers/custom_graph_optimizer_registry.cc:114] Plugin optimizer for device_type GPU is enabled.\n",
      "2024-08-07 22:25:40.544804: I tensorflow/core/grappler/optimizers/custom_graph_optimizer_registry.cc:114] Plugin optimizer for device_type GPU is enabled.\n",
      "2024-08-07 22:25:40.908658: I tensorflow/core/grappler/optimizers/custom_graph_optimizer_registry.cc:114] Plugin optimizer for device_type GPU is enabled.\n"
     ]
    },
    {
     "name": "stdout",
     "output_type": "stream",
     "text": [
      "427/427 [==============================] - ETA: 0s - loss: 3.6517"
     ]
    },
    {
     "name": "stderr",
     "output_type": "stream",
     "text": [
      "2024-08-07 22:26:12.316168: I tensorflow/core/grappler/optimizers/custom_graph_optimizer_registry.cc:114] Plugin optimizer for device_type GPU is enabled.\n",
      "2024-08-07 22:26:12.566114: I tensorflow/core/grappler/optimizers/custom_graph_optimizer_registry.cc:114] Plugin optimizer for device_type GPU is enabled.\n",
      "2024-08-07 22:26:12.774958: I tensorflow/core/grappler/optimizers/custom_graph_optimizer_registry.cc:114] Plugin optimizer for device_type GPU is enabled.\n",
      "2024-08-07 22:26:12.915799: I tensorflow/core/grappler/optimizers/custom_graph_optimizer_registry.cc:114] Plugin optimizer for device_type GPU is enabled.\n",
      "2024-08-07 22:26:13.126246: I tensorflow/core/grappler/optimizers/custom_graph_optimizer_registry.cc:114] Plugin optimizer for device_type GPU is enabled.\n"
     ]
    },
    {
     "name": "stdout",
     "output_type": "stream",
     "text": [
      "\n",
      " mean perplexity: 31158.721450984805 \n",
      "\n",
      "INFO:tensorflow:Assets written to: my_model/assets\n"
     ]
    },
    {
     "name": "stderr",
     "output_type": "stream",
     "text": [
      "INFO:tensorflow:Assets written to: my_model/assets\n"
     ]
    },
    {
     "name": "stdout",
     "output_type": "stream",
     "text": [
      "Saved new model!\n",
      "427/427 [==============================] - 48s 99ms/step - loss: 3.6517\n",
      "Epoch 2/20\n",
      "427/427 [==============================] - ETA: 0s - loss: 3.0646\n",
      " mean perplexity: 5012.17692400513 \n",
      "\n",
      "INFO:tensorflow:Assets written to: my_model/assets\n"
     ]
    },
    {
     "name": "stderr",
     "output_type": "stream",
     "text": [
      "INFO:tensorflow:Assets written to: my_model/assets\n"
     ]
    },
    {
     "name": "stdout",
     "output_type": "stream",
     "text": [
      "Saved new model!\n",
      "427/427 [==============================] - 35s 83ms/step - loss: 3.0646\n",
      "Epoch 3/20\n",
      "427/427 [==============================] - ETA: 0s - loss: 2.8693\n",
      " mean perplexity: 7147.860672038365 \n",
      "\n",
      "427/427 [==============================] - 28s 66ms/step - loss: 2.8693\n",
      "Epoch 4/20\n",
      "427/427 [==============================] - ETA: 0s - loss: 2.7350\n",
      " mean perplexity: 6903.739472035905 \n",
      "\n",
      "427/427 [==============================] - 28s 65ms/step - loss: 2.7350\n",
      "Epoch 5/20\n",
      "427/427 [==============================] - ETA: 0s - loss: 2.6281\n",
      " mean perplexity: 8283.309135162188 \n",
      "\n",
      "427/427 [==============================] - 27s 64ms/step - loss: 2.6281\n",
      "Epoch 6/20\n",
      "427/427 [==============================] - ETA: 0s - loss: 2.5359\n",
      " mean perplexity: 10389.180417377713 \n",
      "\n",
      "427/427 [==============================] - 28s 64ms/step - loss: 2.5359\n",
      "Epoch 7/20\n",
      "427/427 [==============================] - ETA: 0s - loss: 2.4595\n",
      " mean perplexity: 9841.16256409517 \n",
      "\n",
      "Stopping training...\n",
      "427/427 [==============================] - 27s 64ms/step - loss: 2.4595\n"
     ]
    }
   ],
   "source": [
    "# fiteamos, nótese el agregado del callback con su inicialización. El batch_size lo podemos seleccionar a mano\n",
    "# en general, lo mejor es escoger el batch más grande posible que minimice el tiempo de cada época.\n",
    "# En la variable `history_ppl` se guardarán los valores de perplejidad para cada época.\n",
    "history_ppl = []\n",
    "hist = model.fit(X, y, epochs=20, callbacks=[PplCallback(tokenized_sentences_val,history_ppl)], batch_size=64)\n",
    "# Hay que seleccionar un Corpus más sustancioso para entrenar el modelo de lenguaje."
   ]
  },
  {
   "cell_type": "markdown",
   "metadata": {},
   "source": [
    "Epoch 8, mean perplexity: 21347.916345877944,  loss: 2.7063, 4 capas de 50 con 32 de batch y 50 de embedding\n",
    "epoch 9 mean perplexity: 19704.428007955492, loss: 2.3276, 4 cpas de 150 con 32 de batch y 50 de embedding"
   ]
  },
  {
   "cell_type": "code",
   "execution_count": 98,
   "metadata": {},
   "outputs": [
    {
     "data": {
      "image/png": "[encoded data removed]",
      "text/plain": [
       "<Figure size 640x480 with 1 Axes>"
      ]
     },
     "metadata": {},
     "output_type": "display_data"
    }
   ],
   "source": [
    "# Podemos graficar la evolución de la perplejidad con las épocas.\n",
    "# Recordar que el valor de perplejidad del modelo trivial es el tamaño del vocabulario.\n",
    "epoch_count = range(1, len(history_ppl) + 1)\n",
    "sns.lineplot(x=epoch_count,  y=history_ppl)\n",
    "plt.show()"
   ]
  },
  {
   "cell_type": "code",
   "execution_count": 99,
   "metadata": {},
   "outputs": [],
   "source": [
    "# Cargamos el mejor modelo guardado del entrenamiento para hacer inferencia\n",
    "model_3 = keras.models.load_model('my_model')"
   ]
  },
  {
   "cell_type": "markdown",
   "metadata": {},
   "source": [
    "#### Generación de secuencias"
   ]
  },
  {
   "cell_type": "code",
   "execution_count": 100,
   "metadata": {},
   "outputs": [
    {
     "name": "stderr",
     "output_type": "stream",
     "text": [
      "2024-08-07 22:29:22.583678: I tensorflow/core/grappler/optimizers/custom_graph_optimizer_registry.cc:114] Plugin optimizer for device_type GPU is enabled.\n",
      "2024-08-07 22:29:22.827987: I tensorflow/core/grappler/optimizers/custom_graph_optimizer_registry.cc:114] Plugin optimizer for device_type GPU is enabled.\n",
      "2024-08-07 22:29:23.005443: I tensorflow/core/grappler/optimizers/custom_graph_optimizer_registry.cc:114] Plugin optimizer for device_type GPU is enabled.\n",
      "2024-08-07 22:29:23.187003: I tensorflow/core/grappler/optimizers/custom_graph_optimizer_registry.cc:114] Plugin optimizer for device_type GPU is enabled.\n",
      "2024-08-07 22:29:23.368206: I tensorflow/core/grappler/optimizers/custom_graph_optimizer_registry.cc:114] Plugin optimizer for device_type GPU is enabled.\n"
     ]
    },
    {
     "name": "stdout",
     "output_type": "stream",
     "text": [
      "1/1 [==============================] - 2s 2s/step\n"
     ]
    },
    {
     "data": {
      "text/plain": [
       "'I wanna run away and open up my act'"
      ]
     },
     "execution_count": 100,
     "metadata": {},
     "output_type": "execute_result"
    }
   ],
   "source": [
    "input_text='I wanna run away and open up my'\n",
    "\n",
    "generate_seq(model_3, tok, input_text, max_length=max_context_size, n_words=1)"
   ]
  },
  {
   "cell_type": "markdown",
   "metadata": {},
   "source": [
    "####  Beam search y muestreo aleatorio"
   ]
  },
  {
   "cell_type": "code",
   "execution_count": 101,
   "metadata": {},
   "outputs": [
    {
     "name": "stderr",
     "output_type": "stream",
     "text": [
      "2024-08-07 22:29:24.210741: I tensorflow/core/grappler/optimizers/custom_graph_optimizer_registry.cc:114] Plugin optimizer for device_type GPU is enabled.\n",
      "2024-08-07 22:29:24.446374: I tensorflow/core/grappler/optimizers/custom_graph_optimizer_registry.cc:114] Plugin optimizer for device_type GPU is enabled.\n",
      "2024-08-07 22:29:24.630246: I tensorflow/core/grappler/optimizers/custom_graph_optimizer_registry.cc:114] Plugin optimizer for device_type GPU is enabled.\n",
      "2024-08-07 22:29:24.804124: I tensorflow/core/grappler/optimizers/custom_graph_optimizer_registry.cc:114] Plugin optimizer for device_type GPU is enabled.\n",
      "2024-08-07 22:29:24.987071: I tensorflow/core/grappler/optimizers/custom_graph_optimizer_registry.cc:114] Plugin optimizer for device_type GPU is enabled.\n"
     ]
    }
   ],
   "source": [
    "# predicción con beam search.\n",
    "# Se pueden camiar los modos entre 'det' (determinista) y\n",
    "# 'sto' (estocástico)\n",
    "# para el caso estocástico también se puede variar la temperatura\n",
    "salidas = beam_search(model_3,num_beams=5,num_words=2,input=\"I wanna run away and open up\",temp=1,mode='sto') #mode=sto es estocásitco, son muestreos aleatorios, pero puede ser determinista"
   ]
  },
  {
   "cell_type": "code",
   "execution_count": 102,
   "metadata": {},
   "outputs": [
    {
     "data": {
      "text/plain": [
       "(5, 11)"
      ]
     },
     "execution_count": 102,
     "metadata": {},
     "output_type": "execute_result"
    }
   ],
   "source": [
    "# tenemos `num_beams` salidas ordenadas de mayor a menor likelihood\n",
    "salidas.shape"
   ]
  },
  {
   "cell_type": "code",
   "execution_count": 103,
   "metadata": {},
   "outputs": [
    {
     "name": "stdout",
     "output_type": "stream",
     "text": [
      "['i wanna run away and open up have like']\n",
      "['i wanna run away and open up inside a']\n",
      "['i wanna run away and open up inside you']\n",
      "['i wanna run away and open up inside around']\n",
      "['i wanna run away and open up down it']\n"
     ]
    }
   ],
   "source": [
    "# veamos las salidas\n",
    "for i in range(salidas.shape[0]):\n",
    "    print(decode(salidas[i]))"
   ]
  },
  {
   "cell_type": "markdown",
   "metadata": {},
   "source": [
    "Se ve que el modelo 3 tiene una mala predicción, no acertando en el generador de secuencias ni con beam search, es similar en desempeño al modelo 1. Se necesitan más documentos."
   ]
  },
  {
   "cell_type": "markdown",
   "metadata": {},
   "source": [
    "### Modelo 4 - LSTM Bidirectional(Embedding dim=100, 4 capas LSTM de dim=150, Dropout=0.2)"
   ]
  },
  {
   "cell_type": "code",
   "execution_count": 104,
   "metadata": {},
   "outputs": [
    {
     "name": "stdout",
     "output_type": "stream",
     "text": [
      "Model: \"sequential_7\"\n",
      "_________________________________________________________________\n",
      " Layer (type)                Output Shape              Param #   \n",
      "=================================================================\n",
      " embedding_7 (Embedding)     (None, None, 100)         237700    \n",
      "                                                                 \n",
      " bidirectional_8 (Bidirecti  (None, None, 300)         301200    \n",
      " onal)                                                           \n",
      "                                                                 \n",
      " dropout (Dropout)           (None, None, 300)         0         \n",
      "                                                                 \n",
      " bidirectional_9 (Bidirecti  (None, None, 300)         541200    \n",
      " onal)                                                           \n",
      "                                                                 \n",
      " dropout_1 (Dropout)         (None, None, 300)         0         \n",
      "                                                                 \n",
      " bidirectional_10 (Bidirect  (None, None, 300)         541200    \n",
      " ional)                                                          \n",
      "                                                                 \n",
      " dropout_2 (Dropout)         (None, None, 300)         0         \n",
      "                                                                 \n",
      " bidirectional_11 (Bidirect  (None, None, 300)         541200    \n",
      " ional)                                                          \n",
      "                                                                 \n",
      " dropout_3 (Dropout)         (None, None, 300)         0         \n",
      "                                                                 \n",
      " dense_7 (Dense)             (None, None, 2377)        715477    \n",
      "                                                                 \n",
      "=================================================================\n",
      "Total params: 2877977 (10.98 MB)\n",
      "Trainable params: 2877977 (10.98 MB)\n",
      "Non-trainable params: 0 (0.00 Byte)\n",
      "_________________________________________________________________\n"
     ]
    }
   ],
   "source": [
    "# Hay que probar cambiando las capas\n",
    "model = Sequential()\n",
    "\n",
    "# la primera capa es de embedding entrenable. Recordar que se puede variar el tamaño\n",
    "# del embedding a entrenar. Se le puede dar un embedding ya entrenado. \n",
    "# input_shape: está en None pero podríamos poner 20, entran 20 tokens.\n",
    "# output_dim: es el tamaño del embedding\n",
    "model.add(Embedding(input_dim=vocab_size+1, output_dim=100, input_shape=(None,)))\n",
    "\n",
    "# Esta capa recibe una secuencia de vectores\n",
    "model.add(Bidirectional(LSTM(150, return_sequences=True)))\n",
    "model.add(Dropout(0.2))\n",
    "\n",
    "# Se stakean 2 a cada paso de tiempo la capa que le sigue debe recibir la salida parcial\n",
    "model.add(Bidirectional(LSTM(150, return_sequences=True))) # Como es many to many también debe tener return_sequences=True. \n",
    "# model.add(Dense(32, activation='relu'))\n",
    "model.add(Dropout(0.2))\n",
    "\n",
    "# Se stakean 3 a cada paso de tiempo la capa que le sigue debe recibir la salida parcial\n",
    "model.add(Bidirectional(LSTM(150, return_sequences=True))) # Como es many to many también debe tener return_sequences=True. \n",
    "# model.add(Dense(32, activation='relu'))\n",
    "model.add(Dropout(0.2))\n",
    "\n",
    "# Se stakean 3 a cada paso de tiempo la capa que le sigue debe recibir la salida parcial\n",
    "model.add(Bidirectional(LSTM(150, return_sequences=True))) # Como es many to many también debe tener return_sequences=True. \n",
    "# model.add(Dense(32, activation='relu'))\n",
    "model.add(Dropout(0.2))\n",
    "\n",
    "\n",
    "# Predicción de clasificación con softmax\n",
    "# La salida es del tamaño del vocabulario\n",
    "# +1 debido a palabras nuevas que pudo no haber aprendido\n",
    "model.add(Dense(vocab_size+1, activation='softmax'))\n",
    "\n",
    "\n",
    "# Clasificación multiple categórica --> loss = categorical_crossentropy\n",
    "# notar que usamos la versión Sparse para utilizar sólo índices en lugar de OHE,\n",
    "# que en ese caso sería solo CategoricalCrossentropy().\n",
    "# En el fondo es un problema de clasificación.\n",
    "model.compile(loss=SparseCategoricalCrossentropy(), optimizer='rmsprop')\n",
    "#model.compile(\n",
    "#    loss=SparseCategoricalCrossentropy(),\n",
    "#    optimizer=Adam(),  # Cambia 'rmsprop' por Adam\n",
    "#    metrics=['accuracy']  # Puedes agregar métricas adicionales si es necesario\n",
    "#)\n",
    "model.summary()\n",
    "\n",
    "# La salida es del tamaño del vocabulario"
   ]
  },
  {
   "cell_type": "code",
   "execution_count": 105,
   "metadata": {},
   "outputs": [
    {
     "name": "stdout",
     "output_type": "stream",
     "text": [
      "Epoch 1/20\n"
     ]
    },
    {
     "name": "stderr",
     "output_type": "stream",
     "text": [
      "2024-08-07 22:29:31.638196: I tensorflow/core/grappler/optimizers/custom_graph_optimizer_registry.cc:114] Plugin optimizer for device_type GPU is enabled.\n",
      "2024-08-07 22:29:33.250891: I tensorflow/core/grappler/optimizers/custom_graph_optimizer_registry.cc:114] Plugin optimizer for device_type GPU is enabled.\n",
      "2024-08-07 22:29:33.277961: I tensorflow/core/grappler/optimizers/custom_graph_optimizer_registry.cc:114] Plugin optimizer for device_type GPU is enabled.\n",
      "2024-08-07 22:29:33.642701: I tensorflow/core/grappler/optimizers/custom_graph_optimizer_registry.cc:114] Plugin optimizer for device_type GPU is enabled.\n",
      "2024-08-07 22:29:33.670078: I tensorflow/core/grappler/optimizers/custom_graph_optimizer_registry.cc:114] Plugin optimizer for device_type GPU is enabled.\n",
      "2024-08-07 22:29:34.010774: I tensorflow/core/grappler/optimizers/custom_graph_optimizer_registry.cc:114] Plugin optimizer for device_type GPU is enabled.\n",
      "2024-08-07 22:29:34.037948: I tensorflow/core/grappler/optimizers/custom_graph_optimizer_registry.cc:114] Plugin optimizer for device_type GPU is enabled.\n",
      "2024-08-07 22:29:34.375703: I tensorflow/core/grappler/optimizers/custom_graph_optimizer_registry.cc:114] Plugin optimizer for device_type GPU is enabled.\n",
      "2024-08-07 22:29:34.403064: I tensorflow/core/grappler/optimizers/custom_graph_optimizer_registry.cc:114] Plugin optimizer for device_type GPU is enabled.\n",
      "2024-08-07 22:29:35.106302: I tensorflow/core/grappler/optimizers/custom_graph_optimizer_registry.cc:114] Plugin optimizer for device_type GPU is enabled.\n",
      "2024-08-07 22:29:35.181107: I tensorflow/core/grappler/optimizers/custom_graph_optimizer_registry.cc:114] Plugin optimizer for device_type GPU is enabled.\n",
      "2024-08-07 22:29:35.984853: I tensorflow/core/grappler/optimizers/custom_graph_optimizer_registry.cc:114] Plugin optimizer for device_type GPU is enabled.\n",
      "2024-08-07 22:29:36.049357: I tensorflow/core/grappler/optimizers/custom_graph_optimizer_registry.cc:114] Plugin optimizer for device_type GPU is enabled.\n",
      "2024-08-07 22:29:36.860019: I tensorflow/core/grappler/optimizers/custom_graph_optimizer_registry.cc:114] Plugin optimizer for device_type GPU is enabled.\n",
      "2024-08-07 22:29:36.921171: I tensorflow/core/grappler/optimizers/custom_graph_optimizer_registry.cc:114] Plugin optimizer for device_type GPU is enabled.\n",
      "2024-08-07 22:29:37.736901: I tensorflow/core/grappler/optimizers/custom_graph_optimizer_registry.cc:114] Plugin optimizer for device_type GPU is enabled.\n",
      "2024-08-07 22:29:37.799490: I tensorflow/core/grappler/optimizers/custom_graph_optimizer_registry.cc:114] Plugin optimizer for device_type GPU is enabled.\n"
     ]
    },
    {
     "name": "stdout",
     "output_type": "stream",
     "text": [
      "427/427 [==============================] - ETA: 0s - loss: 3.0747"
     ]
    },
    {
     "name": "stderr",
     "output_type": "stream",
     "text": [
      "2024-08-07 22:30:37.163888: I tensorflow/core/grappler/optimizers/custom_graph_optimizer_registry.cc:114] Plugin optimizer for device_type GPU is enabled.\n",
      "2024-08-07 22:30:37.429692: I tensorflow/core/grappler/optimizers/custom_graph_optimizer_registry.cc:114] Plugin optimizer for device_type GPU is enabled.\n",
      "2024-08-07 22:30:37.442100: I tensorflow/core/grappler/optimizers/custom_graph_optimizer_registry.cc:114] Plugin optimizer for device_type GPU is enabled.\n",
      "2024-08-07 22:30:37.641635: I tensorflow/core/grappler/optimizers/custom_graph_optimizer_registry.cc:114] Plugin optimizer for device_type GPU is enabled.\n",
      "2024-08-07 22:30:37.653774: I tensorflow/core/grappler/optimizers/custom_graph_optimizer_registry.cc:114] Plugin optimizer for device_type GPU is enabled.\n",
      "2024-08-07 22:30:37.857287: I tensorflow/core/grappler/optimizers/custom_graph_optimizer_registry.cc:114] Plugin optimizer for device_type GPU is enabled.\n",
      "2024-08-07 22:30:37.869408: I tensorflow/core/grappler/optimizers/custom_graph_optimizer_registry.cc:114] Plugin optimizer for device_type GPU is enabled.\n",
      "2024-08-07 22:30:38.064453: I tensorflow/core/grappler/optimizers/custom_graph_optimizer_registry.cc:114] Plugin optimizer for device_type GPU is enabled.\n",
      "2024-08-07 22:30:38.076492: I tensorflow/core/grappler/optimizers/custom_graph_optimizer_registry.cc:114] Plugin optimizer for device_type GPU is enabled.\n"
     ]
    },
    {
     "name": "stdout",
     "output_type": "stream",
     "text": [
      "\n",
      " mean perplexity: 2318.797307422965 \n",
      "\n",
      "INFO:tensorflow:Assets written to: my_model/assets\n"
     ]
    },
    {
     "name": "stderr",
     "output_type": "stream",
     "text": [
      "INFO:tensorflow:Assets written to: my_model/assets\n"
     ]
    },
    {
     "name": "stdout",
     "output_type": "stream",
     "text": [
      "Saved new model!\n",
      "427/427 [==============================] - 91s 187ms/step - loss: 3.0747\n",
      "Epoch 2/20\n",
      "427/427 [==============================] - ETA: 0s - loss: 1.9432\n",
      " mean perplexity: 1228.091769308203 \n",
      "\n",
      "INFO:tensorflow:Assets written to: my_model/assets\n"
     ]
    },
    {
     "name": "stderr",
     "output_type": "stream",
     "text": [
      "INFO:tensorflow:Assets written to: my_model/assets\n"
     ]
    },
    {
     "name": "stdout",
     "output_type": "stream",
     "text": [
      "Saved new model!\n",
      "427/427 [==============================] - 58s 137ms/step - loss: 1.9432\n",
      "Epoch 3/20\n",
      "427/427 [==============================] - ETA: 0s - loss: 1.2916\n",
      " mean perplexity: 2926.0401418177253 \n",
      "\n",
      "427/427 [==============================] - 44s 104ms/step - loss: 1.2916\n",
      "Epoch 4/20\n",
      "427/427 [==============================] - ETA: 0s - loss: 0.9494\n",
      " mean perplexity: 1618.9462796083424 \n",
      "\n",
      "427/427 [==============================] - 45s 104ms/step - loss: 0.9494\n",
      "Epoch 5/20\n",
      "427/427 [==============================] - ETA: 0s - loss: 0.7626\n",
      " mean perplexity: 2529.0625574188925 \n",
      "\n",
      "427/427 [==============================] - 45s 104ms/step - loss: 0.7626\n",
      "Epoch 6/20\n",
      "427/427 [==============================] - ETA: 0s - loss: 0.6533\n",
      " mean perplexity: 2295.9994437372247 \n",
      "\n",
      "427/427 [==============================] - 43s 101ms/step - loss: 0.6533\n",
      "Epoch 7/20\n",
      "427/427 [==============================] - ETA: 0s - loss: 0.5771\n",
      " mean perplexity: 2916.3048482613613 \n",
      "\n",
      "Stopping training...\n",
      "427/427 [==============================] - 43s 101ms/step - loss: 0.5771\n"
     ]
    }
   ],
   "source": [
    "# fiteamos, nótese el agregado del callback con su inicialización. El batch_size lo podemos seleccionar a mano\n",
    "# en general, lo mejor es escoger el batch más grande posible que minimice el tiempo de cada época.\n",
    "# En la variable `history_ppl` se guardarán los valores de perplejidad para cada época.\n",
    "history_ppl = []\n",
    "hist = model.fit(X, y, epochs=20, callbacks=[PplCallback(tokenized_sentences_val,history_ppl)], batch_size=64)\n",
    "# Hay que seleccionar un Corpus más sustancioso para entrenar el modelo de lenguaje."
   ]
  },
  {
   "cell_type": "code",
   "execution_count": 106,
   "metadata": {},
   "outputs": [
    {
     "data": {
      "image/png": "[encoded data removed]",
      "text/plain": [
       "<Figure size 640x480 with 1 Axes>"
      ]
     },
     "metadata": {},
     "output_type": "display_data"
    }
   ],
   "source": [
    "# Podemos graficar la evolución de la perplejidad con las épocas.\n",
    "# Recordar que el valor de perplejidad del modelo trivial es el tamaño del vocabulario.\n",
    "epoch_count = range(1, len(history_ppl) + 1)\n",
    "sns.lineplot(x=epoch_count,  y=history_ppl)\n",
    "plt.show()"
   ]
  },
  {
   "cell_type": "code",
   "execution_count": 107,
   "metadata": {},
   "outputs": [],
   "source": [
    "# Cargamos el mejor modelo guardado del entrenamiento para hacer inferencia\n",
    "model_4 = keras.models.load_model('my_model')"
   ]
  },
  {
   "cell_type": "markdown",
   "metadata": {},
   "source": [
    "#### Generación de secuencias"
   ]
  },
  {
   "cell_type": "code",
   "execution_count": 108,
   "metadata": {},
   "outputs": [
    {
     "name": "stderr",
     "output_type": "stream",
     "text": [
      "2024-08-07 22:35:45.874270: I tensorflow/core/grappler/optimizers/custom_graph_optimizer_registry.cc:114] Plugin optimizer for device_type GPU is enabled.\n",
      "2024-08-07 22:35:46.163499: I tensorflow/core/grappler/optimizers/custom_graph_optimizer_registry.cc:114] Plugin optimizer for device_type GPU is enabled.\n",
      "2024-08-07 22:35:46.175590: I tensorflow/core/grappler/optimizers/custom_graph_optimizer_registry.cc:114] Plugin optimizer for device_type GPU is enabled.\n",
      "2024-08-07 22:35:46.348743: I tensorflow/core/grappler/optimizers/custom_graph_optimizer_registry.cc:114] Plugin optimizer for device_type GPU is enabled.\n",
      "2024-08-07 22:35:46.360875: I tensorflow/core/grappler/optimizers/custom_graph_optimizer_registry.cc:114] Plugin optimizer for device_type GPU is enabled.\n",
      "2024-08-07 22:35:46.546921: I tensorflow/core/grappler/optimizers/custom_graph_optimizer_registry.cc:114] Plugin optimizer for device_type GPU is enabled.\n",
      "2024-08-07 22:35:46.558807: I tensorflow/core/grappler/optimizers/custom_graph_optimizer_registry.cc:114] Plugin optimizer for device_type GPU is enabled.\n",
      "2024-08-07 22:35:46.731262: I tensorflow/core/grappler/optimizers/custom_graph_optimizer_registry.cc:114] Plugin optimizer for device_type GPU is enabled.\n",
      "2024-08-07 22:35:46.743112: I tensorflow/core/grappler/optimizers/custom_graph_optimizer_registry.cc:114] Plugin optimizer for device_type GPU is enabled.\n"
     ]
    },
    {
     "name": "stdout",
     "output_type": "stream",
     "text": [
      "1/1 [==============================] - 2s 2s/step\n"
     ]
    },
    {
     "data": {
      "text/plain": [
       "'I wanna run away and open up my lies'"
      ]
     },
     "execution_count": 108,
     "metadata": {},
     "output_type": "execute_result"
    }
   ],
   "source": [
    "input_text='I wanna run away and open up my'\n",
    "\n",
    "generate_seq(model_4, tok, input_text, max_length=max_context_size, n_words=1)"
   ]
  },
  {
   "cell_type": "markdown",
   "metadata": {},
   "source": [
    "####  Beam search y muestreo aleatorio"
   ]
  },
  {
   "cell_type": "code",
   "execution_count": 109,
   "metadata": {},
   "outputs": [
    {
     "name": "stderr",
     "output_type": "stream",
     "text": [
      "2024-08-07 22:35:47.728724: I tensorflow/core/grappler/optimizers/custom_graph_optimizer_registry.cc:114] Plugin optimizer for device_type GPU is enabled.\n",
      "2024-08-07 22:35:47.989043: I tensorflow/core/grappler/optimizers/custom_graph_optimizer_registry.cc:114] Plugin optimizer for device_type GPU is enabled.\n",
      "2024-08-07 22:35:48.001003: I tensorflow/core/grappler/optimizers/custom_graph_optimizer_registry.cc:114] Plugin optimizer for device_type GPU is enabled.\n",
      "2024-08-07 22:35:48.176760: I tensorflow/core/grappler/optimizers/custom_graph_optimizer_registry.cc:114] Plugin optimizer for device_type GPU is enabled.\n",
      "2024-08-07 22:35:48.188702: I tensorflow/core/grappler/optimizers/custom_graph_optimizer_registry.cc:114] Plugin optimizer for device_type GPU is enabled.\n",
      "2024-08-07 22:35:48.364454: I tensorflow/core/grappler/optimizers/custom_graph_optimizer_registry.cc:114] Plugin optimizer for device_type GPU is enabled.\n",
      "2024-08-07 22:35:48.376638: I tensorflow/core/grappler/optimizers/custom_graph_optimizer_registry.cc:114] Plugin optimizer for device_type GPU is enabled.\n",
      "2024-08-07 22:35:48.552208: I tensorflow/core/grappler/optimizers/custom_graph_optimizer_registry.cc:114] Plugin optimizer for device_type GPU is enabled.\n",
      "2024-08-07 22:35:48.564095: I tensorflow/core/grappler/optimizers/custom_graph_optimizer_registry.cc:114] Plugin optimizer for device_type GPU is enabled.\n"
     ]
    }
   ],
   "source": [
    "# predicción con beam search.\n",
    "# Se pueden camiar los modos entre 'det' (determinista) y\n",
    "# 'sto' (estocástico)\n",
    "# para el caso estocástico también se puede variar la temperatura\n",
    "salidas = beam_search(model_4,num_beams=5,num_words=2,input=\"I wanna run away and open up\",temp=1,mode='sto') #mode=sto es estocásitco, son muestreos aleatorios, pero puede ser determinista"
   ]
  },
  {
   "cell_type": "code",
   "execution_count": 110,
   "metadata": {},
   "outputs": [
    {
     "data": {
      "text/plain": [
       "(5, 11)"
      ]
     },
     "execution_count": 110,
     "metadata": {},
     "output_type": "execute_result"
    }
   ],
   "source": [
    "# tenemos `num_beams` salidas ordenadas de mayor a menor likelihood\n",
    "salidas.shape"
   ]
  },
  {
   "cell_type": "code",
   "execution_count": 111,
   "metadata": {},
   "outputs": [
    {
     "name": "stdout",
     "output_type": "stream",
     "text": [
      "['i wanna run away and open up to tried']\n",
      "['i wanna run away and open up to flag']\n",
      "['i wanna run away and open up it but']\n",
      "[\"i wanna run away and open up me you're\"]\n",
      "['i wanna run away and open up to back']\n"
     ]
    }
   ],
   "source": [
    "# veamos las salidas\n",
    "for i in range(salidas.shape[0]):\n",
    "    print(decode(salidas[i]))"
   ]
  },
  {
   "cell_type": "markdown",
   "metadata": {},
   "source": [
    "Se ve que el modelo 4 tiene una mala predicción, no acertando en el generador de secuencias ni con beam search, aunque la perplexity y el train loss son menores. Se necesitan más documentos y se podrían hacer cambios en arquitectura para mejorar el desempeño."
   ]
  },
  {
   "cell_type": "markdown",
   "metadata": {},
   "source": [
    "### Modelo 5 - GRU (5 capas, Embedding dim=100)"
   ]
  },
  {
   "cell_type": "code",
   "execution_count": 112,
   "metadata": {},
   "outputs": [
    {
     "name": "stdout",
     "output_type": "stream",
     "text": [
      "Model: \"sequential_8\"\n",
      "_________________________________________________________________\n",
      " Layer (type)                Output Shape              Param #   \n",
      "=================================================================\n",
      " embedding_8 (Embedding)     (None, None, 100)         237700    \n",
      "                                                                 \n",
      " gru (GRU)                   (None, None, 150)         113400    \n",
      "                                                                 \n",
      " gru_1 (GRU)                 (None, None, 150)         135900    \n",
      "                                                                 \n",
      " gru_2 (GRU)                 (None, None, 150)         135900    \n",
      "                                                                 \n",
      " gru_3 (GRU)                 (None, None, 150)         135900    \n",
      "                                                                 \n",
      " gru_4 (GRU)                 (None, None, 150)         135900    \n",
      "                                                                 \n",
      " dense_8 (Dense)             (None, None, 2377)        358927    \n",
      "                                                                 \n",
      "=================================================================\n",
      "Total params: 1253627 (4.78 MB)\n",
      "Trainable params: 1253627 (4.78 MB)\n",
      "Non-trainable params: 0 (0.00 Byte)\n",
      "_________________________________________________________________\n"
     ]
    }
   ],
   "source": [
    "from tensorflow.keras.layers import GRU\n",
    "# Hay que probar cambiando las capas\n",
    "model = Sequential()\n",
    "\n",
    "# la primera capa es de embedding entrenable. Recordar que se puede variar el tamaño\n",
    "# del embedding a entrenar. Se le puede dar un embedding ya entrenado. \n",
    "# input_shape: está en None pero podríamos poner 20, entran 20 tokens.\n",
    "# output_dim: es el tamaño del embedding\n",
    "model.add(Embedding(input_dim=vocab_size+1, output_dim=100, input_shape=(None,)))\n",
    "\n",
    "# Esta capa recibe una secuencia de vectores\n",
    "model.add(GRU(150, return_sequences=True))\n",
    "# model.add(Dropout(0.2))\n",
    "\n",
    "# Se stakean 2 a cada paso de tiempo la capa que le sigue debe recibir la salida parcial\n",
    "model.add(GRU(150, return_sequences=True)) # Como es many to many también debe tener return_sequences=True. \n",
    "# model.add(Dense(32, activation='relu'))\n",
    "\n",
    "# Se stakean 2 a cada paso de tiempo la capa que le sigue debe recibir la salida parcial\n",
    "model.add(GRU(150, return_sequences=True)) # Como es many to many también debe tener return_sequences=True. \n",
    "# model.add(Dense(32, activation='relu'))\n",
    "\n",
    "# Se stakean 2 a cada paso de tiempo la capa que le sigue debe recibir la salida parcial\n",
    "model.add(GRU(150, return_sequences=True)) # Como es many to many también debe tener return_sequences=True. \n",
    "# model.add(Dense(32, activation='relu'))\n",
    "\n",
    "# Se stakean 2 a cada paso de tiempo la capa que le sigue debe recibir la salida parcial\n",
    "model.add(GRU(150, return_sequences=True)) # Como es many to many también debe tener return_sequences=True. \n",
    "# model.add(Dense(32, activation='relu'))\n",
    "\n",
    "# Predicción de clasificación con softmax\n",
    "# La salida es del tamaño del vocabulario\n",
    "# +1 debido a palabras nuevas que pudo no haber aprendido\n",
    "model.add(Dense(vocab_size+1, activation='softmax'))\n",
    "\n",
    "\n",
    "# Clasificación multiple categórica --> loss = categorical_crossentropy\n",
    "# notar que usamos la versión Sparse para utilizar sólo índices en lugar de OHE,\n",
    "# que en ese caso sería solo CategoricalCrossentropy().\n",
    "# En el fondo es un problema de clasificación.\n",
    "model.compile(loss=SparseCategoricalCrossentropy(), optimizer='rmsprop')\n",
    "#model.compile(\n",
    "#    loss=SparseCategoricalCrossentropy(),\n",
    "#    optimizer=Adam(),  # Cambia 'rmsprop' por Adam\n",
    "#    metrics=['accuracy']  # Puedes agregar métricas adicionales si es necesario\n",
    "#)\n",
    "model.summary()\n",
    "\n",
    "# La salida es del tamaño del vocabulario"
   ]
  },
  {
   "cell_type": "code",
   "execution_count": 113,
   "metadata": {},
   "outputs": [],
   "source": [
    "import numpy as np\n",
    "from tensorflow.keras.callbacks import Callback\n",
    "from tensorflow.keras.preprocessing.sequence import pad_sequences\n",
    "\n",
    "class PplCallback(Callback):\n",
    "    '''\n",
    "    Este callback es una solución ad-hoc para calcular al final de cada epoch de\n",
    "    entrenamiento la métrica de Perplejidad sobre un conjunto de datos de validación.\n",
    "    La perplejidad es una métrica cuantitativa para evaluar la calidad de la generación de secuencias.\n",
    "    Además implementa la finalización del entrenamiento (Early Stopping)\n",
    "    si la perplejidad no mejora después de `patience` epochs.\n",
    "    '''\n",
    "\n",
    "    def __init__(self, val_data, history_ppl, patience=5):\n",
    "        super(PplCallback, self).__init__()\n",
    "        # El callback lo inicializamos con secuencias de validación sobre las cuales\n",
    "        # mediremos la perplejidad y la paciencia para detener el entrenamiento.\n",
    "        self.val_data = val_data\n",
    "        self.history_ppl = history_ppl\n",
    "        self.patience = patience\n",
    "        self.patience_counter = 0\n",
    "        self.min_score = np.inf\n",
    "\n",
    "        self.target = []\n",
    "        self.padded = []\n",
    "        count = 0\n",
    "        self.info = []\n",
    "\n",
    "        # Nos movemos en todas las secuencias de los datos de validación\n",
    "        for seq in self.val_data:\n",
    "            len_seq = len(seq)\n",
    "            # Armamos todas las subsecuencias\n",
    "            subseq = [seq[:i] for i in range(len_seq)]\n",
    "            self.target.extend([seq[i] for i in range(len_seq)])\n",
    "\n",
    "            if len(subseq) != 0:\n",
    "                self.padded.append(pad_sequences(subseq, maxlen=max_context_size, padding='pre'))\n",
    "                self.info.append((count, count + len_seq))\n",
    "                count += len_seq\n",
    "\n",
    "        self.padded = np.vstack(self.padded)\n",
    "\n",
    "    # Se va a ejecutar cuando termine una época, calculando la perplejidad y si empeora lo interrumpe\n",
    "    def on_epoch_end(self, epoch, logs=None):\n",
    "        # En `scores` iremos guardando la perplejidad de cada secuencia\n",
    "        scores = []\n",
    "        predictions = self.model.predict(self.padded, verbose=0)\n",
    "\n",
    "        # Para cada secuencia de validación\n",
    "        for start, end in self.info:\n",
    "            # En `probs` iremos guardando las probabilidades de los términos target\n",
    "            probs = [predictions[idx_seq, -1, idx_vocab] for idx_seq, idx_vocab in zip(range(start, end), self.target[start:end])]\n",
    "            # Calculamos la perplejidad por medio de logaritmos\n",
    "            scores.append(np.exp(-np.sum(np.log(probs)) / (end - start)))\n",
    "\n",
    "        # Promediamos todos los scores e imprimimos el valor promedio\n",
    "        current_score = np.mean(scores)\n",
    "        self.history_ppl.append(current_score)\n",
    "        print(f'\\n mean perplexity: {current_score} \\n')\n",
    "\n",
    "        # Chequeamos si tenemos que detener el entrenamiento\n",
    "        if current_score < self.min_score:\n",
    "            self.min_score = current_score\n",
    "            self.model.save(\"my_model\")\n",
    "            print(\"Saved new model!\")\n",
    "            self.patience_counter = 0\n",
    "        else:\n",
    "            self.patience_counter += 1\n",
    "            if self.patience_counter == self.patience:\n",
    "                print(\"Stopping training...\")\n",
    "                self.model.stop_training = True\n"
   ]
  },
  {
   "cell_type": "code",
   "execution_count": 114,
   "metadata": {},
   "outputs": [
    {
     "name": "stdout",
     "output_type": "stream",
     "text": [
      "Epoch 1/20\n"
     ]
    },
    {
     "name": "stderr",
     "output_type": "stream",
     "text": [
      "2024-08-07 22:35:51.480841: I tensorflow/core/grappler/optimizers/custom_graph_optimizer_registry.cc:114] Plugin optimizer for device_type GPU is enabled.\n",
      "2024-08-07 22:35:52.096694: I tensorflow/core/grappler/optimizers/custom_graph_optimizer_registry.cc:114] Plugin optimizer for device_type GPU is enabled.\n",
      "2024-08-07 22:35:52.251785: I tensorflow/core/grappler/optimizers/custom_graph_optimizer_registry.cc:114] Plugin optimizer for device_type GPU is enabled.\n",
      "2024-08-07 22:35:52.378191: I tensorflow/core/grappler/optimizers/custom_graph_optimizer_registry.cc:114] Plugin optimizer for device_type GPU is enabled.\n",
      "2024-08-07 22:35:52.508843: I tensorflow/core/grappler/optimizers/custom_graph_optimizer_registry.cc:114] Plugin optimizer for device_type GPU is enabled.\n",
      "2024-08-07 22:35:52.634054: I tensorflow/core/grappler/optimizers/custom_graph_optimizer_registry.cc:114] Plugin optimizer for device_type GPU is enabled.\n",
      "2024-08-07 22:35:52.942731: I tensorflow/core/grappler/optimizers/custom_graph_optimizer_registry.cc:114] Plugin optimizer for device_type GPU is enabled.\n",
      "2024-08-07 22:35:53.271152: I tensorflow/core/grappler/optimizers/custom_graph_optimizer_registry.cc:114] Plugin optimizer for device_type GPU is enabled.\n",
      "2024-08-07 22:35:53.596715: I tensorflow/core/grappler/optimizers/custom_graph_optimizer_registry.cc:114] Plugin optimizer for device_type GPU is enabled.\n",
      "2024-08-07 22:35:53.921899: I tensorflow/core/grappler/optimizers/custom_graph_optimizer_registry.cc:114] Plugin optimizer for device_type GPU is enabled.\n",
      "2024-08-07 22:35:54.246602: I tensorflow/core/grappler/optimizers/custom_graph_optimizer_registry.cc:114] Plugin optimizer for device_type GPU is enabled.\n"
     ]
    },
    {
     "name": "stdout",
     "output_type": "stream",
     "text": [
      "854/854 [==============================] - ETA: 0s - loss: 3.2692"
     ]
    },
    {
     "name": "stderr",
     "output_type": "stream",
     "text": [
      "2024-08-07 22:36:37.367273: I tensorflow/core/grappler/optimizers/custom_graph_optimizer_registry.cc:114] Plugin optimizer for device_type GPU is enabled.\n",
      "2024-08-07 22:36:37.529446: I tensorflow/core/grappler/optimizers/custom_graph_optimizer_registry.cc:114] Plugin optimizer for device_type GPU is enabled.\n",
      "2024-08-07 22:36:37.643904: I tensorflow/core/grappler/optimizers/custom_graph_optimizer_registry.cc:114] Plugin optimizer for device_type GPU is enabled.\n",
      "2024-08-07 22:36:37.758255: I tensorflow/core/grappler/optimizers/custom_graph_optimizer_registry.cc:114] Plugin optimizer for device_type GPU is enabled.\n",
      "2024-08-07 22:36:37.872741: I tensorflow/core/grappler/optimizers/custom_graph_optimizer_registry.cc:114] Plugin optimizer for device_type GPU is enabled.\n",
      "2024-08-07 22:36:37.991273: I tensorflow/core/grappler/optimizers/custom_graph_optimizer_registry.cc:114] Plugin optimizer for device_type GPU is enabled.\n"
     ]
    },
    {
     "name": "stdout",
     "output_type": "stream",
     "text": [
      "\n",
      " mean perplexity: 3118.447124231539 \n",
      "\n",
      "INFO:tensorflow:Assets written to: my_model/assets\n"
     ]
    },
    {
     "name": "stderr",
     "output_type": "stream",
     "text": [
      "INFO:tensorflow:Assets written to: my_model/assets\n"
     ]
    },
    {
     "name": "stdout",
     "output_type": "stream",
     "text": [
      "Saved new model!\n",
      "854/854 [==============================] - 56s 60ms/step - loss: 3.2692\n",
      "Epoch 2/20\n",
      "854/854 [==============================] - ETA: 0s - loss: 2.8084\n",
      " mean perplexity: 1901.2166317710612 \n",
      "\n",
      "INFO:tensorflow:Assets written to: my_model/assets\n"
     ]
    },
    {
     "name": "stderr",
     "output_type": "stream",
     "text": [
      "INFO:tensorflow:Assets written to: my_model/assets\n"
     ]
    },
    {
     "name": "stdout",
     "output_type": "stream",
     "text": [
      "Saved new model!\n",
      "854/854 [==============================] - 42s 50ms/step - loss: 2.8084\n",
      "Epoch 3/20\n",
      "854/854 [==============================] - ETA: 0s - loss: 2.6012\n",
      " mean perplexity: 1235.485624856185 \n",
      "\n",
      "INFO:tensorflow:Assets written to: my_model/assets\n"
     ]
    },
    {
     "name": "stderr",
     "output_type": "stream",
     "text": [
      "INFO:tensorflow:Assets written to: my_model/assets\n"
     ]
    },
    {
     "name": "stdout",
     "output_type": "stream",
     "text": [
      "Saved new model!\n",
      "854/854 [==============================] - 43s 50ms/step - loss: 2.6012\n",
      "Epoch 4/20\n",
      "854/854 [==============================] - ETA: 0s - loss: 2.4244\n",
      " mean perplexity: 1988.8891067476634 \n",
      "\n",
      "854/854 [==============================] - 38s 44ms/step - loss: 2.4244\n",
      "Epoch 5/20\n",
      "854/854 [==============================] - ETA: 0s - loss: 2.2690\n",
      " mean perplexity: 1521.0794592384332 \n",
      "\n",
      "854/854 [==============================] - 37s 44ms/step - loss: 2.2690\n",
      "Epoch 6/20\n",
      "854/854 [==============================] - ETA: 0s - loss: 2.1327\n",
      " mean perplexity: 1380.0682601151912 \n",
      "\n",
      "854/854 [==============================] - 37s 44ms/step - loss: 2.1327\n",
      "Epoch 7/20\n",
      "854/854 [==============================] - ETA: 0s - loss: 2.0183\n",
      " mean perplexity: 2618.5771378286004 \n",
      "\n",
      "854/854 [==============================] - 37s 43ms/step - loss: 2.0183\n",
      "Epoch 8/20\n",
      "854/854 [==============================] - ETA: 0s - loss: 1.9195\n",
      " mean perplexity: 2966.4283522480378 \n",
      "\n",
      "Stopping training...\n",
      "854/854 [==============================] - 37s 43ms/step - loss: 1.9195\n"
     ]
    }
   ],
   "source": [
    "# fiteamos, nótese el agregado del callback con su inicialización. El batch_size lo podemos seleccionar a mano\n",
    "# en general, lo mejor es escoger el batch más grande posible que minimice el tiempo de cada época.\n",
    "# En la variable `history_ppl` se guardarán los valores de perplejidad para cada época.\n",
    "history_ppl = []\n",
    "hist = model.fit(X, y, epochs=20, callbacks=[PplCallback(tokenized_sentences_val,history_ppl)], batch_size=32)\n",
    "# Hay que seleccionar un Corpus más sustancioso para entrenar el modelo de lenguaje."
   ]
  },
  {
   "cell_type": "code",
   "execution_count": 115,
   "metadata": {},
   "outputs": [
    {
     "data": {
      "image/png": "[encoded data removed]",
      "text/plain": [
       "<Figure size 640x480 with 1 Axes>"
      ]
     },
     "metadata": {},
     "output_type": "display_data"
    }
   ],
   "source": [
    "# Podemos graficar la evolución de la perplejidad con las épocas.\n",
    "# Recordar que el valor de perplejidad del modelo trivial es el tamaño del vocabulario.\n",
    "epoch_count = range(1, len(history_ppl) + 1)\n",
    "sns.lineplot(x=epoch_count,  y=history_ppl)\n",
    "plt.show()"
   ]
  },
  {
   "cell_type": "code",
   "execution_count": 116,
   "metadata": {},
   "outputs": [],
   "source": [
    "# Cargamos el mejor modelo guardado del entrenamiento para hacer inferencia\n",
    "model_5 = keras.models.load_model('my_model')"
   ]
  },
  {
   "cell_type": "markdown",
   "metadata": {},
   "source": [
    "#### Generación de secuencias"
   ]
  },
  {
   "cell_type": "code",
   "execution_count": 117,
   "metadata": {},
   "outputs": [
    {
     "name": "stderr",
     "output_type": "stream",
     "text": [
      "2024-08-07 22:41:20.448206: I tensorflow/core/grappler/optimizers/custom_graph_optimizer_registry.cc:114] Plugin optimizer for device_type GPU is enabled.\n",
      "2024-08-07 22:41:20.611713: I tensorflow/core/grappler/optimizers/custom_graph_optimizer_registry.cc:114] Plugin optimizer for device_type GPU is enabled.\n",
      "2024-08-07 22:41:20.897316: I tensorflow/core/grappler/optimizers/custom_graph_optimizer_registry.cc:114] Plugin optimizer for device_type GPU is enabled.\n",
      "2024-08-07 22:41:20.996359: I tensorflow/core/grappler/optimizers/custom_graph_optimizer_registry.cc:114] Plugin optimizer for device_type GPU is enabled.\n",
      "2024-08-07 22:41:21.094432: I tensorflow/core/grappler/optimizers/custom_graph_optimizer_registry.cc:114] Plugin optimizer for device_type GPU is enabled.\n"
     ]
    },
    {
     "name": "stdout",
     "output_type": "stream",
     "text": [
      "1/1 [==============================] - 1s 1s/step\n"
     ]
    },
    {
     "name": "stderr",
     "output_type": "stream",
     "text": [
      "2024-08-07 22:41:21.193678: I tensorflow/core/grappler/optimizers/custom_graph_optimizer_registry.cc:114] Plugin optimizer for device_type GPU is enabled.\n"
     ]
    },
    {
     "data": {
      "text/plain": [
       "'I wanna run away and open up my lies'"
      ]
     },
     "execution_count": 117,
     "metadata": {},
     "output_type": "execute_result"
    }
   ],
   "source": [
    "input_text='I wanna run away and open up my'\n",
    "\n",
    "generate_seq(model_5, tok, input_text, max_length=max_context_size, n_words=1)"
   ]
  },
  {
   "cell_type": "markdown",
   "metadata": {},
   "source": [
    "####  Beam search y muestreo aleatorio"
   ]
  },
  {
   "cell_type": "code",
   "execution_count": 118,
   "metadata": {},
   "outputs": [
    {
     "name": "stderr",
     "output_type": "stream",
     "text": [
      "2024-08-07 22:41:21.760777: I tensorflow/core/grappler/optimizers/custom_graph_optimizer_registry.cc:114] Plugin optimizer for device_type GPU is enabled.\n",
      "2024-08-07 22:41:21.922658: I tensorflow/core/grappler/optimizers/custom_graph_optimizer_registry.cc:114] Plugin optimizer for device_type GPU is enabled.\n",
      "2024-08-07 22:41:22.022719: I tensorflow/core/grappler/optimizers/custom_graph_optimizer_registry.cc:114] Plugin optimizer for device_type GPU is enabled.\n",
      "2024-08-07 22:41:22.119135: I tensorflow/core/grappler/optimizers/custom_graph_optimizer_registry.cc:114] Plugin optimizer for device_type GPU is enabled.\n",
      "2024-08-07 22:41:22.219395: I tensorflow/core/grappler/optimizers/custom_graph_optimizer_registry.cc:114] Plugin optimizer for device_type GPU is enabled.\n",
      "2024-08-07 22:41:22.316815: I tensorflow/core/grappler/optimizers/custom_graph_optimizer_registry.cc:114] Plugin optimizer for device_type GPU is enabled.\n"
     ]
    }
   ],
   "source": [
    "# predicción con beam search.\n",
    "# Se pueden camiar los modos entre 'det' (determinista) y\n",
    "# 'sto' (estocástico)\n",
    "# para el caso estocástico también se puede variar la temperatura\n",
    "salidas = beam_search(model_5,num_beams=5,num_words=2,input=\"I wanna run away and open up\",temp=1,mode='sto') #mode=sto es estocásitco, son muestreos aleatorios, pero puede ser determinista"
   ]
  },
  {
   "cell_type": "code",
   "execution_count": 119,
   "metadata": {},
   "outputs": [
    {
     "data": {
      "text/plain": [
       "(5, 11)"
      ]
     },
     "execution_count": 119,
     "metadata": {},
     "output_type": "execute_result"
    }
   ],
   "source": [
    "# tenemos `num_beams` salidas ordenadas de mayor a menor likelihood\n",
    "salidas.shape"
   ]
  },
  {
   "cell_type": "code",
   "execution_count": 120,
   "metadata": {},
   "outputs": [
    {
     "name": "stdout",
     "output_type": "stream",
     "text": [
      "['i wanna run away and open up your lies']\n",
      "['i wanna run away and open up your same']\n",
      "['i wanna run away and open up your day']\n",
      "['i wanna run away and open up your act']\n",
      "['i wanna run away and open up your bringing']\n"
     ]
    }
   ],
   "source": [
    "# veamos las salidas\n",
    "for i in range(salidas.shape[0]):\n",
    "    print(decode(salidas[i]))"
   ]
  },
  {
   "cell_type": "markdown",
   "metadata": {},
   "source": [
    "Se ve que el modelo 5 tiene una mala predicción, no acertando en el generador de secuencias ni con beam search. Se necesitan más documentos y cambios en la arquitectura."
   ]
  },
  {
   "cell_type": "markdown",
   "metadata": {},
   "source": [
    "### Modelo 6 - GRU Bidirectional (3 capas, Embedding dim = 150, GRU dim = 300, optimizer lr = 0.0001)"
   ]
  },
  {
   "cell_type": "code",
   "execution_count": 121,
   "metadata": {},
   "outputs": [
    {
     "name": "stderr",
     "output_type": "stream",
     "text": [
      "WARNING:absl:At this time, the v2.11+ optimizer `tf.keras.optimizers.RMSprop` runs slowly on M1/M2 Macs, please use the legacy Keras optimizer instead, located at `tf.keras.optimizers.legacy.RMSprop`.\n",
      "WARNING:absl:There is a known slowdown when using v2.11+ Keras optimizers on M1/M2 Macs. Falling back to the legacy Keras optimizer, i.e., `tf.keras.optimizers.legacy.RMSprop`.\n"
     ]
    },
    {
     "name": "stdout",
     "output_type": "stream",
     "text": [
      "Model: \"sequential_9\"\n",
      "_________________________________________________________________\n",
      " Layer (type)                Output Shape              Param #   \n",
      "=================================================================\n",
      " embedding_9 (Embedding)     (None, None, 150)         356550    \n",
      "                                                                 \n",
      " bidirectional_12 (Bidirect  (None, None, 600)         813600    \n",
      " ional)                                                          \n",
      "                                                                 \n",
      " bidirectional_13 (Bidirect  (None, None, 600)         1623600   \n",
      " ional)                                                          \n",
      "                                                                 \n",
      " bidirectional_14 (Bidirect  (None, None, 600)         1623600   \n",
      " ional)                                                          \n",
      "                                                                 \n",
      " dense_9 (Dense)             (None, None, 2377)        1428577   \n",
      "                                                                 \n",
      "=================================================================\n",
      "Total params: 5845927 (22.30 MB)\n",
      "Trainable params: 5845927 (22.30 MB)\n",
      "Non-trainable params: 0 (0.00 Byte)\n",
      "_________________________________________________________________\n"
     ]
    }
   ],
   "source": [
    "from tensorflow.keras.optimizers import RMSprop\n",
    "# Hay que probar cambiando las capas\n",
    "model = Sequential()\n",
    "\n",
    "# la primera capa es de embedding entrenable. Recordar que se puede variar el tamaño\n",
    "# del embedding a entrenar. Se le puede dar un embedding ya entrenado. \n",
    "# input_shape: está en None pero podríamos poner 20, entran 20 tokens.\n",
    "# output_dim: es el tamaño del embedding\n",
    "model.add(Embedding(input_dim=vocab_size+1, output_dim=150, input_shape=(None,)))\n",
    "\n",
    "# Esta capa recibe una secuencia de vectores\n",
    "model.add(Bidirectional(GRU(300, return_sequences=True)))\n",
    "#model.add(Dropout(0.3))\n",
    "\n",
    "# Se stakean 2 a cada paso de tiempo la capa que le sigue debe recibir la salida parcial\n",
    "model.add(Bidirectional(GRU(300, return_sequences=True))) # Como es many to many también debe tener return_sequences=True. \n",
    "# model.add(Dense(32, activation='relu'))\n",
    "#model.add(Dropout(0.3))\n",
    "\n",
    "model.add(Bidirectional(GRU(300, return_sequences=True)))\n",
    "\n",
    "\n",
    "# Predicción de clasificación con softmax\n",
    "# La salida es del tamaño del vocabulario\n",
    "# +1 debido a palabras nuevas que pudo no haber aprendido\n",
    "model.add(Dense(vocab_size+1, activation='softmax'))\n",
    "\n",
    "\n",
    "# Clasificación multiple categórica --> loss = categorical_crossentropy\n",
    "# notar que usamos la versión Sparse para utilizar sólo índices en lugar de OHE,\n",
    "# que en ese caso sería solo CategoricalCrossentropy().\n",
    "# En el fondo es un problema de clasificación.\n",
    "model.compile(loss=SparseCategoricalCrossentropy(), optimizer=RMSprop(learning_rate=0.0001))\n",
    "#model.compile(\n",
    "#    loss=SparseCategoricalCrossentropy(),\n",
    "#    optimizer=Adam(),  # Cambia 'rmsprop' por Adam\n",
    "#    metrics=['accuracy']  # Puedes agregar métricas adicionales si es necesario\n",
    "#)\n",
    "model.summary()\n",
    "\n",
    "# La salida es del tamaño del vocabulario"
   ]
  },
  {
   "cell_type": "code",
   "execution_count": 122,
   "metadata": {},
   "outputs": [
    {
     "name": "stdout",
     "output_type": "stream",
     "text": [
      "Epoch 1/20\n"
     ]
    },
    {
     "name": "stderr",
     "output_type": "stream",
     "text": [
      "2024-08-07 22:41:25.564608: I tensorflow/core/grappler/optimizers/custom_graph_optimizer_registry.cc:114] Plugin optimizer for device_type GPU is enabled.\n",
      "2024-08-07 22:41:26.327047: I tensorflow/core/grappler/optimizers/custom_graph_optimizer_registry.cc:114] Plugin optimizer for device_type GPU is enabled.\n",
      "2024-08-07 22:41:26.343022: I tensorflow/core/grappler/optimizers/custom_graph_optimizer_registry.cc:114] Plugin optimizer for device_type GPU is enabled.\n",
      "2024-08-07 22:41:26.546864: I tensorflow/core/grappler/optimizers/custom_graph_optimizer_registry.cc:114] Plugin optimizer for device_type GPU is enabled.\n",
      "2024-08-07 22:41:26.561967: I tensorflow/core/grappler/optimizers/custom_graph_optimizer_registry.cc:114] Plugin optimizer for device_type GPU is enabled.\n",
      "2024-08-07 22:41:26.758768: I tensorflow/core/grappler/optimizers/custom_graph_optimizer_registry.cc:114] Plugin optimizer for device_type GPU is enabled.\n",
      "2024-08-07 22:41:26.773472: I tensorflow/core/grappler/optimizers/custom_graph_optimizer_registry.cc:114] Plugin optimizer for device_type GPU is enabled.\n",
      "2024-08-07 22:41:27.185210: I tensorflow/core/grappler/optimizers/custom_graph_optimizer_registry.cc:114] Plugin optimizer for device_type GPU is enabled.\n",
      "2024-08-07 22:41:27.220580: I tensorflow/core/grappler/optimizers/custom_graph_optimizer_registry.cc:114] Plugin optimizer for device_type GPU is enabled.\n",
      "2024-08-07 22:41:27.792102: I tensorflow/core/grappler/optimizers/custom_graph_optimizer_registry.cc:114] Plugin optimizer for device_type GPU is enabled.\n",
      "2024-08-07 22:41:27.869918: I tensorflow/core/grappler/optimizers/custom_graph_optimizer_registry.cc:114] Plugin optimizer for device_type GPU is enabled.\n",
      "2024-08-07 22:41:28.431002: I tensorflow/core/grappler/optimizers/custom_graph_optimizer_registry.cc:114] Plugin optimizer for device_type GPU is enabled.\n",
      "2024-08-07 22:41:28.518480: I tensorflow/core/grappler/optimizers/custom_graph_optimizer_registry.cc:114] Plugin optimizer for device_type GPU is enabled.\n"
     ]
    },
    {
     "name": "stdout",
     "output_type": "stream",
     "text": [
      "427/427 [==============================] - ETA: 0s - loss: 3.4717"
     ]
    },
    {
     "name": "stderr",
     "output_type": "stream",
     "text": [
      "2024-08-07 22:42:12.337412: I tensorflow/core/grappler/optimizers/custom_graph_optimizer_registry.cc:114] Plugin optimizer for device_type GPU is enabled.\n",
      "2024-08-07 22:42:12.563717: I tensorflow/core/grappler/optimizers/custom_graph_optimizer_registry.cc:114] Plugin optimizer for device_type GPU is enabled.\n",
      "2024-08-07 22:42:12.577172: I tensorflow/core/grappler/optimizers/custom_graph_optimizer_registry.cc:114] Plugin optimizer for device_type GPU is enabled.\n",
      "2024-08-07 22:42:12.764014: I tensorflow/core/grappler/optimizers/custom_graph_optimizer_registry.cc:114] Plugin optimizer for device_type GPU is enabled.\n",
      "2024-08-07 22:42:12.774741: I tensorflow/core/grappler/optimizers/custom_graph_optimizer_registry.cc:114] Plugin optimizer for device_type GPU is enabled.\n",
      "2024-08-07 22:42:12.960089: I tensorflow/core/grappler/optimizers/custom_graph_optimizer_registry.cc:114] Plugin optimizer for device_type GPU is enabled.\n",
      "2024-08-07 22:42:12.970479: I tensorflow/core/grappler/optimizers/custom_graph_optimizer_registry.cc:114] Plugin optimizer for device_type GPU is enabled.\n"
     ]
    },
    {
     "name": "stdout",
     "output_type": "stream",
     "text": [
      "\n",
      " mean perplexity: 12698.295116845595 \n",
      "\n",
      "INFO:tensorflow:Assets written to: my_model/assets\n"
     ]
    },
    {
     "name": "stderr",
     "output_type": "stream",
     "text": [
      "INFO:tensorflow:Assets written to: my_model/assets\n"
     ]
    },
    {
     "name": "stdout",
     "output_type": "stream",
     "text": [
      "Saved new model!\n",
      "427/427 [==============================] - 64s 138ms/step - loss: 3.4717\n",
      "Epoch 2/20\n",
      "427/427 [==============================] - ETA: 0s - loss: 2.7846\n",
      " mean perplexity: 4486.030017122715 \n",
      "\n",
      "INFO:tensorflow:Assets written to: my_model/assets\n"
     ]
    },
    {
     "name": "stderr",
     "output_type": "stream",
     "text": [
      "INFO:tensorflow:Assets written to: my_model/assets\n"
     ]
    },
    {
     "name": "stdout",
     "output_type": "stream",
     "text": [
      "Saved new model!\n",
      "427/427 [==============================] - 48s 113ms/step - loss: 2.7846\n",
      "Epoch 3/20\n",
      "427/427 [==============================] - ETA: 0s - loss: 2.3221\n",
      " mean perplexity: 6325.622159639693 \n",
      "\n",
      "427/427 [==============================] - 38s 89ms/step - loss: 2.3221\n",
      "Epoch 4/20\n",
      "427/427 [==============================] - ETA: 0s - loss: 2.0470\n",
      " mean perplexity: 3927.693422612437 \n",
      "\n",
      "INFO:tensorflow:Assets written to: my_model/assets\n"
     ]
    },
    {
     "name": "stderr",
     "output_type": "stream",
     "text": [
      "INFO:tensorflow:Assets written to: my_model/assets\n"
     ]
    },
    {
     "name": "stdout",
     "output_type": "stream",
     "text": [
      "Saved new model!\n",
      "427/427 [==============================] - 46s 108ms/step - loss: 2.0470\n",
      "Epoch 5/20\n",
      "427/427 [==============================] - ETA: 0s - loss: 1.8126\n",
      " mean perplexity: 4012.3311698489797 \n",
      "\n",
      "427/427 [==============================] - 37s 86ms/step - loss: 1.8126\n",
      "Epoch 6/20\n",
      "427/427 [==============================] - ETA: 0s - loss: 1.5813\n",
      " mean perplexity: 2405.5865809467646 \n",
      "\n",
      "INFO:tensorflow:Assets written to: my_model/assets\n"
     ]
    },
    {
     "name": "stderr",
     "output_type": "stream",
     "text": [
      "INFO:tensorflow:Assets written to: my_model/assets\n"
     ]
    },
    {
     "name": "stdout",
     "output_type": "stream",
     "text": [
      "Saved new model!\n",
      "427/427 [==============================] - 46s 108ms/step - loss: 1.5813\n",
      "Epoch 7/20\n",
      "427/427 [==============================] - ETA: 0s - loss: 1.3823\n",
      " mean perplexity: 2004.5923364467112 \n",
      "\n",
      "INFO:tensorflow:Assets written to: my_model/assets\n"
     ]
    },
    {
     "name": "stderr",
     "output_type": "stream",
     "text": [
      "INFO:tensorflow:Assets written to: my_model/assets\n"
     ]
    },
    {
     "name": "stdout",
     "output_type": "stream",
     "text": [
      "Saved new model!\n",
      "427/427 [==============================] - 47s 111ms/step - loss: 1.3823\n",
      "Epoch 8/20\n",
      "427/427 [==============================] - ETA: 0s - loss: 1.2197\n",
      " mean perplexity: 1984.014311122411 \n",
      "\n",
      "INFO:tensorflow:Assets written to: my_model/assets\n"
     ]
    },
    {
     "name": "stderr",
     "output_type": "stream",
     "text": [
      "INFO:tensorflow:Assets written to: my_model/assets\n"
     ]
    },
    {
     "name": "stdout",
     "output_type": "stream",
     "text": [
      "Saved new model!\n",
      "427/427 [==============================] - 47s 110ms/step - loss: 1.2197\n",
      "Epoch 9/20\n",
      "427/427 [==============================] - ETA: 0s - loss: 1.0873\n",
      " mean perplexity: 1548.047935364499 \n",
      "\n",
      "INFO:tensorflow:Assets written to: my_model/assets\n"
     ]
    },
    {
     "name": "stderr",
     "output_type": "stream",
     "text": [
      "INFO:tensorflow:Assets written to: my_model/assets\n"
     ]
    },
    {
     "name": "stdout",
     "output_type": "stream",
     "text": [
      "Saved new model!\n",
      "427/427 [==============================] - 47s 110ms/step - loss: 1.0873\n",
      "Epoch 10/20\n",
      "427/427 [==============================] - ETA: 0s - loss: 0.9780\n",
      " mean perplexity: 1418.137041208329 \n",
      "\n",
      "INFO:tensorflow:Assets written to: my_model/assets\n"
     ]
    },
    {
     "name": "stderr",
     "output_type": "stream",
     "text": [
      "INFO:tensorflow:Assets written to: my_model/assets\n"
     ]
    },
    {
     "name": "stdout",
     "output_type": "stream",
     "text": [
      "Saved new model!\n",
      "427/427 [==============================] - 47s 109ms/step - loss: 0.9780\n",
      "Epoch 11/20\n",
      "427/427 [==============================] - ETA: 0s - loss: 0.8898\n",
      " mean perplexity: 1217.3207963556981 \n",
      "\n",
      "INFO:tensorflow:Assets written to: my_model/assets\n"
     ]
    },
    {
     "name": "stderr",
     "output_type": "stream",
     "text": [
      "INFO:tensorflow:Assets written to: my_model/assets\n"
     ]
    },
    {
     "name": "stdout",
     "output_type": "stream",
     "text": [
      "Saved new model!\n",
      "427/427 [==============================] - 47s 110ms/step - loss: 0.8898\n",
      "Epoch 12/20\n",
      "427/427 [==============================] - ETA: 0s - loss: 0.8167\n",
      " mean perplexity: 1446.5819125242413 \n",
      "\n",
      "427/427 [==============================] - 37s 87ms/step - loss: 0.8167\n",
      "Epoch 13/20\n",
      "427/427 [==============================] - ETA: 0s - loss: 0.7552\n",
      " mean perplexity: 1130.0481601352503 \n",
      "\n",
      "INFO:tensorflow:Assets written to: my_model/assets\n"
     ]
    },
    {
     "name": "stderr",
     "output_type": "stream",
     "text": [
      "INFO:tensorflow:Assets written to: my_model/assets\n"
     ]
    },
    {
     "name": "stdout",
     "output_type": "stream",
     "text": [
      "Saved new model!\n",
      "427/427 [==============================] - 45s 105ms/step - loss: 0.7552\n",
      "Epoch 14/20\n",
      "427/427 [==============================] - ETA: 0s - loss: 0.7032\n",
      " mean perplexity: 1023.0597418617065 \n",
      "\n",
      "INFO:tensorflow:Assets written to: my_model/assets\n"
     ]
    },
    {
     "name": "stderr",
     "output_type": "stream",
     "text": [
      "INFO:tensorflow:Assets written to: my_model/assets\n"
     ]
    },
    {
     "name": "stdout",
     "output_type": "stream",
     "text": [
      "Saved new model!\n",
      "427/427 [==============================] - 47s 109ms/step - loss: 0.7032\n",
      "Epoch 15/20\n",
      "427/427 [==============================] - ETA: 0s - loss: 0.6599\n",
      " mean perplexity: 997.1848108732167 \n",
      "\n",
      "INFO:tensorflow:Assets written to: my_model/assets\n"
     ]
    },
    {
     "name": "stderr",
     "output_type": "stream",
     "text": [
      "INFO:tensorflow:Assets written to: my_model/assets\n"
     ]
    },
    {
     "name": "stdout",
     "output_type": "stream",
     "text": [
      "Saved new model!\n",
      "427/427 [==============================] - 47s 109ms/step - loss: 0.6599\n",
      "Epoch 16/20\n",
      "427/427 [==============================] - ETA: 0s - loss: 0.6220\n",
      " mean perplexity: 1047.2089986411852 \n",
      "\n",
      "427/427 [==============================] - 38s 89ms/step - loss: 0.6220\n",
      "Epoch 17/20\n",
      "427/427 [==============================] - ETA: 0s - loss: 0.5892\n",
      " mean perplexity: 1226.542352847937 \n",
      "\n",
      "427/427 [==============================] - 35s 82ms/step - loss: 0.5892\n",
      "Epoch 18/20\n",
      "427/427 [==============================] - ETA: 0s - loss: 0.5595\n",
      " mean perplexity: 1185.356078896934 \n",
      "\n",
      "427/427 [==============================] - 35s 83ms/step - loss: 0.5595\n",
      "Epoch 19/20\n",
      "427/427 [==============================] - ETA: 0s - loss: 0.5319\n",
      " mean perplexity: 1444.3329735246996 \n",
      "\n",
      "427/427 [==============================] - 35s 83ms/step - loss: 0.5319\n",
      "Epoch 20/20\n",
      "427/427 [==============================] - ETA: 0s - loss: 0.5071\n",
      " mean perplexity: 1181.4122849721657 \n",
      "\n",
      "Stopping training...\n",
      "427/427 [==============================] - 35s 82ms/step - loss: 0.5071\n"
     ]
    }
   ],
   "source": [
    "# fiteamos, nótese el agregado del callback con su inicialización. El batch_size lo podemos seleccionar a mano\n",
    "# en general, lo mejor es escoger el batch más grande posible que minimice el tiempo de cada época.\n",
    "# En la variable `history_ppl` se guardarán los valores de perplejidad para cada época.\n",
    "history_ppl = []\n",
    "hist = model.fit(X, y, epochs=20, callbacks=[PplCallback(tokenized_sentences_val,history_ppl)], batch_size=64)\n",
    "# Hay que seleccionar un Corpus más sustancioso para entrenar el modelo de lenguaje."
   ]
  },
  {
   "cell_type": "code",
   "execution_count": 123,
   "metadata": {},
   "outputs": [
    {
     "data": {
      "image/png": "[encoded data removed]",
      "text/plain": [
       "<Figure size 640x480 with 1 Axes>"
      ]
     },
     "metadata": {},
     "output_type": "display_data"
    }
   ],
   "source": [
    "# Podemos graficar la evolución de la perplejidad con las épocas.\n",
    "# Recordar que el valor de perplejidad del modelo trivial es el tamaño del vocabulario.\n",
    "epoch_count = range(1, len(history_ppl) + 1)\n",
    "sns.lineplot(x=epoch_count,  y=history_ppl)\n",
    "plt.show()"
   ]
  },
  {
   "cell_type": "code",
   "execution_count": 124,
   "metadata": {},
   "outputs": [],
   "source": [
    "# Cargamos el mejor modelo guardado del entrenamiento para hacer inferencia\n",
    "model_6 = keras.models.load_model('my_model')"
   ]
  },
  {
   "cell_type": "markdown",
   "metadata": {},
   "source": [
    "#### Generación de secuencias"
   ]
  },
  {
   "cell_type": "code",
   "execution_count": 125,
   "metadata": {},
   "outputs": [
    {
     "name": "stderr",
     "output_type": "stream",
     "text": [
      "2024-08-07 22:55:59.349320: I tensorflow/core/grappler/optimizers/custom_graph_optimizer_registry.cc:114] Plugin optimizer for device_type GPU is enabled.\n",
      "2024-08-07 22:55:59.552740: I tensorflow/core/grappler/optimizers/custom_graph_optimizer_registry.cc:114] Plugin optimizer for device_type GPU is enabled.\n",
      "2024-08-07 22:55:59.563333: I tensorflow/core/grappler/optimizers/custom_graph_optimizer_registry.cc:114] Plugin optimizer for device_type GPU is enabled.\n",
      "2024-08-07 22:55:59.921020: I tensorflow/core/grappler/optimizers/custom_graph_optimizer_registry.cc:114] Plugin optimizer for device_type GPU is enabled.\n",
      "2024-08-07 22:55:59.931739: I tensorflow/core/grappler/optimizers/custom_graph_optimizer_registry.cc:114] Plugin optimizer for device_type GPU is enabled.\n",
      "2024-08-07 22:56:00.133371: I tensorflow/core/grappler/optimizers/custom_graph_optimizer_registry.cc:114] Plugin optimizer for device_type GPU is enabled.\n",
      "2024-08-07 22:56:00.143901: I tensorflow/core/grappler/optimizers/custom_graph_optimizer_registry.cc:114] Plugin optimizer for device_type GPU is enabled.\n"
     ]
    },
    {
     "name": "stdout",
     "output_type": "stream",
     "text": [
      "1/1 [==============================] - 2s 2s/step\n"
     ]
    },
    {
     "data": {
      "text/plain": [
       "'I wanna run away and open up my mind'"
      ]
     },
     "execution_count": 125,
     "metadata": {},
     "output_type": "execute_result"
    }
   ],
   "source": [
    "input_text='I wanna run away and open up my'\n",
    "\n",
    "generate_seq(model_6, tok, input_text, max_length=max_context_size, n_words=1)"
   ]
  },
  {
   "cell_type": "markdown",
   "metadata": {},
   "source": [
    "####  Beam search y muestreo aleatorio"
   ]
  },
  {
   "cell_type": "code",
   "execution_count": 126,
   "metadata": {},
   "outputs": [
    {
     "name": "stderr",
     "output_type": "stream",
     "text": [
      "2024-08-07 22:56:00.933001: I tensorflow/core/grappler/optimizers/custom_graph_optimizer_registry.cc:114] Plugin optimizer for device_type GPU is enabled.\n",
      "2024-08-07 22:56:01.133431: I tensorflow/core/grappler/optimizers/custom_graph_optimizer_registry.cc:114] Plugin optimizer for device_type GPU is enabled.\n",
      "2024-08-07 22:56:01.144441: I tensorflow/core/grappler/optimizers/custom_graph_optimizer_registry.cc:114] Plugin optimizer for device_type GPU is enabled.\n",
      "2024-08-07 22:56:01.299199: I tensorflow/core/grappler/optimizers/custom_graph_optimizer_registry.cc:114] Plugin optimizer for device_type GPU is enabled.\n",
      "2024-08-07 22:56:01.309639: I tensorflow/core/grappler/optimizers/custom_graph_optimizer_registry.cc:114] Plugin optimizer for device_type GPU is enabled.\n",
      "2024-08-07 22:56:01.462849: I tensorflow/core/grappler/optimizers/custom_graph_optimizer_registry.cc:114] Plugin optimizer for device_type GPU is enabled.\n",
      "2024-08-07 22:56:01.473372: I tensorflow/core/grappler/optimizers/custom_graph_optimizer_registry.cc:114] Plugin optimizer for device_type GPU is enabled.\n"
     ]
    }
   ],
   "source": [
    "# predicción con beam search.\n",
    "# Se pueden camiar los modos entre 'det' (determinista) y\n",
    "# 'sto' (estocástico)\n",
    "# para el caso estocástico también se puede variar la temperatura\n",
    "salidas = beam_search(model_6,num_beams=5,num_words=2,input=\"I wanna run away and open up\",temp=1,mode='sto') #mode=sto es estocásitco, son muestreos aleatorios, pero puede ser determinista"
   ]
  },
  {
   "cell_type": "code",
   "execution_count": 127,
   "metadata": {},
   "outputs": [
    {
     "data": {
      "text/plain": [
       "(5, 11)"
      ]
     },
     "execution_count": 127,
     "metadata": {},
     "output_type": "execute_result"
    }
   ],
   "source": [
    "# tenemos `num_beams` salidas ordenadas de mayor a menor likelihood\n",
    "salidas.shape"
   ]
  },
  {
   "cell_type": "code",
   "execution_count": 128,
   "metadata": {},
   "outputs": [
    {
     "name": "stdout",
     "output_type": "stream",
     "text": [
      "['i wanna run away and open up to come']\n",
      "['i wanna run away and open up to just']\n",
      "['i wanna run away and open up in flames']\n",
      "['i wanna run away and open up to all']\n",
      "[\"i wanna run away and open up to runnin'\"]\n"
     ]
    }
   ],
   "source": [
    "# veamos las salidas\n",
    "for i in range(salidas.shape[0]):\n",
    "    print(decode(salidas[i]))"
   ]
  },
  {
   "cell_type": "markdown",
   "metadata": {},
   "source": [
    "Se ve que el modelo 6 tiene una muy buena predicción, acertando en el generador de secuencias."
   ]
  },
  {
   "cell_type": "markdown",
   "metadata": {},
   "source": [
    "Se pudieron observar los resultados de train loss y perplexity probando diferentes arquitecturas e hiperparámetros. Entre los modelos se destacaron aquellos bidireccionales. Se necesitan más documentos para poder mejorar las métricas y realizar cambios en algunas arquitecturas."
   ]
  },
  {
   "cell_type": "markdown",
   "metadata": {},
   "source": []
  }
 ],
 "metadata": {
  "colab": {
   "provenance": []
  },
  "kernelspec": {
   "display_name": "Python 3",
   "language": "python",
   "name": "python3"
  },
  "language_info": {
   "codemirror_mode": {
    "name": "ipython",
    "version": 3
   },
   "file_extension": ".py",
   "mimetype": "text/x-python",
   "name": "python",
   "nbconvert_exporter": "python",
   "pygments_lexer": "ipython3",
   "version": "3.8.16"
  }
 },
 "nbformat": 4,
 "nbformat_minor": 4
}
