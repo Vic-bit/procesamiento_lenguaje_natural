{
  "cells": [
    {
      "cell_type": "markdown",
      "metadata": {
        "id": "zq6j8LsYq1Dr"
      },
      "source": [
        "### Vectorización de texto y modelo de clasificación Naïve Bayes con el dataset 20 newsgroups"
      ]
    },
    {
      "cell_type": "code",
      "execution_count": 2,
      "metadata": {
        "id": "l7cXR6CI30ry"
      },
      "outputs": [],
      "source": [
        "from sklearn.feature_extraction.text import CountVectorizer, TfidfVectorizer\n",
        "from sklearn.metrics.pairwise import cosine_similarity\n",
        "from sklearn.naive_bayes import MultinomialNB, ComplementNB\n",
        "from sklearn.metrics import f1_score\n",
        "\n",
        "# 20newsgroups por ser un dataset clásico de NLP ya viene incluido y formateado\n",
        "# en sklearn\n",
        "from sklearn.datasets import fetch_20newsgroups\n",
        "import numpy as np"
      ]
    },
    {
      "cell_type": "markdown",
      "metadata": {
        "id": "yD-pVDWV_rQc"
      },
      "source": [
        "## Carga de datos"
      ]
    },
    {
      "cell_type": "code",
      "execution_count": 3,
      "metadata": {
        "id": "Ech9qJaUo9vK"
      },
      "outputs": [],
      "source": [
        "# cargamos los datos (ya separados de forma predeterminada en train y test)\n",
        "newsgroups_train = fetch_20newsgroups(subset='train', remove=('headers', 'footers', 'quotes'))\n",
        "newsgroups_test = fetch_20newsgroups(subset='test', remove=('headers', 'footers', 'quotes'))"
      ]
    },
    {
      "cell_type": "markdown",
      "metadata": {
        "id": "UxjSI7su_uWI"
      },
      "source": [
        "## Vectorización"
      ]
    },
    {
      "cell_type": "code",
      "execution_count": 4,
      "metadata": {
        "id": "-94VP0QYCzDn"
      },
      "outputs": [],
      "source": [
        "# instanciamos un vectorizador\n",
        "# ver diferentes parámetros de instanciación en la documentación de sklearn\n",
        "tfidfvect = TfidfVectorizer()"
      ]
    },
    {
      "cell_type": "code",
      "execution_count": 5,
      "metadata": {
        "colab": {
          "base_uri": "https://localhost:8080/",
          "height": 104
        },
        "id": "ftPlyanuak8n",
        "outputId": "45a94d0e-49e7-4f7c-c806-7d5b66779dd0"
      },
      "outputs": [
        {
          "data": {
            "text/plain": [
              "'I was wondering if anyone out there could enlighten me on this car I saw\\nthe other day. It was a 2-door sports car, looked to be from the late 60s/\\nearly 70s. It was called a Bricklin. The doors were really small. In addition,\\nthe front bumper was separate from the rest of the body. This is \\nall I know. If anyone can tellme a model name, engine specs, years\\nof production, where this car is made, history, or whatever info you\\nhave on this funky looking car, please e-mail.'"
            ]
          },
          "execution_count": 5,
          "metadata": {},
          "output_type": "execute_result"
        }
      ],
      "source": [
        "# en el atributo `data` accedemos al texto\n",
        "newsgroups_train.data[0]"
      ]
    },
    {
      "cell_type": "code",
      "execution_count": 6,
      "metadata": {
        "id": "1zxcXV6aC_oL"
      },
      "outputs": [],
      "source": [
        "# con la interfaz habitual de sklearn podemos fitear el vectorizador\n",
        "# (obtener el vocabulario y calcular el vector IDF)\n",
        "# y transformar directamente los datos\n",
        "X_train = tfidfvect.fit_transform(newsgroups_train.data)\n",
        "# `X_train` la podemos denominar como la matriz documento-término"
      ]
    },
    {
      "cell_type": "code",
      "execution_count": 7,
      "metadata": {
        "colab": {
          "base_uri": "https://localhost:8080/"
        },
        "id": "4Sv7TXbda41-",
        "outputId": "dcca5de6-dac1-4d68-d284-ce7be2ed9e2f"
      },
      "outputs": [
        {
          "name": "stdout",
          "output_type": "stream",
          "text": [
            "<class 'scipy.sparse._csr.csr_matrix'>\n",
            "shape: (11314, 101631)\n",
            "cantidad de documentos: 11314\n",
            "tamaño del vocabulario (dimensionalidad de los vectores): 101631\n"
          ]
        }
      ],
      "source": [
        "# recordar que las vectorizaciones por conteos son esparsas\n",
        "# por ello sklearn convenientemente devuelve los vectores de documentos\n",
        "# como matrices esparsas\n",
        "print(type(X_train))\n",
        "print(f'shape: {X_train.shape}')\n",
        "print(f'cantidad de documentos: {X_train.shape[0]}')\n",
        "print(f'tamaño del vocabulario (dimensionalidad de los vectores): {X_train.shape[1]}')"
      ]
    },
    {
      "cell_type": "code",
      "execution_count": 8,
      "metadata": {
        "colab": {
          "base_uri": "https://localhost:8080/"
        },
        "id": "dgydNTZ2pAgR",
        "outputId": "95111464-e40c-4b57-d154-ede153739a82"
      },
      "outputs": [
        {
          "data": {
            "text/plain": [
              "25775"
            ]
          },
          "execution_count": 8,
          "metadata": {},
          "output_type": "execute_result"
        }
      ],
      "source": [
        "# una vez fiteado el vectorizador, podemos acceder a atributos como el vocabulario\n",
        "# aprendido. Es un diccionario que va de términos a índices.\n",
        "# El índice es la posición en el vector de documento.\n",
        "tfidfvect.vocabulary_['car']"
      ]
    },
    {
      "cell_type": "code",
      "execution_count": 9,
      "metadata": {
        "id": "xnTSZuvyrTcP"
      },
      "outputs": [],
      "source": [
        "# es muy útil tener el diccionario opuesto que va de índices a términos\n",
        "idx2word = {v: k for k,v in tfidfvect.vocabulary_.items()}"
      ]
    },
    {
      "cell_type": "code",
      "execution_count": 10,
      "metadata": {
        "colab": {
          "base_uri": "https://localhost:8080/"
        },
        "id": "swa-AgWrMSHM",
        "outputId": "93d09f31-4c42-4215-e750-a13c83ecf96a"
      },
      "outputs": [
        {
          "data": {
            "text/plain": [
              "array([ 7,  4,  4,  1, 14, 16, 13,  3,  2,  4])"
            ]
          },
          "execution_count": 10,
          "metadata": {},
          "output_type": "execute_result"
        }
      ],
      "source": [
        "# en `y_train` guardamos los targets que son enteros\n",
        "y_train = newsgroups_train.target\n",
        "y_train[:10]"
      ]
    },
    {
      "cell_type": "code",
      "execution_count": 11,
      "metadata": {
        "colab": {
          "base_uri": "https://localhost:8080/"
        },
        "id": "je5kxvQMDLvf",
        "outputId": "59799046-9799-406f-c4be-81c5765de58d"
      },
      "outputs": [
        {
          "name": "stdout",
          "output_type": "stream",
          "text": [
            "clases [ 0  1  2  3  4  5  6  7  8  9 10 11 12 13 14 15 16 17 18 19]\n"
          ]
        },
        {
          "data": {
            "text/plain": [
              "['alt.atheism',\n",
              " 'comp.graphics',\n",
              " 'comp.os.ms-windows.misc',\n",
              " 'comp.sys.ibm.pc.hardware',\n",
              " 'comp.sys.mac.hardware',\n",
              " 'comp.windows.x',\n",
              " 'misc.forsale',\n",
              " 'rec.autos',\n",
              " 'rec.motorcycles',\n",
              " 'rec.sport.baseball',\n",
              " 'rec.sport.hockey',\n",
              " 'sci.crypt',\n",
              " 'sci.electronics',\n",
              " 'sci.med',\n",
              " 'sci.space',\n",
              " 'soc.religion.christian',\n",
              " 'talk.politics.guns',\n",
              " 'talk.politics.mideast',\n",
              " 'talk.politics.misc',\n",
              " 'talk.religion.misc']"
            ]
          },
          "execution_count": 11,
          "metadata": {},
          "output_type": "execute_result"
        }
      ],
      "source": [
        "# hay 20 clases correspondientes a los 20 grupos de noticias\n",
        "print(f'clases {np.unique(newsgroups_test.target)}')\n",
        "newsgroups_test.target_names"
      ]
    },
    {
      "cell_type": "markdown",
      "metadata": {
        "id": "SXCICFSd_y90"
      },
      "source": [
        "## Similaridad de documentos"
      ]
    },
    {
      "cell_type": "code",
      "execution_count": 12,
      "metadata": {
        "colab": {
          "base_uri": "https://localhost:8080/"
        },
        "id": "_pki_olShnyE",
        "outputId": "b2bd8485-40c7-4923-c8a9-4ad6b735576e"
      },
      "outputs": [
        {
          "name": "stdout",
          "output_type": "stream",
          "text": [
            "THE WHITE HOUSE\n",
            "\n",
            "                  Office of the Press Secretary\n",
            "                   (Pittsburgh, Pennslyvania)\n",
            "______________________________________________________________\n",
            "For Immediate Release                         April 17, 1993     \n",
            "\n",
            "             \n",
            "                  RADIO ADDRESS TO THE NATION \n",
            "                        BY THE PRESIDENT\n",
            "             \n",
            "                Pittsburgh International Airport\n",
            "                    Pittsburgh, Pennsylvania\n",
            "             \n",
            "             \n",
            "10:06 A.M. EDT\n",
            "             \n",
            "             \n",
            "             THE PRESIDENT:  Good morning.  My voice is coming to\n",
            "you this morning through the facilities of the oldest radio\n",
            "station in America, KDKA in Pittsburgh.  I'm visiting the city to\n",
            "meet personally with citizens here to discuss my plans for jobs,\n",
            "health care and the economy.  But I wanted first to do my weekly\n",
            "broadcast with the American people. \n",
            "             \n",
            "             I'm told this station first broadcast in 1920 when\n",
            "it reported that year's presidential elections.  Over the past\n",
            "seven decades presidents have found ways to keep in touch with\n",
            "the people, from whistle-stop tours to fire-side chats to the bus\n",
            "tour that I adopted, along with Vice President Gore, in last\n",
            "year's campaign.\n",
            "             \n",
            "             Every Saturday morning I take this time to talk with\n",
            "you, my fellow Americans, about the problems on your minds and\n",
            "what I'm doing to try and solve them.  It's my way of reporting\n",
            "to you and of giving you a way to hold me accountable.\n",
            "             \n",
            "             You sent me to Washington to get our government and\n",
            "economy moving after years of paralysis and policy and a bad\n",
            "experiment with trickle-down economics.  You know how important\n",
            "it is for us to make bold, comprehensive changes in the way we do\n",
            "business.  \n",
            "             \n",
            "             We live in a competitive global economy.  Nations\n",
            "rise and fall on the skills of their workers, the competitiveness\n",
            "of their companies, the imagination of their industries, and the\n",
            "cooperative experience and spirit that exists between business,\n",
            "labor and government.  Although many of the economies of the\n",
            "industrialized world are now suffering from slow growth, they've\n",
            "made many of the smart investments and the tough choices which\n",
            "our government has for too long ignored.  That's why many of them\n",
            "have been moving ahead and too many of our people have been\n",
            "falling behind.\n",
            "             \n",
            "             We have an economy today that even when it grows is\n",
            "not producing new jobs.  We've increased the debt of our nation\n",
            "by four times over the last 12 years, and we don't have much to\n",
            "show for it.  We know that wages of most working people have\n",
            "stopped rising, that most people are working longer work weeks\n",
            "and that too many families can no longer afford the escalating\n",
            "cost of health care.\n",
            "             \n",
            "             But we also know that, given the right tools, the\n",
            "right incentives and the right encouragement, our workers and\n",
            "businesses can make the kinds of products and profits our economy\n",
            "needs to expand opportunity and to make our communities better\n",
            "places to live.\n",
            "             \n",
            "             In many critical products today Americans are the\n",
            "low cost, high quality producers.  Our task is to make sure that\n",
            "we create more of those kinds of jobs.\n",
            "             \n",
            "             Just two months ago I gave Congress my plan for\n",
            "long-term jobs and economic growth.  It changes the old\n",
            "priorities in Washington and puts our emphasis where it needs to\n",
            "be -- on people's real needs, on increasing investments and jobs\n",
            "and education, on cutting the federal deficit, on stopping the\n",
            "waste which pays no dividends, and redirecting our precious\n",
            "resources toward investment that creates jobs now and lays the\n",
            "groundwork for robust economic growth in the future.\n",
            "             \n",
            "             These new directions passed the Congress in record\n",
            "time and created a new sense of hope and opportunity in our\n",
            "country.  Then the jobs plan I presented to Congress, which would\n",
            "create hundreds of thousands of jobs, most of them in the private\n",
            "sector in 1993 and 1994, passed the House of Representatives.  It\n",
            "now has the support of a majority of the United States Senate. \n",
            "But it's been held up by a filibuster of a minority in the\n",
            "Senate, just 43 senators.  They blocked a vote that they know\n",
            "would result in the passage of our bill and the creation of jobs.\n",
            "             \n",
            "             The issue isn't politics; the issue is people. \n",
            "Millions of Americans are waiting for this legislation and\n",
            "counting on it, counting on us in Washington.  But the jobs bill\n",
            "has been grounded by gridlock.  \n",
            "             \n",
            "             I know the American people are tired of business as\n",
            "usual and politics as usual.  I know they don't want us to spin\n",
            "or wheels.  They want the recovery to get moving.  So I have\n",
            "taken a first step to break this gridlock and gone the extra\n",
            "mile.  Yesterday I offered to cut the size of this plan by 25\n",
            "percent -- from $16 billion to $12 billion.  \n",
            "             \n",
            "             It's not what I'd hoped for.  With 16 million\n",
            "Americans looking for full-time work, I simply can't let the bill\n",
            "languish when I know that even a compromise bill will mean\n",
            "hundreds of thousands of jobs for our people.  The mandate is to\n",
            "act to achieve change and move the country forward.  By taking\n",
            "this initiative in the face of an unrelenting Senate talkathon, I\n",
            "think we can respond to your mandate and achieve a significant\n",
            "portion of our original goals.\n",
            "             \n",
            "             First, we want to keep the programs as much as\n",
            "possible that are needed to generate jobs and meet human needs,\n",
            "including highway and road construction, summer jobs for young\n",
            "people, immunization for children, construction of waste water\n",
            "sites, and aid to small businesses.  We also want to keep funding\n",
            "for extended unemployment compensation benefits, for people who\n",
            "have been unemployed for a long time because the economy isn't\n",
            "creating jobs.\n",
            "             \n",
            "             Second, I've recommended that all the other programs\n",
            "in the bill be cut across-the-board by a little more than 40\n",
            "percent.\n",
            "             \n",
            "             And third, I've recommended a new element in this\n",
            "program to help us immediately start our attempt to fight against\n",
            "crime by providing $200 million for cities and towns to rehire\n",
            "police officers who lost their jobs during the recession and put\n",
            "them back to work protecting our people.  I'm also going to fight\n",
            "for a tough crime bill because the people of this country need it\n",
            "and deserve it.\n",
            "             \n",
            "             Now, the people who are filibustering this bill --\n",
            "the Republican senators -- say they won't vote for it because it\n",
            "increases deficit spending, because there's extra spending this\n",
            "year that hasn't already been approved.  That sounds reasonable,\n",
            "doesn't it?  Here's what they don't say.  This program is more\n",
            "than paid for by budget cuts over my five-year budget, and this\n",
            "budget is well within the spending limits already approved by the\n",
            "Congress this year.\n",
            "             \n",
            "             It's amazing to me that many of these same senators\n",
            "who are filibustering the bill voted during the previous\n",
            "administration for billions of dollars of the same kind of\n",
            "emergency spending, and much of it was not designed to put the\n",
            "American people to work.  \n",
            "             \n",
            "             This is not about deficit spending.  We have offered\n",
            "a plan to cut the deficit.  This is about where your priorities\n",
            "are -- on people or on politics.  \n",
            "             \n",
            "             Keep in mind that our jobs bill is paid for dollar\n",
            "for dollar.  It is paid for by budget cuts.  And it's the\n",
            "soundest investment we can now make for ourselves and our\n",
            "children.  I urge all Americans to take another look at this jobs\n",
            "and investment program; to consider again the benefits for all of\n",
            "us when we've helped make more American partners working to\n",
            "ensure the future of our nation and the strength of our economy.\n",
            "             \n",
            "             You know, if every American who wanted a job had\n",
            "one, we wouldn't have a lot of the other problems we have in this\n",
            "country today.  This bill is not a miracle, it's a modest first\n",
            "step to try to set off a job creation explosion in this country\n",
            "again.  But it's a step we ought to take.  And it is fully paid\n",
            "for over the life of our budget.\n",
            "             \n",
            "             Tell your lawmakers what you think.  Tell them how\n",
            "important the bill is.  If it passes, we'll all be winners.\n",
            "             \n",
            "             Good morning, and thank you for listening.\n"
          ]
        }
      ],
      "source": [
        "# Veamos similaridad de documentos. Tomemos algún documento\n",
        "idx = 4811\n",
        "print(newsgroups_train.data[idx])"
      ]
    },
    {
      "cell_type": "code",
      "execution_count": 13,
      "metadata": {
        "id": "Ssa9bqJ-hA_v"
      },
      "outputs": [],
      "source": [
        "# midamos la similaridad coseno con todos los documentos de train\n",
        "cossim = cosine_similarity(X_train[idx], X_train)[0]"
      ]
    },
    {
      "cell_type": "code",
      "execution_count": 14,
      "metadata": {
        "colab": {
          "base_uri": "https://localhost:8080/"
        },
        "id": "p_mDA7p3AzcQ",
        "outputId": "747a3923-4b1c-4e2b-921d-4ebf2b271b00"
      },
      "outputs": [
        {
          "data": {
            "text/plain": [
              "array([1.        , 0.70930477, 0.67474953, ..., 0.        , 0.        ,\n",
              "       0.        ])"
            ]
          },
          "execution_count": 14,
          "metadata": {},
          "output_type": "execute_result"
        }
      ],
      "source": [
        "# podemos ver los valores de similaridad ordenados de mayor a menor\n",
        "np.sort(cossim)[::-1]"
      ]
    },
    {
      "cell_type": "code",
      "execution_count": 15,
      "metadata": {
        "colab": {
          "base_uri": "https://localhost:8080/"
        },
        "id": "0OIhDA1jAryX",
        "outputId": "04ddf3ca-0741-42d7-8bbb-00bb395f7834"
      },
      "outputs": [
        {
          "data": {
            "text/plain": [
              "array([ 4811,  6635,  4253, ...,  1534, 10055,  4750], dtype=int64)"
            ]
          },
          "execution_count": 15,
          "metadata": {},
          "output_type": "execute_result"
        }
      ],
      "source": [
        "# y a qué documentos corresponden\n",
        "np.argsort(cossim)[::-1]"
      ]
    },
    {
      "cell_type": "code",
      "execution_count": 16,
      "metadata": {
        "id": "hP7qLS4ZBLps"
      },
      "outputs": [],
      "source": [
        "# los 5 documentos más similares:\n",
        "mostsim = np.argsort(cossim)[::-1][1:6]"
      ]
    },
    {
      "cell_type": "code",
      "execution_count": 17,
      "metadata": {
        "colab": {
          "base_uri": "https://localhost:8080/",
          "height": 35
        },
        "id": "QdJLHPJACvaj",
        "outputId": "926186cf-7d4c-4bd3-927b-ad00bf7f24f9"
      },
      "outputs": [
        {
          "data": {
            "text/plain": [
              "'talk.politics.misc'"
            ]
          },
          "execution_count": 17,
          "metadata": {},
          "output_type": "execute_result"
        }
      ],
      "source": [
        "# el documento original pertenece a la clase:\n",
        "newsgroups_train.target_names[y_train[idx]]"
      ]
    },
    {
      "cell_type": "code",
      "execution_count": 18,
      "metadata": {
        "colab": {
          "base_uri": "https://localhost:8080/"
        },
        "id": "RWy_73epCbFG",
        "outputId": "daf534e5-b2a8-43d4-d05a-9c52b816cf69"
      },
      "outputs": [
        {
          "name": "stdout",
          "output_type": "stream",
          "text": [
            "talk.politics.misc\n",
            "talk.politics.misc\n",
            "talk.politics.misc\n",
            "talk.politics.misc\n",
            "talk.politics.misc\n"
          ]
        }
      ],
      "source": [
        "# y los 5 más similares son de las clases:\n",
        "for i in mostsim:\n",
        "  print(newsgroups_train.target_names[y_train[i]])"
      ]
    },
    {
      "cell_type": "markdown",
      "metadata": {
        "id": "zRoNnKwhBqzq"
      },
      "source": [
        "### Modelo de clasificación Naïve Bayes"
      ]
    },
    {
      "cell_type": "code",
      "execution_count": 19,
      "metadata": {
        "colab": {
          "base_uri": "https://localhost:8080/",
          "height": 74
        },
        "id": "TPM0thDaLk0R",
        "outputId": "bc7fdc3e-d912-4e0c-9d9e-33efc97b46fc"
      },
      "outputs": [
        {
          "data": {
            "text/html": [
              "<style>#sk-container-id-1 {\n",
              "  /* Definition of color scheme common for light and dark mode */\n",
              "  --sklearn-color-text: black;\n",
              "  --sklearn-color-line: gray;\n",
              "  /* Definition of color scheme for unfitted estimators */\n",
              "  --sklearn-color-unfitted-level-0: #fff5e6;\n",
              "  --sklearn-color-unfitted-level-1: #f6e4d2;\n",
              "  --sklearn-color-unfitted-level-2: #ffe0b3;\n",
              "  --sklearn-color-unfitted-level-3: chocolate;\n",
              "  /* Definition of color scheme for fitted estimators */\n",
              "  --sklearn-color-fitted-level-0: #f0f8ff;\n",
              "  --sklearn-color-fitted-level-1: #d4ebff;\n",
              "  --sklearn-color-fitted-level-2: #b3dbfd;\n",
              "  --sklearn-color-fitted-level-3: cornflowerblue;\n",
              "\n",
              "  /* Specific color for light theme */\n",
              "  --sklearn-color-text-on-default-background: var(--sg-text-color, var(--theme-code-foreground, var(--jp-content-font-color1, black)));\n",
              "  --sklearn-color-background: var(--sg-background-color, var(--theme-background, var(--jp-layout-color0, white)));\n",
              "  --sklearn-color-border-box: var(--sg-text-color, var(--theme-code-foreground, var(--jp-content-font-color1, black)));\n",
              "  --sklearn-color-icon: #696969;\n",
              "\n",
              "  @media (prefers-color-scheme: dark) {\n",
              "    /* Redefinition of color scheme for dark theme */\n",
              "    --sklearn-color-text-on-default-background: var(--sg-text-color, var(--theme-code-foreground, var(--jp-content-font-color1, white)));\n",
              "    --sklearn-color-background: var(--sg-background-color, var(--theme-background, var(--jp-layout-color0, #111)));\n",
              "    --sklearn-color-border-box: var(--sg-text-color, var(--theme-code-foreground, var(--jp-content-font-color1, white)));\n",
              "    --sklearn-color-icon: #878787;\n",
              "  }\n",
              "}\n",
              "\n",
              "#sk-container-id-1 {\n",
              "  color: var(--sklearn-color-text);\n",
              "}\n",
              "\n",
              "#sk-container-id-1 pre {\n",
              "  padding: 0;\n",
              "}\n",
              "\n",
              "#sk-container-id-1 input.sk-hidden--visually {\n",
              "  border: 0;\n",
              "  clip: rect(1px 1px 1px 1px);\n",
              "  clip: rect(1px, 1px, 1px, 1px);\n",
              "  height: 1px;\n",
              "  margin: -1px;\n",
              "  overflow: hidden;\n",
              "  padding: 0;\n",
              "  position: absolute;\n",
              "  width: 1px;\n",
              "}\n",
              "\n",
              "#sk-container-id-1 div.sk-dashed-wrapped {\n",
              "  border: 1px dashed var(--sklearn-color-line);\n",
              "  margin: 0 0.4em 0.5em 0.4em;\n",
              "  box-sizing: border-box;\n",
              "  padding-bottom: 0.4em;\n",
              "  background-color: var(--sklearn-color-background);\n",
              "}\n",
              "\n",
              "#sk-container-id-1 div.sk-container {\n",
              "  /* jupyter's `normalize.less` sets `[hidden] { display: none; }`\n",
              "     but bootstrap.min.css set `[hidden] { display: none !important; }`\n",
              "     so we also need the `!important` here to be able to override the\n",
              "     default hidden behavior on the sphinx rendered scikit-learn.org.\n",
              "     See: https://github.com/scikit-learn/scikit-learn/issues/21755 */\n",
              "  display: inline-block !important;\n",
              "  position: relative;\n",
              "}\n",
              "\n",
              "#sk-container-id-1 div.sk-text-repr-fallback {\n",
              "  display: none;\n",
              "}\n",
              "\n",
              "div.sk-parallel-item,\n",
              "div.sk-serial,\n",
              "div.sk-item {\n",
              "  /* draw centered vertical line to link estimators */\n",
              "  background-image: linear-gradient(var(--sklearn-color-text-on-default-background), var(--sklearn-color-text-on-default-background));\n",
              "  background-size: 2px 100%;\n",
              "  background-repeat: no-repeat;\n",
              "  background-position: center center;\n",
              "}\n",
              "\n",
              "/* Parallel-specific style estimator block */\n",
              "\n",
              "#sk-container-id-1 div.sk-parallel-item::after {\n",
              "  content: \"\";\n",
              "  width: 100%;\n",
              "  border-bottom: 2px solid var(--sklearn-color-text-on-default-background);\n",
              "  flex-grow: 1;\n",
              "}\n",
              "\n",
              "#sk-container-id-1 div.sk-parallel {\n",
              "  display: flex;\n",
              "  align-items: stretch;\n",
              "  justify-content: center;\n",
              "  background-color: var(--sklearn-color-background);\n",
              "  position: relative;\n",
              "}\n",
              "\n",
              "#sk-container-id-1 div.sk-parallel-item {\n",
              "  display: flex;\n",
              "  flex-direction: column;\n",
              "}\n",
              "\n",
              "#sk-container-id-1 div.sk-parallel-item:first-child::after {\n",
              "  align-self: flex-end;\n",
              "  width: 50%;\n",
              "}\n",
              "\n",
              "#sk-container-id-1 div.sk-parallel-item:last-child::after {\n",
              "  align-self: flex-start;\n",
              "  width: 50%;\n",
              "}\n",
              "\n",
              "#sk-container-id-1 div.sk-parallel-item:only-child::after {\n",
              "  width: 0;\n",
              "}\n",
              "\n",
              "/* Serial-specific style estimator block */\n",
              "\n",
              "#sk-container-id-1 div.sk-serial {\n",
              "  display: flex;\n",
              "  flex-direction: column;\n",
              "  align-items: center;\n",
              "  background-color: var(--sklearn-color-background);\n",
              "  padding-right: 1em;\n",
              "  padding-left: 1em;\n",
              "}\n",
              "\n",
              "\n",
              "/* Toggleable style: style used for estimator/Pipeline/ColumnTransformer box that is\n",
              "clickable and can be expanded/collapsed.\n",
              "- Pipeline and ColumnTransformer use this feature and define the default style\n",
              "- Estimators will overwrite some part of the style using the `sk-estimator` class\n",
              "*/\n",
              "\n",
              "/* Pipeline and ColumnTransformer style (default) */\n",
              "\n",
              "#sk-container-id-1 div.sk-toggleable {\n",
              "  /* Default theme specific background. It is overwritten whether we have a\n",
              "  specific estimator or a Pipeline/ColumnTransformer */\n",
              "  background-color: var(--sklearn-color-background);\n",
              "}\n",
              "\n",
              "/* Toggleable label */\n",
              "#sk-container-id-1 label.sk-toggleable__label {\n",
              "  cursor: pointer;\n",
              "  display: block;\n",
              "  width: 100%;\n",
              "  margin-bottom: 0;\n",
              "  padding: 0.5em;\n",
              "  box-sizing: border-box;\n",
              "  text-align: center;\n",
              "}\n",
              "\n",
              "#sk-container-id-1 label.sk-toggleable__label-arrow:before {\n",
              "  /* Arrow on the left of the label */\n",
              "  content: \"▸\";\n",
              "  float: left;\n",
              "  margin-right: 0.25em;\n",
              "  color: var(--sklearn-color-icon);\n",
              "}\n",
              "\n",
              "#sk-container-id-1 label.sk-toggleable__label-arrow:hover:before {\n",
              "  color: var(--sklearn-color-text);\n",
              "}\n",
              "\n",
              "/* Toggleable content - dropdown */\n",
              "\n",
              "#sk-container-id-1 div.sk-toggleable__content {\n",
              "  max-height: 0;\n",
              "  max-width: 0;\n",
              "  overflow: hidden;\n",
              "  text-align: left;\n",
              "  /* unfitted */\n",
              "  background-color: var(--sklearn-color-unfitted-level-0);\n",
              "}\n",
              "\n",
              "#sk-container-id-1 div.sk-toggleable__content.fitted {\n",
              "  /* fitted */\n",
              "  background-color: var(--sklearn-color-fitted-level-0);\n",
              "}\n",
              "\n",
              "#sk-container-id-1 div.sk-toggleable__content pre {\n",
              "  margin: 0.2em;\n",
              "  border-radius: 0.25em;\n",
              "  color: var(--sklearn-color-text);\n",
              "  /* unfitted */\n",
              "  background-color: var(--sklearn-color-unfitted-level-0);\n",
              "}\n",
              "\n",
              "#sk-container-id-1 div.sk-toggleable__content.fitted pre {\n",
              "  /* unfitted */\n",
              "  background-color: var(--sklearn-color-fitted-level-0);\n",
              "}\n",
              "\n",
              "#sk-container-id-1 input.sk-toggleable__control:checked~div.sk-toggleable__content {\n",
              "  /* Expand drop-down */\n",
              "  max-height: 200px;\n",
              "  max-width: 100%;\n",
              "  overflow: auto;\n",
              "}\n",
              "\n",
              "#sk-container-id-1 input.sk-toggleable__control:checked~label.sk-toggleable__label-arrow:before {\n",
              "  content: \"▾\";\n",
              "}\n",
              "\n",
              "/* Pipeline/ColumnTransformer-specific style */\n",
              "\n",
              "#sk-container-id-1 div.sk-label input.sk-toggleable__control:checked~label.sk-toggleable__label {\n",
              "  color: var(--sklearn-color-text);\n",
              "  background-color: var(--sklearn-color-unfitted-level-2);\n",
              "}\n",
              "\n",
              "#sk-container-id-1 div.sk-label.fitted input.sk-toggleable__control:checked~label.sk-toggleable__label {\n",
              "  background-color: var(--sklearn-color-fitted-level-2);\n",
              "}\n",
              "\n",
              "/* Estimator-specific style */\n",
              "\n",
              "/* Colorize estimator box */\n",
              "#sk-container-id-1 div.sk-estimator input.sk-toggleable__control:checked~label.sk-toggleable__label {\n",
              "  /* unfitted */\n",
              "  background-color: var(--sklearn-color-unfitted-level-2);\n",
              "}\n",
              "\n",
              "#sk-container-id-1 div.sk-estimator.fitted input.sk-toggleable__control:checked~label.sk-toggleable__label {\n",
              "  /* fitted */\n",
              "  background-color: var(--sklearn-color-fitted-level-2);\n",
              "}\n",
              "\n",
              "#sk-container-id-1 div.sk-label label.sk-toggleable__label,\n",
              "#sk-container-id-1 div.sk-label label {\n",
              "  /* The background is the default theme color */\n",
              "  color: var(--sklearn-color-text-on-default-background);\n",
              "}\n",
              "\n",
              "/* On hover, darken the color of the background */\n",
              "#sk-container-id-1 div.sk-label:hover label.sk-toggleable__label {\n",
              "  color: var(--sklearn-color-text);\n",
              "  background-color: var(--sklearn-color-unfitted-level-2);\n",
              "}\n",
              "\n",
              "/* Label box, darken color on hover, fitted */\n",
              "#sk-container-id-1 div.sk-label.fitted:hover label.sk-toggleable__label.fitted {\n",
              "  color: var(--sklearn-color-text);\n",
              "  background-color: var(--sklearn-color-fitted-level-2);\n",
              "}\n",
              "\n",
              "/* Estimator label */\n",
              "\n",
              "#sk-container-id-1 div.sk-label label {\n",
              "  font-family: monospace;\n",
              "  font-weight: bold;\n",
              "  display: inline-block;\n",
              "  line-height: 1.2em;\n",
              "}\n",
              "\n",
              "#sk-container-id-1 div.sk-label-container {\n",
              "  text-align: center;\n",
              "}\n",
              "\n",
              "/* Estimator-specific */\n",
              "#sk-container-id-1 div.sk-estimator {\n",
              "  font-family: monospace;\n",
              "  border: 1px dotted var(--sklearn-color-border-box);\n",
              "  border-radius: 0.25em;\n",
              "  box-sizing: border-box;\n",
              "  margin-bottom: 0.5em;\n",
              "  /* unfitted */\n",
              "  background-color: var(--sklearn-color-unfitted-level-0);\n",
              "}\n",
              "\n",
              "#sk-container-id-1 div.sk-estimator.fitted {\n",
              "  /* fitted */\n",
              "  background-color: var(--sklearn-color-fitted-level-0);\n",
              "}\n",
              "\n",
              "/* on hover */\n",
              "#sk-container-id-1 div.sk-estimator:hover {\n",
              "  /* unfitted */\n",
              "  background-color: var(--sklearn-color-unfitted-level-2);\n",
              "}\n",
              "\n",
              "#sk-container-id-1 div.sk-estimator.fitted:hover {\n",
              "  /* fitted */\n",
              "  background-color: var(--sklearn-color-fitted-level-2);\n",
              "}\n",
              "\n",
              "/* Specification for estimator info (e.g. \"i\" and \"?\") */\n",
              "\n",
              "/* Common style for \"i\" and \"?\" */\n",
              "\n",
              ".sk-estimator-doc-link,\n",
              "a:link.sk-estimator-doc-link,\n",
              "a:visited.sk-estimator-doc-link {\n",
              "  float: right;\n",
              "  font-size: smaller;\n",
              "  line-height: 1em;\n",
              "  font-family: monospace;\n",
              "  background-color: var(--sklearn-color-background);\n",
              "  border-radius: 1em;\n",
              "  height: 1em;\n",
              "  width: 1em;\n",
              "  text-decoration: none !important;\n",
              "  margin-left: 1ex;\n",
              "  /* unfitted */\n",
              "  border: var(--sklearn-color-unfitted-level-1) 1pt solid;\n",
              "  color: var(--sklearn-color-unfitted-level-1);\n",
              "}\n",
              "\n",
              ".sk-estimator-doc-link.fitted,\n",
              "a:link.sk-estimator-doc-link.fitted,\n",
              "a:visited.sk-estimator-doc-link.fitted {\n",
              "  /* fitted */\n",
              "  border: var(--sklearn-color-fitted-level-1) 1pt solid;\n",
              "  color: var(--sklearn-color-fitted-level-1);\n",
              "}\n",
              "\n",
              "/* On hover */\n",
              "div.sk-estimator:hover .sk-estimator-doc-link:hover,\n",
              ".sk-estimator-doc-link:hover,\n",
              "div.sk-label-container:hover .sk-estimator-doc-link:hover,\n",
              ".sk-estimator-doc-link:hover {\n",
              "  /* unfitted */\n",
              "  background-color: var(--sklearn-color-unfitted-level-3);\n",
              "  color: var(--sklearn-color-background);\n",
              "  text-decoration: none;\n",
              "}\n",
              "\n",
              "div.sk-estimator.fitted:hover .sk-estimator-doc-link.fitted:hover,\n",
              ".sk-estimator-doc-link.fitted:hover,\n",
              "div.sk-label-container:hover .sk-estimator-doc-link.fitted:hover,\n",
              ".sk-estimator-doc-link.fitted:hover {\n",
              "  /* fitted */\n",
              "  background-color: var(--sklearn-color-fitted-level-3);\n",
              "  color: var(--sklearn-color-background);\n",
              "  text-decoration: none;\n",
              "}\n",
              "\n",
              "/* Span, style for the box shown on hovering the info icon */\n",
              ".sk-estimator-doc-link span {\n",
              "  display: none;\n",
              "  z-index: 9999;\n",
              "  position: relative;\n",
              "  font-weight: normal;\n",
              "  right: .2ex;\n",
              "  padding: .5ex;\n",
              "  margin: .5ex;\n",
              "  width: min-content;\n",
              "  min-width: 20ex;\n",
              "  max-width: 50ex;\n",
              "  color: var(--sklearn-color-text);\n",
              "  box-shadow: 2pt 2pt 4pt #999;\n",
              "  /* unfitted */\n",
              "  background: var(--sklearn-color-unfitted-level-0);\n",
              "  border: .5pt solid var(--sklearn-color-unfitted-level-3);\n",
              "}\n",
              "\n",
              ".sk-estimator-doc-link.fitted span {\n",
              "  /* fitted */\n",
              "  background: var(--sklearn-color-fitted-level-0);\n",
              "  border: var(--sklearn-color-fitted-level-3);\n",
              "}\n",
              "\n",
              ".sk-estimator-doc-link:hover span {\n",
              "  display: block;\n",
              "}\n",
              "\n",
              "/* \"?\"-specific style due to the `<a>` HTML tag */\n",
              "\n",
              "#sk-container-id-1 a.estimator_doc_link {\n",
              "  float: right;\n",
              "  font-size: 1rem;\n",
              "  line-height: 1em;\n",
              "  font-family: monospace;\n",
              "  background-color: var(--sklearn-color-background);\n",
              "  border-radius: 1rem;\n",
              "  height: 1rem;\n",
              "  width: 1rem;\n",
              "  text-decoration: none;\n",
              "  /* unfitted */\n",
              "  color: var(--sklearn-color-unfitted-level-1);\n",
              "  border: var(--sklearn-color-unfitted-level-1) 1pt solid;\n",
              "}\n",
              "\n",
              "#sk-container-id-1 a.estimator_doc_link.fitted {\n",
              "  /* fitted */\n",
              "  border: var(--sklearn-color-fitted-level-1) 1pt solid;\n",
              "  color: var(--sklearn-color-fitted-level-1);\n",
              "}\n",
              "\n",
              "/* On hover */\n",
              "#sk-container-id-1 a.estimator_doc_link:hover {\n",
              "  /* unfitted */\n",
              "  background-color: var(--sklearn-color-unfitted-level-3);\n",
              "  color: var(--sklearn-color-background);\n",
              "  text-decoration: none;\n",
              "}\n",
              "\n",
              "#sk-container-id-1 a.estimator_doc_link.fitted:hover {\n",
              "  /* fitted */\n",
              "  background-color: var(--sklearn-color-fitted-level-3);\n",
              "}\n",
              "</style><div id=\"sk-container-id-1\" class=\"sk-top-container\"><div class=\"sk-text-repr-fallback\"><pre>MultinomialNB()</pre><b>In a Jupyter environment, please rerun this cell to show the HTML representation or trust the notebook. <br />On GitHub, the HTML representation is unable to render, please try loading this page with nbviewer.org.</b></div><div class=\"sk-container\" hidden><div class=\"sk-item\"><div class=\"sk-estimator fitted sk-toggleable\"><input class=\"sk-toggleable__control sk-hidden--visually\" id=\"sk-estimator-id-1\" type=\"checkbox\" checked><label for=\"sk-estimator-id-1\" class=\"sk-toggleable__label fitted sk-toggleable__label-arrow fitted\">&nbsp;&nbsp;MultinomialNB<a class=\"sk-estimator-doc-link fitted\" rel=\"noreferrer\" target=\"_blank\" href=\"https://scikit-learn.org/1.5/modules/generated/sklearn.naive_bayes.MultinomialNB.html\">?<span>Documentation for MultinomialNB</span></a><span class=\"sk-estimator-doc-link fitted\">i<span>Fitted</span></span></label><div class=\"sk-toggleable__content fitted\"><pre>MultinomialNB()</pre></div> </div></div></div></div>"
            ],
            "text/plain": [
              "MultinomialNB()"
            ]
          },
          "execution_count": 19,
          "metadata": {},
          "output_type": "execute_result"
        }
      ],
      "source": [
        "# es muy fácil instanciar un modelo de clasificación Naïve Bayes y entrenarlo con sklearn\n",
        "clf = MultinomialNB()\n",
        "clf.fit(X_train, y_train)"
      ]
    },
    {
      "cell_type": "code",
      "execution_count": 20,
      "metadata": {
        "id": "NrQjzM48Mu4T"
      },
      "outputs": [],
      "source": [
        "# con nuestro vectorizador ya fiteado en train, vectorizamos los textos\n",
        "# del conjunto de test\n",
        "X_test = tfidfvect.transform(newsgroups_test.data)\n",
        "y_test = newsgroups_test.target\n",
        "y_pred =  clf.predict(X_test)"
      ]
    },
    {
      "cell_type": "code",
      "execution_count": 21,
      "metadata": {
        "colab": {
          "base_uri": "https://localhost:8080/"
        },
        "id": "UkGJhetEPdA4",
        "outputId": "232ee2ce-e904-466e-be57-babc1f319029"
      },
      "outputs": [
        {
          "data": {
            "text/plain": [
              "0.5854345727938506"
            ]
          },
          "execution_count": 21,
          "metadata": {},
          "output_type": "execute_result"
        }
      ],
      "source": [
        "# el F1-score es una metrica adecuada para reportar desempeño de modelos de claificación\n",
        "# es robusta al desbalance de clases. El promediado 'macro' es el promedio de los\n",
        "# F1-score de cada clase. El promedio 'micro' es equivalente a la accuracy que no\n",
        "# es una buena métrica cuando los datasets son desbalanceados\n",
        "f1_score(y_test, y_pred, average='macro')"
      ]
    },
    {
      "cell_type": "markdown",
      "metadata": {
        "id": "McArD4rSDR2K"
      },
      "source": [
        "### Consigna del desafío 1"
      ]
    },
    {
      "cell_type": "markdown",
      "metadata": {
        "id": "lJgf6GQIIEH1"
      },
      "source": [
        "#### **1**. Vectorizar documentos. Tomar 5 documentos al azar y medir similaridad con el resto de los documentos. Estudiar los 5 documentos más similares de cada uno analizar si tiene sentido la similaridad según el contenido del texto y la etiqueta de clasificación."
      ]
    },
    {
      "cell_type": "code",
      "execution_count": 22,
      "metadata": {},
      "outputs": [],
      "source": [
        "# Veamos similaridad de documentos. Tomemos algún documento\n",
        "import random"
      ]
    },
    {
      "cell_type": "code",
      "execution_count": 23,
      "metadata": {},
      "outputs": [
        {
          "name": "stdout",
          "output_type": "stream",
          "text": [
            "[9361, 533, 7026, 7906, 9471]\n"
          ]
        }
      ],
      "source": [
        "seed = 10\n",
        "np.random.seed(seed)\n",
        "random.seed(seed)\n",
        "random_idx = []\n",
        "for i in range(0,5):\n",
        "    random_idx.append(random.randint(0,11314))\n",
        "print(random_idx)\n",
        "    #print(newsgroups_train.data[random_idx])"
      ]
    },
    {
      "cell_type": "markdown",
      "metadata": {},
      "source": [
        "#### Una vez obtenidos los índice se hace el análsis para cada uno de ellos"
      ]
    },
    {
      "cell_type": "markdown",
      "metadata": {},
      "source": [
        "#### Índice 9361"
      ]
    },
    {
      "cell_type": "markdown",
      "metadata": {},
      "source": [
        "##### 1 - Se mide la similaridad con el resto de los documentos"
      ]
    },
    {
      "cell_type": "code",
      "execution_count": 31,
      "metadata": {},
      "outputs": [],
      "source": [
        "# midamos la similaridad coseno con todos los documentos de train\n",
        "cossim = cosine_similarity(X_train[random_idx[0]], X_train)[0]\n",
        "# podemos ver los valores de similaridad ordenados de mayor a menor\n",
        "mostsim = np.argsort(cossim)[::-1][1:6]"
      ]
    },
    {
      "cell_type": "markdown",
      "metadata": {},
      "source": [
        "##### 2 - Se observa la similaridad con los demás documentos y a qué índice pertenecen estos."
      ]
    },
    {
      "cell_type": "code",
      "execution_count": 32,
      "metadata": {},
      "outputs": [
        {
          "name": "stdout",
          "output_type": "stream",
          "text": [
            "[0.21649189 0.20618781 0.2029193  0.17855957 0.17843009]\n",
            "[ 6201  8467 11137 10106  5989]\n"
          ]
        }
      ],
      "source": [
        "print(np.sort(cossim)[::-1][1:6])\n",
        "# y a qué documentos corresponden\n",
        "print(np.argsort(cossim)[::-1][1:6])\n",
        "# los 5 documentos más similares:"
      ]
    },
    {
      "cell_type": "markdown",
      "metadata": {},
      "source": [
        "##### 3 - Se obtiene la clase del índice y también la de los de mayor similaridad."
      ]
    },
    {
      "cell_type": "code",
      "execution_count": 33,
      "metadata": {},
      "outputs": [
        {
          "name": "stdout",
          "output_type": "stream",
          "text": [
            "El documento original pertenece a la clase:  alt.atheism\n",
            "Los demás documentos pertenecen a las clases: \n",
            "talk.religion.misc\n",
            "rec.motorcycles\n",
            "rec.motorcycles\n",
            "soc.religion.christian\n",
            "sci.crypt\n"
          ]
        }
      ],
      "source": [
        "# Se imprime la clase del documento\n",
        "print(\"El documento original pertenece a la clase: \", newsgroups_train.target_names[y_train[random_idx[0]]])\n",
        "\n",
        "# Se imprime la clase de los 5 más similares\n",
        "print(\"Los demás documentos pertenecen a las clases: \")\n",
        "for i in mostsim:\n",
        "  print(newsgroups_train.target_names[y_train[i]])"
      ]
    },
    {
      "cell_type": "markdown",
      "metadata": {},
      "source": [
        "##### 4 - Se observa el contenido del documento."
      ]
    },
    {
      "cell_type": "code",
      "execution_count": 34,
      "metadata": {},
      "outputs": [
        {
          "name": "stdout",
          "output_type": "stream",
          "text": [
            "\n",
            ": \tNice cop out bill.\n",
            "\n",
            "I'm sure you're right, but I have no idea to what you refer. Would you\n",
            "mind explaining how I copped out?\n"
          ]
        }
      ],
      "source": [
        "print(newsgroups_train.data[random_idx[0]])"
      ]
    },
    {
      "cell_type": "markdown",
      "metadata": {},
      "source": [
        "Se trata de un proyecto de ley."
      ]
    },
    {
      "cell_type": "code",
      "execution_count": 35,
      "metadata": {},
      "outputs": [
        {
          "name": "stdout",
          "output_type": "stream",
          "text": [
            "\n",
            "\n",
            "\n",
            "You might be sure, but you would also be wrong.\n",
            "\n"
          ]
        }
      ],
      "source": [
        "print(newsgroups_train.data[mostsim[0]])"
      ]
    },
    {
      "cell_type": "markdown",
      "metadata": {},
      "source": [
        "Se trata de una frase con tendencia religiosa."
      ]
    },
    {
      "cell_type": "code",
      "execution_count": 36,
      "metadata": {},
      "outputs": [
        {
          "name": "stdout",
          "output_type": "stream",
          "text": [
            "\n",
            "1) The next time you get stoped by a cop, never never never admit to anything.\n",
            "\n",
            "2) Don't volunteer any information.\n",
            "\n",
            "3) When a retoracle question is ask by the cop, like \"...it <looked> like you were going kinda fast coming down highway 12.  You <must have> been going at least 70 or 75?\" -- the correct reponse is to deny it. This technique is employed by police to help establish guilt, especially when (9 times out of 10) he/she is not sure who was doing the speeding. If the cop is unsure this may be the difference of him letting you off the hook or getting the tissue.\n",
            "\n",
            "Hope this helps for next time.\n"
          ]
        }
      ],
      "source": [
        "print(newsgroups_train.data[mostsim[1]])"
      ]
    },
    {
      "cell_type": "markdown",
      "metadata": {},
      "source": [
        "Se trata de como evadir una multa de velocidad."
      ]
    },
    {
      "cell_type": "code",
      "execution_count": 37,
      "metadata": {},
      "outputs": [
        {
          "name": "stdout",
          "output_type": "stream",
          "text": [
            "\n",
            "Right on, it is every citizen's right and duty to FORCE government\n",
            "accountability.\n",
            "\n",
            "(anecdotes deleted)\n",
            "\n",
            "\n",
            "Also keep in mind that cops will LIE in court to get their way! (don't get\n",
            "me started by asking how I know ;) If you decide to fight you have to be ready\n",
            "for this as well as devise strategy to make the cop's story doubtful in the\n",
            "judge/jury's mind.\n"
          ]
        }
      ],
      "source": [
        "print(newsgroups_train.data[mostsim[2]])"
      ]
    },
    {
      "cell_type": "markdown",
      "metadata": {},
      "source": [
        "Se trata de que dice que los policías mentirán para salirse con la suya y debes tenerlo en cuenta para idea una estrategia para desmentirlo."
      ]
    },
    {
      "cell_type": "code",
      "execution_count": 38,
      "metadata": {},
      "outputs": [
        {
          "name": "stdout",
          "output_type": "stream",
          "text": [
            "[In looking through my files this weekend, I ran across some lyrics from\n",
            "various rock groups that have content.  Here are two from Black Sabbath's\n",
            "\"Master of Reality\".  I'll say this much for the music of the '60's and early\n",
            "'70's, at least they asked questions of significance.  Jethro Tull is another\n",
            "to asked and wrote about things that caused one to wonder. --Rex] \n",
            "\n",
            "AFTER FOREVER\n",
            "\n",
            "Have you ever thought about your soul--\n",
            "     can it be saved?\n",
            "Or perhaps you think that when you're dead\n",
            "     you just stay in you grave.\n",
            "Is God just a thought within you read in a book\n",
            "     when you were at school?\n",
            "When you think about death \n",
            "     Do you lose your breath\n",
            "     Or do you keep your cool?\n",
            "\n",
            "Would you like to see the Pope on the end of a rope?\n",
            "Do you think he's a fool?\n",
            "Well I have seen the truth.  Yes I have seen the light\n",
            "     and I've changed my ways.\n",
            "And I'll be prepared \n",
            "     When you're lonely and scared\n",
            "     at the end of your days.\n",
            "\n",
            "Could it be you're afraid of what your friends might say\n",
            "If they knew you believed in God above?\n",
            "They should realize before they criticise\n",
            "That God is the only way to love. \n",
            "\n",
            "Is your mind so small that you have to fall\n",
            "In with the pack wherever they run?\n",
            "Will you still sneer when death is near\n",
            "And say they may as well worship the sun?\n",
            "\n",
            "I think it was true -it was people like you\n",
            "     that crucified Christ.\n",
            "I think it is sad the opinion you had\n",
            "     was the only one voiced.\n",
            "Will you be so sure when your day is near\n",
            "     to say you don't believe?\n",
            "You had the chance but you turned it down\n",
            "     now you can't retrieve.\n",
            "Perhaps you'll think before you say that God is dead & gone\n",
            "Open your eyes, just realize that He is the one.\n",
            "The only one who can save you now from all this sin and hate.\n",
            "Or will you still jeer at all you hear?\n",
            "Yes!  I think it's too late.\n",
            "\n",
            "\n",
            "LORD OF THIS WORLD\n"
          ]
        }
      ],
      "source": [
        "print(newsgroups_train.data[mostsim[3]])"
      ]
    },
    {
      "cell_type": "markdown",
      "metadata": {},
      "source": [
        "Se trata de una letra de una canción de Black Sabbath."
      ]
    },
    {
      "cell_type": "code",
      "execution_count": 39,
      "metadata": {},
      "outputs": [
        {
          "name": "stdout",
          "output_type": "stream",
          "text": [
            "\n",
            "\n",
            "Could you expand on this? I have a feeling you're right, but I don't quite\n",
            "understand.\n"
          ]
        }
      ],
      "source": [
        "print(newsgroups_train.data[mostsim[4]])"
      ]
    },
    {
      "cell_type": "markdown",
      "metadata": {},
      "source": [
        "Se pide que se amplié un tema que no se termina de entender."
      ]
    },
    {
      "cell_type": "markdown",
      "metadata": {},
      "source": [
        "Se observa que se tuvo una baja similaridad, por lo que las clases del documento obtenido al azar no se relaciona con las demás clases. Algunas palabras claves que se han observado en los documentos son cop, "
      ]
    },
    {
      "cell_type": "markdown",
      "metadata": {},
      "source": [
        "##### Índice 533"
      ]
    },
    {
      "cell_type": "markdown",
      "metadata": {},
      "source": [
        " Habla de un spinoff de ciencia ficción."
      ]
    },
    {
      "cell_type": "markdown",
      "metadata": {},
      "source": [
        "##### 1 - Se mide la similaridad con el resto de los documentos"
      ]
    },
    {
      "cell_type": "code",
      "execution_count": 42,
      "metadata": {},
      "outputs": [],
      "source": [
        "# midamos la similaridad coseno con todos los documentos de train\n",
        "cossim = cosine_similarity(X_train[random_idx[1]], X_train)[0]\n",
        "# podemos ver los valores de similaridad ordenados de mayor a menor\n",
        "mostsim = np.argsort(cossim)[::-1][1:6]"
      ]
    },
    {
      "cell_type": "markdown",
      "metadata": {},
      "source": [
        "##### 2 - Se observa la similaridad con los demás documentos y a qué índice pertenecen estos."
      ]
    },
    {
      "cell_type": "code",
      "execution_count": 43,
      "metadata": {},
      "outputs": [
        {
          "name": "stdout",
          "output_type": "stream",
          "text": [
            "[0.48255067 0.35558112 0.3520732  0.33276742 0.31324499]\n",
            "[ 2061 10855  9934 11198  3285]\n"
          ]
        }
      ],
      "source": [
        "print(np.sort(cossim)[::-1][1:6])\n",
        "# y a qué documentos corresponden\n",
        "print(np.argsort(cossim)[::-1][1:6])\n",
        "# los 5 documentos más similares:"
      ]
    },
    {
      "cell_type": "markdown",
      "metadata": {},
      "source": [
        "##### 3 - Se obtiene la clase del índice y también la de los de mayor similaridad."
      ]
    },
    {
      "cell_type": "code",
      "execution_count": 44,
      "metadata": {},
      "outputs": [
        {
          "name": "stdout",
          "output_type": "stream",
          "text": [
            "El documento original pertenece a la clase:  sci.space\n",
            "Los demás documentos pertenecen a las clases: \n",
            "sci.space\n",
            "sci.space\n",
            "sci.space\n",
            "sci.space\n",
            "sci.space\n"
          ]
        }
      ],
      "source": [
        "# Se imprime la clase del documento\n",
        "print(\"El documento original pertenece a la clase: \", newsgroups_train.target_names[y_train[random_idx[1]]])\n",
        "\n",
        "# Se imprime la clase de los 5 más similares\n",
        "print(\"Los demás documentos pertenecen a las clases: \")\n",
        "for i in mostsim:\n",
        "  print(newsgroups_train.target_names[y_train[i]])"
      ]
    },
    {
      "cell_type": "markdown",
      "metadata": {},
      "source": [
        "##### 4 - Se observa el contenido del documento."
      ]
    },
    {
      "cell_type": "code",
      "execution_count": 46,
      "metadata": {},
      "outputs": [
        {
          "name": "stdout",
          "output_type": "stream",
          "text": [
            "From the article \"What's New\" Apr-16-93 in sci.physics.research:\n",
            "\n",
            "........\n",
            "WHAT'S NEW (in my opinion), Friday, 16 April 1993  Washington, DC\n",
            "\n",
            "1. SPACE BILLBOARDS! IS THIS ONE THE \"SPINOFFS\" WE WERE PROMISED?\n",
            "In 1950, science fiction writer Robert Heinlein published \"The\n",
            "Man Who Sold the Moon,\" which involved a dispute over the sale of\n",
            "rights to the Moon for use as billboard. NASA has taken the firsteps toward this\n",
            " hideous vision of the future.  Observers were\n",
            "startled this spring when a NASA launch vehicle arrived at the\n",
            "pad with \"SCHWARZENEGGER\" painted in huge block letters on the\n",
            "side of the booster rockets.  Space Marketing Inc. had arranged\n",
            "for the ad to promote Arnold's latest movie. Now, Space Marketing\n",
            "is working with University of Colorado and Livermore engineers on\n",
            "a plan to place a mile-long inflatable billboard in low-earth\n",
            "orbit.  NASA would provide contractual launch services. However,\n",
            "since NASA bases its charge on seriously flawed cost estimates\n",
            "(WN 26 Mar 93) the taxpayers would bear most of the expense. This\n",
            "may look like environmental vandalism, but Mike Lawson, CEO of\n",
            "Space Marketing, told us yesterday that the real purpose of the\n",
            "project is to help the environment! The platform will carry ozone\n",
            "monitors he explained--advertising is just to help defray costs.\n",
            "..........\n",
            "\n",
            "What do you think of this revolting and hideous attempt to vandalize\n",
            "the night sky? It is not even April 1 anymore.\n",
            "What about light pollution in observations? (I read somewhere else that\n",
            "it might even be visible during the day, leave alone at night).\n",
            "Is NASA really supporting this junk?\n",
            "Are protesting groups being organized in the States?\n",
            "Really, really depressed.\n",
            "\n",
            "             Enzo\n"
          ]
        }
      ],
      "source": [
        "print(newsgroups_train.data[random_idx[1]])"
      ]
    },
    {
      "cell_type": "markdown",
      "metadata": {},
      "source": [
        "Se trata de un spinoff de ciencia ficción."
      ]
    },
    {
      "cell_type": "code",
      "execution_count": 47,
      "metadata": {},
      "outputs": [
        {
          "name": "stdout",
          "output_type": "stream",
          "text": [
            ";From the article \"What's New\" Apr-16-93 in sci.physics.research:\n",
            ";\n",
            ";........\n",
            ";WHAT'S NEW (in my opinion), Friday, 16 April 1993  Washington, DC\n",
            ";\n",
            ";1. SPACE BILLBOARDS! IS THIS ONE THE \"SPINOFFS\" WE WERE PROMISED?\n",
            ";What about light pollution in observations? (I read somewhere else that\n",
            ";it might even be visible during the day, leave alone at night).\n",
            ";Is NASA really supporting this junk?\n",
            ";Are protesting groups being organized in the States?\n",
            ";Really, really depressed.\n",
            ";\n",
            ";             Enzo\n",
            "\n",
            "I wouldn't worry about it.  There's enough space debris up there that\n",
            "a mile-long inflatable would probably deflate in some very short\n",
            "period of time (less than a year) while cleaning up LEO somewhat.\n",
            "Sort of a giant fly-paper in orbit.\n",
            "\n",
            "Hmm, that could actually be useful.\n",
            "\n",
            "As for advertising -- sure, why not?  A NASA friend and I spent one\n",
            "drunken night figuring out just exactly how much gold mylar we'd need\n",
            "to put the golden arches of a certain American fast food organization\n",
            "on the face of the Moon.  Fortunately, we sobered up in the morning.\n"
          ]
        }
      ],
      "source": [
        "print(newsgroups_train.data[mostsim[0]])"
      ]
    },
    {
      "cell_type": "markdown",
      "metadata": {},
      "source": [
        "Se trata de la primer parte de una spinoff y vuelve a figurar el nombre Enzo. "
      ]
    },
    {
      "cell_type": "code",
      "execution_count": 48,
      "metadata": {},
      "outputs": [
        {
          "name": "stdout",
          "output_type": "stream",
          "text": [
            "Brian Yamauchi asks: [Regarding orbital billboards...]\n",
            "  \n",
            "    Well, I had been collecting data for next edition of the\n",
            "Commercial Space News/Space Technology Investor... To summarize:\n",
            "  \n",
            "SPACE ADVERTISING\n",
            "    First, advertising on space vehicles is not new -- it is very\n",
            "common practice to put the cooperating organization's logos on the\n",
            "space launch vehicle.  For example, the latest GPS launcher had the\n",
            "(very prominent) logos on its side of\n",
            "   - McDonnell Douglas (the Delta launcher)\n",
            "   - Rockwell International (who built the GPS satellite)\n",
            "   - USAF (who paid for the satellite and launch), and\n",
            "   - the GPS/Navstar program office\n",
            "   This has not been considered \"paid advertising\" but rather\n",
            "\"public relations\", since the restrictions have been such that only\n",
            "organizations involved in the launch could put their logos on the\n",
            "side, and there was no money exchanged for this.  [However, putting\n",
            "a 10' high logo on the side of the launch vehicle facing the cameras\n",
            "is \"advertising\" as much as it is \"public relations\", in my\n",
            "opinion.]  [And by the way, I note that the DC-X test vehicle has\n",
            "rather prominent McDonnell-Douglas and SDIO logos on the side...]\n",
            "   There have been several studies looking at the revenue potentials\n",
            "for use of space vehicles for advertising, or placing large\n",
            "advertising signs in orbit.  On the shuttle, for example, I know of\n",
            "several serious studies in the early and mid 1980's which looked at\n",
            "putting logos on the external tank, or on the sides of the payload\n",
            "bay.  These ventures would be different than \"public relations\", in\n",
            "that the logos or displays would not be restricted to the firms\n",
            "participating on that flight, and would involve payment of sums for\n",
            "the right to fly the logos in a prominent organization.  (For\n",
            "example, painting the ET to look like a Pepsi can, or putting a\n",
            "Disneyworld logo on the inside of the payload bay where the cameras\n",
            "would scan past it.)\n",
            "  \n",
            "ADVERTS ON LAUNCH VEHICLES\n",
            "   The first paid advertising was done on a Soviet launcher in about\n",
            "1990, when several non-involved foreign organizations were allowed\n",
            "to pay to put their logos on a Proton launch.  (An Italian shoe\n",
            "company was one of the first advertisers, I remember.)  Similarly,\n",
            "Soviet cosmonauts on Mir made a paid advertisement for the last\n",
            "Olympic games, and have gleefully shown banners and other items from\n",
            "participating firms and organizations.  Mars candy bars, for\n",
            "example, got a plug from orbit as a sponsor of the launch of the\n",
            "British visiting cosmonaut to Mir.\n",
            "   Now US firms are starting to put paid advertisements on launch\n",
            "vehicles.  The upcoming Conestoga launch (in June) putting the COMET\n",
            "recoverable payload capsule into orbit will have paid advertisements\n",
            "on the side, for Arnold Schwarzenegger's upcoming movie \"The Last\n",
            "Action Hero\".  Besides the usual logos of the participating\n",
            "organizations, Columbia pictures has paid $500,000 to put ads on the\n",
            "main fuselage of the mission's Conestoga rocket, its booster\n",
            "rockets, and on the COMET payload, which will orbit the Earth for\n",
            "one month.  A concept for this advertising display was published in\n",
            "Space News magazine a couple of months ago.\n",
            "   (As a side note: Robert Lorsch, an advertising executive, is\n",
            "talking about suing NASA.  He charges NASA with appropriating an idea he\n",
            "created with the space agency in 1981 to form corporate advertising\n",
            "sponsorships on NASA spacecraft as a way to get funding for the\n",
            "space program.  Lorsch contends that in selling advertising space on\n",
            "the upcoming COMET, NASA violated an agreement that it \"would not use\n",
            "his idea without him being the exclusive representative for NASA and\n",
            "receiving compensation.\"   This is being disputed, since the launch\n",
            "is a \"commercial launch\" and NASA is receiving none of the\n",
            "advertising revenues, but the funding for the COMET program is\n",
            "coming from NASA.)\n",
            "  \n",
            "ORBITAL \"BILLBOARDS\"\n",
            "   Orbital \"billboards\" have been the staple of science fiction for\n",
            "some time.  Arthur C. Clarke wrote about one example, and Robert\n",
            "Heinlein described another in \"The Man Who Sold the Moon\".  Several\n",
            "different potential projects have been developed, although none have\n",
            "been implemented, but the most real prior to 1993 being the \"Eiffel\n",
            "II\" project, which would have placed a large inflatable sculpture in\n",
            "orbit to celebrate the French Republic's Bi-centennial.\n",
            "                                                (cont)\n"
          ]
        }
      ],
      "source": [
        "print(newsgroups_train.data[mostsim[1]])"
      ]
    },
    {
      "cell_type": "markdown",
      "metadata": {},
      "source": [
        "Vuelve a figurar el término Billboards. Se trata de los logos de las organizaciones que cooperaron en el vehículo espacial."
      ]
    },
    {
      "cell_type": "code",
      "execution_count": 49,
      "metadata": {},
      "outputs": [
        {
          "name": "stdout",
          "output_type": "stream",
          "text": [
            "Two developments have brought these type of activities back to\n",
            "the forefront in 1993.  First, in February, the Russians deployed a\n",
            "20-m reflector from a Progress vehicle after it had departed from\n",
            "the Mir Space Station.  While this \"Banner\" reflector was blank,\n",
            "NPO Energia was very active in reporting that future  Banner\n",
            "reflectors will be available to advertisers, who could use a space-\n",
            "based video of their logo or ad printed on the Banner in a TV\n",
            "commercial, as filmed from the Mir.\n",
            "   The second development, has been that Space Marketing Inc, the\n",
            "same company responsible for merchandising space on the Conestoga\n",
            "booster and COMET spacecraft, is now pushing the \"Environmental\n",
            "Billboard\".  As laid out by SMI Chief Engineer Dr Ron Humble of the\n",
            "University of Colorado Space Laboratory and Preston Carter of the\n",
            "Lawrence Livermore National Laboratory, the \"Environmental\n",
            "Billboard\" is a large inflatable outer support structure of up to\n",
            "804x1609 meters.  Advertising is carried by a mylar reflective area,\n",
            "deployed by the inflatable 'frame'.\n",
            "   To help sell the concept, the spacecraft responsible for\n",
            "maintaining the billboard on orbit will carry \"ozone reading\n",
            "sensors\" to \"continuously monitor the condition of the Earth's\n",
            "delicate protective ozone layer,\" according to Mike Lawson, head of\n",
            "SMI. Furthermore, the inflatable billboard has reached its minimum\n",
            "exposure of 30 days it will be released to re-enter the Earth's\n",
            "atmosphere. According to IMI, \"as the biodegradable material burns,\n",
            "it will release ozone-building components that will literally\n",
            "replenish the ozone layer.\" The remaining spacecraft will monitor\n",
            "the atmosphere for another year before it, too, re-enters and burns\n",
            "up and \"adds to the ozone supply.\"\n",
            "   This would not be a cheap advertisement, costing at least several\n",
            "millions of dollars (exact costs were not available).  But SMI\n",
            "estimates that market exposure would be 3-5X that of the people who\n",
            "watched the SuperBowl, where a 30-second advertising 'unit' cost\n",
            "$600,000.  Since SMI is located in Atlanta, Georgia, it is being\n",
            "promoted as being available in time for the opening of the 1996\n",
            "Summer Olympics in Atlanta.\n",
            "  \n",
            "But back to Brian's questions:\n",
            "  \n",
            "    See above. As for serious -- if they can get $15-20 M or so (my\n",
            "estimate of $5-10 for development costs and a flight unit, plus\n",
            "$10-15 M for a launch), then it's probably real.  They are claiming to\n",
            "tailor the orbit to overfly specific locations at specific times for\n",
            "optimum advertising impact so they probably can't piggy back upon\n",
            "someone else's planned launch and will have to buy a dedicated\n",
            "launch.  That's a $10-15 M cost they need to raise, right there.\n",
            "    And there will probably be some legal challenges to this as\n",
            "well.  Note there is one potential legal challenge to SMI on the use\n",
            "of launch vehicle advertising already.  While I don't think the\n",
            "legal challenges would win out (and yes, I am an amateur astronomer,\n",
            "and no, I don't really like the idea of this additional light\n",
            "pollution, but I know of no prohibition of it...),  the legal\n",
            "challenges and court fights would probably remove any positive\n",
            "aspects of the advertising.  I can imagine several ways to make the\n",
            "advertisers look like louts for doing this -- which would change\n",
            "positive market exposure to negative market exposure, and negate the\n",
            "space advertising advantage.  (Would you spend $15 M to look like an\n",
            "idiot?)\n",
            "   (And light pollution might not be too bad -- if it's in a low\n",
            "enough orbit, and it relies upon reflected light only, it would\n",
            "only be visible for a short time just after local dusk and before\n",
            "dawn.  For maximum market exposure, you want to have it visible just\n",
            "after dusk --minimizing impact on astronomy, since that's the time\n",
            "of worse seeing due to day/night thermal turbulence.  It might still\n",
            "be a problem, but perhaps there are ways to mitigate this...)\n",
            "    As for having real funding -- none that I can identify.  There\n",
            "were about 60 expressions of interest made on the Conestoga\n",
            "advertising opportunity, but that included curious folks and was for\n",
            "only a $500,000 commitment.  I haven't heard of any serious funding\n",
            "for this, but I'm sure they are shopping the venture around looking\n",
            "for some money in order to flesh out the concept some more.  But I\n",
            "am confident there are no firm or paying customers at this time.\n",
            "  \n",
            "   And if anybody wants to cross-post this to sci.astro, please be\n",
            "my guest.  I don't have posting privileges to that area (or at least\n",
            "I don't THINK I do...).\n",
            " -------------------------------------------------------------------\n",
            " Wales Larrison                            Space Technology Investor\n"
          ]
        }
      ],
      "source": [
        "print(newsgroups_train.data[mostsim[2]])"
      ]
    },
    {
      "cell_type": "markdown",
      "metadata": {},
      "source": [
        "Se trata de dos desarrollos para usar el espacio para publicidad."
      ]
    },
    {
      "cell_type": "code",
      "execution_count": 50,
      "metadata": {},
      "outputs": [
        {
          "name": "stdout",
          "output_type": "stream",
          "text": [
            "Archive-name: space/controversy\n",
            "Last-modified: $Date: 93/04/01 14:39:06 $\n",
            "\n",
            "CONTROVERSIAL QUESTIONS\n",
            "\n",
            "    These issues periodically come up with much argument and few facts being\n",
            "    offered. The summaries below attempt to represent the position on which\n",
            "    much of the net community has settled. Please DON'T bring them up again\n",
            "    unless there's something truly new to be discussed. The net can't set\n",
            "    public policy, that's what your representatives are for.\n",
            "\n",
            "\n",
            "    WHAT HAPPENED TO THE SATURN V PLANS\n",
            "\n",
            "    Despite a widespread belief to the contrary, the Saturn V blueprints\n",
            "    have not been lost. They are kept at Marshall Space Flight Center on\n",
            "    microfilm.\n",
            "\n",
            "    The problem in re-creating the Saturn V is not finding the drawings, it\n",
            "    is finding vendors who can supply mid-1960's vintage hardware (like\n",
            "    guidance system components), and the fact that the launch pads and VAB\n",
            "    have been converted to Space Shuttle use, so you have no place to launch\n",
            "    from.\n",
            "\n",
            "    By the time you redesign to accommodate available hardware and re-modify\n",
            "    the launch pads, you may as well have started from scratch with a clean\n",
            "    sheet design.\n",
            "\n",
            "\n",
            "    WHY DATA FROM SPACE MISSIONS ISN'T IMMEDIATELY AVAILABLE\n",
            "\n",
            "    Investigators associated with NASA missions are allowed exclusive access\n",
            "    for one year after the data is obtained in order to give them an\n",
            "    opportunity to analyze the data and publish results without being\n",
            "    \"scooped\" by people uninvolved in the mission. However, NASA frequently\n",
            "    releases examples (in non-digital form, e.g. photos) to the public early\n",
            "    in a mission.\n",
            "\n",
            "\n",
            "    RISKS OF NUCLEAR (RTG) POWER SOURCES FOR SPACE PROBES\n",
            "\n",
            "    There has been extensive discussion on this topic sparked by attempts to\n",
            "    block the Galileo and Ulysses launches on grounds of the plutonium\n",
            "    thermal sources being dangerous. Numerous studies claim that even in\n",
            "    worst-case scenarios (shuttle explosion during launch, or accidental\n",
            "    reentry at interplanetary velocities), the risks are extremely small.\n",
            "    Two interesting data points are (1) The May 1968 loss of two SNAP 19B2\n",
            "    RTGs, which landed intact in the Pacific Ocean after a Nimbus B weather\n",
            "    satellite failed to reach orbit. The fuel was recovered after 5 months\n",
            "    with no release of plutonium. (2) In April 1970, the Apollo 13 lunar\n",
            "    module reentered the atmosphere and its SNAP 27 RTG heat source, which\n",
            "    was jettisoned, fell intact into the 20,000 feet deep Tonga Trench in\n",
            "    the Pacific Ocean. The corrosion resistant materials of the RTG are\n",
            "    expected to prevent release of the fuel for a period of time equal to 10\n",
            "    half-lives of the Pu-238 fuel or about 870 years [DOE 1980].\n",
            "\n",
            "    To make your own informed judgement, some references you may wish to\n",
            "    pursue are:\n",
            "\n",
            "    A good review of the technical facts and issues is given by Daniel\n",
            "    Salisbury in \"Radiation Risk and Planetary Exploration-- The RTG\n",
            "    Controversy,\" *Planetary Report*, May-June 1987, pages 3-7. Another good\n",
            "    article, which also reviews the events preceding Galileo's launch,\n",
            "    \"Showdown at Pad 39-B,\" by Robert G. Nichols, appeared in the November\n",
            "    1989 issue of *Ad Astra*. (Both magazines are published by pro-space\n",
            "    organizations, the Planetary Society and the National Space Society\n",
            "    respectively.)\n",
            "\n",
            "    Gordon L Chipman, Jr., \"Advanced Space Nuclear Systems\" (AAS 82-261), in\n",
            "    *Developing the Space Frontier*, edited by Albert Naumann and Grover\n",
            "    Alexander, Univelt, 1983, p. 193-213.\n",
            "\n",
            "    \"Hazards from Plutonium Toxicity\", by Bernard L. Cohen, Health Physics,\n",
            "    Vol 32 (may) 1977, page 359-379.\n",
            "\n",
            "    NUS Corporation, Safety Status Report for the Ulysses Mission: Risk\n",
            "    Analysis (Book 1). Document number is NUS 5235; there is no GPO #;\n",
            "    published Jan 31, 1990.\n",
            "\n",
            "    NASA Office of Space Science and Applications, *Final Environmental\n",
            "    Impact Statement for the Ulysses Mission (Tier 2)*, (no serial number or\n",
            "    GPO number, but probably available from NTIS or NASA) June 1990.\n",
            "\n",
            "    [DOE 1980] U.S.  Department of Energy, *Transuranic Elements in the\n",
            "    Environment*, Wayne C.  Hanson, editor; DOE Document No.  DOE/TIC-22800;\n",
            "    Government Printing Office, Washington, D.C., April 1980.)\n",
            "\n",
            "\n",
            "    IMPACT OF THE SPACE SHUTTLE ON THE OZONE LAYER\n",
            "\n",
            "    From time to time, claims are made that chemicals released from\n",
            "    the Space Shuttle's Solid Rocket Boosters (SRBs) are responsible\n",
            "    for a significant amount of damage to the ozone layer. Studies\n",
            "    indicate that they in reality have only a minute impact, both in\n",
            "    absolute terms and relative to other chemical sources. The\n",
            "    remainder of this item is a response from the author of the quoted\n",
            "    study, Charles Jackman.\n",
            "\n",
            "    The atmospheric modelling study of the space shuttle effects on the\n",
            "    stratosphere involved three independent theoretical groups, and was\n",
            "    organized by Dr. Michael Prather, NASA/Goddard Institute for Space\n",
            "    Studies.  The three groups involved Michael Prather and Maria Garcia\n",
            "    (NASA/GISS), Charlie Jackman and Anne Douglass (NASA/Goddard Space\n",
            "    Flight Center), and Malcolm Ko and Dak Sze (Atmospheric and\n",
            "    Environmental Research, Inc.).  The effort was to look at the effects\n",
            "    of the space shuttle and Titan rockets on the stratosphere.\n",
            "\n",
            "    The following are the estimated sources of stratospheric chlorine:\n",
            "\n",
            "       Industrial sources:    300,000,000 kilograms/year\n",
            "\t  Natural sources:     75,000,000 kilograms/year\n",
            "\t  Shuttle sources:\t  725,000 kilograms/year\n",
            "\n",
            "    The shuttle source assumes 9 space shuttles and 6 Titan rockets are\n",
            "    launched yearly. Thus the launches would add less than 0.25% to the\n",
            "    total stratospheric chlorine sources.\n",
            "\n",
            "    The effect on ozone is minimal:  global yearly average total ozone would\n",
            "    be decreased by 0.0065%. This is much less than total ozone variability\n",
            "    associated with volcanic activity and solar flares.\n",
            "\n",
            "    The influence of human-made chlorine products on ozone is computed\n",
            "    by atmospheric model calculations to be a 1% decrease in globally\n",
            "    averaged ozone between 1980 and 1990. The influence of the space shuttle and\n",
            "    Titan rockets on the stratosphere is negligible.  The launch\n",
            "    schedule of the Space Shuttle and Titan rockets would need to be\n",
            "    increased by over a factor of a hundred in order to have about\n",
            "    the same effect on ozone as our increases in industrial halocarbons\n",
            "    do at the present time.\n",
            "\n",
            "    Theoretical results of this study have been published in _The Space\n",
            "    Shuttle's Impact on the Stratosphere_, MJ Prather, MM Garcia, AR\n",
            "    Douglass, CH Jackman, M.K.W. Ko and N.D. Sze, Journal of Geophysical\n",
            "    Research, 95, 18583-18590, 1990.\n",
            "\n",
            "    Charles Jackman, Atmospheric Chemistry and Dynamics Branch,\n",
            "    Code 916, NASA/Goddard Space Flight Center,\n",
            "    Greenbelt, MD  20771\n",
            "\n",
            "    Also see _Chemical Rockets and the Environment_, A McDonald, R Bennett,\n",
            "    J Hinshaw, and M Barnes, Aerospace America, May 1991.\n",
            "\n",
            "\n",
            "    HOW LONG CAN A HUMAN LIVE UNPROTECTED IN SPACE\n",
            "\n",
            "    If you *don't* try to hold your breath, exposure to space for half a\n",
            "    minute or so is unlikely to produce permanent injury. Holding your\n",
            "    breath is likely to damage your lungs, something scuba divers have to\n",
            "    watch out for when ascending, and you'll have eardrum trouble if your\n",
            "    Eustachian tubes are badly plugged up, but theory predicts -- and animal\n",
            "    experiments confirm -- that otherwise, exposure to vacuum causes no\n",
            "    immediate injury. You do not explode. Your blood does not boil. You do\n",
            "    not freeze. You do not instantly lose consciousness.\n",
            "\n",
            "    Various minor problems (sunburn, possibly \"the bends\", certainly some\n",
            "    [mild, reversible, painless] swelling of skin and underlying tissue)\n",
            "    start after ten seconds or so. At some point you lose consciousness from\n",
            "    lack of oxygen. Injuries accumulate. After perhaps one or two minutes,\n",
            "    you're dying. The limits are not really known.\n",
            "\n",
            "    References:\n",
            "\n",
            "    _The Effect on the Chimpanzee of Rapid Decompression to a Near Vacuum_,\n",
            "    Alfred G. Koestler ed., NASA CR-329 (Nov 1965).\n",
            "\n",
            "    _Experimental Animal Decompression to a Near Vacuum Environment_, R.W.\n",
            "    Bancroft, J.E. Dunn, eds, Report SAM-TR-65-48 (June 1965), USAF School\n",
            "    of Aerospace Medicine, Brooks AFB, Texas.\n",
            "\n",
            "\n",
            "    HOW THE CHALLENGER ASTRONAUTS DIED\n",
            "\n",
            "    The Challenger shuttle launch was not destroyed in an explosion. This is\n",
            "    a well-documented fact; see the Rogers Commission report, for example.\n",
            "    What looked like an explosion was fuel burning after the external tank\n",
            "    came apart. The forces on the crew cabin were not sufficient to kill the\n",
            "    astronauts, never mind destroy their bodies, according to the Kerwin\n",
            "    team's medical/forensic report.\n",
            "\n",
            "    The astronauts were killed when the more-or-less intact cabin hit the\n",
            "    water at circa 200MPH, and their bodies then spent several weeks\n",
            "    underwater. Their remains were recovered, and after the Kerwin team\n",
            "    examined them, they were sent off to be buried.\n",
            "\n",
            "\n",
            "    USING THE SHUTTLE BEYOND LOW EARTH ORBIT\n",
            "\n",
            "    You can't use the shuttle orbiter for missions beyond low Earth orbit\n",
            "    because it can't get there. It is big and heavy and does not carry\n",
            "    enough fuel, even if you fill part of the cargo bay with tanks.\n",
            "\n",
            "    Furthermore, it is not particularly sensible to do so, because much of\n",
            "    that weight is things like wings, which are totally useless except in\n",
            "    the immediate vicinity of the Earth. The shuttle orbiter is highly\n",
            "    specialized for travel between Earth's surface and low orbit. Taking it\n",
            "    higher is enormously costly and wasteful. A much better approach would\n",
            "    be to use shuttle subsystems to build a specialized high-orbit\n",
            "    spacecraft.\n",
            "\n",
            "    [Yet another concise answer by Henry Spencer.]\n",
            "\n",
            "\n",
            "    THE \"FACE ON MARS\"\n",
            "\n",
            "    There really is a big rock on Mars that looks remarkably like a humanoid\n",
            "    face. It appears in two different frames of Viking Orbiter imagery:\n",
            "    35A72 (much more facelike in appearance, and the one more often\n",
            "    published, with the Sun 10 degrees above western horizon) and 70A13\n",
            "    (with the Sun 27 degrees from the west).\n",
            "\n",
            "    Science writer Richard Hoagland has championed the idea that the Face is\n",
            "    artificial, intended to resemble a human, and erected by an\n",
            "    extraterrestrial civilization. Most other analysts concede that the\n",
            "    resemblance is most likely accidental. Other Viking images show a\n",
            "    smiley-faced crater and a lava flow resembling Kermit the Frog elsewhere\n",
            "    on Mars. There exists a Mars Anomalies Research Society (sorry, don't\n",
            "    know the address) to study the Face.\n",
            "\n",
            "    The Mars Observer mission will carry an extremely high-resolution\n",
            "    camera, and better images of the formation will hopefully settle this\n",
            "    question in a few years. In the meantime, speculation about the Face is\n",
            "    best carried on in the altnet group alt.alien.visitors, not sci.space or\n",
            "    sci.astro.\n",
            "\n",
            "    V. DiPeitro and G. Molenaar, *Unusual Martian Surface Features*, Mars\n",
            "    Research, P.O. Box 284, Glen Dale, Maryland, USA, 1982. $18 by mail.\n",
            "\n",
            "    R.R. Pozos, *The Face of Mars*, Chicago Review Press, 1986. [Account of\n",
            "    an interdisciplinary speculative conference Hoagland organized to\n",
            "    investigate the Face]\n",
            "\n",
            "    R.C. Hoagland, *The Monuments of Mars: A City on the Edge of Forever*,\n",
            "    North Atlantic Books, Berkeley, California, USA, 1987. [Elaborate\n",
            "    discussion of evidence and speculation that formations near the Face\n",
            "    form a city]\n",
            "\n",
            "    M.J. Carlotto, \"Digital Imagery Analysis of Unusual Martian Surface\n",
            "    Features,\" *Applied Optics*, 27, pp. 1926-1933, 1987. [Extracts\n",
            "    three-dimensional model for the Face from the 2-D images]\n",
            "\n",
            "    M.J. Carlotto & M.C. Stein, \"A Method of Searching for Artificial\n",
            "    Objects on Planetary Surfaces,\" *Journal of the British Interplanetary\n",
            "    Society*, Vol. 43 no. 5 (May 1990), p.209-216. [Uses a fractal image\n",
            "    analysis model to guess whether the Face is artificial]\n",
            "\n",
            "    B. O'Leary, \"Analysis of Images of the `Face' on Mars and Possible\n",
            "    Intelligent Origin,\" *JBIS*, Vol. 43 no. 5 (May 1990), p. 203-208.\n",
            "    [Lights Carlotto's model from the two angles and shows it's consistent;\n",
            "    shows that the Face doesn't look facelike if observed from the surface]\n",
            "\n"
          ]
        }
      ],
      "source": [
        "print(newsgroups_train.data[mostsim[3]])"
      ]
    },
    {
      "cell_type": "markdown",
      "metadata": {},
      "source": [
        "Se trata que los planos del Saturn V no se ha perdido. Pero el problema es que no hay proveedores."
      ]
    },
    {
      "cell_type": "code",
      "execution_count": 51,
      "metadata": {},
      "outputs": [
        {
          "name": "stdout",
          "output_type": "stream",
          "text": [
            "COMMERCIAL SPACE NEWS/SPACE TECHNOLOGY INVESTOR NUMBER 22\n",
            "\n",
            "   This is number twenty-two in an irregular series on commercial \n",
            "space activities.  The commentaries included are my thoughts on \n",
            "these developments.  \n",
            "\n",
            "   Sigh... as usual, I've gotten behind in getting this column \n",
            "written.  I can only plead the exigency of the current dynamics in \n",
            "the space biz.  This column is put together at lunch hour and after \n",
            "the house quiets down at night, so data can quickly build up if \n",
            "there's a lot of other stuff going on.  I've complied a lot of \n",
            "information and happenings since the last column, so I'm going to \n",
            "have to work to keep this one down to a readable length.  Have fun! \n",
            "\n",
            "CONTENTS:\n",
            "1- US COMMERCIAL SPACE SALES FLATTEN IN 1993\n",
            "2- DELTA WINS TWO KEY LAUNCH CONTRACTS\n",
            "3- COMMERCIAL REMOTE SENSING VENTURE GETS DOC \"GO-AHEAD\"\n",
            "4- INVESTMENT FIRM CALLS GD'S SPACE BIZ \"STILL A GOOD INVESTMENT\" \n",
            "5- ARIANE PREDICTS DIP IN LAUNCH DEMAND\n",
            "6- NTSB INVESTIGATES PEGASUS LAUNCH OVER ABORTED ABORT\n",
            "7- ANOTHER PEGASUS COMPETITOR IS ANNOUNCED\n",
            "8- GEORGIA LAUNCH SITE DROPPED FROM PLANNING\n",
            "9- SPAIN'S CAPRICORNIA LAUNCHER STILL PROCEEDING\n",
            "10- PACASTRO SIGNS LAUNCH RESERVATION WITH SWEDISH SPACE CORP\n",
            "11- CHINA AND TAIWAN JOINT SATELLITE VENTURE REPORTED\n",
            "12- SOUTH KOREA ANNOUNCES NATIONAL MOVE INTO SPACE TECHNOLOGIES\n",
            "13- SPACE TECHNOLOGY INDEXES THROUGH MARCH\n",
            "FINAL NOTES\n",
            "  \n",
            "ARTICLES\n",
            "--------------------------------------------------------------------\n",
            "1- US COMMERCIAL SPACE SALES FLATTEN IN 1993\n",
            "   The US Department of Commerce projects US commercial space sales \n",
            "will remain flat in 1993, with current data showing only a 2 percent \n",
            "growth over 1992.  As published in \"US Industrial Outlook 1993\" \n",
            "(which was released in January), revenues from the 1993 US space \n",
            "business are currently projected to be about $4,890 M. \n",
            "   In contrast to previous years when US commercial space sales had \n",
            "shown double digits growth rates, this year's projected results are \n",
            "driven by the US satellite manufacturing industry, where sales are \n",
            "projected to drop from 12 satellites worth $1,300 M in 1992 to 7 \n",
            "satellites worth $ 670 M in 1993.  The US Industrial Outlook also \n",
            "projects U.S. commercial launchers faces flat demand in coming year, \n",
            "and while predicting that 1993 revenues will increase 10 percent to \n",
            "$450 M, future sales will be \"adversely affected by the downward \n",
            "revision in Department of Defense launch plans.\"                           \n",
            "   Offsetting flat launch revenues and satellite deliveries, \n",
            "revenues for fixed and mobile satellite services are projected to \n",
            "increase to $1,900 M, primarily driven by increased revenues from \n",
            "broadcast and cable TV networks.  Similarly, remote sensing products \n",
            "and sales are projected to increase to $250 M in 1993 (up 15%). \n",
            "\n",
            " US COMMERCIAL SPACE REVENUES     1989  1990   1991 1992(r) 1993(e)\n",
            " Commercial satellites             900 1,000  1,100  1,300     670\n",
            " Satellite services                750   800  1,200  1,500   1,900\n",
            "   Fixed                          (700) (735)(1,115)(1,275) (1,520)\n",
            "   Mobile                          (50) ( 65)(   85)(  225) (  380)\n",
            " Satellite ground equip            790   860  1,350  1,400   1,560\n",
            "   Mobile equipment                (40)  (85)  (280)  (352)    ???\n",
            " Commercial launches               150   570    380    450     450\n",
            " Remote sensing data and services  125   155    190    215     250\n",
            " Private microgravity research lab  --    --     --     --      60\n",
            "                                 ===== =====  ======  =====   =====\n",
            "   TOTAL ANNUAL REVENUES         2,715 3,385   4,220  4,815   4,890\n",
            "        (r) = revised data for 1992   (e) = estimated data for 1993\n",
            "   [Commentary: This is the first look at how the US commercial \n",
            "space industry is expected to do in 1993.  In general, not a bad \n",
            "report -- with most of the bad news concentrated in the satellite \n",
            "manufacturing area.  There, changes of only a few satellites worth \n",
            "$100 M or so apiece can substantially influence the annual \n",
            "projection.  If we look forward over several years, this market \n",
            "sector should retain strong sales as US firms have been very \n",
            "successful in regaining international market share in the satellite \n",
            "business. \n",
            "   Furthermore, sales of satellite ground equipment should go up in \n",
            "the next revision of this data, expected to be released about mid-\n",
            "year.  Data on mobile satellite ground equipment sales (including \n",
            "such items as GPS receivers and portable satellite terminals) \n",
            "appears to be missing from the January data set.  DoC usually \n",
            "publishes a listing of  \"Space Business Indicators\" in mid-year, and \n",
            "the next revision of commercial space revenues should be released \n",
            "then.  I expect the revised revenues should easily top $5,000 M, if \n",
            "the mobile satellite ground equipment are added back into the \n",
            "numbers, and the year should show about a 10% overall market growth. \n",
            "   Looking beyond this year's data, future markets look quite \n",
            "promising.  The DoC projects satellite service revenues could top \n",
            "$3,000 M by 1995 if new mobile satellite services and direct \n",
            "broadcasting are implemented as planned, and that mobile satellite \n",
            "station sales are expected to continue to growth at 15-20 % per year \n",
            "through the mid 1990's.  My numbers are somewhat more pessimistic \n",
            "for near-term market growth, but I agree the trend should be for \n",
            "substantial growth in US commercial space sales over at least the \n",
            "next 5-10 years.  (My pessimism is due to more conservative \n",
            "assumptions on market capture and growth in LEO communications and \n",
            "satellite direct broadcasting services.  I don't believe all of the \n",
            "current players in the yet-to-be-born LEO communications satellite \n",
            "market and in the yet-to-be-proven direct broadcasting market will \n",
            "be financial successes, nor that sales growth will be as explosive \n",
            "as currently projected.) \n",
            "   It should also be noted this year's DoC data is the first \n",
            "release to show revenues from privately funded microgravity research \n",
            "facilities.  The $60 M shown in the Janurary data is primarily for \n",
            "the Spacehab module, planned for launch in April on the Space \n",
            "Shuttle, but also hidden in these numbers are the projected first \n",
            "sales from the COMET orbital launch and recovery experiment module.] \n",
            "\n",
            "2- DELTA WINS TWO KEY LAUNCH CONTRACTS\n",
            "   McDonnell Douglas Corporation, which builds and markets the Delta \n",
            "launch vehicle has won two important launch contracts.  Motorola \n",
            "Inc. announced in mid February that it had selected the Delta to \n",
            "launch most of the satellites in the 66-satellite Iridium LEO \n",
            "communications constellation, and in mid April, McDonnell Douglas \n",
            "was awarded the USAF Medium Launch Vehicle III contract. \n",
            "   The launch services contract with Motorola for the Iridium \n",
            "constellation launch is for at launch of least 45 Iridium \n",
            "satellites.  Another 21 satellites have been contracted to be \n",
            "launched by Khrunichev Enterprise in Russian on 3 Proton vehicle \n",
            "launches.  These 45 satellites planned for the Delta will be \n",
            "launched 5 at a time,  providing for at least 9 launches.  \n",
            "Additional satellites in the Iridium constellation, such as a \n",
            "planned on-orbit spares, may also be launched on Delta.  Although \n",
            "details of the launch services contract were reported to be \n",
            "negotiation, and not yet final. \n",
            "   The USAF MLV contract also went to MDC, bidding a variant of \n",
            "their Delta II launcher.  This contract is only initially worth $7.5 \n",
            "million, but establishes a set of launch options for up to 36 \n",
            "launches, encompassing launches from 1996 through 2002.  These \n",
            "launches will deploy the next generation of the USAF's Global \n",
            "Positioning System Block IIR navigation satellites, plus other \n",
            "programs.  First option for to meet the USAF launch options is \n",
            "expected to be exercised this year, after which the USAF is expected \n",
            "to request launches of up to 6 Deltas per year for at least 6 years.  \n",
            "Under this contract the USAF can also request \"launch on demand\" \n",
            "services from MDC for the 1996-2002 time period, with a launch to \n",
            "occur within 40 days of the request. \n",
            "    [Commentary:  If these two contracts are fulfilled, they should \n",
            "provide an excellent business base for MDC's Delta launch program \n",
            "through the turn of the century.  Combined, these two contracts have \n",
            "a potential for about 45 launches, worth about $2,200 M to MDC, and \n",
            "sustaining a core business base of $300-400 M/year.  Other contracts \n",
            "for international and commercial payloads, as well as for NASA \n",
            "Medium ELV-class payloads, will add to this business base -- keeping \n",
            "MDC as a viable commerical launch company. \n",
            "    However, it should be noted there are risk elements in these \n",
            "contracts.  Motorola's Iridium LEO communications constellation has \n",
            "not yet received a US Federal Communications Commission license for \n",
            "operation in the U.S., nor has Motorola lined up all the financing \n",
            "and financial partners for the Iridium venture.  Without these \n",
            "approvals or financial backing there will be no Iridium launches.  \n",
            "But, hopefully, these uncertainties will be settled this year. \n",
            "   Similarly, the USAF MLV III program has been the target of \n",
            "several Congressional actions which have slowed the production of \n",
            "the GPS Block IIR satellites and deleted the funding for the MLV III \n",
            "program in favor of the USAF NLS/\"Spacelifter\" program.  At this \n",
            "time, while it appears the MLV III contract will be executed, future \n",
            "funding for the MLV III and other USAF commercial launch contracts \n",
            "is being reconsidered as part of national space launch strategy \n",
            "reviews.  Some opinions expressed from within the Administration and \n",
            "Congress propose cancellation of all \"ELV upgrade\" programs \n",
            "(including the MLV programs) in favor of the proposed \"Spacelifter\" \n",
            "program.  Such opinions may have some weight in this year's budget \n",
            "deliberations, particularly as DoD funds will be more difficult to \n",
            "find in the shrinking US Defense budget.] \n",
            " \n",
            "3- COMMERCIAL REMOTE SENSING VENTURE GETS DOC \"GO-AHEAD\"\n",
            "   The first commercial license to operate a remote sensing \n",
            "satellite was approved in early February by the US Department of \n",
            "Commerce's Office of Space Commerce.  A license was granted to \n",
            "WorldView Imaging Corporation of Oakland, California to build and \n",
            "operate a pair of LEO imaging satellites to provide multi-spectral \n",
            "images of the Earth. \n",
            "   [Commentary:  There has been little data released on this venture \n",
            "by WorldView and the DoC, other than the announcement of the \n",
            "operating and construction license.  This was reported to be at the \n",
            "request of WorldView.  Most industry speculation identifies this new \n",
            "venture as a \"Star Wars\" spinoff, using SDI-type technology to \n",
            "provide digital Earth sensing data, and heavily integrated into \n",
            "digital GIS databases for remote sensing/GIS users.  Most probable \n",
            "customers for this service include exploration geologists, \n",
            "agricultural planners, and urban planners.  \n",
            "   It is noteworthy this is the first commercial venture under the \n",
            "1992 Land Remote Sensing Policy Act.  The Act, as passed last \n",
            "November, provides that remote sensing data gathered from private remote \n",
            "sensing craft may be sold to users at differing prices.  Prior to \n",
            "this act, remote sensing data from all satellites had to be sold to \n",
            "all users at the same prices, and private remote sensing ventures \n",
            "would have had to sell at the government-set Landsat data prices. \n",
            "   There are rumors of several other potential commercial remote \n",
            "sensing ventures working their way through the system at different \n",
            "stages of development.  I think the large Landsat and SPOT satellite \n",
            "systems will provide the majority of the satellite remote sensing \n",
            "data market for the next decade or so.  In contrast to these large, \n",
            "government-sponsored remote sensing systems, smaller market ventures \n",
            "such as WorldView and others can exploit market niches and use \n",
            "innovative technology, and I believe, can find profitability on the \n",
            "margin.  I predict there may be some very interesting ventures \n",
            "appearing in the next year or so.] \n",
            "                 \n",
            "4- INVESTMENT FIRM CALLS GD'S SPACE BIZ \"STILL A GOOD INVESTMENT\" \n",
            "   Wall Street investment house Morgan Stanley thinks General \n",
            "Dynamic's Space Systems Division could still be a moneymaker, \n",
            "despite having failed in the last 3 Atlas launches.  In a recent \n",
            "analyst's report Morgan Stanley said \"We are more than ever \n",
            "convinced that if the company can return the Atlas to its historical \n",
            "95%-plus success rate, this will become a highly profitable, cash-\n",
            "generating unit.\"  Based upon discussions with GD's corporate \n",
            "management, Morgan Stanley projects that if the Atlas problems are \n",
            "cleared up the unit could see $70 M in earnings per year by 1995 and \n",
            "$100 M per year by 2000.  This is based upon GD's projection of \n",
            "capturing about 10 Atlas launches per year on the world market. \n",
            "   [Commentary:  Three failures in a row of their launch system has \n",
            "hurt General Dynamic's Space Systems Division.  Since GD has \n",
            "restructured to only keep a very few profitable core businesses, \n",
            "many market pundits have been speculating GD's space business might \n",
            "be next to be sold.  The Morgan Stanley report indicates GD's Space \n",
            "Systems Division has some potential as a moneymaker, despite current \n",
            "problems -- if they can get their act together.  Sales are projected \n",
            "to be about $560 M in 1993, which will probably generate a loss of \n",
            "about $25 M.  If GD can capture their projected share of the space \n",
            "launch market, and if they have managed to clean up the reliability \n",
            "of their Atlas launchers, then they could generate healthy profits \n",
            "from those sales.  But until they demonstrate the Atlas Centaur \n",
            "program is back on track, this division will continue to show \n",
            "substantial losses. \n",
            "   In response to the sell-off rumors, in my opinion, this operation \n",
            "is not a really good candidate for takeover and quick profitability.  \n",
            "To do such a takeover, the current set corporate and divisional \n",
            "management would be replaced with another set from outside the firm.  \n",
            "In GD SSD's case, to get the division back on track, the management \n",
            "team will have to concentrate hard on the technical problems with \n",
            "the Atlas Centaur, as well as in selling Atlas services.  This would \n",
            "indicate only another firm with experience in rocket launch \n",
            "operations could find such talent in-house, and be able to convince \n",
            "customers to buy their launch services.  Optimally, the firm would \n",
            "have substantial liquid rocket experience, and experience in \n",
            "marketing space technology internationally as well.  Candidates for \n",
            "this might be TRW, Rockwell, Lockheed, and Martin, and possibly \n",
            "McDonnell Douglas and Boeing.  But most of those firms have cash \n",
            "flow problems (MDC), have had a substantial business contraction \n",
            "(Boeing and MDC), are involved with other launch firms (Lockheed), \n",
            "or have taken on substantial debt (Martin).  And coming up with the \n",
            "$700-1500 M purchase price for the division is a big chunk of \n",
            "change for any company.] \n",
            " \n",
            "5 - ARIANE PREDICTS DIP IN LAUNCH DEMAND\n",
            "   Arianespace, the operator of the Ariane launch system, is \n",
            "projecting a dip in launch demand in the late 1990's.  In early \n",
            "February, Arianespace released their annual market survey, which \n",
            "detailed their projection of the space transportation market for the \n",
            "next decade. \n",
            "   Over short run, Arianespace expects to retain their dominant \n",
            "position and sustain a majority share of the launch market.  Of 54 \n",
            "international and commercial launches planned through 1995, Ariane \n",
            "holds contracts for 31, General Dynamics' Atlas vehicle holds 14 \n",
            "contracts, McDonnell Douglas' Delta holds 7, and Great Wall's Long \n",
            "March vehicle holds 2 launch contracts. \n",
            "   Three-quarters of future launch contracts for which Ariane can \n",
            "compete are projected to come from communications satellites with \n",
            "the remaining 25% split between weather, Earth observation, and \n",
            "scientific satellites.  Most of the future telecommunications demand \n",
            "growth is predicted to come from the Asia/Pacific region. \n",
            "   Arianespace expects the current market consolidation of \n",
            "individual satellite operators into regional or national groups will \n",
            "continue, with these groups investing in heavier satellites with \n",
            "larger communications payloads carrying more transponders. \n",
            "Arianespace predicts the average mass of telecommunications \n",
            "satellites should increase by 20 % over today's average level, to \n",
            "about 3000 kg in GEO. \n",
            "   Demand for commercial launch services is expected to remain \n",
            "strong over the next three years, but in the second half of the \n",
            "decade, Arianespace predicts demand will decrease.  Arianespace \n",
            "bases this prediction upon a matching of satellite transponder \n",
            "demand and supply,  particularly as new data compression techniques \n",
            "appear to could double or triple transponder capacity using existing \n",
            "or near-term transponders. \n",
            "   One of the significant possible changes in the market was \n",
            "identified as the arrival of new launch vehicles, including Russian \n",
            "launch systems.  But Arianespace predicts that in the long term, \n",
            "investors purchasing launch services are looking for the best trade \n",
            "off between launch service quality and price, and that Russian and \n",
            "other new launch services will have to prove out their capabilities \n",
            "and service quality, and their market penetration will be minimal. \n",
            "   [Commentary:  Ariane releases their market surveys annually, and \n",
            "I reported on their prior market survey in a past issue of CSN/STI.  \n",
            "Comparing the two surveys, there aren't outstanding differences in \n",
            "the numbers.   The most notable change is the consideration of new \n",
            "data compression techniques, reducing the demand for new physical \n",
            "transponders on orbit.\n",
            "   I note that in contrast to some predictions, demand for space-\n",
            "based communications transponders appears to be remain strong. While \n",
            "fiber optic lines are making substantial inroads into the \n",
            "established point-to-point telecommunications markets, growing \n",
            "demand for telecommunications services world wide and for point-to-\n",
            "multipoint broadcast services have prevented a decrease in space \n",
            "transponder demand.  Fiberoptic cables provide a higher capability \n",
            "service, but only from established point A to established point B. \n",
            "To establish a fiberoptic link it is necessary to install cable \n",
            "between the points, and while there are improved network solutions, \n",
            "installing a large network of distributed fiberoptic links can cost \n",
            "millions or billions of dollars.  \n",
            "   For broadcast services where there is not an existing ground \n",
            "network structure, satellites still offer the most cost effective \n",
            "solution.  And if new services are required into a new region, it is \n",
            "cheaper to install a small satellite link costing only a few tens of \n",
            "thousands of dollars and tie into the existing global satellite \n",
            "network.  This allows rapid growth of new satellite services, and \n",
            "has kept demand high.  The replacement market for fiberoptics is \n",
            "growing as well, since as demand grows between the points serviced, \n",
            "it becomes cost effective to later install a fiberoptic link to \n",
            "handle the increase in traffic. \n",
            "   Since the telecommunications and data transfer markets are still \n",
            "growing rapidly, satellite market projections remain rosy.  But \n",
            "satellites are also getting longer orbital lifetimes.  Current \n",
            "generation satellites are now getting guarantees of at 15 years of \n",
            "on-orbit service or more, in contrast to 10 years of service from \n",
            "last generation's satellites.  This has cut back some of the launch \n",
            "demand, as satellite owners are rescheduling replacement satellite \n",
            "launches over longer intervals. \n",
            "   And as last note; Arianespace didn't flag it this year, but it \n",
            "looks like the space transportation market will be rather over-\n",
            "supplied by existing launch systems in the near term.  The annual \n",
            "commercial launch demand is for about 15-20 medium sized satellites \n",
            "per year.  From the supply side, Ariane is capable of launching up \n",
            "to about a dozen medium sized satellites a year, Delta is capable of \n",
            "about 9-12 per year, Atlas is capable of 6-12, Long March 4-8, \n",
            "Japan's H-Vehicle 2-4, Russia's Proton capable of 8, and other \n",
            "systems such as Zenit and Soyuz another 10-20 medium launches per \n",
            "year.  That's a lot of capability for a small market. \n",
            "   We can only expect the competition to intensify for commercial \n",
            "launches.]\n",
            "\n",
            "6- NTSB INVESTIGATES PEGASUS LAUNCH OVER ABORTED ABORT \n",
            "   The 9 Feb Pegasus launch by Orbital Sciences Corporation has \n",
            "spawned an investigation over an apparent violation of range safety \n",
            "rules.  A valid abort order from a NASA range safety officer to halt \n",
            "the mission was overridden and the Pegasus was launched in violation \n",
            "of range safety rules.  \n",
            "   In the last few minutes of the Pegasus launch countdown, one of \n",
            "two abort command receivers aboard the Pegasus failed.  Such a failure \n",
            "typically scrubs a launch,and a NASA range safety officer at \n",
            "Wallops Island, VA issued a mission abort order about a minute \n",
            "before the scheduled Pegasus launch.  Somehow this command was \n",
            "overridden by the OSC launch team or the message was lost in the \n",
            "communications channels, and the Pegasus was launched despite the \n",
            "valid abort call. \n",
            "   Fortunately, the Pegasus functioned as expected, and the abort \n",
            "command receiver was not needed.  But this incident did spark an \n",
            "investigation since a valid abort order was given under agreed-to \n",
            "launch constraint rules, and was not obeyed. \n",
            "   Leading the investigation is the National Transportation Safety \n",
            "Board (NTSB) with support from NASA, OSC, and the Air Force.  This \n",
            "investigation marks the first time NTSB has taken the lead on an \n",
            "incident involving a space launch.  According to the NTSB, their \n",
            "investigation will take about 6 months, and is primarily looking at \n",
            "lines of authority, communications links and safety procedures used \n",
            "in the launch. \n",
            "  [Commentary: This is the first time that the NTSB has led an \n",
            "investigation into a space launch.  Their leadership was requested \n",
            "by the Department of Commerce's Office of Commercial Space \n",
            "Transportation, who had licensed the commercial launch.  \n",
            "   At the time of writing this column, some of the initial \n",
            "investigations have been concluded, and some of the results are \n",
            "starting to leak out into the trade press.  Apparently, 3 or four \n",
            "different communications channels were in use during the test. After \n",
            "the abort destruct receiver stopped responding, the NASA test \n",
            "director and range controller in the Mission Control room at Wallops \n",
            "Island gave abort orders about a minute before the launch.  \n",
            "According to the mission rules, this should have stopped the launch. \n",
            "Somehow, the OSC test conductor ordered the abort reversed, and the \n",
            "NASA communicator on the net relayed that order to the B-52 carrying \n",
            "the Pegasus at about 22 seconds before launch.  Differing \n",
            "explainations of exactly how this happened are proposed -- with the \n",
            "best set being that clear lines of communications and clear \n",
            "definition of the responsibilities of the mission control team, and \n",
            "understanding of the mission rules were not established before the \n",
            "launch.  \n",
            "   As we see more and more commercial launches, more of these \n",
            "procedural issues are going to crop up and will have to be resolved.   \n",
            "This case is interesting because it is the first time the NTSB has \n",
            "been called in to investigate a commercial launch problem (as they \n",
            "do with commercial aircraft problems).  \n",
            "   I think this problem will turn out to be primarily problems with \n",
            "procedures and communications, and will be cleared up with issuance \n",
            "of guidelines on how launch communications should be set up and how \n",
            "specific lines of authority should be delineated.] \n",
            "\n",
            "7- ANOTHER PEGASUS COMPETITOR IS ANNOUNCED\n",
            "   Tsniimach Enterprise in Russia announced it is marketing a new \n",
            "small space launch system, based upon converted ICBM components.  \n",
            "Two versions of the launcher are being marketed: the \"Aerokosmos\" \n",
            "winged vehicle launched like the OSC Pegasus, and the \"Severkosmos\", \n",
            "launched from a mobile ground transporter.  The Aerokosmos is \n",
            "projected to deliver 900 kg to a 200 km circular orbit or 580 kg to \n",
            "an 800 km circular orbit, and the Severkosmos to be capable of 430 \n",
            "kg to 200 km orbits and 225 kg to 800 km.  Also proposed to be used \n",
            "with these launch systems is a LEO data relay system called \n",
            "'Sineva'.  Tsniimach Enterprise is described as a ex-military \n",
            "establishment, focusing on aerodynamics and thermal protection of \n",
            "spacecraft and which has participated in the development of the \n",
            "Buran shuttle system,  They are located near the NPO Energia \n",
            "facility in Kaliningrad, outside of Moscow. \n",
            "   [Commentary: There's very little released information on this new \n",
            "venture.  My suspicion is it is another Russian enterprise looking \n",
            "for hard currency and trying to capitalize upon their in-house \n",
            "knowledge of ex-Soviet launch systems.  It adds to the list of numerous \n",
            "commercial space startups announced from the ex-Soviet Union. \n",
            "   This one's a little different in that they are offering variants \n",
            "of ex-Soviet ICBMs, but I can't identify any key customers being \n",
            "targeted or substantial financial backing.]\n",
            "\n",
            "8- GEORGIA LAUNCH SITE DROPPED FROM PLANNING\n",
            "   In late January, Georgia Tech Research Institute released the \n",
            "results of a preliminary study on the feasibility of a commercial \n",
            "rocket launching site in Camden County, Georgia at the old Kingsland \n",
            "Missile Test Launching Site on the Atlantic coast.  The preliminary \n",
            "study recommended the site not be pursued as a commercial launch \n",
            "site, stating reopening the site was not feasible due to projected \n",
            "low investment returns, plus environmental and other geographic \n",
            "considerations.  However, the report did say the site might be ideal \n",
            "for other aerospace uses, and recommended other potential uses. \n",
            "   [Commentary:  This should put the nails in the coffin of the \n",
            "Kingsland Commercial Launch Site.  While other sites are still \n",
            "proceeding with commercial launch site development plans, Kingsland \n",
            "found without a key customer to act as anchor tenant, and if \n",
            "substantial infrastructure had to be put in, then the expected \n",
            "returns were too low to justify the cost of development.  \n",
            "   This might point out some key discriminators in judging the \n",
            "feasibility of a commercial launch site.  These include:\n",
            "  - Is there an identified key customer to provide core usage \n",
            "sufficient to recover setup costs?\n",
            "  - Is there a market advantage of using the site?\n",
            "  - Can existing infrastructure be used or modified at the site?\n",
            "  - Can financing be found at low enough cost to support the \n",
            "investment?  \n",
            "   Other commercial launch site ventures -- including those at \n",
            "Woomera, Poker Flat, Cape York, White Sands, Alabama Off-Shore \n",
            "Platform, Hawaii, and Vandenberg have to also be judged against \n",
            "these criteria.  In my opinion, some of these ventures are flying \n",
            "on hope and speculation, and not on sound financial grounds.]\n",
            "\n",
            "9- SPAIN'S CAPRICORNIA LAUNCHER STILL PROCEEDING\n",
            "   In one of his last official acts, former President Bush \n",
            "authorized space technology transfer for several joint space \n",
            "ventures between US and other firms.  One of these was a proposed \n",
            "use of US technology by Spain to build a small booster.  With that \n",
            "regulatory impediment removed, the 3-stage Capricornia launch \n",
            "vehicle will start development later this year, planning for a first \n",
            "launch in the 1995/96 time period.  The Capricornia is described as \n",
            "a small 3-stage all solid booster designed to put 250-500 Kg into \n",
            "LEO.  Several launch sites are being examined for the system, \n",
            "including 2 on the Iberian peninsula and 1 on the Canary Islands.  \n",
            "Originated by INTA in Spain, the project reports it has $ 30 M in \n",
            "development funding, and will use technology from Argentina's Condor \n",
            "launch vehicle as well as from the US. \n",
            "   [Commentary:  Several firms have identified a market opportunity \n",
            "in providing a small launcher for the European market.  Small \n",
            "payloads from European firms or organizations currently use either \n",
            "Ariane piggyback launches or the US/Italian Scout launcher.  \n",
            "However, Ariane piggyback opportunities are limited, and the Scout \n",
            "program is being phased out (accompanied by some disarray in the \n",
            "Italian government and space industry regarding any follow-on \n",
            "system).  \n",
            "   This has left an apparent niche for a new European small launch \n",
            "system.  Surprisingly enough, ESA has not supported development of \n",
            "such a system within the current space funding structure.  Studies \n",
            "have been performed by British Aerospace, Aerospatiale, Deutsche \n",
            "Aerospace, and Italian organizations, but with the exception of the \n",
            "Swedish/PacAstro system (reported below), I have not been able to \n",
            "find any other European development work with even a rumor of \n",
            "funding for hardware. \n",
            "   Also of interest is the linking of the Capricornia to the \n",
            "Argentinian Condor launcher.  There have been some interesting \n",
            "rumors surfacing out of Argentina over the past year about a space \n",
            "launcher/IRBM program funded under the military junta which ruled \n",
            "the country in the 1970's and early 1980's. \n",
            "   What is known is in Feb 1992, the Argentinian Air Force formally \n",
            "transferred control of the Condor 2 missile program to the new \n",
            "civilian Argentinian national space agency (Comison Nacional de \n",
            "Atividades Espaciales - CNAE).  The Condor 2 program was described \n",
            "as originating in 1983, expanding upon the smaller Condor 1 rocket \n",
            "program in collaboration with Egypt and with support of German \n",
            "firms.  The Condor 2 was also reportedly funded indirectly by Iraq \n",
            "in the mid-1980's.  Fairly large solid rocket motors were built and \n",
            "tested, but Argentinan development of a suitable guidance package \n",
            "lagged that of the propulsion system. \n",
            "   It should be noted CNAE is planning to launch its first \n",
            "scientific satellite in late 1994.  The US$ 9 M, 181 Kg, SAC-B \n",
            "satellite will study the Earth's upper atmosphere and includes \n",
            "cooperative experiments from Italy and the US. No launch vehicle has \n",
            "yet been selected, but OSC's Pegasus and the Russian Burlak Air \n",
            "launched rocket are reported to be strong contenders for this \n",
            "contract.] \n",
            "\n",
            "10- PACASTRO SIGNS LAUNCH RESERVATION WITH SWEDISH SPACE CORP\n",
            "   PacAstro, a small launch firm in Herndon, Virginia announced in \n",
            "late February it had received a $6 M launch reservation contract \n",
            "from the Swedish Space Corp to launch a satellite on PacAstro's PA-2 \n",
            "launch vehicle.   This will be performed as part of the Polar \n",
            "Satellite Service (PSS), a joint Norwegian Space Center/ Swedish \n",
            "Space Corp. program to upgrade the Andoya Rocket Range in Norway and \n",
            "offering small satellite launches into the polar regions.  According \n",
            "to PacAstro, PSS is also performing an $8 M upgrade of the Andoya \n",
            "launch facilities, including a new integration facility and a fully-\n",
            "enclosed vertical assembly building for small launch vehicles like \n",
            "the PacAstro PA-2.  PacAstro has been chosen as \"the main \n",
            "alternative rocket supplier\" for the small satellite launch service \n",
            "to be offered by PSS from Andoya.  The date of the launch of the \n",
            "Swedish satellite was not specified. \n",
            "   [Commentary:  PacAstro has been trying to line up customers and \n",
            "funding for their launch vehicle for some time now.  The PA-2 is a \n",
            "small, two stage rocket fueled by RP-1 and Liquid Oxygen.  From \n",
            "PacAstro's literature, the engines designed for the PA-series \n",
            "rockets are built of \"off the shelf\" components based upon the Lunar \n",
            "MOdule Descent Engines built by TRW, and are capable of putting a \n",
            "225 Kg satellite into a 750 km circular polar orbit.  \n",
            "   PacAstro is trying to arrange construction financing for its \n",
            "first three PA-2 vehicles, with a first launch planned for 1995, and \n",
            "2 orbital launches planned for 1996.  My records show PacAstro hired \n",
            "TRW to provide marketing support and systems design,  with primary \n",
            "engineering to be done by AeroAstro, a small satellite builder \n",
            "closely associated with PacAstro (headquartered in the same \n",
            "building).  The Swedish Space Corporation would supply engineering, \n",
            "launch operations, vehicle subsystems, and marketing support. \n",
            "Sumitomo Corp. of Tokyo, is a first round investor and sits on the \n",
            "board of directors.  \n",
            "   PacAstro has gotten a first round financial package of at least \n",
            "$550 K  (Some sources place this of high as $1 M), but has been \n",
            "searching for about a year for the additional $20-30 M needed to \n",
            "design, build and launch their first set of vehicles. \n",
            "   The launch reservation from SSC can possibly be used to help \n",
            "bring some investors on board, but by my estimate, they will need \n",
            "much more than the single $6 M sale to put their venture into real \n",
            "hardware.] \n",
            "\n",
            "11- CHINA AND TAIWAN JOINT SATELLITE VENTURE REPORTED\n",
            "    In early March, it was reported a joint satellite communications \n",
            "venture between a Taiwanese and mainland Chinese was in the works.  \n",
            "As reported in the Taipei press, China Development Corp. (CDC), \n",
            "headquartered in Taiwam and with links to the ruling Nationalist \n",
            "Party, is planning to set up a joint venture in Hong Kong with China \n",
            "Great Wall Industry Corp. with the objective of launching a regional \n",
            "communications satellite. CDC would cover about 10% of the satellite \n",
            "system cost (US $10 M) in exchange for rights to 10% of the \n",
            "satellite's communications channels.  \n",
            "   [Commentary:  This announcement came close on the heels of the \n",
            "release of Taiwanese plans for space development (released in mid \n",
            "January).   In those plans, the National Space Program Office of \n",
            "Taiwan will launch 3 satellites, starting with ROCSAT-1, a 400 Kg \n",
            "scientific spacecraft, planned for launch in 1997.  Two additional \n",
            "satellites are planned, both communications satellites.   TRW has \n",
            "been helping Taiwan plan this program, budgeted at T$13.6 B (US $530 \n",
            "M) through 2006.  \n",
            "   I haven't been able to establish any relationship between this \n",
            "venture and those of the NSPOT, but there might be a connection.  \n",
            "While Taiwan has the financing to pursue several ventures, the \n",
            "current Taiwanese telecommunications market might not support two \n",
            "separate sastellite ventures. \n",
            "   The reported name for the Tiawanese/Chinese system is \"Asiasat-\n",
            "2\", but I don't thinks this has any relationship with the existing \n",
            "Hong Kong-based \"Asiasat\" program involving Chinese, Hong Kong, and \n",
            "other Asian investors, other than using it as an organizational \n",
            "model.  There are some obvious advantages to pursuing such a joing \n",
            "venture -- it could provide excellent first-hand experience to \n",
            "Taiwan for a very low cost, which then can be used in later \n",
            "satellite ventures.  But there are internal political issues between \n",
            "Taiwanese and Chinese ventures, but putting any joint venture \n",
            "through a  Hong Kong intermediary corporation might allow it to \n",
            "proceed. \n",
            "   In any case, the East Asian satellite market is lighting up with \n",
            "substantially growth projected in space services and revenues.  This \n",
            "is just another indicator to add to the list.] \n",
            "\n",
            "12- SOUTH KOREA ANNOUNCES NATIONAL MOVE INTO SPACE TECHNOLOGIES\n",
            "   South Korea's Trade, Industry and Resources Ministry recently \n",
            "announced plans to invest US$22 B in research and development and \n",
            "another US$17 B into manufacturing and research facilities for \n",
            "advanced aerospace technologies.  Space technologies have been \n",
            "specifically targeted as part of this program, beginning with \n",
            "manufacture and launch of an advanced multi-purpose satellite by \n",
            "1997.  The objective of this investment is to raise South Korea's \n",
            "aerospace technology to the level of the world's top 10 countries by \n",
            "2000.                                 \n",
            "   [Commentary: South Korea has been quietly working to develop its \n",
            "national aerospace industry, specifically including space \n",
            "activities. I'm noting this as a flag that potential new players are \n",
            "coming into the commercial space market. \n",
            "   As part of their national effort, 2 national telecommunications \n",
            "satellites for Korea Telecom will be launched in April and Oct 1995 \n",
            "on Delta. Designated Koreasat 1 and 2, the platforms will provide \n",
            "television and telephone service throughout the Korean Peninsula, \n",
            "southwestern Japan and portions of China bordering North Korea. \n",
            "   South Korea launched its first small satellite piggyback on \n",
            "Ariane in Aug 1992, called Uribyol-1 (Our Star) and costing about US \n",
            "$8.8 M.  Uribyol-2 is planned for piggyback launch in October of \n",
            "this year, again on Ariane, and will be entirely \"made in Korea.\"  \n",
            "Uribyol-3, projected for a 1995 launch, will be an environment-\n",
            "monitoring micro-satellite. \n",
            "   This satellite may be the precursor to a series of small Earth \n",
            "observation satellites,  The KEOS (Korean Earth Observation System) \n",
            "project, which has been submitted for approval to the South Korean \n",
            "government, would use two or three 300-kg spacecraft equipped with \n",
            "optical and microwave sensors.\n",
            "   South Korean press reports claim there is also a parallel \n",
            "military effort to establish the capabilities for building and \n",
            "launching small military satellites by 2001.  Supposedly a \n",
            "government panel had been established to oversee such an effort, \n",
            "funded at US $ 500 M between 1993 and 2001, in anticipation of an  \n",
            "expected pullout of U.S. intelligence-gathering systems from the \n",
            "Korean peninsula.       \n",
            "   In conjunction with all of these reported efforts, South Korean \n",
            "is also pursuing production work either as off-sets to existing \n",
            "aerospace technology contracts (for example, McDonnell Douglas is \n",
            "offsetting production of some Delta parts to South Korean firms as \n",
            "part of the Koreasat launch contracts), or for production of \n",
            "consumer space items (among other products, South Korea exports \n",
            "satellite receiver television setups to Japan, and Samsung has \n",
            "announced teaming for production of OSC's Orbcomm user terminals.).  \n",
            "   This looks like a very aggressive push into space technologies.  \n",
            "Considering that East Asia is currently the fastest growing sector \n",
            "for commercial space services (primarily for telecommunications), a \n",
            "South Korean push into space technologies may change the composition \n",
            "of commercial space market there over the next decade.] \n",
            "\n",
            "13- SPACE TECHNOLOGY INDEXES THROUGH MARCH\n",
            "   As announced in the last CSN/STI, each issue will give the \n",
            "results of stock indexes and portfolios regarding space stocks and \n",
            "investments.  The table below summarizes results to the end of \n",
            "March.  The Space Technology Index did quite a bit better than the \n",
            "market as a whole, as represented by the S&P 500 index.  Since 90+% \n",
            "of the values included in the index are US firms, this represents a \n",
            "general increase in the market value of space-related firms.  The \n",
            "increase in the first quarter is more than in all of 1992 -- which \n",
            "is a very promising sign, although future months may reverse this \n",
            "trend. The Commercial Space Technology Index has also done quite \n",
            "well, but the Pure Play portfolio -- consisting of stocks of firms \n",
            "which are pure plays in space technologies -- has also surpassed its \n",
            "results in all of 1993.  We'll keep an eye on these ....\n",
            "\n",
            "   INDEX RESULTS THROUGH MARCH\n",
            "                           Beginning  Beginning      1 Jan 93 to\n",
            "                           1992       1993           31 Mar 1993\n",
            "                           -------    --------       --------\n",
            "   S&P 500                 416        436  (+4.7%)   452  (+3.7%)\n",
            "   Space Tech Index        267        304 (+13.6%)   373 (+22.7%)\n",
            "   Comm'l Space Tech Index 167        194 (+16.3%)   222 (+14.2%)\n",
            "   Space Tech Pure Plays   147        169 (+15.4%)   197 (+16.2%)\n",
            "\n",
            "\n",
            "FINAL NOTES - \n",
            "    What?  This column's already full?  And I still have bunches of \n",
            "commercial space developments to report on.  As I said at the start \n",
            "of this, column there's been a lot of interesting happenings - but \n",
            "I'll have to put them into the next issue.  \n",
            "   Looking ahead, I've got several articles in the works on new \n",
            "happenings with Iridium and the LEO communications satellite market, \n",
            "more news on international launchers appearing (and disappearing) on \n",
            "the market, new international commercial space ventures,  and other \n",
            "interesting developments. \n",
            "   And as always, I hope you folks find this stuff useful and \n",
            "interesting -- Any and all comments are welcome. \n",
            "\n"
          ]
        }
      ],
      "source": [
        "print(newsgroups_train.data[mostsim[4]])"
      ]
    },
    {
      "cell_type": "markdown",
      "metadata": {},
      "source": [
        "La noticia habla sobre actividades espaciales comerciales."
      ]
    },
    {
      "cell_type": "markdown",
      "metadata": {},
      "source": [
        "Se observa que se tuvo una mayor similaridad, tanto así que todos los documentos pertenecen a la misma clase."
      ]
    },
    {
      "cell_type": "markdown",
      "metadata": {},
      "source": [
        "#### **2**. Entrenar modelos de clasificación Naïve Bayes para maximizar el desempeño de clasificación(f1-score macro) en el conjunto de datos de test. Considerar cambiar parámteros de instanciación del vectorizador y los modelos y probar modelos de Naïve Bayes Multinomial y ComplementNB."
      ]
    },
    {
      "cell_type": "code",
      "execution_count": null,
      "metadata": {},
      "outputs": [],
      "source": [
        "np.random.seed(10)\n",
        "random.seed(10)\n",
        "random_idx = []\n",
        "for i in range(0,5):\n",
        "    random_idx = random.randint(0,11314)\n",
        "    cossim = cosine_similarity(X_train[random_idx], X_train)[0]\n",
        "    #np.sort(cossim)[::-1]\n",
        "    #np.argsort(cossim)[::-1]\n",
        "    mostsim = np.argsort(cossim)[::-1][1:6]\n",
        "    #print(idx2word[random_idx])\n",
        "    for i in mostsim:\n",
        "        print(newsgroups_train.target_names[y_train[i]])\n",
        "    print()"
      ]
    },
    {
      "cell_type": "markdown",
      "metadata": {},
      "source": [
        "#### **3**. Transponer la matriz documento-término. De esa manera se obtiene una matriz término-documento que puede ser interpretada como una colección de vectorización de palabras. Estudiar ahora similaridad entre palabras tomando 5 palabras y estudiando sus 5 más similares."
      ]
    },
    {
      "cell_type": "markdown",
      "metadata": {},
      "source": []
    }
  ],
  "metadata": {
    "colab": {
      "provenance": []
    },
    "kernelspec": {
      "display_name": "Python 3",
      "name": "python3"
    },
    "language_info": {
      "codemirror_mode": {
        "name": "ipython",
        "version": 3
      },
      "file_extension": ".py",
      "mimetype": "text/x-python",
      "name": "python",
      "nbconvert_exporter": "python",
      "pygments_lexer": "ipython3",
      "version": "3.11.8"
    }
  },
  "nbformat": 4,
  "nbformat_minor": 0
}
